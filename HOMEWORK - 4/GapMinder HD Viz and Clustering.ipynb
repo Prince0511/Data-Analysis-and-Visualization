{
 "cells": [
  {
   "attachments": {},
   "cell_type": "markdown",
   "metadata": {},
   "source": [
    "Han's Roshling visualization of life expectancy vs GDP is one of the most popular visualizations in the last twentry years. \n",
    "https://www.youtube.com/watch?v=Z8t4k0Q8e8Y\n",
    "\n",
    "In his video he animates about 120 thousand points. I believe it it was Machromedia flash that what was used back in 2006 to create the beautiful animation. From the viewers perspective, this is way too much information to absorb. Adding filters for selective focus is proably the best way to visualize the data. \n",
    "\n",
    "We will take an alternative approach to this visual. Instead of animating scatterplots we will use \n",
    "* A connected scatterplot to show the trajectory of selected countries \n",
    "* An HD visual that will give us an idea of the entire space of countiries, outliers, and will answer the question which country is similar to which \n",
    "* We will see how clusters, obtained by using spectral clustering, are shown on the HD map "
   ]
  },
  {
   "cell_type": "code",
   "execution_count": 3,
   "metadata": {},
   "outputs": [],
   "source": [
    "import pandas as pd\n",
    "import plotly.express as px\n",
    "import plotly.graph_objects as go"
   ]
  },
  {
   "attachments": {},
   "cell_type": "markdown",
   "metadata": {},
   "source": [
    "The data is a subset of the version that Hans Rosling used. We have information for 1952 countries starting from  1952 "
   ]
  },
  {
   "cell_type": "code",
   "execution_count": 5,
   "metadata": {},
   "outputs": [],
   "source": [
    "df = pd.read_csv(\"D:/Volume D/MITA/SPRING/Data Analysis and Visualization/Homework/HOMEWORK - 4 & 5/gapminder_after1952.csv\")"
   ]
  },
  {
   "cell_type": "code",
   "execution_count": 6,
   "metadata": {},
   "outputs": [
    {
     "data": {
      "text/html": [
       "<div>\n",
       "<style scoped>\n",
       "    .dataframe tbody tr th:only-of-type {\n",
       "        vertical-align: middle;\n",
       "    }\n",
       "\n",
       "    .dataframe tbody tr th {\n",
       "        vertical-align: top;\n",
       "    }\n",
       "\n",
       "    .dataframe thead th {\n",
       "        text-align: right;\n",
       "    }\n",
       "</style>\n",
       "<table border=\"1\" class=\"dataframe\">\n",
       "  <thead>\n",
       "    <tr style=\"text-align: right;\">\n",
       "      <th></th>\n",
       "      <th>country</th>\n",
       "      <th>continent</th>\n",
       "      <th>year</th>\n",
       "      <th>lifeExp</th>\n",
       "      <th>pop</th>\n",
       "      <th>gdpPercap</th>\n",
       "      <th>iso_alpha</th>\n",
       "      <th>iso_num</th>\n",
       "    </tr>\n",
       "  </thead>\n",
       "  <tbody>\n",
       "    <tr>\n",
       "      <th>0</th>\n",
       "      <td>Afghanistan</td>\n",
       "      <td>Asia</td>\n",
       "      <td>1952</td>\n",
       "      <td>28.801</td>\n",
       "      <td>8425333</td>\n",
       "      <td>779.445314</td>\n",
       "      <td>AFG</td>\n",
       "      <td>4</td>\n",
       "    </tr>\n",
       "    <tr>\n",
       "      <th>1</th>\n",
       "      <td>Afghanistan</td>\n",
       "      <td>Asia</td>\n",
       "      <td>1957</td>\n",
       "      <td>30.332</td>\n",
       "      <td>9240934</td>\n",
       "      <td>820.853030</td>\n",
       "      <td>AFG</td>\n",
       "      <td>4</td>\n",
       "    </tr>\n",
       "    <tr>\n",
       "      <th>2</th>\n",
       "      <td>Afghanistan</td>\n",
       "      <td>Asia</td>\n",
       "      <td>1962</td>\n",
       "      <td>31.997</td>\n",
       "      <td>10267083</td>\n",
       "      <td>853.100710</td>\n",
       "      <td>AFG</td>\n",
       "      <td>4</td>\n",
       "    </tr>\n",
       "    <tr>\n",
       "      <th>3</th>\n",
       "      <td>Afghanistan</td>\n",
       "      <td>Asia</td>\n",
       "      <td>1967</td>\n",
       "      <td>34.020</td>\n",
       "      <td>11537966</td>\n",
       "      <td>836.197138</td>\n",
       "      <td>AFG</td>\n",
       "      <td>4</td>\n",
       "    </tr>\n",
       "    <tr>\n",
       "      <th>4</th>\n",
       "      <td>Afghanistan</td>\n",
       "      <td>Asia</td>\n",
       "      <td>1972</td>\n",
       "      <td>36.088</td>\n",
       "      <td>13079460</td>\n",
       "      <td>739.981106</td>\n",
       "      <td>AFG</td>\n",
       "      <td>4</td>\n",
       "    </tr>\n",
       "    <tr>\n",
       "      <th>5</th>\n",
       "      <td>Afghanistan</td>\n",
       "      <td>Asia</td>\n",
       "      <td>1977</td>\n",
       "      <td>38.438</td>\n",
       "      <td>14880372</td>\n",
       "      <td>786.113360</td>\n",
       "      <td>AFG</td>\n",
       "      <td>4</td>\n",
       "    </tr>\n",
       "    <tr>\n",
       "      <th>6</th>\n",
       "      <td>Afghanistan</td>\n",
       "      <td>Asia</td>\n",
       "      <td>1982</td>\n",
       "      <td>39.854</td>\n",
       "      <td>12881816</td>\n",
       "      <td>978.011439</td>\n",
       "      <td>AFG</td>\n",
       "      <td>4</td>\n",
       "    </tr>\n",
       "    <tr>\n",
       "      <th>7</th>\n",
       "      <td>Afghanistan</td>\n",
       "      <td>Asia</td>\n",
       "      <td>1987</td>\n",
       "      <td>40.822</td>\n",
       "      <td>13867957</td>\n",
       "      <td>852.395945</td>\n",
       "      <td>AFG</td>\n",
       "      <td>4</td>\n",
       "    </tr>\n",
       "    <tr>\n",
       "      <th>8</th>\n",
       "      <td>Afghanistan</td>\n",
       "      <td>Asia</td>\n",
       "      <td>1992</td>\n",
       "      <td>41.674</td>\n",
       "      <td>16317921</td>\n",
       "      <td>649.341395</td>\n",
       "      <td>AFG</td>\n",
       "      <td>4</td>\n",
       "    </tr>\n",
       "    <tr>\n",
       "      <th>9</th>\n",
       "      <td>Afghanistan</td>\n",
       "      <td>Asia</td>\n",
       "      <td>1997</td>\n",
       "      <td>41.763</td>\n",
       "      <td>22227415</td>\n",
       "      <td>635.341351</td>\n",
       "      <td>AFG</td>\n",
       "      <td>4</td>\n",
       "    </tr>\n",
       "    <tr>\n",
       "      <th>10</th>\n",
       "      <td>Afghanistan</td>\n",
       "      <td>Asia</td>\n",
       "      <td>2002</td>\n",
       "      <td>42.129</td>\n",
       "      <td>25268405</td>\n",
       "      <td>726.734055</td>\n",
       "      <td>AFG</td>\n",
       "      <td>4</td>\n",
       "    </tr>\n",
       "    <tr>\n",
       "      <th>11</th>\n",
       "      <td>Afghanistan</td>\n",
       "      <td>Asia</td>\n",
       "      <td>2007</td>\n",
       "      <td>43.828</td>\n",
       "      <td>31889923</td>\n",
       "      <td>974.580338</td>\n",
       "      <td>AFG</td>\n",
       "      <td>4</td>\n",
       "    </tr>\n",
       "    <tr>\n",
       "      <th>12</th>\n",
       "      <td>Albania</td>\n",
       "      <td>Europe</td>\n",
       "      <td>1952</td>\n",
       "      <td>55.230</td>\n",
       "      <td>1282697</td>\n",
       "      <td>1601.056136</td>\n",
       "      <td>ALB</td>\n",
       "      <td>8</td>\n",
       "    </tr>\n",
       "    <tr>\n",
       "      <th>13</th>\n",
       "      <td>Albania</td>\n",
       "      <td>Europe</td>\n",
       "      <td>1957</td>\n",
       "      <td>59.280</td>\n",
       "      <td>1476505</td>\n",
       "      <td>1942.284244</td>\n",
       "      <td>ALB</td>\n",
       "      <td>8</td>\n",
       "    </tr>\n",
       "    <tr>\n",
       "      <th>14</th>\n",
       "      <td>Albania</td>\n",
       "      <td>Europe</td>\n",
       "      <td>1962</td>\n",
       "      <td>64.820</td>\n",
       "      <td>1728137</td>\n",
       "      <td>2312.888958</td>\n",
       "      <td>ALB</td>\n",
       "      <td>8</td>\n",
       "    </tr>\n",
       "    <tr>\n",
       "      <th>15</th>\n",
       "      <td>Albania</td>\n",
       "      <td>Europe</td>\n",
       "      <td>1967</td>\n",
       "      <td>66.220</td>\n",
       "      <td>1984060</td>\n",
       "      <td>2760.196931</td>\n",
       "      <td>ALB</td>\n",
       "      <td>8</td>\n",
       "    </tr>\n",
       "    <tr>\n",
       "      <th>16</th>\n",
       "      <td>Albania</td>\n",
       "      <td>Europe</td>\n",
       "      <td>1972</td>\n",
       "      <td>67.690</td>\n",
       "      <td>2263554</td>\n",
       "      <td>3313.422188</td>\n",
       "      <td>ALB</td>\n",
       "      <td>8</td>\n",
       "    </tr>\n",
       "    <tr>\n",
       "      <th>17</th>\n",
       "      <td>Albania</td>\n",
       "      <td>Europe</td>\n",
       "      <td>1977</td>\n",
       "      <td>68.930</td>\n",
       "      <td>2509048</td>\n",
       "      <td>3533.003910</td>\n",
       "      <td>ALB</td>\n",
       "      <td>8</td>\n",
       "    </tr>\n",
       "    <tr>\n",
       "      <th>18</th>\n",
       "      <td>Albania</td>\n",
       "      <td>Europe</td>\n",
       "      <td>1982</td>\n",
       "      <td>70.420</td>\n",
       "      <td>2780097</td>\n",
       "      <td>3630.880722</td>\n",
       "      <td>ALB</td>\n",
       "      <td>8</td>\n",
       "    </tr>\n",
       "    <tr>\n",
       "      <th>19</th>\n",
       "      <td>Albania</td>\n",
       "      <td>Europe</td>\n",
       "      <td>1987</td>\n",
       "      <td>72.000</td>\n",
       "      <td>3075321</td>\n",
       "      <td>3738.932735</td>\n",
       "      <td>ALB</td>\n",
       "      <td>8</td>\n",
       "    </tr>\n",
       "  </tbody>\n",
       "</table>\n",
       "</div>"
      ],
      "text/plain": [
       "        country continent  year  lifeExp       pop    gdpPercap iso_alpha  \\\n",
       "0   Afghanistan      Asia  1952   28.801   8425333   779.445314       AFG   \n",
       "1   Afghanistan      Asia  1957   30.332   9240934   820.853030       AFG   \n",
       "2   Afghanistan      Asia  1962   31.997  10267083   853.100710       AFG   \n",
       "3   Afghanistan      Asia  1967   34.020  11537966   836.197138       AFG   \n",
       "4   Afghanistan      Asia  1972   36.088  13079460   739.981106       AFG   \n",
       "5   Afghanistan      Asia  1977   38.438  14880372   786.113360       AFG   \n",
       "6   Afghanistan      Asia  1982   39.854  12881816   978.011439       AFG   \n",
       "7   Afghanistan      Asia  1987   40.822  13867957   852.395945       AFG   \n",
       "8   Afghanistan      Asia  1992   41.674  16317921   649.341395       AFG   \n",
       "9   Afghanistan      Asia  1997   41.763  22227415   635.341351       AFG   \n",
       "10  Afghanistan      Asia  2002   42.129  25268405   726.734055       AFG   \n",
       "11  Afghanistan      Asia  2007   43.828  31889923   974.580338       AFG   \n",
       "12      Albania    Europe  1952   55.230   1282697  1601.056136       ALB   \n",
       "13      Albania    Europe  1957   59.280   1476505  1942.284244       ALB   \n",
       "14      Albania    Europe  1962   64.820   1728137  2312.888958       ALB   \n",
       "15      Albania    Europe  1967   66.220   1984060  2760.196931       ALB   \n",
       "16      Albania    Europe  1972   67.690   2263554  3313.422188       ALB   \n",
       "17      Albania    Europe  1977   68.930   2509048  3533.003910       ALB   \n",
       "18      Albania    Europe  1982   70.420   2780097  3630.880722       ALB   \n",
       "19      Albania    Europe  1987   72.000   3075321  3738.932735       ALB   \n",
       "\n",
       "    iso_num  \n",
       "0         4  \n",
       "1         4  \n",
       "2         4  \n",
       "3         4  \n",
       "4         4  \n",
       "5         4  \n",
       "6         4  \n",
       "7         4  \n",
       "8         4  \n",
       "9         4  \n",
       "10        4  \n",
       "11        4  \n",
       "12        8  \n",
       "13        8  \n",
       "14        8  \n",
       "15        8  \n",
       "16        8  \n",
       "17        8  \n",
       "18        8  \n",
       "19        8  "
      ]
     },
     "execution_count": 6,
     "metadata": {},
     "output_type": "execute_result"
    }
   ],
   "source": [
    "df.head(20)"
   ]
  },
  {
   "attachments": {},
   "cell_type": "markdown",
   "metadata": {},
   "source": [
    "To add continent information we download an association between country code and continent from https://www.kaggle.com/datasets/andradaolteanu/country-mapping-iso-continent-region?resource=download"
   ]
  },
  {
   "cell_type": "code",
   "execution_count": 59,
   "metadata": {},
   "outputs": [],
   "source": [
    "continents = pd.read_csv(\"../data/continents2.csv\")"
   ]
  },
  {
   "cell_type": "code",
   "execution_count": 5,
   "metadata": {},
   "outputs": [
    {
     "data": {
      "text/html": [
       "<div>\n",
       "<style scoped>\n",
       "    .dataframe tbody tr th:only-of-type {\n",
       "        vertical-align: middle;\n",
       "    }\n",
       "\n",
       "    .dataframe tbody tr th {\n",
       "        vertical-align: top;\n",
       "    }\n",
       "\n",
       "    .dataframe thead th {\n",
       "        text-align: right;\n",
       "    }\n",
       "</style>\n",
       "<table border=\"1\" class=\"dataframe\">\n",
       "  <thead>\n",
       "    <tr style=\"text-align: right;\">\n",
       "      <th></th>\n",
       "      <th>name</th>\n",
       "      <th>alpha-2</th>\n",
       "      <th>alpha-3</th>\n",
       "      <th>country-code</th>\n",
       "      <th>iso_3166-2</th>\n",
       "      <th>region</th>\n",
       "      <th>sub-region</th>\n",
       "      <th>intermediate-region</th>\n",
       "      <th>region-code</th>\n",
       "      <th>sub-region-code</th>\n",
       "      <th>intermediate-region-code</th>\n",
       "    </tr>\n",
       "  </thead>\n",
       "  <tbody>\n",
       "    <tr>\n",
       "      <th>0</th>\n",
       "      <td>Afghanistan</td>\n",
       "      <td>AF</td>\n",
       "      <td>AFG</td>\n",
       "      <td>4</td>\n",
       "      <td>ISO 3166-2:AF</td>\n",
       "      <td>Asia</td>\n",
       "      <td>Southern Asia</td>\n",
       "      <td>NaN</td>\n",
       "      <td>142.0</td>\n",
       "      <td>34.0</td>\n",
       "      <td>NaN</td>\n",
       "    </tr>\n",
       "    <tr>\n",
       "      <th>1</th>\n",
       "      <td>Åland Islands</td>\n",
       "      <td>AX</td>\n",
       "      <td>ALA</td>\n",
       "      <td>248</td>\n",
       "      <td>ISO 3166-2:AX</td>\n",
       "      <td>Europe</td>\n",
       "      <td>Northern Europe</td>\n",
       "      <td>NaN</td>\n",
       "      <td>150.0</td>\n",
       "      <td>154.0</td>\n",
       "      <td>NaN</td>\n",
       "    </tr>\n",
       "    <tr>\n",
       "      <th>2</th>\n",
       "      <td>Albania</td>\n",
       "      <td>AL</td>\n",
       "      <td>ALB</td>\n",
       "      <td>8</td>\n",
       "      <td>ISO 3166-2:AL</td>\n",
       "      <td>Europe</td>\n",
       "      <td>Southern Europe</td>\n",
       "      <td>NaN</td>\n",
       "      <td>150.0</td>\n",
       "      <td>39.0</td>\n",
       "      <td>NaN</td>\n",
       "    </tr>\n",
       "    <tr>\n",
       "      <th>3</th>\n",
       "      <td>Algeria</td>\n",
       "      <td>DZ</td>\n",
       "      <td>DZA</td>\n",
       "      <td>12</td>\n",
       "      <td>ISO 3166-2:DZ</td>\n",
       "      <td>Africa</td>\n",
       "      <td>Northern Africa</td>\n",
       "      <td>NaN</td>\n",
       "      <td>2.0</td>\n",
       "      <td>15.0</td>\n",
       "      <td>NaN</td>\n",
       "    </tr>\n",
       "    <tr>\n",
       "      <th>4</th>\n",
       "      <td>American Samoa</td>\n",
       "      <td>AS</td>\n",
       "      <td>ASM</td>\n",
       "      <td>16</td>\n",
       "      <td>ISO 3166-2:AS</td>\n",
       "      <td>Oceania</td>\n",
       "      <td>Polynesia</td>\n",
       "      <td>NaN</td>\n",
       "      <td>9.0</td>\n",
       "      <td>61.0</td>\n",
       "      <td>NaN</td>\n",
       "    </tr>\n",
       "  </tbody>\n",
       "</table>\n",
       "</div>"
      ],
      "text/plain": [
       "             name alpha-2 alpha-3  country-code     iso_3166-2   region  \\\n",
       "0     Afghanistan      AF     AFG             4  ISO 3166-2:AF     Asia   \n",
       "1   Åland Islands      AX     ALA           248  ISO 3166-2:AX   Europe   \n",
       "2         Albania      AL     ALB             8  ISO 3166-2:AL   Europe   \n",
       "3         Algeria      DZ     DZA            12  ISO 3166-2:DZ   Africa   \n",
       "4  American Samoa      AS     ASM            16  ISO 3166-2:AS  Oceania   \n",
       "\n",
       "        sub-region intermediate-region  region-code  sub-region-code  \\\n",
       "0    Southern Asia                 NaN        142.0             34.0   \n",
       "1  Northern Europe                 NaN        150.0            154.0   \n",
       "2  Southern Europe                 NaN        150.0             39.0   \n",
       "3  Northern Africa                 NaN          2.0             15.0   \n",
       "4        Polynesia                 NaN          9.0             61.0   \n",
       "\n",
       "   intermediate-region-code  \n",
       "0                       NaN  \n",
       "1                       NaN  \n",
       "2                       NaN  \n",
       "3                       NaN  \n",
       "4                       NaN  "
      ]
     },
     "execution_count": 5,
     "metadata": {},
     "output_type": "execute_result"
    }
   ],
   "source": [
    "continents.head()"
   ]
  },
  {
   "cell_type": "code",
   "execution_count": 60,
   "metadata": {},
   "outputs": [],
   "source": [
    "continents = (continents[['name', 'alpha-3', 'region', 'sub-region']]\n",
    "              .rename(columns={\"alpha-3\":\"iso_alpha\", \"sub-region\":\"subcontinent\",\n",
    "                           \"name\":\"country\", \"region\":\"continent\"})\n",
    ")"
   ]
  },
  {
   "cell_type": "code",
   "execution_count": 61,
   "metadata": {},
   "outputs": [
    {
     "data": {
      "text/html": [
       "<div>\n",
       "<style scoped>\n",
       "    .dataframe tbody tr th:only-of-type {\n",
       "        vertical-align: middle;\n",
       "    }\n",
       "\n",
       "    .dataframe tbody tr th {\n",
       "        vertical-align: top;\n",
       "    }\n",
       "\n",
       "    .dataframe thead th {\n",
       "        text-align: right;\n",
       "    }\n",
       "</style>\n",
       "<table border=\"1\" class=\"dataframe\">\n",
       "  <thead>\n",
       "    <tr style=\"text-align: right;\">\n",
       "      <th></th>\n",
       "      <th>country</th>\n",
       "      <th>iso_alpha</th>\n",
       "      <th>continent</th>\n",
       "      <th>subcontinent</th>\n",
       "    </tr>\n",
       "  </thead>\n",
       "  <tbody>\n",
       "    <tr>\n",
       "      <th>0</th>\n",
       "      <td>Afghanistan</td>\n",
       "      <td>AFG</td>\n",
       "      <td>Asia</td>\n",
       "      <td>Southern Asia</td>\n",
       "    </tr>\n",
       "    <tr>\n",
       "      <th>1</th>\n",
       "      <td>Åland Islands</td>\n",
       "      <td>ALA</td>\n",
       "      <td>Europe</td>\n",
       "      <td>Northern Europe</td>\n",
       "    </tr>\n",
       "    <tr>\n",
       "      <th>2</th>\n",
       "      <td>Albania</td>\n",
       "      <td>ALB</td>\n",
       "      <td>Europe</td>\n",
       "      <td>Southern Europe</td>\n",
       "    </tr>\n",
       "    <tr>\n",
       "      <th>3</th>\n",
       "      <td>Algeria</td>\n",
       "      <td>DZA</td>\n",
       "      <td>Africa</td>\n",
       "      <td>Northern Africa</td>\n",
       "    </tr>\n",
       "    <tr>\n",
       "      <th>4</th>\n",
       "      <td>American Samoa</td>\n",
       "      <td>ASM</td>\n",
       "      <td>Oceania</td>\n",
       "      <td>Polynesia</td>\n",
       "    </tr>\n",
       "  </tbody>\n",
       "</table>\n",
       "</div>"
      ],
      "text/plain": [
       "          country iso_alpha continent     subcontinent\n",
       "0     Afghanistan       AFG      Asia    Southern Asia\n",
       "1   Åland Islands       ALA    Europe  Northern Europe\n",
       "2         Albania       ALB    Europe  Southern Europe\n",
       "3         Algeria       DZA    Africa  Northern Africa\n",
       "4  American Samoa       ASM   Oceania        Polynesia"
      ]
     },
     "execution_count": 61,
     "metadata": {},
     "output_type": "execute_result"
    }
   ],
   "source": [
    "continents.head()"
   ]
  },
  {
   "cell_type": "code",
   "execution_count": 62,
   "metadata": {},
   "outputs": [
    {
     "data": {
      "text/plain": [
       "Sub-Saharan Africa                 53\n",
       "Latin America and the Caribbean    52\n",
       "Western Asia                       18\n",
       "Southern Europe                    16\n",
       "Northern Europe                    16\n",
       "South-eastern Asia                 11\n",
       "Polynesia                          10\n",
       "Eastern Europe                     10\n",
       "Southern Asia                       9\n",
       "Western Europe                      9\n",
       "Eastern Asia                        8\n",
       "Micronesia                          8\n",
       "Northern Africa                     7\n",
       "Australia and New Zealand           6\n",
       "Melanesia                           5\n",
       "Northern America                    5\n",
       "Central Asia                        5\n",
       "Name: subcontinent, dtype: int64"
      ]
     },
     "execution_count": 62,
     "metadata": {},
     "output_type": "execute_result"
    }
   ],
   "source": [
    "continents['subcontinent'].value_counts()"
   ]
  },
  {
   "cell_type": "code",
   "execution_count": 9,
   "metadata": {},
   "outputs": [
    {
     "data": {
      "text/plain": [
       "(141,)"
      ]
     },
     "execution_count": 9,
     "metadata": {},
     "output_type": "execute_result"
    }
   ],
   "source": [
    "df.country.unique().shape"
   ]
  },
  {
   "attachments": {},
   "cell_type": "markdown",
   "metadata": {},
   "source": [
    "In our data we have 141 countries. We have data starting from 1952 and ending at 2007. There are no missing values which is important for the HD and clustering applications. "
   ]
  },
  {
   "cell_type": "code",
   "execution_count": 10,
   "metadata": {},
   "outputs": [
    {
     "data": {
      "text/html": [
       "<div>\n",
       "<style scoped>\n",
       "    .dataframe tbody tr th:only-of-type {\n",
       "        vertical-align: middle;\n",
       "    }\n",
       "\n",
       "    .dataframe tbody tr th {\n",
       "        vertical-align: top;\n",
       "    }\n",
       "\n",
       "    .dataframe thead th {\n",
       "        text-align: right;\n",
       "    }\n",
       "</style>\n",
       "<table border=\"1\" class=\"dataframe\">\n",
       "  <thead>\n",
       "    <tr style=\"text-align: right;\">\n",
       "      <th></th>\n",
       "      <th>index</th>\n",
       "      <th>year</th>\n",
       "    </tr>\n",
       "  </thead>\n",
       "  <tbody>\n",
       "    <tr>\n",
       "      <th>0</th>\n",
       "      <td>1952</td>\n",
       "      <td>141</td>\n",
       "    </tr>\n",
       "    <tr>\n",
       "      <th>1</th>\n",
       "      <td>1957</td>\n",
       "      <td>141</td>\n",
       "    </tr>\n",
       "    <tr>\n",
       "      <th>2</th>\n",
       "      <td>1962</td>\n",
       "      <td>141</td>\n",
       "    </tr>\n",
       "    <tr>\n",
       "      <th>3</th>\n",
       "      <td>1967</td>\n",
       "      <td>141</td>\n",
       "    </tr>\n",
       "    <tr>\n",
       "      <th>4</th>\n",
       "      <td>1972</td>\n",
       "      <td>141</td>\n",
       "    </tr>\n",
       "    <tr>\n",
       "      <th>5</th>\n",
       "      <td>1977</td>\n",
       "      <td>141</td>\n",
       "    </tr>\n",
       "    <tr>\n",
       "      <th>6</th>\n",
       "      <td>1982</td>\n",
       "      <td>141</td>\n",
       "    </tr>\n",
       "    <tr>\n",
       "      <th>7</th>\n",
       "      <td>1987</td>\n",
       "      <td>141</td>\n",
       "    </tr>\n",
       "    <tr>\n",
       "      <th>8</th>\n",
       "      <td>1992</td>\n",
       "      <td>141</td>\n",
       "    </tr>\n",
       "    <tr>\n",
       "      <th>9</th>\n",
       "      <td>1997</td>\n",
       "      <td>141</td>\n",
       "    </tr>\n",
       "    <tr>\n",
       "      <th>10</th>\n",
       "      <td>2002</td>\n",
       "      <td>141</td>\n",
       "    </tr>\n",
       "    <tr>\n",
       "      <th>11</th>\n",
       "      <td>2007</td>\n",
       "      <td>141</td>\n",
       "    </tr>\n",
       "  </tbody>\n",
       "</table>\n",
       "</div>"
      ],
      "text/plain": [
       "    index  year\n",
       "0    1952   141\n",
       "1    1957   141\n",
       "2    1962   141\n",
       "3    1967   141\n",
       "4    1972   141\n",
       "5    1977   141\n",
       "6    1982   141\n",
       "7    1987   141\n",
       "8    1992   141\n",
       "9    1997   141\n",
       "10   2002   141\n",
       "11   2007   141"
      ]
     },
     "execution_count": 10,
     "metadata": {},
     "output_type": "execute_result"
    }
   ],
   "source": [
    "df.year.value_counts().reset_index()"
   ]
  },
  {
   "cell_type": "code",
   "execution_count": 11,
   "metadata": {},
   "outputs": [
    {
     "data": {
      "text/html": [
       "<div>\n",
       "<style scoped>\n",
       "    .dataframe tbody tr th:only-of-type {\n",
       "        vertical-align: middle;\n",
       "    }\n",
       "\n",
       "    .dataframe tbody tr th {\n",
       "        vertical-align: top;\n",
       "    }\n",
       "\n",
       "    .dataframe thead th {\n",
       "        text-align: right;\n",
       "    }\n",
       "</style>\n",
       "<table border=\"1\" class=\"dataframe\">\n",
       "  <thead>\n",
       "    <tr style=\"text-align: right;\">\n",
       "      <th></th>\n",
       "      <th>country</th>\n",
       "      <th>continent</th>\n",
       "      <th>year</th>\n",
       "      <th>lifeExp</th>\n",
       "      <th>pop</th>\n",
       "      <th>gdpPercap</th>\n",
       "      <th>iso_alpha</th>\n",
       "      <th>iso_num</th>\n",
       "    </tr>\n",
       "  </thead>\n",
       "  <tbody>\n",
       "    <tr>\n",
       "      <th>0</th>\n",
       "      <td>Afghanistan</td>\n",
       "      <td>Asia</td>\n",
       "      <td>1952</td>\n",
       "      <td>28.801</td>\n",
       "      <td>8425333</td>\n",
       "      <td>779.445314</td>\n",
       "      <td>AFG</td>\n",
       "      <td>4</td>\n",
       "    </tr>\n",
       "    <tr>\n",
       "      <th>1</th>\n",
       "      <td>Afghanistan</td>\n",
       "      <td>Asia</td>\n",
       "      <td>1957</td>\n",
       "      <td>30.332</td>\n",
       "      <td>9240934</td>\n",
       "      <td>820.853030</td>\n",
       "      <td>AFG</td>\n",
       "      <td>4</td>\n",
       "    </tr>\n",
       "    <tr>\n",
       "      <th>2</th>\n",
       "      <td>Afghanistan</td>\n",
       "      <td>Asia</td>\n",
       "      <td>1962</td>\n",
       "      <td>31.997</td>\n",
       "      <td>10267083</td>\n",
       "      <td>853.100710</td>\n",
       "      <td>AFG</td>\n",
       "      <td>4</td>\n",
       "    </tr>\n",
       "    <tr>\n",
       "      <th>3</th>\n",
       "      <td>Afghanistan</td>\n",
       "      <td>Asia</td>\n",
       "      <td>1967</td>\n",
       "      <td>34.020</td>\n",
       "      <td>11537966</td>\n",
       "      <td>836.197138</td>\n",
       "      <td>AFG</td>\n",
       "      <td>4</td>\n",
       "    </tr>\n",
       "    <tr>\n",
       "      <th>4</th>\n",
       "      <td>Afghanistan</td>\n",
       "      <td>Asia</td>\n",
       "      <td>1972</td>\n",
       "      <td>36.088</td>\n",
       "      <td>13079460</td>\n",
       "      <td>739.981106</td>\n",
       "      <td>AFG</td>\n",
       "      <td>4</td>\n",
       "    </tr>\n",
       "  </tbody>\n",
       "</table>\n",
       "</div>"
      ],
      "text/plain": [
       "       country continent  year  lifeExp       pop   gdpPercap iso_alpha  \\\n",
       "0  Afghanistan      Asia  1952   28.801   8425333  779.445314       AFG   \n",
       "1  Afghanistan      Asia  1957   30.332   9240934  820.853030       AFG   \n",
       "2  Afghanistan      Asia  1962   31.997  10267083  853.100710       AFG   \n",
       "3  Afghanistan      Asia  1967   34.020  11537966  836.197138       AFG   \n",
       "4  Afghanistan      Asia  1972   36.088  13079460  739.981106       AFG   \n",
       "\n",
       "   iso_num  \n",
       "0        4  \n",
       "1        4  \n",
       "2        4  \n",
       "3        4  \n",
       "4        4  "
      ]
     },
     "execution_count": 11,
     "metadata": {},
     "output_type": "execute_result"
    }
   ],
   "source": [
    "df.head()"
   ]
  },
  {
   "cell_type": "code",
   "execution_count": 12,
   "metadata": {},
   "outputs": [],
   "source": [
    "df = df.merge(continents[['iso_alpha', 'subcontinent']], on='iso_alpha')"
   ]
  },
  {
   "attachments": {},
   "cell_type": "markdown",
   "metadata": {},
   "source": [
    "### EDA on the dataset is always informative  "
   ]
  },
  {
   "cell_type": "code",
   "execution_count": 63,
   "metadata": {},
   "outputs": [
    {
     "data": {
      "application/vnd.plotly.v1+json": {
       "config": {
        "plotlyServerURL": "https://plot.ly"
       },
       "data": [
        {
         "histnorm": "percent",
         "name": "Europe",
         "type": "histogram",
         "x": [
          1601.056136,
          1942.284244,
          2312.888958,
          2760.196931,
          3313.422188,
          3533.00391,
          3630.880722,
          3738.932735,
          2497.437901,
          3193.054604,
          4604.211737,
          5937.029526,
          6137.076492,
          8842.59803,
          10750.72111,
          12834.6024,
          16661.6256,
          19749.4223,
          21597.08362,
          23687.82607,
          27042.01868,
          29095.92066,
          32417.60769,
          36126.4927,
          8343.105127,
          9714.960623,
          10991.20676,
          13149.04119,
          16672.14356,
          19117.97448,
          20979.84589,
          22525.56308,
          25575.57069,
          27561.19663,
          30485.88375,
          33692.60508,
          973.5331948,
          1353.989176,
          1709.683679,
          2172.352423,
          2860.16975,
          3528.481305,
          4126.613157,
          4314.114757,
          2546.781445,
          4766.355904,
          6018.975239,
          7446.298803,
          2444.286648,
          3008.670727,
          4254.337839,
          5577.0028,
          6597.494398,
          7612.240438,
          8224.191647,
          8239.854824,
          6302.623438,
          5970.38876,
          7696.777725,
          10680.79282,
          3119.23652,
          4338.231617,
          5477.890018,
          6960.297861,
          9164.090127,
          11305.38517,
          13221.82184,
          13822.58394,
          8447.794873,
          9875.604515,
          11628.38895,
          14619.22272,
          6876.14025,
          8256.343918,
          10136.86713,
          11399.44489,
          13108.4536,
          14800.16062,
          15377.22855,
          16310.4434,
          14297.02122,
          16048.51424,
          17596.21022,
          22833.30851,
          9692.385245,
          11099.65935,
          13583.31351,
          15937.21123,
          18866.20721,
          20422.9015,
          21688.04048,
          25116.17581,
          26406.73985,
          29804.34567,
          32166.50006,
          35278.41874,
          6424.519071,
          7545.415386,
          9371.842561,
          10921.63626,
          14358.8759,
          15605.42283,
          18533.15761,
          21141.01223,
          20647.16499,
          23723.9502,
          28204.59057,
          33207.0844,
          7029.809327,
          8662.834898,
          10560.48553,
          12999.91766,
          16107.19171,
          18292.63514,
          20293.89746,
          22066.44214,
          24703.79615,
          25889.78487,
          28926.03234,
          30470.0167,
          7144.114393,
          10187.82665,
          12902.46291,
          14745.62561,
          18016.18027,
          20512.92123,
          22031.53274,
          24639.18566,
          26505.30317,
          27788.88416,
          30035.80198,
          32170.37442,
          3530.690067,
          4916.299889,
          6017.190733,
          8513.097016,
          12724.82957,
          14195.52428,
          15268.42089,
          16120.52839,
          17541.49634,
          18747.69814,
          22514.2548,
          27538.41188,
          5263.673816,
          6040.180011,
          7550.359877,
          9326.64467,
          10168.65611,
          11674.83737,
          12545.99066,
          12986.47998,
          10535.62855,
          11712.7768,
          14843.93556,
          18008.94444,
          7267.688428,
          9244.001412,
          10350.15906,
          13319.89568,
          15798.06362,
          19654.96247,
          23269.6075,
          26923.20628,
          25144.39201,
          28061.09966,
          31163.20196,
          36180.78919,
          5210.280328,
          5599.077872,
          6631.597314,
          7655.568963,
          9530.772896,
          11150.98113,
          12618.32141,
          13872.86652,
          17558.81555,
          24521.94713,
          34077.04939,
          40675.99635,
          4931.404155,
          6248.656232,
          8243.58234,
          10022.40131,
          12269.27378,
          14255.98475,
          16537.4835,
          19207.23482,
          22013.64486,
          24675.02446,
          27968.09817,
          28569.7197,
          2647.585601,
          3682.259903,
          4649.593785,
          5907.850937,
          7778.414017,
          9595.929905,
          11222.58762,
          11732.51017,
          7003.339037,
          6465.613349,
          6557.194282,
          9253.896111,
          8941.571858,
          11276.19344,
          12790.84956,
          15363.25136,
          18794.74567,
          21209.0592,
          21399.46046,
          23651.32361,
          26790.94961,
          30246.13063,
          33724.75778,
          36797.93332,
          10095.42172,
          11653.97304,
          13450.40151,
          16361.87647,
          18965.05551,
          23311.34939,
          26298.63531,
          31540.9748,
          33965.66115,
          41283.16433,
          44683.97525,
          49357.19017,
          4029.329699,
          4734.253019,
          5338.752143,
          6557.152776,
          8006.506993,
          9508.141454,
          8451.531004,
          9082.351172,
          7738.881247,
          10159.58368,
          12002.23908,
          15389.92468,
          3068.319867,
          3774.571743,
          4727.954889,
          6361.517993,
          9022.247417,
          10172.48572,
          11753.84291,
          13039.30876,
          16207.26663,
          17641.03156,
          19970.90787,
          20509.64777,
          3144.613186,
          3943.370225,
          4734.997586,
          6470.866545,
          8011.414402,
          9356.39724,
          9605.314053,
          9696.273295,
          6598.409903,
          7346.547557,
          7885.360081,
          10808.47561,
          3581.459448,
          4981.090891,
          6289.629157,
          7991.707066,
          10522.06749,
          12980.66956,
          15181.0927,
          15870.87851,
          9325.068238,
          7914.320304,
          7236.075251,
          9786.534714,
          5074.659104,
          6093.26298,
          7481.107598,
          8412.902397,
          9674.167626,
          10922.66404,
          11348.54585,
          12037.26758,
          9498.467723,
          12126.23065,
          13638.77837,
          18678.31435,
          4215.041741,
          5862.276629,
          7402.303395,
          9405.489397,
          12383.4862,
          15277.03017,
          17866.72175,
          18678.53492,
          14214.71681,
          17161.10735,
          20660.01936,
          25768.25759,
          3834.034742,
          4564.80241,
          5693.843879,
          7993.512294,
          10638.75131,
          13236.92117,
          13926.16997,
          15764.98313,
          18603.06452,
          20445.29896,
          24835.47166,
          28821.0637,
          8527.844662,
          9911.878226,
          12329.44192,
          15258.29697,
          17832.02464,
          18855.72521,
          20667.38125,
          23586.92927,
          23880.01683,
          25266.59499,
          29341.63093,
          33859.74835,
          14734.23275,
          17909.48973,
          20431.0927,
          22966.14432,
          27195.11304,
          26982.29052,
          28397.71512,
          30281.70459,
          31871.5303,
          32135.32301,
          34480.95771,
          37506.41907,
          1969.10098,
          2218.754257,
          2322.869908,
          2826.356387,
          3450.69638,
          4269.122326,
          4241.356344,
          5089.043686,
          5678.348271,
          6601.429915,
          6508.085718,
          8458.276384,
          9979.508487,
          11283.17795,
          12477.17707,
          14142.85089,
          15895.11641,
          17428.74846,
          18232.42452,
          21664.78767,
          22705.09254,
          26074.53136,
          29478.99919,
          33203.26128
         ],
         "xaxis": "x",
         "yaxis": "y"
        },
        {
         "histnorm": "percent",
         "name": "Africa",
         "type": "histogram",
         "x": [
          2449.008185,
          3013.976023,
          2550.81688,
          3246.991771,
          4182.663766,
          4910.416756,
          5745.160213,
          5681.358539,
          5023.216647,
          4797.295051,
          5288.040382,
          6223.367465,
          3520.610273,
          3827.940465,
          4269.276742,
          5522.776375,
          5473.288005,
          3008.647355,
          2756.953672,
          2430.208311,
          2627.845685,
          2277.140884,
          2773.287312,
          4797.231267,
          1062.7522,
          959.6010805,
          949.4990641,
          1035.831411,
          1085.796879,
          1029.161251,
          1277.897616,
          1225.85601,
          1191.207681,
          1232.975292,
          1372.877931,
          1441.284873,
          851.2411407,
          918.2325349,
          983.6539764,
          1214.709294,
          2263.611114,
          3214.857818,
          4551.14215,
          6205.88385,
          7954.111645,
          8647.142313,
          11003.60508,
          12569.85177,
          543.2552413,
          617.1834648,
          722.5120206,
          794.8265597,
          854.7359763,
          743.3870368,
          807.1985855,
          912.0631417,
          931.7527731,
          946.2949618,
          1037.645221,
          1217.032994,
          339.2964587,
          379.5646281,
          355.2032273,
          412.9775136,
          464.0995039,
          556.1032651,
          559.603231,
          621.8188189,
          631.6998778,
          463.1151478,
          446.4035126,
          430.0706916,
          1172.667655,
          1313.048099,
          1399.607441,
          1508.453148,
          1684.146528,
          1783.432873,
          2367.983282,
          2602.664206,
          1793.163278,
          1694.337469,
          1934.011449,
          2042.09524,
          1071.310713,
          1190.844328,
          1193.068753,
          1136.056615,
          1070.013275,
          1109.374338,
          956.7529907,
          844.8763504,
          747.9055252,
          740.5063317,
          738.6906068,
          706.016537,
          1178.665927,
          1308.495577,
          1389.817618,
          1196.810565,
          1104.103987,
          1133.98495,
          797.9081006,
          952.386129,
          1058.0643,
          1004.961353,
          1156.18186,
          1704.063724,
          1102.990936,
          1211.148548,
          1406.648278,
          1876.029643,
          1937.577675,
          1172.603047,
          1267.100083,
          1315.980812,
          1246.90737,
          1173.618235,
          1075.811558,
          986.1478792,
          780.5423257,
          905.8602303,
          896.3146335,
          861.5932424,
          904.8960685,
          795.757282,
          673.7478181,
          672.774812,
          457.7191807,
          312.188423,
          241.1658765,
          277.5518587,
          2125.621418,
          2315.056572,
          2464.783157,
          2677.939642,
          3213.152683,
          3259.178978,
          4879.507522,
          4201.194937,
          4016.239529,
          3484.164376,
          3484.06197,
          3632.557798,
          1388.594732,
          1500.895925,
          1728.869428,
          2052.050473,
          2378.201111,
          2517.736547,
          2602.710169,
          2156.956069,
          1648.073791,
          1786.265407,
          1648.800823,
          1544.750112,
          2669.529475,
          2864.969076,
          3020.989263,
          3020.050513,
          3694.212352,
          3081.761022,
          2879.468067,
          2880.102568,
          2377.156192,
          1895.016984,
          1908.260867,
          2082.481567,
          1418.822445,
          1458.915272,
          1693.335853,
          1814.880728,
          2024.008147,
          2785.493582,
          3503.729636,
          3885.46071,
          3794.755195,
          4173.181797,
          4754.604414,
          5581.180998,
          375.6431231,
          426.0964081,
          582.8419714,
          915.5960025,
          672.4122571,
          958.5668124,
          927.8253427,
          966.8968149,
          1132.055034,
          2814.480755,
          7703.4959,
          12154.08975,
          328.9405571,
          344.1618859,
          380.9958433,
          468.7949699,
          514.3242082,
          505.7538077,
          524.8758493,
          521.1341333,
          582.8585102,
          913.47079,
          765.3500015,
          641.3695236,
          362.1462796,
          378.9041632,
          419.4564161,
          516.1186438,
          566.2439442,
          556.8083834,
          577.8607471,
          573.7413142,
          421.3534653,
          515.8894013,
          530.0535319,
          690.8055759,
          4293.476475,
          4976.198099,
          6631.459222,
          8358.761987,
          11401.94841,
          21745.57328,
          15113.36194,
          11864.40844,
          13522.15752,
          14722.84188,
          12521.71392,
          13206.48452,
          485.2306591,
          520.9267111,
          599.650276,
          734.7829124,
          756.0868363,
          884.7552507,
          835.8096108,
          611.6588611,
          665.6244126,
          653.7301704,
          660.5855997,
          752.7497265,
          911.2989371,
          1043.561537,
          1190.041118,
          1125.69716,
          1178.223708,
          993.2239571,
          876.032569,
          847.0061135,
          925.060154,
          1005.245812,
          1111.984578,
          1327.60891,
          510.1964923,
          576.2670245,
          686.3736739,
          708.7595409,
          741.6662307,
          874.6858643,
          857.2503577,
          805.5724718,
          794.3484384,
          869.4497668,
          945.5835837,
          942.6542111,
          299.850319,
          431.7904566,
          522.0343725,
          715.5806402,
          820.2245876,
          764.7259628,
          838.1239671,
          736.4153921,
          745.5398706,
          796.6644681,
          575.7047176,
          579.231743,
          853.540919,
          944.4383152,
          896.9663732,
          1056.736457,
          1222.359968,
          1267.613204,
          1348.225791,
          1361.936856,
          1341.921721,
          1360.485021,
          1287.514732,
          1463.249282,
          298.8462121,
          335.9971151,
          411.8006266,
          498.6390265,
          496.5815922,
          745.3695408,
          797.2631074,
          773.9932141,
          977.4862725,
          1186.147994,
          1275.184575,
          1569.331442,
          575.5729961,
          620.9699901,
          634.1951625,
          713.6036483,
          803.0054535,
          640.3224383,
          572.1995694,
          506.1138573,
          636.6229191,
          609.1739508,
          531.4823679,
          414.5073415,
          2387.54806,
          3448.284395,
          6757.030816,
          18772.75169,
          21011.49721,
          21951.21176,
          17364.27538,
          11770.5898,
          9640.138501,
          9467.446056,
          9534.677467,
          12057.49928,
          1443.011715,
          1589.20275,
          1643.38711,
          1634.047282,
          1748.562982,
          1544.228586,
          1302.878658,
          1155.441948,
          1040.67619,
          986.2958956,
          894.6370822,
          1044.770126,
          369.1650802,
          416.3698064,
          427.9010856,
          495.5147806,
          584.6219709,
          663.2236766,
          632.8039209,
          635.5173634,
          563.2000145,
          692.2758103,
          665.4231186,
          759.3499101,
          452.3369807,
          490.3821867,
          496.1743428,
          545.0098873,
          581.3688761,
          686.3952693,
          618.0140641,
          684.1715576,
          739.014375,
          790.2579846,
          951.4097518,
          1042.581557,
          743.1159097,
          846.1202613,
          1055.896036,
          1421.145193,
          1586.851781,
          1497.492223,
          1481.150189,
          1421.603576,
          1361.369784,
          1483.136136,
          1579.019543,
          1803.151496,
          1967.955707,
          2034.037981,
          2529.067487,
          2475.387562,
          2575.484158,
          3710.982963,
          3688.037739,
          4783.586903,
          6058.253846,
          7425.705295,
          9021.815894,
          10956.99112,
          1688.20357,
          1642.002314,
          1566.353493,
          1711.04477,
          1930.194975,
          2370.619976,
          2702.620356,
          2755.046991,
          2948.047252,
          2982.101858,
          3258.495584,
          3820.17523,
          468.5260381,
          495.5868333,
          556.6863539,
          566.6691539,
          724.9178037,
          502.3197334,
          462.2114149,
          389.8761846,
          410.8968239,
          472.3460771,
          633.6179466,
          823.6856205,
          2423.780443,
          2621.448058,
          3173.215595,
          3793.694753,
          3746.080948,
          3876.485958,
          4191.100511,
          3693.731337,
          3804.537999,
          3899.52426,
          4072.324751,
          4811.060429,
          761.879376,
          835.5234025,
          997.7661127,
          1054.384891,
          954.2092363,
          808.8970728,
          909.7221354,
          668.3000228,
          581.182725,
          580.3052092,
          601.0745012,
          619.6768924,
          1077.281856,
          1100.592563,
          1150.927478,
          1014.514104,
          1698.388838,
          1981.951806,
          1576.97375,
          1385.029563,
          1619.848217,
          1624.941275,
          1615.286395,
          2013.977305,
          2718.885295,
          2769.451844,
          3173.72334,
          4021.175739,
          5047.658563,
          4319.804067,
          5267.219353,
          5303.377488,
          6101.255823,
          6071.941411,
          6316.1652,
          7670.122558,
          493.3238752,
          540.2893983,
          597.4730727,
          510.9637142,
          590.5806638,
          670.0806011,
          881.5706467,
          847.991217,
          737.0685949,
          589.9445051,
          785.6537648,
          863.0884639,
          879.5835855,
          860.7369026,
          1071.551119,
          1384.840593,
          1532.985254,
          1737.561657,
          1890.218117,
          1516.525457,
          1428.777814,
          1339.076036,
          1353.09239,
          1598.435089,
          1450.356983,
          1567.653006,
          1654.988723,
          1612.404632,
          1597.712056,
          1561.769116,
          1518.479984,
          1441.72072,
          1367.899369,
          1392.368347,
          1519.635262,
          1712.472136,
          879.7877358,
          1004.484437,
          1116.639877,
          1206.043465,
          1353.759762,
          1348.285159,
          1465.010784,
          1294.447788,
          1068.696278,
          574.6481576,
          699.489713,
          862.5407561,
          1135.749842,
          1258.147413,
          1369.488336,
          1284.73318,
          1254.576127,
          1450.992513,
          1176.807031,
          1093.244963,
          926.9602964,
          930.5964284,
          882.0818218,
          926.1410683,
          4725.295531,
          5487.104219,
          5768.729717,
          7114.477971,
          7765.962636,
          8028.651439,
          8568.266228,
          7825.823398,
          7225.069258,
          7479.188244,
          7710.946444,
          9269.657808,
          1615.991129,
          1770.337074,
          1959.593767,
          1687.997641,
          1659.652775,
          2202.988423,
          1895.544073,
          1507.819159,
          1492.197043,
          1632.210764,
          1993.398314,
          2602.394995,
          1148.376626,
          1244.708364,
          1856.182125,
          2613.101665,
          3364.836625,
          3781.410618,
          3895.384018,
          3984.839812,
          3553.0224,
          3876.76846,
          4128.116943,
          4513.480643,
          716.6500721,
          698.5356073,
          722.0038073,
          848.2186575,
          915.9850592,
          962.4922932,
          874.2426069,
          831.8220794,
          825.682454,
          789.1862231,
          899.0742111,
          1107.482182,
          859.8086567,
          925.9083202,
          1067.53481,
          1477.59676,
          1649.660188,
          1532.776998,
          1344.577953,
          1202.201361,
          1034.298904,
          982.2869243,
          886.2205765,
          882.9699438,
          1468.475631,
          1395.232468,
          1660.30321,
          1932.360167,
          2753.285994,
          3120.876811,
          3560.233174,
          3810.419296,
          4332.720164,
          4876.798614,
          5722.895655,
          7092.923025,
          734.753484,
          774.3710692,
          767.2717398,
          908.9185217,
          950.735869,
          843.7331372,
          682.2662268,
          617.7244065,
          644.1707969,
          816.559081,
          927.7210018,
          1056.380121,
          1147.388831,
          1311.956766,
          1452.725766,
          1777.077318,
          1773.498265,
          1588.688299,
          1408.678565,
          1213.315116,
          1210.884633,
          1071.353818,
          1071.613938,
          1271.211593,
          406.8841148,
          518.7642681,
          527.2721818,
          569.7950712,
          799.3621758,
          685.5876821,
          788.8550411,
          706.1573059,
          693.4207856,
          792.4499603,
          672.0386227,
          469.7092981
         ],
         "xaxis": "x2",
         "yaxis": "y2"
        },
        {
         "histnorm": "percent",
         "name": "Asia",
         "type": "histogram",
         "x": [
          779.4453145,
          820.8530296,
          853.10071,
          836.1971382,
          739.9811058,
          786.11336,
          978.0114388,
          852.3959448,
          649.3413952,
          635.341351,
          726.7340548,
          974.5803384,
          9867.084765,
          11635.79945,
          12753.27514,
          14804.6727,
          18268.65839,
          19340.10196,
          19211.14731,
          18524.02406,
          19035.57917,
          20292.01679,
          23403.55927,
          29796.04834,
          684.2441716,
          661.6374577,
          686.3415538,
          721.1860862,
          630.2336265,
          659.8772322,
          676.9818656,
          751.9794035,
          837.8101643,
          972.7700352,
          1136.39043,
          1391.253792,
          368.4692856,
          434.0383364,
          496.9136476,
          523.4323142,
          421.6240257,
          524.9721832,
          624.4754784,
          683.8955732,
          682.3031755,
          734.28517,
          896.2260153,
          1713.778686,
          400.448611,
          575.9870009,
          487.6740183,
          612.7056934,
          676.9000921,
          741.2374699,
          962.4213805,
          1378.904018,
          1655.784158,
          2289.234136,
          3119.280896,
          4959.114854,
          3054.421209,
          3629.076457,
          4692.648272,
          6197.962814,
          8315.928145,
          11186.14125,
          14560.53051,
          20038.47269,
          24757.60301,
          28377.63219,
          30209.01516,
          39724.97867,
          546.5657493,
          590.061996,
          658.3471509,
          700.7706107,
          724.032527,
          813.337323,
          855.7235377,
          976.5126756,
          1164.406809,
          1458.817442,
          1746.769454,
          2452.210407,
          749.6816546,
          858.9002707,
          849.2897701,
          762.4317721,
          1111.107907,
          1382.702056,
          1516.872988,
          1748.356961,
          2383.140898,
          3119.335603,
          2873.91287,
          3540.651564,
          3035.326002,
          3290.257643,
          4187.329802,
          5906.731805,
          9613.818607,
          11888.59508,
          7608.334602,
          6642.881371,
          7235.653188,
          8263.590301,
          9240.761975,
          11605.71449,
          4129.766056,
          6229.333562,
          8341.737815,
          8931.459811,
          9576.037596,
          14688.23507,
          14517.90711,
          11643.57268,
          3745.640687,
          3076.239795,
          4390.717312,
          4471.061906,
          4086.522128,
          5385.278451,
          7105.630706,
          8393.741404,
          12786.93223,
          13306.61921,
          15367.0292,
          17122.47986,
          18051.52254,
          20896.60924,
          21905.59514,
          25523.2771,
          3216.956347,
          4317.694365,
          6576.649461,
          9847.788607,
          14778.78636,
          16610.37701,
          19384.10571,
          22375.94189,
          26824.89511,
          28816.58499,
          28604.5919,
          31656.06806,
          1546.907807,
          1886.080591,
          2348.009158,
          2741.796252,
          2110.856309,
          2852.351568,
          4161.415959,
          4448.679912,
          3431.593647,
          3645.379572,
          3844.917194,
          4519.461171,
          1088.277758,
          1571.134655,
          1621.693598,
          2143.540609,
          3701.621503,
          4106.301249,
          4106.525293,
          4106.492315,
          3726.063507,
          1690.756814,
          1646.758151,
          1593.06548,
          1030.592226,
          1487.593537,
          1536.344387,
          2029.228142,
          3030.87665,
          4657.22102,
          5622.942464,
          8533.088805,
          12104.27872,
          15993.52796,
          19233.98818,
          23348.13973,
          4834.804067,
          6089.786934,
          5714.560611,
          6006.983042,
          7486.384341,
          8659.696836,
          7640.519521,
          5377.091329,
          6890.806854,
          8754.96385,
          9313.93883,
          10461.05868,
          1831.132894,
          1810.066992,
          2036.884944,
          2277.742396,
          2849.09478,
          3827.921571,
          4920.355951,
          5249.802653,
          7277.912802,
          10132.90964,
          10206.97794,
          12451.6558,
          786.5668575,
          912.6626085,
          1056.353958,
          1226.04113,
          1421.741975,
          1647.511665,
          2000.603139,
          2338.008304,
          1785.402016,
          1902.2521,
          2140.739323,
          3095.772271,
          331,
          350,
          388,
          349,
          357,
          371,
          424,
          385,
          347,
          415,
          611,
          944,
          545.8657229,
          597.9363558,
          652.3968593,
          676.4422254,
          674.7881296,
          694.1124398,
          718.3730947,
          775.6324501,
          897.7403604,
          1010.892138,
          1057.206311,
          1091.359778,
          1828.230307,
          2242.746551,
          2924.638113,
          4720.942687,
          10618.03855,
          11848.34392,
          12954.79101,
          18115.22313,
          18616.70691,
          19702.05581,
          19774.83687,
          22316.19287,
          684.5971438,
          747.0835292,
          803.3427418,
          942.4082588,
          1049.938981,
          1175.921193,
          1443.429832,
          1704.686583,
          1971.829464,
          2049.350521,
          2092.712441,
          2605.94758,
          1272.880995,
          1547.944844,
          1649.552153,
          1814.12743,
          1989.37407,
          2373.204287,
          2603.273765,
          2189.634995,
          2279.324017,
          2536.534925,
          2650.921068,
          3190.481016,
          6459.554823,
          8157.591248,
          11626.41975,
          16903.04886,
          24837.42865,
          34167.7626,
          33693.17525,
          21198.26136,
          24841.61777,
          20586.69019,
          19014.54118,
          21654.83194,
          2315.138227,
          2843.104409,
          3674.735572,
          4977.41854,
          8597.756202,
          11210.08948,
          15169.16112,
          18861.53081,
          24769.8912,
          33519.4766,
          36023.1054,
          47143.17964,
          1083.53203,
          1072.546602,
          1074.47196,
          1135.514326,
          1213.39553,
          1348.775651,
          1648.079789,
          1876.766827,
          2153.739222,
          2664.477257,
          3015.378833,
          3970.095407,
          1643.485354,
          2117.234893,
          2193.037133,
          1881.923632,
          2571.423014,
          3195.484582,
          3761.837715,
          3116.774285,
          3340.542768,
          4014.238972,
          4090.925331,
          4184.548089,
          1206.947913,
          1507.86129,
          1822.879028,
          2643.858681,
          4062.523897,
          5596.519826,
          7426.354774,
          11054.56175,
          15215.6579,
          20206.82098,
          23235.42329,
          28718.27684,
          757.7974177,
          793.5774148,
          1002.199172,
          1295.46066,
          1524.358936,
          1961.224635,
          2393.219781,
          2982.653773,
          4616.896545,
          5852.625497,
          5913.187529,
          7458.396327,
          605.0664917,
          676.2854478,
          772.0491602,
          637.1232887,
          699.5016441,
          713.5371196,
          707.2357863,
          820.7994449,
          989.0231487,
          1385.896769,
          1764.456677,
          2441.576404,
          1515.592329,
          1827.067742,
          2198.956312,
          2649.715007,
          3133.409277,
          3682.831494,
          4336.032082,
          5107.197384,
          6017.654756,
          7110.667619,
          4515.487575,
          3025.349798,
          781.7175761,
          804.8304547,
          825.6232006,
          862.4421463,
          1265.047031,
          1829.765177,
          1977.55701,
          1971.741538,
          1879.496673,
          2117.484526,
          2234.820827,
          2280.769906
         ],
         "xaxis": "x3",
         "yaxis": "y3"
        },
        {
         "histnorm": "percent",
         "name": "Americas",
         "type": "histogram",
         "x": [
          5911.315053,
          6856.856212,
          7133.166023,
          8052.953021,
          9443.038526,
          10079.02674,
          8997.897412,
          9139.671389,
          9308.41871,
          10967.28195,
          8797.640716,
          12779.37964,
          2677.326347,
          2127.686326,
          2180.972546,
          2586.886053,
          2980.331339,
          3548.097832,
          3156.510452,
          2753.69149,
          2961.699694,
          3326.143191,
          3413.26269,
          3822.137084,
          2108.944355,
          2487.365989,
          3336.585802,
          3429.864357,
          4985.711467,
          6660.118654,
          7030.835878,
          7807.095818,
          6950.283021,
          7957.980824,
          8131.212843,
          9065.800825,
          11367.16112,
          12489.95006,
          13462.48555,
          16076.58803,
          18970.57086,
          22090.88306,
          22898.79214,
          26626.51503,
          26342.88426,
          28954.92589,
          33328.96507,
          36319.23501,
          3939.978789,
          4315.622723,
          4519.094331,
          5106.654313,
          5494.024437,
          4756.763836,
          5095.665738,
          5547.063754,
          7596.125964,
          10118.05318,
          10778.78385,
          13171.63885,
          2144.115096,
          2323.805581,
          2492.351109,
          2678.729839,
          3264.660041,
          3815.80787,
          4397.575659,
          4903.2191,
          5444.648617,
          6117.361746,
          5755.259962,
          7006.580419,
          2627.009471,
          2990.010802,
          3460.937025,
          4161.727834,
          5118.146939,
          5926.876967,
          5262.734751,
          5629.915318,
          6160.416317,
          6677.045314,
          7723.447195,
          9645.06142,
          5586.53878,
          6092.174359,
          5180.75591,
          5690.268015,
          5305.445256,
          6380.494966,
          7316.918107,
          7532.924763,
          5592.843963,
          5431.990415,
          6340.646683,
          8948.102923,
          1397.717137,
          1544.402995,
          1662.137359,
          1653.723003,
          2189.874499,
          2681.9889,
          2861.092386,
          2899.842175,
          3044.214214,
          3614.101285,
          4563.808154,
          6025.374752,
          3522.110717,
          3780.546651,
          4086.114078,
          4579.074215,
          5280.99471,
          6679.62326,
          7213.791267,
          6481.776993,
          7103.702595,
          7429.455877,
          5773.044512,
          6873.262326,
          3048.3029,
          3421.523218,
          3776.803627,
          4358.595393,
          4520.246008,
          5138.922374,
          4098.344175,
          4140.442097,
          4444.2317,
          5154.825496,
          5351.568666,
          5728.353514,
          2428.237769,
          2617.155967,
          2750.364446,
          3242.531147,
          4031.408271,
          4879.992748,
          4820.49479,
          4246.485974,
          4439.45084,
          4684.313807,
          4858.347495,
          5186.050003,
          1840.366939,
          1726.887882,
          1796.589032,
          1452.057666,
          1654.456946,
          1874.298931,
          2011.159549,
          1823.015995,
          1456.309517,
          1341.726931,
          1270.364932,
          1201.637154,
          2194.926204,
          2220.487682,
          2291.156835,
          2538.269358,
          2529.842345,
          3203.208066,
          3121.760794,
          3023.096699,
          3081.694603,
          3160.454906,
          3099.72866,
          3548.330846,
          2898.530881,
          4756.525781,
          5246.107524,
          6124.703451,
          7433.889293,
          6650.195573,
          6068.05135,
          6351.237495,
          7404.923685,
          7121.924704,
          6994.774861,
          7320.880262,
          3478.125529,
          4131.546641,
          4581.609385,
          5754.733883,
          6809.40669,
          7674.929108,
          9611.147541,
          8688.156003,
          9472.384295,
          9767.29753,
          10742.44053,
          11977.57496,
          3112.363948,
          3457.415947,
          3634.364406,
          4643.393534,
          4688.593267,
          5486.371089,
          3470.338156,
          2955.984375,
          2170.151724,
          2253.023004,
          2474.548819,
          2749.320965,
          2480.380334,
          2961.800905,
          3536.540301,
          4421.009084,
          5364.249663,
          5351.912144,
          7009.601598,
          7034.779161,
          6618.74305,
          7113.692252,
          7356.031934,
          9809.185636,
          1952.308701,
          2046.154706,
          2148.027146,
          2299.376311,
          2523.337977,
          3248.373311,
          4258.503604,
          3998.875695,
          4196.411078,
          4247.400261,
          3783.674243,
          4172.838464,
          3758.523437,
          4245.256698,
          4957.037982,
          5788.09333,
          5937.827283,
          6281.290855,
          6434.501797,
          6360.943444,
          4446.380924,
          5838.347657,
          5909.020073,
          7408.905561,
          3081.959785,
          3907.156189,
          5108.34463,
          6929.277714,
          9123.041742,
          9770.524921,
          10330.98915,
          12281.34191,
          14641.58711,
          16999.4333,
          18855.60618,
          19328.70901,
          3023.271928,
          4100.3934,
          4997.523971,
          5621.368472,
          6619.551419,
          7899.554209,
          9119.528607,
          7388.597823,
          7370.990932,
          8792.573126,
          11460.60023,
          18008.50924,
          13990.48208,
          14847.12712,
          16173.14586,
          19530.36557,
          21806.03594,
          24072.63213,
          25009.55914,
          29884.35041,
          32003.93224,
          35767.43303,
          39097.09955,
          42951.65309,
          5716.766744,
          6150.772969,
          5603.357717,
          5444.61962,
          5703.408898,
          6504.339663,
          6920.223051,
          7452.398969,
          8137.004775,
          9230.240708,
          7727.002004,
          10611.46299,
          7689.799761,
          9802.466526,
          8422.974165,
          9541.474188,
          10505.25966,
          13143.95095,
          11152.41011,
          9883.584648,
          10733.92631,
          10165.49518,
          8605.047831,
          11415.80569
         ],
         "xaxis": "x4",
         "yaxis": "y4"
        },
        {
         "histnorm": "percent",
         "name": "Oceania",
         "type": "histogram",
         "x": [
          10039.59564,
          10949.64959,
          12217.22686,
          14526.12465,
          16788.62948,
          18334.19751,
          19477.00928,
          21888.88903,
          23424.76683,
          26997.93657,
          30687.75473,
          34435.36744,
          10556.57566,
          12247.39532,
          13175.678,
          14463.91893,
          16046.03728,
          16233.7177,
          17632.4104,
          19007.19129,
          18363.32494,
          21050.41377,
          23189.80135,
          25185.00911
         ],
         "xaxis": "x5",
         "yaxis": "y5"
        }
       ],
       "layout": {
        "annotations": [
         {
          "font": {
           "size": 16
          },
          "showarrow": false,
          "text": "Europe",
          "x": 0.225,
          "xanchor": "center",
          "xref": "paper",
          "y": 1,
          "yanchor": "bottom",
          "yref": "paper"
         },
         {
          "font": {
           "size": 16
          },
          "showarrow": false,
          "text": "Africa",
          "x": 0.775,
          "xanchor": "center",
          "xref": "paper",
          "y": 1,
          "yanchor": "bottom",
          "yref": "paper"
         },
         {
          "font": {
           "size": 16
          },
          "showarrow": false,
          "text": "Asia",
          "x": 0.225,
          "xanchor": "center",
          "xref": "paper",
          "y": 0.6111111111111112,
          "yanchor": "bottom",
          "yref": "paper"
         },
         {
          "font": {
           "size": 16
          },
          "showarrow": false,
          "text": "Americas",
          "x": 0.775,
          "xanchor": "center",
          "xref": "paper",
          "y": 0.6111111111111112,
          "yanchor": "bottom",
          "yref": "paper"
         },
         {
          "font": {
           "size": 16
          },
          "showarrow": false,
          "text": "Oceania",
          "x": 0.225,
          "xanchor": "center",
          "xref": "paper",
          "y": 0.22222222222222224,
          "yanchor": "bottom",
          "yref": "paper"
         }
        ],
        "bargap": 0.05,
        "height": 600,
        "showlegend": false,
        "template": {
         "data": {
          "bar": [
           {
            "error_x": {
             "color": "#2a3f5f"
            },
            "error_y": {
             "color": "#2a3f5f"
            },
            "marker": {
             "line": {
              "color": "#E5ECF6",
              "width": 0.5
             },
             "pattern": {
              "fillmode": "overlay",
              "size": 10,
              "solidity": 0.2
             }
            },
            "type": "bar"
           }
          ],
          "barpolar": [
           {
            "marker": {
             "line": {
              "color": "#E5ECF6",
              "width": 0.5
             },
             "pattern": {
              "fillmode": "overlay",
              "size": 10,
              "solidity": 0.2
             }
            },
            "type": "barpolar"
           }
          ],
          "carpet": [
           {
            "aaxis": {
             "endlinecolor": "#2a3f5f",
             "gridcolor": "white",
             "linecolor": "white",
             "minorgridcolor": "white",
             "startlinecolor": "#2a3f5f"
            },
            "baxis": {
             "endlinecolor": "#2a3f5f",
             "gridcolor": "white",
             "linecolor": "white",
             "minorgridcolor": "white",
             "startlinecolor": "#2a3f5f"
            },
            "type": "carpet"
           }
          ],
          "choropleth": [
           {
            "colorbar": {
             "outlinewidth": 0,
             "ticks": ""
            },
            "type": "choropleth"
           }
          ],
          "contour": [
           {
            "colorbar": {
             "outlinewidth": 0,
             "ticks": ""
            },
            "colorscale": [
             [
              0,
              "#0d0887"
             ],
             [
              0.1111111111111111,
              "#46039f"
             ],
             [
              0.2222222222222222,
              "#7201a8"
             ],
             [
              0.3333333333333333,
              "#9c179e"
             ],
             [
              0.4444444444444444,
              "#bd3786"
             ],
             [
              0.5555555555555556,
              "#d8576b"
             ],
             [
              0.6666666666666666,
              "#ed7953"
             ],
             [
              0.7777777777777778,
              "#fb9f3a"
             ],
             [
              0.8888888888888888,
              "#fdca26"
             ],
             [
              1,
              "#f0f921"
             ]
            ],
            "type": "contour"
           }
          ],
          "contourcarpet": [
           {
            "colorbar": {
             "outlinewidth": 0,
             "ticks": ""
            },
            "type": "contourcarpet"
           }
          ],
          "heatmap": [
           {
            "colorbar": {
             "outlinewidth": 0,
             "ticks": ""
            },
            "colorscale": [
             [
              0,
              "#0d0887"
             ],
             [
              0.1111111111111111,
              "#46039f"
             ],
             [
              0.2222222222222222,
              "#7201a8"
             ],
             [
              0.3333333333333333,
              "#9c179e"
             ],
             [
              0.4444444444444444,
              "#bd3786"
             ],
             [
              0.5555555555555556,
              "#d8576b"
             ],
             [
              0.6666666666666666,
              "#ed7953"
             ],
             [
              0.7777777777777778,
              "#fb9f3a"
             ],
             [
              0.8888888888888888,
              "#fdca26"
             ],
             [
              1,
              "#f0f921"
             ]
            ],
            "type": "heatmap"
           }
          ],
          "heatmapgl": [
           {
            "colorbar": {
             "outlinewidth": 0,
             "ticks": ""
            },
            "colorscale": [
             [
              0,
              "#0d0887"
             ],
             [
              0.1111111111111111,
              "#46039f"
             ],
             [
              0.2222222222222222,
              "#7201a8"
             ],
             [
              0.3333333333333333,
              "#9c179e"
             ],
             [
              0.4444444444444444,
              "#bd3786"
             ],
             [
              0.5555555555555556,
              "#d8576b"
             ],
             [
              0.6666666666666666,
              "#ed7953"
             ],
             [
              0.7777777777777778,
              "#fb9f3a"
             ],
             [
              0.8888888888888888,
              "#fdca26"
             ],
             [
              1,
              "#f0f921"
             ]
            ],
            "type": "heatmapgl"
           }
          ],
          "histogram": [
           {
            "marker": {
             "pattern": {
              "fillmode": "overlay",
              "size": 10,
              "solidity": 0.2
             }
            },
            "type": "histogram"
           }
          ],
          "histogram2d": [
           {
            "colorbar": {
             "outlinewidth": 0,
             "ticks": ""
            },
            "colorscale": [
             [
              0,
              "#0d0887"
             ],
             [
              0.1111111111111111,
              "#46039f"
             ],
             [
              0.2222222222222222,
              "#7201a8"
             ],
             [
              0.3333333333333333,
              "#9c179e"
             ],
             [
              0.4444444444444444,
              "#bd3786"
             ],
             [
              0.5555555555555556,
              "#d8576b"
             ],
             [
              0.6666666666666666,
              "#ed7953"
             ],
             [
              0.7777777777777778,
              "#fb9f3a"
             ],
             [
              0.8888888888888888,
              "#fdca26"
             ],
             [
              1,
              "#f0f921"
             ]
            ],
            "type": "histogram2d"
           }
          ],
          "histogram2dcontour": [
           {
            "colorbar": {
             "outlinewidth": 0,
             "ticks": ""
            },
            "colorscale": [
             [
              0,
              "#0d0887"
             ],
             [
              0.1111111111111111,
              "#46039f"
             ],
             [
              0.2222222222222222,
              "#7201a8"
             ],
             [
              0.3333333333333333,
              "#9c179e"
             ],
             [
              0.4444444444444444,
              "#bd3786"
             ],
             [
              0.5555555555555556,
              "#d8576b"
             ],
             [
              0.6666666666666666,
              "#ed7953"
             ],
             [
              0.7777777777777778,
              "#fb9f3a"
             ],
             [
              0.8888888888888888,
              "#fdca26"
             ],
             [
              1,
              "#f0f921"
             ]
            ],
            "type": "histogram2dcontour"
           }
          ],
          "mesh3d": [
           {
            "colorbar": {
             "outlinewidth": 0,
             "ticks": ""
            },
            "type": "mesh3d"
           }
          ],
          "parcoords": [
           {
            "line": {
             "colorbar": {
              "outlinewidth": 0,
              "ticks": ""
             }
            },
            "type": "parcoords"
           }
          ],
          "pie": [
           {
            "automargin": true,
            "type": "pie"
           }
          ],
          "scatter": [
           {
            "fillpattern": {
             "fillmode": "overlay",
             "size": 10,
             "solidity": 0.2
            },
            "type": "scatter"
           }
          ],
          "scatter3d": [
           {
            "line": {
             "colorbar": {
              "outlinewidth": 0,
              "ticks": ""
             }
            },
            "marker": {
             "colorbar": {
              "outlinewidth": 0,
              "ticks": ""
             }
            },
            "type": "scatter3d"
           }
          ],
          "scattercarpet": [
           {
            "marker": {
             "colorbar": {
              "outlinewidth": 0,
              "ticks": ""
             }
            },
            "type": "scattercarpet"
           }
          ],
          "scattergeo": [
           {
            "marker": {
             "colorbar": {
              "outlinewidth": 0,
              "ticks": ""
             }
            },
            "type": "scattergeo"
           }
          ],
          "scattergl": [
           {
            "marker": {
             "colorbar": {
              "outlinewidth": 0,
              "ticks": ""
             }
            },
            "type": "scattergl"
           }
          ],
          "scattermapbox": [
           {
            "marker": {
             "colorbar": {
              "outlinewidth": 0,
              "ticks": ""
             }
            },
            "type": "scattermapbox"
           }
          ],
          "scatterpolar": [
           {
            "marker": {
             "colorbar": {
              "outlinewidth": 0,
              "ticks": ""
             }
            },
            "type": "scatterpolar"
           }
          ],
          "scatterpolargl": [
           {
            "marker": {
             "colorbar": {
              "outlinewidth": 0,
              "ticks": ""
             }
            },
            "type": "scatterpolargl"
           }
          ],
          "scatterternary": [
           {
            "marker": {
             "colorbar": {
              "outlinewidth": 0,
              "ticks": ""
             }
            },
            "type": "scatterternary"
           }
          ],
          "surface": [
           {
            "colorbar": {
             "outlinewidth": 0,
             "ticks": ""
            },
            "colorscale": [
             [
              0,
              "#0d0887"
             ],
             [
              0.1111111111111111,
              "#46039f"
             ],
             [
              0.2222222222222222,
              "#7201a8"
             ],
             [
              0.3333333333333333,
              "#9c179e"
             ],
             [
              0.4444444444444444,
              "#bd3786"
             ],
             [
              0.5555555555555556,
              "#d8576b"
             ],
             [
              0.6666666666666666,
              "#ed7953"
             ],
             [
              0.7777777777777778,
              "#fb9f3a"
             ],
             [
              0.8888888888888888,
              "#fdca26"
             ],
             [
              1,
              "#f0f921"
             ]
            ],
            "type": "surface"
           }
          ],
          "table": [
           {
            "cells": {
             "fill": {
              "color": "#EBF0F8"
             },
             "line": {
              "color": "white"
             }
            },
            "header": {
             "fill": {
              "color": "#C8D4E3"
             },
             "line": {
              "color": "white"
             }
            },
            "type": "table"
           }
          ]
         },
         "layout": {
          "annotationdefaults": {
           "arrowcolor": "#2a3f5f",
           "arrowhead": 0,
           "arrowwidth": 1
          },
          "autotypenumbers": "strict",
          "coloraxis": {
           "colorbar": {
            "outlinewidth": 0,
            "ticks": ""
           }
          },
          "colorscale": {
           "diverging": [
            [
             0,
             "#8e0152"
            ],
            [
             0.1,
             "#c51b7d"
            ],
            [
             0.2,
             "#de77ae"
            ],
            [
             0.3,
             "#f1b6da"
            ],
            [
             0.4,
             "#fde0ef"
            ],
            [
             0.5,
             "#f7f7f7"
            ],
            [
             0.6,
             "#e6f5d0"
            ],
            [
             0.7,
             "#b8e186"
            ],
            [
             0.8,
             "#7fbc41"
            ],
            [
             0.9,
             "#4d9221"
            ],
            [
             1,
             "#276419"
            ]
           ],
           "sequential": [
            [
             0,
             "#0d0887"
            ],
            [
             0.1111111111111111,
             "#46039f"
            ],
            [
             0.2222222222222222,
             "#7201a8"
            ],
            [
             0.3333333333333333,
             "#9c179e"
            ],
            [
             0.4444444444444444,
             "#bd3786"
            ],
            [
             0.5555555555555556,
             "#d8576b"
            ],
            [
             0.6666666666666666,
             "#ed7953"
            ],
            [
             0.7777777777777778,
             "#fb9f3a"
            ],
            [
             0.8888888888888888,
             "#fdca26"
            ],
            [
             1,
             "#f0f921"
            ]
           ],
           "sequentialminus": [
            [
             0,
             "#0d0887"
            ],
            [
             0.1111111111111111,
             "#46039f"
            ],
            [
             0.2222222222222222,
             "#7201a8"
            ],
            [
             0.3333333333333333,
             "#9c179e"
            ],
            [
             0.4444444444444444,
             "#bd3786"
            ],
            [
             0.5555555555555556,
             "#d8576b"
            ],
            [
             0.6666666666666666,
             "#ed7953"
            ],
            [
             0.7777777777777778,
             "#fb9f3a"
            ],
            [
             0.8888888888888888,
             "#fdca26"
            ],
            [
             1,
             "#f0f921"
            ]
           ]
          },
          "colorway": [
           "#636efa",
           "#EF553B",
           "#00cc96",
           "#ab63fa",
           "#FFA15A",
           "#19d3f3",
           "#FF6692",
           "#B6E880",
           "#FF97FF",
           "#FECB52"
          ],
          "font": {
           "color": "#2a3f5f"
          },
          "geo": {
           "bgcolor": "white",
           "lakecolor": "white",
           "landcolor": "#E5ECF6",
           "showlakes": true,
           "showland": true,
           "subunitcolor": "white"
          },
          "hoverlabel": {
           "align": "left"
          },
          "hovermode": "closest",
          "mapbox": {
           "style": "light"
          },
          "paper_bgcolor": "white",
          "plot_bgcolor": "#E5ECF6",
          "polar": {
           "angularaxis": {
            "gridcolor": "white",
            "linecolor": "white",
            "ticks": ""
           },
           "bgcolor": "#E5ECF6",
           "radialaxis": {
            "gridcolor": "white",
            "linecolor": "white",
            "ticks": ""
           }
          },
          "scene": {
           "xaxis": {
            "backgroundcolor": "#E5ECF6",
            "gridcolor": "white",
            "gridwidth": 2,
            "linecolor": "white",
            "showbackground": true,
            "ticks": "",
            "zerolinecolor": "white"
           },
           "yaxis": {
            "backgroundcolor": "#E5ECF6",
            "gridcolor": "white",
            "gridwidth": 2,
            "linecolor": "white",
            "showbackground": true,
            "ticks": "",
            "zerolinecolor": "white"
           },
           "zaxis": {
            "backgroundcolor": "#E5ECF6",
            "gridcolor": "white",
            "gridwidth": 2,
            "linecolor": "white",
            "showbackground": true,
            "ticks": "",
            "zerolinecolor": "white"
           }
          },
          "shapedefaults": {
           "line": {
            "color": "#2a3f5f"
           }
          },
          "ternary": {
           "aaxis": {
            "gridcolor": "white",
            "linecolor": "white",
            "ticks": ""
           },
           "baxis": {
            "gridcolor": "white",
            "linecolor": "white",
            "ticks": ""
           },
           "bgcolor": "#E5ECF6",
           "caxis": {
            "gridcolor": "white",
            "linecolor": "white",
            "ticks": ""
           }
          },
          "title": {
           "x": 0.05
          },
          "xaxis": {
           "automargin": true,
           "gridcolor": "white",
           "linecolor": "white",
           "ticks": "",
           "title": {
            "standoff": 15
           },
           "zerolinecolor": "white",
           "zerolinewidth": 2
          },
          "yaxis": {
           "automargin": true,
           "gridcolor": "white",
           "linecolor": "white",
           "ticks": "",
           "title": {
            "standoff": 15
           },
           "zerolinecolor": "white",
           "zerolinewidth": 2
          }
         }
        },
        "title": {
         "text": "Life Expectancy By Continet"
        },
        "width": 1000,
        "xaxis": {
         "anchor": "y",
         "domain": [
          0,
          0.45
         ],
         "matches": "x5",
         "showticklabels": false
        },
        "xaxis2": {
         "anchor": "y2",
         "domain": [
          0.55,
          1
         ],
         "matches": "x6",
         "showticklabels": false
        },
        "xaxis3": {
         "anchor": "y3",
         "domain": [
          0,
          0.45
         ],
         "matches": "x5",
         "showticklabels": false
        },
        "xaxis4": {
         "anchor": "y4",
         "domain": [
          0.55,
          1
         ],
         "matches": "x6",
         "showticklabels": false
        },
        "xaxis5": {
         "anchor": "y5",
         "domain": [
          0,
          0.45
         ]
        },
        "xaxis6": {
         "anchor": "y6",
         "domain": [
          0.55,
          1
         ]
        },
        "yaxis": {
         "anchor": "x",
         "domain": [
          0.7777777777777778,
          1
         ]
        },
        "yaxis2": {
         "anchor": "x2",
         "domain": [
          0.7777777777777778,
          1
         ],
         "matches": "y",
         "showticklabels": false
        },
        "yaxis3": {
         "anchor": "x3",
         "domain": [
          0.3888888888888889,
          0.6111111111111112
         ]
        },
        "yaxis4": {
         "anchor": "x4",
         "domain": [
          0.3888888888888889,
          0.6111111111111112
         ],
         "matches": "y3",
         "showticklabels": false
        },
        "yaxis5": {
         "anchor": "x5",
         "domain": [
          0,
          0.22222222222222224
         ]
        },
        "yaxis6": {
         "anchor": "x6",
         "domain": [
          0,
          0.22222222222222224
         ],
         "matches": "y5",
         "showticklabels": false
        }
       }
      }
     },
     "metadata": {},
     "output_type": "display_data"
    }
   ],
   "source": [
    "\n",
    "#info on how to construct these histograms here \n",
    "#https://plotly.com/python/histograms/\n",
    "#https://plotly.com/python/subplots/\n",
    "\n",
    "fig = go.Figure()\n",
    "\n",
    "\n",
    "from plotly.subplots import make_subplots\n",
    "\n",
    "\n",
    "fig = make_subplots(rows=3, cols=2, shared_xaxes=True, shared_yaxes=True,\n",
    "    subplot_titles=(\"Europe\", \"Africa\", \"Asia\", \"Americas\", \"Oceania\"))\n",
    "\n",
    "start_bin = 0\n",
    "end_bin = 90\n",
    "bin_size = 5 \n",
    "variable = \"gdpPercap\"\n",
    "\n",
    "trace0 = go.Histogram(x=df[df.continent == 'Europe'][variable], \n",
    "                histnorm='percent', \n",
    "                name=\"Europe\",\n",
    "                #xbins=dict(start=start_bin, end=end_bin, size=bin_size)\n",
    "                )\n",
    "              \n",
    "trace1 = go.Histogram(x=df[df.continent == 'Africa'][variable], \n",
    "                histnorm='percent', \n",
    "                name=\"Africa\",\n",
    "                #xbins=dict(start=start_bin, end=end_bin, size=bin_size)\n",
    "                )\n",
    "              \n",
    "\n",
    "trace2 = go.Histogram(x=df[df.continent == 'Asia'][variable], \n",
    "                histnorm='percent', \n",
    "                name=\"Asia\",\n",
    "                #xbins=dict(start=start_bin, end=end_bin, size=bin_size)\n",
    "                )\n",
    "              \n",
    "trace3 = go.Histogram(x=df[df.continent == 'Americas'][variable], \n",
    "                histnorm='percent', \n",
    "                name=\"Americas\",\n",
    "                #xbins=dict(start=start_bin, end=end_bin, size=bin_size)\n",
    "                )\n",
    "              \n",
    "\n",
    "trace4 = go.Histogram(x=df[df.continent == 'Oceania'][variable], \n",
    "                histnorm='percent', \n",
    "                name=\"Oceania\",\n",
    "                #xbins=dict(start=start_bin, end=end_bin, size=bin_size)\n",
    "                )\n",
    "              \n",
    "\n",
    "fig.append_trace(trace0, 1, 1)\n",
    "fig.append_trace(trace1, 1, 2)\n",
    "fig.append_trace(trace2, 2, 1)\n",
    "fig.append_trace(trace3, 2, 2)\n",
    "fig.append_trace(trace4, 3, 1)\n",
    "\n",
    "# fig.update_yaxes(title_text=\"Percent\", range=[0, 50], row=1, col=1)\n",
    "# fig.update_yaxes(title_text=\"Percent\", range=[0, 50], row=2, col=1)\n",
    "# fig.update_yaxes(title_text=\"Percent\", range=[0, 50], row=3, col=1)\n",
    "\n",
    "fig.update_layout(bargap=0.05)\n",
    "\n",
    "fig.update_layout(height=600, width=1000, title_text=\"Life Expectancy By Continet\")\n",
    "fig.update_layout(showlegend=False)\n",
    "\n",
    "fig.show()"
   ]
  },
  {
   "attachments": {},
   "cell_type": "markdown",
   "metadata": {},
   "source": [
    "Let's visualize the trajectories of some countries. "
   ]
  },
  {
   "cell_type": "code",
   "execution_count": 64,
   "metadata": {},
   "outputs": [],
   "source": [
    "tmp = df.query(\"country in ['Norway',   'China', 'Saudi Arabia']\")"
   ]
  },
  {
   "attachments": {},
   "cell_type": "markdown",
   "metadata": {},
   "source": [
    "One should improve the chart below by providing better labels and titles"
   ]
  },
  {
   "cell_type": "code",
   "execution_count": 66,
   "metadata": {},
   "outputs": [
    {
     "data": {
      "application/vnd.plotly.v1+json": {
       "config": {
        "plotlyServerURL": "https://plot.ly"
       },
       "data": [
        {
         "hovertemplate": "country=China<br>gdpPercap=%{x}<br>lifeExp=%{y}<br>year=%{text}<extra></extra>",
         "legendgroup": "China",
         "line": {
          "color": "#636efa",
          "dash": "solid"
         },
         "marker": {
          "symbol": "circle"
         },
         "mode": "lines+markers+text",
         "name": "China",
         "orientation": "v",
         "showlegend": true,
         "text": [
          1952,
          1957,
          1962,
          1967,
          1972,
          1977,
          1982,
          1987,
          1992,
          1997,
          2002,
          2007
         ],
         "textposition": "bottom right",
         "type": "scatter",
         "x": [
          400.448611,
          575.9870009,
          487.6740183,
          612.7056934,
          676.9000921,
          741.2374699,
          962.4213805,
          1378.904018,
          1655.784158,
          2289.234136,
          3119.280896,
          4959.114854
         ],
         "xaxis": "x",
         "y": [
          44,
          50.54896,
          44.50136,
          58.38112,
          63.11888,
          63.96736,
          65.525,
          67.274,
          68.69,
          70.426,
          72.028,
          72.961
         ],
         "yaxis": "y"
        },
        {
         "hovertemplate": "country=Norway<br>gdpPercap=%{x}<br>lifeExp=%{y}<br>year=%{text}<extra></extra>",
         "legendgroup": "Norway",
         "line": {
          "color": "#EF553B",
          "dash": "solid"
         },
         "marker": {
          "symbol": "circle"
         },
         "mode": "lines+markers+text",
         "name": "Norway",
         "orientation": "v",
         "showlegend": true,
         "text": [
          1952,
          1957,
          1962,
          1967,
          1972,
          1977,
          1982,
          1987,
          1992,
          1997,
          2002,
          2007
         ],
         "textposition": "bottom right",
         "type": "scatter",
         "x": [
          10095.42172,
          11653.97304,
          13450.40151,
          16361.87647,
          18965.05551,
          23311.34939,
          26298.63531,
          31540.9748,
          33965.66115,
          41283.16433,
          44683.97525,
          49357.19017
         ],
         "xaxis": "x",
         "y": [
          72.67,
          73.44,
          73.47,
          74.08,
          74.34,
          75.37,
          75.97,
          75.89,
          77.32,
          78.32,
          79.05,
          80.196
         ],
         "yaxis": "y"
        },
        {
         "hovertemplate": "country=Saudi Arabia<br>gdpPercap=%{x}<br>lifeExp=%{y}<br>year=%{text}<extra></extra>",
         "legendgroup": "Saudi Arabia",
         "line": {
          "color": "#00cc96",
          "dash": "solid"
         },
         "marker": {
          "symbol": "circle"
         },
         "mode": "lines+markers+text",
         "name": "Saudi Arabia",
         "orientation": "v",
         "showlegend": true,
         "text": [
          1952,
          1957,
          1962,
          1967,
          1972,
          1977,
          1982,
          1987,
          1992,
          1997,
          2002,
          2007
         ],
         "textposition": "bottom right",
         "type": "scatter",
         "x": [
          6459.554823,
          8157.591248,
          11626.41975,
          16903.04886,
          24837.42865,
          34167.7626,
          33693.17525,
          21198.26136,
          24841.61777,
          20586.69019,
          19014.54118,
          21654.83194
         ],
         "xaxis": "x",
         "y": [
          39.875,
          42.868,
          45.914,
          49.901,
          53.886,
          58.69,
          63.012,
          66.295,
          68.768,
          70.533,
          71.626,
          72.777
         ],
         "yaxis": "y"
        }
       ],
       "layout": {
        "height": 600,
        "legend": {
         "title": {
          "text": "country"
         },
         "tracegroupgap": 0
        },
        "margin": {
         "t": 60
        },
        "template": {
         "data": {
          "bar": [
           {
            "error_x": {
             "color": "#2a3f5f"
            },
            "error_y": {
             "color": "#2a3f5f"
            },
            "marker": {
             "line": {
              "color": "#E5ECF6",
              "width": 0.5
             },
             "pattern": {
              "fillmode": "overlay",
              "size": 10,
              "solidity": 0.2
             }
            },
            "type": "bar"
           }
          ],
          "barpolar": [
           {
            "marker": {
             "line": {
              "color": "#E5ECF6",
              "width": 0.5
             },
             "pattern": {
              "fillmode": "overlay",
              "size": 10,
              "solidity": 0.2
             }
            },
            "type": "barpolar"
           }
          ],
          "carpet": [
           {
            "aaxis": {
             "endlinecolor": "#2a3f5f",
             "gridcolor": "white",
             "linecolor": "white",
             "minorgridcolor": "white",
             "startlinecolor": "#2a3f5f"
            },
            "baxis": {
             "endlinecolor": "#2a3f5f",
             "gridcolor": "white",
             "linecolor": "white",
             "minorgridcolor": "white",
             "startlinecolor": "#2a3f5f"
            },
            "type": "carpet"
           }
          ],
          "choropleth": [
           {
            "colorbar": {
             "outlinewidth": 0,
             "ticks": ""
            },
            "type": "choropleth"
           }
          ],
          "contour": [
           {
            "colorbar": {
             "outlinewidth": 0,
             "ticks": ""
            },
            "colorscale": [
             [
              0,
              "#0d0887"
             ],
             [
              0.1111111111111111,
              "#46039f"
             ],
             [
              0.2222222222222222,
              "#7201a8"
             ],
             [
              0.3333333333333333,
              "#9c179e"
             ],
             [
              0.4444444444444444,
              "#bd3786"
             ],
             [
              0.5555555555555556,
              "#d8576b"
             ],
             [
              0.6666666666666666,
              "#ed7953"
             ],
             [
              0.7777777777777778,
              "#fb9f3a"
             ],
             [
              0.8888888888888888,
              "#fdca26"
             ],
             [
              1,
              "#f0f921"
             ]
            ],
            "type": "contour"
           }
          ],
          "contourcarpet": [
           {
            "colorbar": {
             "outlinewidth": 0,
             "ticks": ""
            },
            "type": "contourcarpet"
           }
          ],
          "heatmap": [
           {
            "colorbar": {
             "outlinewidth": 0,
             "ticks": ""
            },
            "colorscale": [
             [
              0,
              "#0d0887"
             ],
             [
              0.1111111111111111,
              "#46039f"
             ],
             [
              0.2222222222222222,
              "#7201a8"
             ],
             [
              0.3333333333333333,
              "#9c179e"
             ],
             [
              0.4444444444444444,
              "#bd3786"
             ],
             [
              0.5555555555555556,
              "#d8576b"
             ],
             [
              0.6666666666666666,
              "#ed7953"
             ],
             [
              0.7777777777777778,
              "#fb9f3a"
             ],
             [
              0.8888888888888888,
              "#fdca26"
             ],
             [
              1,
              "#f0f921"
             ]
            ],
            "type": "heatmap"
           }
          ],
          "heatmapgl": [
           {
            "colorbar": {
             "outlinewidth": 0,
             "ticks": ""
            },
            "colorscale": [
             [
              0,
              "#0d0887"
             ],
             [
              0.1111111111111111,
              "#46039f"
             ],
             [
              0.2222222222222222,
              "#7201a8"
             ],
             [
              0.3333333333333333,
              "#9c179e"
             ],
             [
              0.4444444444444444,
              "#bd3786"
             ],
             [
              0.5555555555555556,
              "#d8576b"
             ],
             [
              0.6666666666666666,
              "#ed7953"
             ],
             [
              0.7777777777777778,
              "#fb9f3a"
             ],
             [
              0.8888888888888888,
              "#fdca26"
             ],
             [
              1,
              "#f0f921"
             ]
            ],
            "type": "heatmapgl"
           }
          ],
          "histogram": [
           {
            "marker": {
             "pattern": {
              "fillmode": "overlay",
              "size": 10,
              "solidity": 0.2
             }
            },
            "type": "histogram"
           }
          ],
          "histogram2d": [
           {
            "colorbar": {
             "outlinewidth": 0,
             "ticks": ""
            },
            "colorscale": [
             [
              0,
              "#0d0887"
             ],
             [
              0.1111111111111111,
              "#46039f"
             ],
             [
              0.2222222222222222,
              "#7201a8"
             ],
             [
              0.3333333333333333,
              "#9c179e"
             ],
             [
              0.4444444444444444,
              "#bd3786"
             ],
             [
              0.5555555555555556,
              "#d8576b"
             ],
             [
              0.6666666666666666,
              "#ed7953"
             ],
             [
              0.7777777777777778,
              "#fb9f3a"
             ],
             [
              0.8888888888888888,
              "#fdca26"
             ],
             [
              1,
              "#f0f921"
             ]
            ],
            "type": "histogram2d"
           }
          ],
          "histogram2dcontour": [
           {
            "colorbar": {
             "outlinewidth": 0,
             "ticks": ""
            },
            "colorscale": [
             [
              0,
              "#0d0887"
             ],
             [
              0.1111111111111111,
              "#46039f"
             ],
             [
              0.2222222222222222,
              "#7201a8"
             ],
             [
              0.3333333333333333,
              "#9c179e"
             ],
             [
              0.4444444444444444,
              "#bd3786"
             ],
             [
              0.5555555555555556,
              "#d8576b"
             ],
             [
              0.6666666666666666,
              "#ed7953"
             ],
             [
              0.7777777777777778,
              "#fb9f3a"
             ],
             [
              0.8888888888888888,
              "#fdca26"
             ],
             [
              1,
              "#f0f921"
             ]
            ],
            "type": "histogram2dcontour"
           }
          ],
          "mesh3d": [
           {
            "colorbar": {
             "outlinewidth": 0,
             "ticks": ""
            },
            "type": "mesh3d"
           }
          ],
          "parcoords": [
           {
            "line": {
             "colorbar": {
              "outlinewidth": 0,
              "ticks": ""
             }
            },
            "type": "parcoords"
           }
          ],
          "pie": [
           {
            "automargin": true,
            "type": "pie"
           }
          ],
          "scatter": [
           {
            "fillpattern": {
             "fillmode": "overlay",
             "size": 10,
             "solidity": 0.2
            },
            "type": "scatter"
           }
          ],
          "scatter3d": [
           {
            "line": {
             "colorbar": {
              "outlinewidth": 0,
              "ticks": ""
             }
            },
            "marker": {
             "colorbar": {
              "outlinewidth": 0,
              "ticks": ""
             }
            },
            "type": "scatter3d"
           }
          ],
          "scattercarpet": [
           {
            "marker": {
             "colorbar": {
              "outlinewidth": 0,
              "ticks": ""
             }
            },
            "type": "scattercarpet"
           }
          ],
          "scattergeo": [
           {
            "marker": {
             "colorbar": {
              "outlinewidth": 0,
              "ticks": ""
             }
            },
            "type": "scattergeo"
           }
          ],
          "scattergl": [
           {
            "marker": {
             "colorbar": {
              "outlinewidth": 0,
              "ticks": ""
             }
            },
            "type": "scattergl"
           }
          ],
          "scattermapbox": [
           {
            "marker": {
             "colorbar": {
              "outlinewidth": 0,
              "ticks": ""
             }
            },
            "type": "scattermapbox"
           }
          ],
          "scatterpolar": [
           {
            "marker": {
             "colorbar": {
              "outlinewidth": 0,
              "ticks": ""
             }
            },
            "type": "scatterpolar"
           }
          ],
          "scatterpolargl": [
           {
            "marker": {
             "colorbar": {
              "outlinewidth": 0,
              "ticks": ""
             }
            },
            "type": "scatterpolargl"
           }
          ],
          "scatterternary": [
           {
            "marker": {
             "colorbar": {
              "outlinewidth": 0,
              "ticks": ""
             }
            },
            "type": "scatterternary"
           }
          ],
          "surface": [
           {
            "colorbar": {
             "outlinewidth": 0,
             "ticks": ""
            },
            "colorscale": [
             [
              0,
              "#0d0887"
             ],
             [
              0.1111111111111111,
              "#46039f"
             ],
             [
              0.2222222222222222,
              "#7201a8"
             ],
             [
              0.3333333333333333,
              "#9c179e"
             ],
             [
              0.4444444444444444,
              "#bd3786"
             ],
             [
              0.5555555555555556,
              "#d8576b"
             ],
             [
              0.6666666666666666,
              "#ed7953"
             ],
             [
              0.7777777777777778,
              "#fb9f3a"
             ],
             [
              0.8888888888888888,
              "#fdca26"
             ],
             [
              1,
              "#f0f921"
             ]
            ],
            "type": "surface"
           }
          ],
          "table": [
           {
            "cells": {
             "fill": {
              "color": "#EBF0F8"
             },
             "line": {
              "color": "white"
             }
            },
            "header": {
             "fill": {
              "color": "#C8D4E3"
             },
             "line": {
              "color": "white"
             }
            },
            "type": "table"
           }
          ]
         },
         "layout": {
          "annotationdefaults": {
           "arrowcolor": "#2a3f5f",
           "arrowhead": 0,
           "arrowwidth": 1
          },
          "autotypenumbers": "strict",
          "coloraxis": {
           "colorbar": {
            "outlinewidth": 0,
            "ticks": ""
           }
          },
          "colorscale": {
           "diverging": [
            [
             0,
             "#8e0152"
            ],
            [
             0.1,
             "#c51b7d"
            ],
            [
             0.2,
             "#de77ae"
            ],
            [
             0.3,
             "#f1b6da"
            ],
            [
             0.4,
             "#fde0ef"
            ],
            [
             0.5,
             "#f7f7f7"
            ],
            [
             0.6,
             "#e6f5d0"
            ],
            [
             0.7,
             "#b8e186"
            ],
            [
             0.8,
             "#7fbc41"
            ],
            [
             0.9,
             "#4d9221"
            ],
            [
             1,
             "#276419"
            ]
           ],
           "sequential": [
            [
             0,
             "#0d0887"
            ],
            [
             0.1111111111111111,
             "#46039f"
            ],
            [
             0.2222222222222222,
             "#7201a8"
            ],
            [
             0.3333333333333333,
             "#9c179e"
            ],
            [
             0.4444444444444444,
             "#bd3786"
            ],
            [
             0.5555555555555556,
             "#d8576b"
            ],
            [
             0.6666666666666666,
             "#ed7953"
            ],
            [
             0.7777777777777778,
             "#fb9f3a"
            ],
            [
             0.8888888888888888,
             "#fdca26"
            ],
            [
             1,
             "#f0f921"
            ]
           ],
           "sequentialminus": [
            [
             0,
             "#0d0887"
            ],
            [
             0.1111111111111111,
             "#46039f"
            ],
            [
             0.2222222222222222,
             "#7201a8"
            ],
            [
             0.3333333333333333,
             "#9c179e"
            ],
            [
             0.4444444444444444,
             "#bd3786"
            ],
            [
             0.5555555555555556,
             "#d8576b"
            ],
            [
             0.6666666666666666,
             "#ed7953"
            ],
            [
             0.7777777777777778,
             "#fb9f3a"
            ],
            [
             0.8888888888888888,
             "#fdca26"
            ],
            [
             1,
             "#f0f921"
            ]
           ]
          },
          "colorway": [
           "#636efa",
           "#EF553B",
           "#00cc96",
           "#ab63fa",
           "#FFA15A",
           "#19d3f3",
           "#FF6692",
           "#B6E880",
           "#FF97FF",
           "#FECB52"
          ],
          "font": {
           "color": "#2a3f5f"
          },
          "geo": {
           "bgcolor": "white",
           "lakecolor": "white",
           "landcolor": "#E5ECF6",
           "showlakes": true,
           "showland": true,
           "subunitcolor": "white"
          },
          "hoverlabel": {
           "align": "left"
          },
          "hovermode": "closest",
          "mapbox": {
           "style": "light"
          },
          "paper_bgcolor": "white",
          "plot_bgcolor": "#E5ECF6",
          "polar": {
           "angularaxis": {
            "gridcolor": "white",
            "linecolor": "white",
            "ticks": ""
           },
           "bgcolor": "#E5ECF6",
           "radialaxis": {
            "gridcolor": "white",
            "linecolor": "white",
            "ticks": ""
           }
          },
          "scene": {
           "xaxis": {
            "backgroundcolor": "#E5ECF6",
            "gridcolor": "white",
            "gridwidth": 2,
            "linecolor": "white",
            "showbackground": true,
            "ticks": "",
            "zerolinecolor": "white"
           },
           "yaxis": {
            "backgroundcolor": "#E5ECF6",
            "gridcolor": "white",
            "gridwidth": 2,
            "linecolor": "white",
            "showbackground": true,
            "ticks": "",
            "zerolinecolor": "white"
           },
           "zaxis": {
            "backgroundcolor": "#E5ECF6",
            "gridcolor": "white",
            "gridwidth": 2,
            "linecolor": "white",
            "showbackground": true,
            "ticks": "",
            "zerolinecolor": "white"
           }
          },
          "shapedefaults": {
           "line": {
            "color": "#2a3f5f"
           }
          },
          "ternary": {
           "aaxis": {
            "gridcolor": "white",
            "linecolor": "white",
            "ticks": ""
           },
           "baxis": {
            "gridcolor": "white",
            "linecolor": "white",
            "ticks": ""
           },
           "bgcolor": "#E5ECF6",
           "caxis": {
            "gridcolor": "white",
            "linecolor": "white",
            "ticks": ""
           }
          },
          "title": {
           "x": 0.05
          },
          "xaxis": {
           "automargin": true,
           "gridcolor": "white",
           "linecolor": "white",
           "ticks": "",
           "title": {
            "standoff": 15
           },
           "zerolinecolor": "white",
           "zerolinewidth": 2
          },
          "yaxis": {
           "automargin": true,
           "gridcolor": "white",
           "linecolor": "white",
           "ticks": "",
           "title": {
            "standoff": 15
           },
           "zerolinecolor": "white",
           "zerolinewidth": 2
          }
         }
        },
        "title": {
         "text": "Trajectories of Selected Countries"
        },
        "width": 1000,
        "xaxis": {
         "anchor": "y",
         "domain": [
          0,
          1
         ],
         "title": {
          "text": "gdpPercap"
         },
         "type": "log"
        },
        "yaxis": {
         "anchor": "x",
         "domain": [
          0,
          1
         ],
         "title": {
          "text": "lifeExp"
         }
        }
       }
      }
     },
     "metadata": {},
     "output_type": "display_data"
    }
   ],
   "source": [
    "# visuals constructed based on info \n",
    "# https://plotly.com/python/line-and-scatter/\n",
    "# https://plotly.com/python/marker-style/ \n",
    "\n",
    "tmp = df.query(\"country in ['Norway',   'China', 'Saudi Arabia']\")\n",
    "\n",
    "fig = px.line(tmp, x=\"gdpPercap\", y=\"lifeExp\", \n",
    "              color=\"country\", \n",
    "              log_x=True, \n",
    "              text=\"year\",\n",
    "              )\n",
    "\n",
    "fig.update_traces(textposition=\"bottom right\")\n",
    "fig.update_layout(height=600, width=1000, title_text=\"Trajectories of Selected Countries\")\n",
    "fig.show()"
   ]
  },
  {
   "attachments": {},
   "cell_type": "markdown",
   "metadata": {},
   "source": [
    "I am calculating below the average life expectancy and GDP per capita for all five continents and visualize those trajectories"
   ]
  },
  {
   "cell_type": "code",
   "execution_count": 16,
   "metadata": {},
   "outputs": [
    {
     "data": {
      "application/vnd.plotly.v1+json": {
       "config": {
        "plotlyServerURL": "https://plot.ly"
       },
       "data": [
        {
         "hovertemplate": "continent=Africa<br>gdpPercap=%{x}<br>lifeExp=%{y}<extra></extra>",
         "legendgroup": "Africa",
         "line": {
          "color": "#636efa",
          "dash": "solid"
         },
         "marker": {
          "symbol": "circle"
         },
         "mode": "lines",
         "name": "Africa",
         "orientation": "v",
         "showlegend": true,
         "textposition": "bottom right",
         "type": "scatter",
         "x": [
          1252.5724658211539,
          1385.2360622557692,
          1598.0788248461538,
          2050.3638008576922,
          2339.615674198077,
          2585.9385084634614,
          2481.592959753846,
          2282.6689912596153,
          2281.8103332442306,
          2378.759555101923,
          2599.385158890385,
          3089.0326047365384
         ],
         "xaxis": "x",
         "y": [
          39.1355,
          41.26634615384615,
          43.319442307692306,
          45.334538461538465,
          47.45094230769231,
          49.580423076923076,
          51.592865384615386,
          53.344788461538464,
          53.62957692307692,
          53.59826923076923,
          53.325230769230764,
          54.80603846153846
         ],
         "yaxis": "y"
        },
        {
         "hovertemplate": "continent=Americas<br>gdpPercap=%{x}<br>lifeExp=%{y}<extra></extra>",
         "legendgroup": "Americas",
         "line": {
          "color": "#EF553B",
          "dash": "solid"
         },
         "marker": {
          "symbol": "circle"
         },
         "mode": "lines",
         "name": "Americas",
         "orientation": "v",
         "showlegend": true,
         "textposition": "bottom right",
         "type": "scatter",
         "x": [
          4079.0625522,
          4616.04373316,
          4901.5418704,
          5668.25349604,
          6491.334139039999,
          7352.007126280001,
          7506.73708808,
          7793.40026112,
          8044.93440552,
          8889.30086256,
          9287.67710732,
          11003.03162536
         ],
         "xaxis": "x",
         "y": [
          53.27984000000001,
          55.960280000000004,
          58.39876,
          60.41092,
          62.39492,
          64.39156,
          66.22884,
          68.09072,
          69.56836,
          71.15048,
          72.42204,
          73.60812
         ],
         "yaxis": "y"
        },
        {
         "hovertemplate": "continent=Asia<br>gdpPercap=%{x}<br>lifeExp=%{y}<extra></extra>",
         "legendgroup": "Asia",
         "line": {
          "color": "#00cc96",
          "dash": "solid"
         },
         "marker": {
          "symbol": "circle"
         },
         "mode": "lines",
         "name": "Asia",
         "orientation": "v",
         "showlegend": true,
         "textposition": "bottom right",
         "type": "scatter",
         "x": [
          1970.894351040625,
          2421.001691190625,
          2925.34643305,
          3629.80743965625,
          5026.20625255625,
          6182.746422428125,
          6686.63826459375,
          6967.282649221875,
          7818.026830784375,
          8882.014336975,
          9394.839919596876,
          11384.4655292
         ],
         "xaxis": "x",
         "y": [
          46.0253125,
          49.0462175,
          51.28488625,
          54.35237875,
          56.99449625,
          59.3064175,
          62.34634375,
          64.55984375,
          66.2668125,
          67.76628125,
          68.9941875,
          70.51412499999999
         ],
         "yaxis": "y"
        },
        {
         "hovertemplate": "continent=Europe<br>gdpPercap=%{x}<br>lifeExp=%{y}<extra></extra>",
         "legendgroup": "Europe",
         "line": {
          "color": "#ab63fa",
          "dash": "solid"
         },
         "marker": {
          "symbol": "circle"
         },
         "mode": "lines",
         "name": "Europe",
         "orientation": "v",
         "showlegend": true,
         "textposition": "bottom right",
         "type": "scatter",
         "x": [
          5661.05743476,
          6963.0128159333335,
          8365.4868143,
          10143.823756533333,
          12479.575246466668,
          14283.9791096,
          15617.896551233334,
          17214.310726633335,
          17061.5680842,
          19076.781801600002,
          21711.73242243333,
          25054.481635933334
         ],
         "xaxis": "x",
         "y": [
          64.4085,
          66.70306666666667,
          68.53923333333334,
          69.7376,
          70.77503333333334,
          71.93776666666666,
          72.8064,
          73.64216666666667,
          74.4401,
          75.50516666666667,
          76.7006,
          77.6486
         ],
         "yaxis": "y"
        },
        {
         "hovertemplate": "continent=Oceania<br>gdpPercap=%{x}<br>lifeExp=%{y}<extra></extra>",
         "legendgroup": "Oceania",
         "line": {
          "color": "#FFA15A",
          "dash": "solid"
         },
         "marker": {
          "symbol": "circle"
         },
         "mode": "lines",
         "name": "Oceania",
         "orientation": "v",
         "showlegend": true,
         "textposition": "bottom right",
         "type": "scatter",
         "x": [
          10298.08565,
          11598.522455,
          12696.452430000001,
          14495.021789999999,
          16417.33338,
          17283.957605,
          18554.70984,
          20448.040159999997,
          20894.045885,
          24024.175170000002,
          26938.77804,
          29810.188275
         ],
         "xaxis": "x",
         "y": [
          69.255,
          70.295,
          71.08500000000001,
          71.31,
          71.91,
          72.85499999999999,
          74.28999999999999,
          75.32,
          76.945,
          78.19,
          79.74000000000001,
          80.7195
         ],
         "yaxis": "y"
        }
       ],
       "layout": {
        "legend": {
         "title": {
          "text": "continent"
         },
         "tracegroupgap": 0
        },
        "margin": {
         "t": 60
        },
        "template": {
         "data": {
          "bar": [
           {
            "error_x": {
             "color": "#2a3f5f"
            },
            "error_y": {
             "color": "#2a3f5f"
            },
            "marker": {
             "line": {
              "color": "#E5ECF6",
              "width": 0.5
             },
             "pattern": {
              "fillmode": "overlay",
              "size": 10,
              "solidity": 0.2
             }
            },
            "type": "bar"
           }
          ],
          "barpolar": [
           {
            "marker": {
             "line": {
              "color": "#E5ECF6",
              "width": 0.5
             },
             "pattern": {
              "fillmode": "overlay",
              "size": 10,
              "solidity": 0.2
             }
            },
            "type": "barpolar"
           }
          ],
          "carpet": [
           {
            "aaxis": {
             "endlinecolor": "#2a3f5f",
             "gridcolor": "white",
             "linecolor": "white",
             "minorgridcolor": "white",
             "startlinecolor": "#2a3f5f"
            },
            "baxis": {
             "endlinecolor": "#2a3f5f",
             "gridcolor": "white",
             "linecolor": "white",
             "minorgridcolor": "white",
             "startlinecolor": "#2a3f5f"
            },
            "type": "carpet"
           }
          ],
          "choropleth": [
           {
            "colorbar": {
             "outlinewidth": 0,
             "ticks": ""
            },
            "type": "choropleth"
           }
          ],
          "contour": [
           {
            "colorbar": {
             "outlinewidth": 0,
             "ticks": ""
            },
            "colorscale": [
             [
              0,
              "#0d0887"
             ],
             [
              0.1111111111111111,
              "#46039f"
             ],
             [
              0.2222222222222222,
              "#7201a8"
             ],
             [
              0.3333333333333333,
              "#9c179e"
             ],
             [
              0.4444444444444444,
              "#bd3786"
             ],
             [
              0.5555555555555556,
              "#d8576b"
             ],
             [
              0.6666666666666666,
              "#ed7953"
             ],
             [
              0.7777777777777778,
              "#fb9f3a"
             ],
             [
              0.8888888888888888,
              "#fdca26"
             ],
             [
              1,
              "#f0f921"
             ]
            ],
            "type": "contour"
           }
          ],
          "contourcarpet": [
           {
            "colorbar": {
             "outlinewidth": 0,
             "ticks": ""
            },
            "type": "contourcarpet"
           }
          ],
          "heatmap": [
           {
            "colorbar": {
             "outlinewidth": 0,
             "ticks": ""
            },
            "colorscale": [
             [
              0,
              "#0d0887"
             ],
             [
              0.1111111111111111,
              "#46039f"
             ],
             [
              0.2222222222222222,
              "#7201a8"
             ],
             [
              0.3333333333333333,
              "#9c179e"
             ],
             [
              0.4444444444444444,
              "#bd3786"
             ],
             [
              0.5555555555555556,
              "#d8576b"
             ],
             [
              0.6666666666666666,
              "#ed7953"
             ],
             [
              0.7777777777777778,
              "#fb9f3a"
             ],
             [
              0.8888888888888888,
              "#fdca26"
             ],
             [
              1,
              "#f0f921"
             ]
            ],
            "type": "heatmap"
           }
          ],
          "heatmapgl": [
           {
            "colorbar": {
             "outlinewidth": 0,
             "ticks": ""
            },
            "colorscale": [
             [
              0,
              "#0d0887"
             ],
             [
              0.1111111111111111,
              "#46039f"
             ],
             [
              0.2222222222222222,
              "#7201a8"
             ],
             [
              0.3333333333333333,
              "#9c179e"
             ],
             [
              0.4444444444444444,
              "#bd3786"
             ],
             [
              0.5555555555555556,
              "#d8576b"
             ],
             [
              0.6666666666666666,
              "#ed7953"
             ],
             [
              0.7777777777777778,
              "#fb9f3a"
             ],
             [
              0.8888888888888888,
              "#fdca26"
             ],
             [
              1,
              "#f0f921"
             ]
            ],
            "type": "heatmapgl"
           }
          ],
          "histogram": [
           {
            "marker": {
             "pattern": {
              "fillmode": "overlay",
              "size": 10,
              "solidity": 0.2
             }
            },
            "type": "histogram"
           }
          ],
          "histogram2d": [
           {
            "colorbar": {
             "outlinewidth": 0,
             "ticks": ""
            },
            "colorscale": [
             [
              0,
              "#0d0887"
             ],
             [
              0.1111111111111111,
              "#46039f"
             ],
             [
              0.2222222222222222,
              "#7201a8"
             ],
             [
              0.3333333333333333,
              "#9c179e"
             ],
             [
              0.4444444444444444,
              "#bd3786"
             ],
             [
              0.5555555555555556,
              "#d8576b"
             ],
             [
              0.6666666666666666,
              "#ed7953"
             ],
             [
              0.7777777777777778,
              "#fb9f3a"
             ],
             [
              0.8888888888888888,
              "#fdca26"
             ],
             [
              1,
              "#f0f921"
             ]
            ],
            "type": "histogram2d"
           }
          ],
          "histogram2dcontour": [
           {
            "colorbar": {
             "outlinewidth": 0,
             "ticks": ""
            },
            "colorscale": [
             [
              0,
              "#0d0887"
             ],
             [
              0.1111111111111111,
              "#46039f"
             ],
             [
              0.2222222222222222,
              "#7201a8"
             ],
             [
              0.3333333333333333,
              "#9c179e"
             ],
             [
              0.4444444444444444,
              "#bd3786"
             ],
             [
              0.5555555555555556,
              "#d8576b"
             ],
             [
              0.6666666666666666,
              "#ed7953"
             ],
             [
              0.7777777777777778,
              "#fb9f3a"
             ],
             [
              0.8888888888888888,
              "#fdca26"
             ],
             [
              1,
              "#f0f921"
             ]
            ],
            "type": "histogram2dcontour"
           }
          ],
          "mesh3d": [
           {
            "colorbar": {
             "outlinewidth": 0,
             "ticks": ""
            },
            "type": "mesh3d"
           }
          ],
          "parcoords": [
           {
            "line": {
             "colorbar": {
              "outlinewidth": 0,
              "ticks": ""
             }
            },
            "type": "parcoords"
           }
          ],
          "pie": [
           {
            "automargin": true,
            "type": "pie"
           }
          ],
          "scatter": [
           {
            "fillpattern": {
             "fillmode": "overlay",
             "size": 10,
             "solidity": 0.2
            },
            "type": "scatter"
           }
          ],
          "scatter3d": [
           {
            "line": {
             "colorbar": {
              "outlinewidth": 0,
              "ticks": ""
             }
            },
            "marker": {
             "colorbar": {
              "outlinewidth": 0,
              "ticks": ""
             }
            },
            "type": "scatter3d"
           }
          ],
          "scattercarpet": [
           {
            "marker": {
             "colorbar": {
              "outlinewidth": 0,
              "ticks": ""
             }
            },
            "type": "scattercarpet"
           }
          ],
          "scattergeo": [
           {
            "marker": {
             "colorbar": {
              "outlinewidth": 0,
              "ticks": ""
             }
            },
            "type": "scattergeo"
           }
          ],
          "scattergl": [
           {
            "marker": {
             "colorbar": {
              "outlinewidth": 0,
              "ticks": ""
             }
            },
            "type": "scattergl"
           }
          ],
          "scattermapbox": [
           {
            "marker": {
             "colorbar": {
              "outlinewidth": 0,
              "ticks": ""
             }
            },
            "type": "scattermapbox"
           }
          ],
          "scatterpolar": [
           {
            "marker": {
             "colorbar": {
              "outlinewidth": 0,
              "ticks": ""
             }
            },
            "type": "scatterpolar"
           }
          ],
          "scatterpolargl": [
           {
            "marker": {
             "colorbar": {
              "outlinewidth": 0,
              "ticks": ""
             }
            },
            "type": "scatterpolargl"
           }
          ],
          "scatterternary": [
           {
            "marker": {
             "colorbar": {
              "outlinewidth": 0,
              "ticks": ""
             }
            },
            "type": "scatterternary"
           }
          ],
          "surface": [
           {
            "colorbar": {
             "outlinewidth": 0,
             "ticks": ""
            },
            "colorscale": [
             [
              0,
              "#0d0887"
             ],
             [
              0.1111111111111111,
              "#46039f"
             ],
             [
              0.2222222222222222,
              "#7201a8"
             ],
             [
              0.3333333333333333,
              "#9c179e"
             ],
             [
              0.4444444444444444,
              "#bd3786"
             ],
             [
              0.5555555555555556,
              "#d8576b"
             ],
             [
              0.6666666666666666,
              "#ed7953"
             ],
             [
              0.7777777777777778,
              "#fb9f3a"
             ],
             [
              0.8888888888888888,
              "#fdca26"
             ],
             [
              1,
              "#f0f921"
             ]
            ],
            "type": "surface"
           }
          ],
          "table": [
           {
            "cells": {
             "fill": {
              "color": "#EBF0F8"
             },
             "line": {
              "color": "white"
             }
            },
            "header": {
             "fill": {
              "color": "#C8D4E3"
             },
             "line": {
              "color": "white"
             }
            },
            "type": "table"
           }
          ]
         },
         "layout": {
          "annotationdefaults": {
           "arrowcolor": "#2a3f5f",
           "arrowhead": 0,
           "arrowwidth": 1
          },
          "autotypenumbers": "strict",
          "coloraxis": {
           "colorbar": {
            "outlinewidth": 0,
            "ticks": ""
           }
          },
          "colorscale": {
           "diverging": [
            [
             0,
             "#8e0152"
            ],
            [
             0.1,
             "#c51b7d"
            ],
            [
             0.2,
             "#de77ae"
            ],
            [
             0.3,
             "#f1b6da"
            ],
            [
             0.4,
             "#fde0ef"
            ],
            [
             0.5,
             "#f7f7f7"
            ],
            [
             0.6,
             "#e6f5d0"
            ],
            [
             0.7,
             "#b8e186"
            ],
            [
             0.8,
             "#7fbc41"
            ],
            [
             0.9,
             "#4d9221"
            ],
            [
             1,
             "#276419"
            ]
           ],
           "sequential": [
            [
             0,
             "#0d0887"
            ],
            [
             0.1111111111111111,
             "#46039f"
            ],
            [
             0.2222222222222222,
             "#7201a8"
            ],
            [
             0.3333333333333333,
             "#9c179e"
            ],
            [
             0.4444444444444444,
             "#bd3786"
            ],
            [
             0.5555555555555556,
             "#d8576b"
            ],
            [
             0.6666666666666666,
             "#ed7953"
            ],
            [
             0.7777777777777778,
             "#fb9f3a"
            ],
            [
             0.8888888888888888,
             "#fdca26"
            ],
            [
             1,
             "#f0f921"
            ]
           ],
           "sequentialminus": [
            [
             0,
             "#0d0887"
            ],
            [
             0.1111111111111111,
             "#46039f"
            ],
            [
             0.2222222222222222,
             "#7201a8"
            ],
            [
             0.3333333333333333,
             "#9c179e"
            ],
            [
             0.4444444444444444,
             "#bd3786"
            ],
            [
             0.5555555555555556,
             "#d8576b"
            ],
            [
             0.6666666666666666,
             "#ed7953"
            ],
            [
             0.7777777777777778,
             "#fb9f3a"
            ],
            [
             0.8888888888888888,
             "#fdca26"
            ],
            [
             1,
             "#f0f921"
            ]
           ]
          },
          "colorway": [
           "#636efa",
           "#EF553B",
           "#00cc96",
           "#ab63fa",
           "#FFA15A",
           "#19d3f3",
           "#FF6692",
           "#B6E880",
           "#FF97FF",
           "#FECB52"
          ],
          "font": {
           "color": "#2a3f5f"
          },
          "geo": {
           "bgcolor": "white",
           "lakecolor": "white",
           "landcolor": "#E5ECF6",
           "showlakes": true,
           "showland": true,
           "subunitcolor": "white"
          },
          "hoverlabel": {
           "align": "left"
          },
          "hovermode": "closest",
          "mapbox": {
           "style": "light"
          },
          "paper_bgcolor": "white",
          "plot_bgcolor": "#E5ECF6",
          "polar": {
           "angularaxis": {
            "gridcolor": "white",
            "linecolor": "white",
            "ticks": ""
           },
           "bgcolor": "#E5ECF6",
           "radialaxis": {
            "gridcolor": "white",
            "linecolor": "white",
            "ticks": ""
           }
          },
          "scene": {
           "xaxis": {
            "backgroundcolor": "#E5ECF6",
            "gridcolor": "white",
            "gridwidth": 2,
            "linecolor": "white",
            "showbackground": true,
            "ticks": "",
            "zerolinecolor": "white"
           },
           "yaxis": {
            "backgroundcolor": "#E5ECF6",
            "gridcolor": "white",
            "gridwidth": 2,
            "linecolor": "white",
            "showbackground": true,
            "ticks": "",
            "zerolinecolor": "white"
           },
           "zaxis": {
            "backgroundcolor": "#E5ECF6",
            "gridcolor": "white",
            "gridwidth": 2,
            "linecolor": "white",
            "showbackground": true,
            "ticks": "",
            "zerolinecolor": "white"
           }
          },
          "shapedefaults": {
           "line": {
            "color": "#2a3f5f"
           }
          },
          "ternary": {
           "aaxis": {
            "gridcolor": "white",
            "linecolor": "white",
            "ticks": ""
           },
           "baxis": {
            "gridcolor": "white",
            "linecolor": "white",
            "ticks": ""
           },
           "bgcolor": "#E5ECF6",
           "caxis": {
            "gridcolor": "white",
            "linecolor": "white",
            "ticks": ""
           }
          },
          "title": {
           "x": 0.05
          },
          "xaxis": {
           "automargin": true,
           "gridcolor": "white",
           "linecolor": "white",
           "ticks": "",
           "title": {
            "standoff": 15
           },
           "zerolinecolor": "white",
           "zerolinewidth": 2
          },
          "yaxis": {
           "automargin": true,
           "gridcolor": "white",
           "linecolor": "white",
           "ticks": "",
           "title": {
            "standoff": 15
           },
           "zerolinecolor": "white",
           "zerolinewidth": 2
          }
         }
        },
        "title": {
         "text": "Trajectories of Continent Centroids"
        },
        "xaxis": {
         "anchor": "y",
         "domain": [
          0,
          1
         ],
         "title": {
          "text": "gdpPercap"
         },
         "type": "log"
        },
        "yaxis": {
         "anchor": "x",
         "domain": [
          0,
          1
         ],
         "title": {
          "text": "lifeExp"
         }
        }
       }
      }
     },
     "metadata": {},
     "output_type": "display_data"
    }
   ],
   "source": [
    "tmp = (df[['year', 'continent', 'lifeExp', 'gdpPercap']]\n",
    "       .groupby(['year', 'continent']).mean().reset_index()\n",
    ") \n",
    "\n",
    "\n",
    "fig = px.line(tmp, x=\"gdpPercap\", y=\"lifeExp\", \n",
    "              color=\"continent\", \n",
    "              log_x=True, \n",
    "              #text=\"year\",\n",
    "              )\n",
    "\n",
    "fig.update_traces(textposition=\"bottom right\")\n",
    "fig.update_layout(title_text=\"Trajectories of Continent Centroids\")\n",
    "fig.show()"
   ]
  },
  {
   "attachments": {},
   "cell_type": "markdown",
   "metadata": {},
   "source": [
    "But within each continent there is significant variability. I am showing bewlow the trajectories of subcontinents. "
   ]
  },
  {
   "cell_type": "code",
   "execution_count": 17,
   "metadata": {},
   "outputs": [
    {
     "data": {
      "application/vnd.plotly.v1+json": {
       "config": {
        "plotlyServerURL": "https://plot.ly"
       },
       "data": [
        {
         "hovertemplate": "subcontinent=Australia and New Zealand<br>gdpPercap=%{x}<br>lifeExp=%{y}<extra></extra>",
         "legendgroup": "Australia and New Zealand",
         "line": {
          "color": "#636efa",
          "dash": "solid"
         },
         "marker": {
          "symbol": "circle"
         },
         "mode": "lines",
         "name": "Australia and New Zealand",
         "orientation": "v",
         "showlegend": true,
         "textposition": "bottom right",
         "type": "scatter",
         "x": [
          10298.08565,
          11598.522455,
          12696.452430000001,
          14495.021789999999,
          16417.33338,
          17283.957605,
          18554.70984,
          20448.040159999997,
          20894.045885,
          24024.175170000002,
          26938.77804,
          29810.188275
         ],
         "xaxis": "x",
         "y": [
          69.255,
          70.295,
          71.08500000000001,
          71.31,
          71.91,
          72.85499999999999,
          74.28999999999999,
          75.32,
          76.945,
          78.19,
          79.74000000000001,
          80.7195
         ],
         "yaxis": "y"
        },
        {
         "hovertemplate": "subcontinent=Eastern Asia<br>gdpPercap=%{x}<br>lifeExp=%{y}<extra></extra>",
         "legendgroup": "Eastern Asia",
         "line": {
          "color": "#EF553B",
          "dash": "solid"
         },
         "marker": {
          "symbol": "circle"
         },
         "mode": "lines",
         "name": "Eastern Asia",
         "orientation": "v",
         "showlegend": true,
         "textposition": "bottom right",
         "type": "scatter",
         "x": [
          1540.6015602142857,
          2000.2871304857144,
          2542.034674614286,
          3528.7322394857147,
          5141.1969460142855,
          6363.615641414285,
          7723.3547529285715,
          9975.067110285714,
          12295.669203,
          14182.40131,
          15455.685271428572,
          19013.630843571427
         ],
         "xaxis": "x",
         "y": [
          52.32042857142857,
          56.45842285714286,
          58.04005142857143,
          62.31744571428572,
          65.46826857142857,
          67.27905142857142,
          69.13671428571429,
          70.889,
          71.91485714285714,
          73.19500000000001,
          74.4647142857143,
          75.55642857142857
         ],
         "yaxis": "y"
        },
        {
         "hovertemplate": "subcontinent=Eastern Europe<br>gdpPercap=%{x}<br>lifeExp=%{y}<extra></extra>",
         "legendgroup": "Eastern Europe",
         "line": {
          "color": "#00cc96",
          "dash": "solid"
         },
         "marker": {
          "symbol": "circle"
         },
         "mode": "lines",
         "name": "Eastern Europe",
         "orientation": "v",
         "showlegend": true,
         "textposition": "bottom right",
         "type": "scatter",
         "x": [
          4472.117117166667,
          5346.0134800000005,
          6582.737028833333,
          7957.335679666667,
          9261.1155215,
          10645.740193666667,
          10925.466960666667,
          11392.1117085,
          9161.838680166666,
          10560.6736145,
          12277.216839333334,
          16066.626735
         ],
         "xaxis": "x",
         "y": [
          62.870000000000005,
          66.56166666666667,
          68.69,
          69.615,
          70.22666666666667,
          70.34166666666667,
          70.535,
          70.68166666666667,
          70.74833333333333,
          71.75833333333334,
          73.33866666666667,
          74.25516666666667
         ],
         "yaxis": "y"
        },
        {
         "hovertemplate": "subcontinent=Latin America and the Caribbean<br>gdpPercap=%{x}<br>lifeExp=%{y}<extra></extra>",
         "legendgroup": "Latin America and the Caribbean",
         "line": {
          "color": "#ab63fa",
          "dash": "solid"
         },
         "marker": {
          "symbol": "circle"
         },
         "mode": "lines",
         "name": "Latin America and the Caribbean",
         "orientation": "v",
         "showlegend": true,
         "textposition": "bottom right",
         "type": "scatter",
         "x": [
          3331.257417608696,
          3828.870267347826,
          4039.2571891304347,
          4613.016687,
          5282.9020293913045,
          5984.202737695653,
          6076.525040086956,
          6014.093090782609,
          6207.675810347826,
          6848.2679410434785,
          6946.341872304348,
          8513.256631913044
         ],
         "xaxis": "x",
         "y": [
          51.94808695652174,
          54.76334782608696,
          57.32430434782609,
          59.4514347826087,
          61.55013043478261,
          63.57386956521739,
          65.44830434782608,
          67.40817391304347,
          68.92039130434783,
          70.58008695652174,
          71.89004347826086,
          73.10034782608696
         ],
         "yaxis": "y"
        },
        {
         "hovertemplate": "subcontinent=Northern Africa<br>gdpPercap=%{x}<br>lifeExp=%{y}<extra></extra>",
         "legendgroup": "Northern Africa",
         "line": {
          "color": "#FFA15A",
          "dash": "solid"
         },
         "marker": {
          "symbol": "circle"
         },
         "mode": "lines",
         "name": "Northern Africa",
         "orientation": "v",
         "showlegend": true,
         "textposition": "bottom right",
         "type": "scatter",
         "x": [
          1838.00817,
          2121.4579243333333,
          2697.9056698333334,
          4861.004461166667,
          5593.550477833333,
          6223.601218,
          5795.260471999999,
          4901.782415833333,
          4538.512467,
          4654.839023333334,
          5092.018636,
          6229.590165500001
         ],
         "xaxis": "x",
         "y": [
          42.30016666666666,
          44.594166666666666,
          46.91266666666667,
          49.36216666666667,
          51.99583333333334,
          55.357,
          58.9275,
          62.19083333333333,
          64.85383333333333,
          67.155,
          68.7605,
          70.20566666666666
         ],
         "yaxis": "y"
        },
        {
         "hovertemplate": "subcontinent=Northern America<br>gdpPercap=%{x}<br>lifeExp=%{y}<extra></extra>",
         "legendgroup": "Northern America",
         "line": {
          "color": "#19d3f3",
          "dash": "solid"
         },
         "marker": {
          "symbol": "circle"
         },
         "mode": "lines",
         "name": "Northern America",
         "orientation": "v",
         "showlegend": true,
         "textposition": "bottom right",
         "type": "scatter",
         "x": [
          12678.8216,
          13668.53859,
          14817.815705,
          17803.4768,
          20388.3034,
          23081.757595000003,
          23954.17564,
          28255.432719999997,
          29173.40825,
          32361.17946,
          36213.032309999995,
          39635.44405
         ],
         "xaxis": "x",
         "y": [
          68.595,
          69.725,
          70.755,
          71.445,
          72.11,
          73.79499999999999,
          75.20500000000001,
          75.94,
          77.02000000000001,
          77.71000000000001,
          78.53999999999999,
          79.4475
         ],
         "yaxis": "y"
        },
        {
         "hovertemplate": "subcontinent=Northern Europe<br>gdpPercap=%{x}<br>lifeExp=%{y}<extra></extra>",
         "legendgroup": "Northern Europe",
         "line": {
          "color": "#FF6692",
          "dash": "solid"
         },
         "marker": {
          "symbol": "circle"
         },
         "mode": "lines",
         "name": "Northern Europe",
         "orientation": "v",
         "showlegend": true,
         "textposition": "bottom right",
         "type": "scatter",
         "x": [
          8171.092563,
          9476.740462285714,
          11170.561849285714,
          13371.048066142857,
          15892.302312285714,
          18061.44157,
          20186.795439999998,
          23406.564654285718,
          24329.69756,
          28390.804762857144,
          32730.849621428573,
          37394.64121142857
         ],
         "xaxis": "x",
         "y": [
          70.06285714285714,
          71.14571428571428,
          71.81,
          72.45714285714286,
          73.02142857142857,
          74.13142857142857,
          75.10000000000001,
          75.61528571428572,
          76.73814285714286,
          77.60571428571428,
          78.77057142857143,
          79.82742857142857
         ],
         "yaxis": "y"
        },
        {
         "hovertemplate": "subcontinent=South-eastern Asia<br>gdpPercap=%{x}<br>lifeExp=%{y}<extra></extra>",
         "legendgroup": "South-eastern Asia",
         "line": {
          "color": "#B6E880",
          "dash": "solid"
         },
         "marker": {
          "symbol": "circle"
         },
         "mode": "lines",
         "name": "South-eastern Asia",
         "orientation": "v",
         "showlegend": true,
         "textposition": "bottom right",
         "type": "scatter",
         "x": [
          1028.8958707,
          1164.2397143375001,
          1358.7030523625,
          1579.592050125,
          2193.7271956,
          2795.581416475,
          3544.8243587125003,
          4115.2092762625,
          5418.186473275,
          7212.0080255,
          7617.4734374125,
          9860.464929625
         ],
         "xaxis": "x",
         "y": [
          45.134375,
          48.290125,
          51.094625,
          53.823875,
          55.480625,
          56.79375,
          61.303375,
          63.563125,
          65.712875,
          67.3445,
          68.61825,
          70.401
         ],
         "yaxis": "y"
        },
        {
         "hovertemplate": "subcontinent=Southern Asia<br>gdpPercap=%{x}<br>lifeExp=%{y}<extra></extra>",
         "legendgroup": "Southern Asia",
         "line": {
          "color": "#FF97FF",
          "dash": "solid"
         },
         "marker": {
          "symbol": "circle"
         },
         "mode": "lines",
         "name": "Southern Asia",
         "orientation": "v",
         "showlegend": true,
         "textposition": "bottom right",
         "type": "scatter",
         "x": [
          1051.3680191571427,
          1111.4823733285714,
          1273.6186825428574,
          1559.8929214714285,
          2092.312643842857,
          2480.961754142857,
          1989.8477371142856,
          1940.1221792857143,
          2130.074371842857,
          2436.462720742857,
          2716.5647855428574,
          3441.594541771429
         ],
         "xaxis": "x",
         "y": [
          40.81614285714286,
          43.115571428571435,
          45.05685714285715,
          47.52471428571429,
          49.73814285714286,
          52.001571428571424,
          54.36971428571428,
          56.43242857142857,
          58.65728571428571,
          60.38328571428571,
          61.74814285714285,
          63.60228571428571
         ],
         "yaxis": "y"
        },
        {
         "hovertemplate": "subcontinent=Southern Europe<br>gdpPercap=%{x}<br>lifeExp=%{y}<extra></extra>",
         "legendgroup": "Southern Europe",
         "line": {
          "color": "#FECB52",
          "dash": "solid"
         },
         "marker": {
          "symbol": "circle"
         },
         "mode": "lines",
         "name": "Southern Europe",
         "orientation": "v",
         "showlegend": true,
         "textposition": "bottom right",
         "type": "scatter",
         "x": [
          3150.23614718,
          4166.4462734,
          5252.4560833000005,
          6808.8423228,
          9067.6751849,
          10808.141594,
          12273.5635059,
          13228.9610132,
          11840.061065400001,
          13088.5109146,
          15199.3597319,
          17825.008251400002
         ],
         "xaxis": "x",
         "y": [
          60.955,
          63.732299999999995,
          66.4119,
          68.2882,
          70.0756,
          71.5726,
          72.6186,
          73.7043,
          74.392,
          75.411,
          76.4037,
          77.2562
         ],
         "yaxis": "y"
        },
        {
         "hovertemplate": "subcontinent=Sub-Saharan Africa<br>gdpPercap=%{x}<br>lifeExp=%{y}<extra></extra>",
         "legendgroup": "Sub-Saharan Africa",
         "line": {
          "color": "#636efa",
          "dash": "solid"
         },
         "marker": {
          "symbol": "circle"
         },
         "mode": "lines",
         "name": "Sub-Saharan Africa",
         "orientation": "v",
         "showlegend": true,
         "textposition": "bottom right",
         "type": "scatter",
         "x": [
          1176.2112870152173,
          1289.207123723913,
          1454.6231494130436,
          1683.7584973391306,
          1915.1893954630434,
          2111.4607637413046,
          2049.3754581565217,
          1941.045501097826,
          1987.4578810152175,
          2081.8796244630435,
          2274.259053180435,
          2679.394662028261
         ],
         "xaxis": "x",
         "y": [
          38.72271739130434,
          40.83228260869566,
          42.850760869565214,
          44.80919565217391,
          46.85813043478261,
          48.82695652173913,
          50.63617391304348,
          52.19095652173913,
          52.165543478260865,
          51.83,
          51.3119347826087,
          52.79739130434782
         ],
         "yaxis": "y"
        },
        {
         "hovertemplate": "subcontinent=Western Asia<br>gdpPercap=%{x}<br>lifeExp=%{y}<extra></extra>",
         "legendgroup": "Western Asia",
         "line": {
          "color": "#EF553B",
          "dash": "solid"
         },
         "marker": {
          "symbol": "circle"
         },
         "mode": "lines",
         "name": "Western Asia",
         "orientation": "v",
         "showlegend": true,
         "textposition": "bottom right",
         "type": "scatter",
         "x": [
          3514.7969265545457,
          4417.682193972727,
          5304.977986054545,
          6429.371084390909,
          8736.810160727273,
          10712.755885727272,
          11078.433501,
          10155.82629309091,
          10139.046367818182,
          10617.979661727273,
          10817.947749727273,
          12426.443289454544
         ],
         "xaxis": "x",
         "y": [
          45.76036363636364,
          48.56536363636364,
          51.16172727272727,
          54.01145454545454,
          57.32172727272727,
          60.72709090909091,
          63.74063636363637,
          66.29709090909091,
          67.9069090909091,
          69.41381818181819,
          70.56572727272727,
          71.90090909090908
         ],
         "yaxis": "y"
        },
        {
         "hovertemplate": "subcontinent=Western Europe<br>gdpPercap=%{x}<br>lifeExp=%{y}<extra></extra>",
         "legendgroup": "Western Europe",
         "line": {
          "color": "#00cc96",
          "dash": "solid"
         },
         "marker": {
          "symbol": "circle"
         },
         "mode": "lines",
         "name": "Western Europe",
         "orientation": "v",
         "showlegend": true,
         "textposition": "bottom right",
         "type": "scatter",
         "x": [
          8721.651657833334,
          11098.983895166666,
          13071.136428333333,
          15343.097090000001,
          18907.83330833333,
          20977.383811666667,
          22449.922548333332,
          24475.340858333333,
          27081.5281,
          28786.20666,
          31678.506875000003,
          34460.640215
         ],
         "xaxis": "x",
         "y": [
          68.57666666666667,
          69.71666666666667,
          70.85833333333333,
          71.67,
          72.16333333333334,
          73.655,
          74.67666666666666,
          75.95283333333333,
          76.91333333333334,
          78.07000000000001,
          79.11833333333334,
          80.13266666666667
         ],
         "yaxis": "y"
        }
       ],
       "layout": {
        "height": 600,
        "legend": {
         "title": {
          "text": "subcontinent"
         },
         "tracegroupgap": 0
        },
        "template": {
         "data": {
          "bar": [
           {
            "error_x": {
             "color": "#2a3f5f"
            },
            "error_y": {
             "color": "#2a3f5f"
            },
            "marker": {
             "line": {
              "color": "#E5ECF6",
              "width": 0.5
             },
             "pattern": {
              "fillmode": "overlay",
              "size": 10,
              "solidity": 0.2
             }
            },
            "type": "bar"
           }
          ],
          "barpolar": [
           {
            "marker": {
             "line": {
              "color": "#E5ECF6",
              "width": 0.5
             },
             "pattern": {
              "fillmode": "overlay",
              "size": 10,
              "solidity": 0.2
             }
            },
            "type": "barpolar"
           }
          ],
          "carpet": [
           {
            "aaxis": {
             "endlinecolor": "#2a3f5f",
             "gridcolor": "white",
             "linecolor": "white",
             "minorgridcolor": "white",
             "startlinecolor": "#2a3f5f"
            },
            "baxis": {
             "endlinecolor": "#2a3f5f",
             "gridcolor": "white",
             "linecolor": "white",
             "minorgridcolor": "white",
             "startlinecolor": "#2a3f5f"
            },
            "type": "carpet"
           }
          ],
          "choropleth": [
           {
            "colorbar": {
             "outlinewidth": 0,
             "ticks": ""
            },
            "type": "choropleth"
           }
          ],
          "contour": [
           {
            "colorbar": {
             "outlinewidth": 0,
             "ticks": ""
            },
            "colorscale": [
             [
              0,
              "#0d0887"
             ],
             [
              0.1111111111111111,
              "#46039f"
             ],
             [
              0.2222222222222222,
              "#7201a8"
             ],
             [
              0.3333333333333333,
              "#9c179e"
             ],
             [
              0.4444444444444444,
              "#bd3786"
             ],
             [
              0.5555555555555556,
              "#d8576b"
             ],
             [
              0.6666666666666666,
              "#ed7953"
             ],
             [
              0.7777777777777778,
              "#fb9f3a"
             ],
             [
              0.8888888888888888,
              "#fdca26"
             ],
             [
              1,
              "#f0f921"
             ]
            ],
            "type": "contour"
           }
          ],
          "contourcarpet": [
           {
            "colorbar": {
             "outlinewidth": 0,
             "ticks": ""
            },
            "type": "contourcarpet"
           }
          ],
          "heatmap": [
           {
            "colorbar": {
             "outlinewidth": 0,
             "ticks": ""
            },
            "colorscale": [
             [
              0,
              "#0d0887"
             ],
             [
              0.1111111111111111,
              "#46039f"
             ],
             [
              0.2222222222222222,
              "#7201a8"
             ],
             [
              0.3333333333333333,
              "#9c179e"
             ],
             [
              0.4444444444444444,
              "#bd3786"
             ],
             [
              0.5555555555555556,
              "#d8576b"
             ],
             [
              0.6666666666666666,
              "#ed7953"
             ],
             [
              0.7777777777777778,
              "#fb9f3a"
             ],
             [
              0.8888888888888888,
              "#fdca26"
             ],
             [
              1,
              "#f0f921"
             ]
            ],
            "type": "heatmap"
           }
          ],
          "heatmapgl": [
           {
            "colorbar": {
             "outlinewidth": 0,
             "ticks": ""
            },
            "colorscale": [
             [
              0,
              "#0d0887"
             ],
             [
              0.1111111111111111,
              "#46039f"
             ],
             [
              0.2222222222222222,
              "#7201a8"
             ],
             [
              0.3333333333333333,
              "#9c179e"
             ],
             [
              0.4444444444444444,
              "#bd3786"
             ],
             [
              0.5555555555555556,
              "#d8576b"
             ],
             [
              0.6666666666666666,
              "#ed7953"
             ],
             [
              0.7777777777777778,
              "#fb9f3a"
             ],
             [
              0.8888888888888888,
              "#fdca26"
             ],
             [
              1,
              "#f0f921"
             ]
            ],
            "type": "heatmapgl"
           }
          ],
          "histogram": [
           {
            "marker": {
             "pattern": {
              "fillmode": "overlay",
              "size": 10,
              "solidity": 0.2
             }
            },
            "type": "histogram"
           }
          ],
          "histogram2d": [
           {
            "colorbar": {
             "outlinewidth": 0,
             "ticks": ""
            },
            "colorscale": [
             [
              0,
              "#0d0887"
             ],
             [
              0.1111111111111111,
              "#46039f"
             ],
             [
              0.2222222222222222,
              "#7201a8"
             ],
             [
              0.3333333333333333,
              "#9c179e"
             ],
             [
              0.4444444444444444,
              "#bd3786"
             ],
             [
              0.5555555555555556,
              "#d8576b"
             ],
             [
              0.6666666666666666,
              "#ed7953"
             ],
             [
              0.7777777777777778,
              "#fb9f3a"
             ],
             [
              0.8888888888888888,
              "#fdca26"
             ],
             [
              1,
              "#f0f921"
             ]
            ],
            "type": "histogram2d"
           }
          ],
          "histogram2dcontour": [
           {
            "colorbar": {
             "outlinewidth": 0,
             "ticks": ""
            },
            "colorscale": [
             [
              0,
              "#0d0887"
             ],
             [
              0.1111111111111111,
              "#46039f"
             ],
             [
              0.2222222222222222,
              "#7201a8"
             ],
             [
              0.3333333333333333,
              "#9c179e"
             ],
             [
              0.4444444444444444,
              "#bd3786"
             ],
             [
              0.5555555555555556,
              "#d8576b"
             ],
             [
              0.6666666666666666,
              "#ed7953"
             ],
             [
              0.7777777777777778,
              "#fb9f3a"
             ],
             [
              0.8888888888888888,
              "#fdca26"
             ],
             [
              1,
              "#f0f921"
             ]
            ],
            "type": "histogram2dcontour"
           }
          ],
          "mesh3d": [
           {
            "colorbar": {
             "outlinewidth": 0,
             "ticks": ""
            },
            "type": "mesh3d"
           }
          ],
          "parcoords": [
           {
            "line": {
             "colorbar": {
              "outlinewidth": 0,
              "ticks": ""
             }
            },
            "type": "parcoords"
           }
          ],
          "pie": [
           {
            "automargin": true,
            "type": "pie"
           }
          ],
          "scatter": [
           {
            "fillpattern": {
             "fillmode": "overlay",
             "size": 10,
             "solidity": 0.2
            },
            "type": "scatter"
           }
          ],
          "scatter3d": [
           {
            "line": {
             "colorbar": {
              "outlinewidth": 0,
              "ticks": ""
             }
            },
            "marker": {
             "colorbar": {
              "outlinewidth": 0,
              "ticks": ""
             }
            },
            "type": "scatter3d"
           }
          ],
          "scattercarpet": [
           {
            "marker": {
             "colorbar": {
              "outlinewidth": 0,
              "ticks": ""
             }
            },
            "type": "scattercarpet"
           }
          ],
          "scattergeo": [
           {
            "marker": {
             "colorbar": {
              "outlinewidth": 0,
              "ticks": ""
             }
            },
            "type": "scattergeo"
           }
          ],
          "scattergl": [
           {
            "marker": {
             "colorbar": {
              "outlinewidth": 0,
              "ticks": ""
             }
            },
            "type": "scattergl"
           }
          ],
          "scattermapbox": [
           {
            "marker": {
             "colorbar": {
              "outlinewidth": 0,
              "ticks": ""
             }
            },
            "type": "scattermapbox"
           }
          ],
          "scatterpolar": [
           {
            "marker": {
             "colorbar": {
              "outlinewidth": 0,
              "ticks": ""
             }
            },
            "type": "scatterpolar"
           }
          ],
          "scatterpolargl": [
           {
            "marker": {
             "colorbar": {
              "outlinewidth": 0,
              "ticks": ""
             }
            },
            "type": "scatterpolargl"
           }
          ],
          "scatterternary": [
           {
            "marker": {
             "colorbar": {
              "outlinewidth": 0,
              "ticks": ""
             }
            },
            "type": "scatterternary"
           }
          ],
          "surface": [
           {
            "colorbar": {
             "outlinewidth": 0,
             "ticks": ""
            },
            "colorscale": [
             [
              0,
              "#0d0887"
             ],
             [
              0.1111111111111111,
              "#46039f"
             ],
             [
              0.2222222222222222,
              "#7201a8"
             ],
             [
              0.3333333333333333,
              "#9c179e"
             ],
             [
              0.4444444444444444,
              "#bd3786"
             ],
             [
              0.5555555555555556,
              "#d8576b"
             ],
             [
              0.6666666666666666,
              "#ed7953"
             ],
             [
              0.7777777777777778,
              "#fb9f3a"
             ],
             [
              0.8888888888888888,
              "#fdca26"
             ],
             [
              1,
              "#f0f921"
             ]
            ],
            "type": "surface"
           }
          ],
          "table": [
           {
            "cells": {
             "fill": {
              "color": "#EBF0F8"
             },
             "line": {
              "color": "white"
             }
            },
            "header": {
             "fill": {
              "color": "#C8D4E3"
             },
             "line": {
              "color": "white"
             }
            },
            "type": "table"
           }
          ]
         },
         "layout": {
          "annotationdefaults": {
           "arrowcolor": "#2a3f5f",
           "arrowhead": 0,
           "arrowwidth": 1
          },
          "autotypenumbers": "strict",
          "coloraxis": {
           "colorbar": {
            "outlinewidth": 0,
            "ticks": ""
           }
          },
          "colorscale": {
           "diverging": [
            [
             0,
             "#8e0152"
            ],
            [
             0.1,
             "#c51b7d"
            ],
            [
             0.2,
             "#de77ae"
            ],
            [
             0.3,
             "#f1b6da"
            ],
            [
             0.4,
             "#fde0ef"
            ],
            [
             0.5,
             "#f7f7f7"
            ],
            [
             0.6,
             "#e6f5d0"
            ],
            [
             0.7,
             "#b8e186"
            ],
            [
             0.8,
             "#7fbc41"
            ],
            [
             0.9,
             "#4d9221"
            ],
            [
             1,
             "#276419"
            ]
           ],
           "sequential": [
            [
             0,
             "#0d0887"
            ],
            [
             0.1111111111111111,
             "#46039f"
            ],
            [
             0.2222222222222222,
             "#7201a8"
            ],
            [
             0.3333333333333333,
             "#9c179e"
            ],
            [
             0.4444444444444444,
             "#bd3786"
            ],
            [
             0.5555555555555556,
             "#d8576b"
            ],
            [
             0.6666666666666666,
             "#ed7953"
            ],
            [
             0.7777777777777778,
             "#fb9f3a"
            ],
            [
             0.8888888888888888,
             "#fdca26"
            ],
            [
             1,
             "#f0f921"
            ]
           ],
           "sequentialminus": [
            [
             0,
             "#0d0887"
            ],
            [
             0.1111111111111111,
             "#46039f"
            ],
            [
             0.2222222222222222,
             "#7201a8"
            ],
            [
             0.3333333333333333,
             "#9c179e"
            ],
            [
             0.4444444444444444,
             "#bd3786"
            ],
            [
             0.5555555555555556,
             "#d8576b"
            ],
            [
             0.6666666666666666,
             "#ed7953"
            ],
            [
             0.7777777777777778,
             "#fb9f3a"
            ],
            [
             0.8888888888888888,
             "#fdca26"
            ],
            [
             1,
             "#f0f921"
            ]
           ]
          },
          "colorway": [
           "#636efa",
           "#EF553B",
           "#00cc96",
           "#ab63fa",
           "#FFA15A",
           "#19d3f3",
           "#FF6692",
           "#B6E880",
           "#FF97FF",
           "#FECB52"
          ],
          "font": {
           "color": "#2a3f5f"
          },
          "geo": {
           "bgcolor": "white",
           "lakecolor": "white",
           "landcolor": "#E5ECF6",
           "showlakes": true,
           "showland": true,
           "subunitcolor": "white"
          },
          "hoverlabel": {
           "align": "left"
          },
          "hovermode": "closest",
          "mapbox": {
           "style": "light"
          },
          "paper_bgcolor": "white",
          "plot_bgcolor": "#E5ECF6",
          "polar": {
           "angularaxis": {
            "gridcolor": "white",
            "linecolor": "white",
            "ticks": ""
           },
           "bgcolor": "#E5ECF6",
           "radialaxis": {
            "gridcolor": "white",
            "linecolor": "white",
            "ticks": ""
           }
          },
          "scene": {
           "xaxis": {
            "backgroundcolor": "#E5ECF6",
            "gridcolor": "white",
            "gridwidth": 2,
            "linecolor": "white",
            "showbackground": true,
            "ticks": "",
            "zerolinecolor": "white"
           },
           "yaxis": {
            "backgroundcolor": "#E5ECF6",
            "gridcolor": "white",
            "gridwidth": 2,
            "linecolor": "white",
            "showbackground": true,
            "ticks": "",
            "zerolinecolor": "white"
           },
           "zaxis": {
            "backgroundcolor": "#E5ECF6",
            "gridcolor": "white",
            "gridwidth": 2,
            "linecolor": "white",
            "showbackground": true,
            "ticks": "",
            "zerolinecolor": "white"
           }
          },
          "shapedefaults": {
           "line": {
            "color": "#2a3f5f"
           }
          },
          "ternary": {
           "aaxis": {
            "gridcolor": "white",
            "linecolor": "white",
            "ticks": ""
           },
           "baxis": {
            "gridcolor": "white",
            "linecolor": "white",
            "ticks": ""
           },
           "bgcolor": "#E5ECF6",
           "caxis": {
            "gridcolor": "white",
            "linecolor": "white",
            "ticks": ""
           }
          },
          "title": {
           "x": 0.05
          },
          "xaxis": {
           "automargin": true,
           "gridcolor": "white",
           "linecolor": "white",
           "ticks": "",
           "title": {
            "standoff": 15
           },
           "zerolinecolor": "white",
           "zerolinewidth": 2
          },
          "yaxis": {
           "automargin": true,
           "gridcolor": "white",
           "linecolor": "white",
           "ticks": "",
           "title": {
            "standoff": 15
           },
           "zerolinecolor": "white",
           "zerolinewidth": 2
          }
         }
        },
        "title": {
         "text": "Subcontinent Trajectories. Each line represents the average gpb per capita and life by year"
        },
        "width": 1000,
        "xaxis": {
         "anchor": "y",
         "domain": [
          0,
          1
         ],
         "title": {
          "text": "gdpPercap"
         },
         "type": "log"
        },
        "yaxis": {
         "anchor": "x",
         "domain": [
          0,
          1
         ],
         "title": {
          "text": "lifeExp"
         }
        }
       }
      }
     },
     "metadata": {},
     "output_type": "display_data"
    }
   ],
   "source": [
    "subcontinent_centroids = df[['year', 'subcontinent', 'lifeExp',\n",
    "                         'gdpPercap']].groupby(['subcontinent', 'year']).mean().reset_index()\n",
    "\n",
    "fig = px.line(subcontinent_centroids, x=\"gdpPercap\", y=\"lifeExp\", color=\"subcontinent\",  log_x=True, \n",
    "             title=\"Subcontinent Trajectories. Each line represents the average gpb per capita and life by year\",\n",
    "             width=1000, height=600)\n",
    "\n",
    "fig.update_traces(textposition=\"bottom right\")\n",
    "\n",
    "fig.show()"
   ]
  },
  {
   "attachments": {},
   "cell_type": "markdown",
   "metadata": {},
   "source": [
    "## Prepare the dataset for HD visualization and cluster Analyses "
   ]
  },
  {
   "cell_type": "code",
   "execution_count": 67,
   "metadata": {},
   "outputs": [
    {
     "data": {
      "text/html": [
       "<div>\n",
       "<style scoped>\n",
       "    .dataframe tbody tr th:only-of-type {\n",
       "        vertical-align: middle;\n",
       "    }\n",
       "\n",
       "    .dataframe tbody tr th {\n",
       "        vertical-align: top;\n",
       "    }\n",
       "\n",
       "    .dataframe thead th {\n",
       "        text-align: right;\n",
       "    }\n",
       "</style>\n",
       "<table border=\"1\" class=\"dataframe\">\n",
       "  <thead>\n",
       "    <tr style=\"text-align: right;\">\n",
       "      <th></th>\n",
       "      <th>country</th>\n",
       "      <th>continent</th>\n",
       "      <th>year</th>\n",
       "      <th>lifeExp</th>\n",
       "      <th>pop</th>\n",
       "      <th>gdpPercap</th>\n",
       "      <th>iso_alpha</th>\n",
       "      <th>iso_num</th>\n",
       "    </tr>\n",
       "  </thead>\n",
       "  <tbody>\n",
       "    <tr>\n",
       "      <th>0</th>\n",
       "      <td>Afghanistan</td>\n",
       "      <td>Asia</td>\n",
       "      <td>1952</td>\n",
       "      <td>28.801</td>\n",
       "      <td>8425333</td>\n",
       "      <td>779.445314</td>\n",
       "      <td>AFG</td>\n",
       "      <td>4</td>\n",
       "    </tr>\n",
       "    <tr>\n",
       "      <th>1</th>\n",
       "      <td>Afghanistan</td>\n",
       "      <td>Asia</td>\n",
       "      <td>1957</td>\n",
       "      <td>30.332</td>\n",
       "      <td>9240934</td>\n",
       "      <td>820.853030</td>\n",
       "      <td>AFG</td>\n",
       "      <td>4</td>\n",
       "    </tr>\n",
       "    <tr>\n",
       "      <th>2</th>\n",
       "      <td>Afghanistan</td>\n",
       "      <td>Asia</td>\n",
       "      <td>1962</td>\n",
       "      <td>31.997</td>\n",
       "      <td>10267083</td>\n",
       "      <td>853.100710</td>\n",
       "      <td>AFG</td>\n",
       "      <td>4</td>\n",
       "    </tr>\n",
       "    <tr>\n",
       "      <th>3</th>\n",
       "      <td>Afghanistan</td>\n",
       "      <td>Asia</td>\n",
       "      <td>1967</td>\n",
       "      <td>34.020</td>\n",
       "      <td>11537966</td>\n",
       "      <td>836.197138</td>\n",
       "      <td>AFG</td>\n",
       "      <td>4</td>\n",
       "    </tr>\n",
       "    <tr>\n",
       "      <th>4</th>\n",
       "      <td>Afghanistan</td>\n",
       "      <td>Asia</td>\n",
       "      <td>1972</td>\n",
       "      <td>36.088</td>\n",
       "      <td>13079460</td>\n",
       "      <td>739.981106</td>\n",
       "      <td>AFG</td>\n",
       "      <td>4</td>\n",
       "    </tr>\n",
       "    <tr>\n",
       "      <th>5</th>\n",
       "      <td>Afghanistan</td>\n",
       "      <td>Asia</td>\n",
       "      <td>1977</td>\n",
       "      <td>38.438</td>\n",
       "      <td>14880372</td>\n",
       "      <td>786.113360</td>\n",
       "      <td>AFG</td>\n",
       "      <td>4</td>\n",
       "    </tr>\n",
       "    <tr>\n",
       "      <th>6</th>\n",
       "      <td>Afghanistan</td>\n",
       "      <td>Asia</td>\n",
       "      <td>1982</td>\n",
       "      <td>39.854</td>\n",
       "      <td>12881816</td>\n",
       "      <td>978.011439</td>\n",
       "      <td>AFG</td>\n",
       "      <td>4</td>\n",
       "    </tr>\n",
       "    <tr>\n",
       "      <th>7</th>\n",
       "      <td>Afghanistan</td>\n",
       "      <td>Asia</td>\n",
       "      <td>1987</td>\n",
       "      <td>40.822</td>\n",
       "      <td>13867957</td>\n",
       "      <td>852.395945</td>\n",
       "      <td>AFG</td>\n",
       "      <td>4</td>\n",
       "    </tr>\n",
       "    <tr>\n",
       "      <th>8</th>\n",
       "      <td>Afghanistan</td>\n",
       "      <td>Asia</td>\n",
       "      <td>1992</td>\n",
       "      <td>41.674</td>\n",
       "      <td>16317921</td>\n",
       "      <td>649.341395</td>\n",
       "      <td>AFG</td>\n",
       "      <td>4</td>\n",
       "    </tr>\n",
       "    <tr>\n",
       "      <th>9</th>\n",
       "      <td>Afghanistan</td>\n",
       "      <td>Asia</td>\n",
       "      <td>1997</td>\n",
       "      <td>41.763</td>\n",
       "      <td>22227415</td>\n",
       "      <td>635.341351</td>\n",
       "      <td>AFG</td>\n",
       "      <td>4</td>\n",
       "    </tr>\n",
       "  </tbody>\n",
       "</table>\n",
       "</div>"
      ],
      "text/plain": [
       "       country continent  year  lifeExp       pop   gdpPercap iso_alpha  \\\n",
       "0  Afghanistan      Asia  1952   28.801   8425333  779.445314       AFG   \n",
       "1  Afghanistan      Asia  1957   30.332   9240934  820.853030       AFG   \n",
       "2  Afghanistan      Asia  1962   31.997  10267083  853.100710       AFG   \n",
       "3  Afghanistan      Asia  1967   34.020  11537966  836.197138       AFG   \n",
       "4  Afghanistan      Asia  1972   36.088  13079460  739.981106       AFG   \n",
       "5  Afghanistan      Asia  1977   38.438  14880372  786.113360       AFG   \n",
       "6  Afghanistan      Asia  1982   39.854  12881816  978.011439       AFG   \n",
       "7  Afghanistan      Asia  1987   40.822  13867957  852.395945       AFG   \n",
       "8  Afghanistan      Asia  1992   41.674  16317921  649.341395       AFG   \n",
       "9  Afghanistan      Asia  1997   41.763  22227415  635.341351       AFG   \n",
       "\n",
       "   iso_num  \n",
       "0        4  \n",
       "1        4  \n",
       "2        4  \n",
       "3        4  \n",
       "4        4  \n",
       "5        4  \n",
       "6        4  \n",
       "7        4  \n",
       "8        4  \n",
       "9        4  "
      ]
     },
     "execution_count": 67,
     "metadata": {},
     "output_type": "execute_result"
    }
   ],
   "source": [
    "df.head(10)"
   ]
  },
  {
   "attachments": {},
   "cell_type": "markdown",
   "metadata": {},
   "source": [
    "We need to reformat the dataset so that \n",
    "* Each country or feature is a line. So we need to pivot the dataset so that the life expectancy and GPD per capita for a particular year become columns. This can be easily done by unstacking the data. \n",
    "* Scale the data. This is because we have two variables that that have different domains or scales. If we don't scale the data the GDP per capita will dominate the distance calculations. By scaling the data each variable/column has an equal weight in the distance calculations "
   ]
  },
  {
   "cell_type": "code",
   "execution_count": 18,
   "metadata": {},
   "outputs": [
    {
     "data": {
      "text/html": [
       "<div>\n",
       "<style scoped>\n",
       "    .dataframe tbody tr th:only-of-type {\n",
       "        vertical-align: middle;\n",
       "    }\n",
       "\n",
       "    .dataframe tbody tr th {\n",
       "        vertical-align: top;\n",
       "    }\n",
       "\n",
       "    .dataframe thead tr th {\n",
       "        text-align: left;\n",
       "    }\n",
       "\n",
       "    .dataframe thead tr:last-of-type th {\n",
       "        text-align: right;\n",
       "    }\n",
       "</style>\n",
       "<table border=\"1\" class=\"dataframe\">\n",
       "  <thead>\n",
       "    <tr>\n",
       "      <th></th>\n",
       "      <th colspan=\"12\" halign=\"left\">lifeExp</th>\n",
       "    </tr>\n",
       "    <tr>\n",
       "      <th>year</th>\n",
       "      <th>1952</th>\n",
       "      <th>1957</th>\n",
       "      <th>1962</th>\n",
       "      <th>1967</th>\n",
       "      <th>1972</th>\n",
       "      <th>1977</th>\n",
       "      <th>1982</th>\n",
       "      <th>1987</th>\n",
       "      <th>1992</th>\n",
       "      <th>1997</th>\n",
       "      <th>2002</th>\n",
       "      <th>2007</th>\n",
       "    </tr>\n",
       "    <tr>\n",
       "      <th>country</th>\n",
       "      <th></th>\n",
       "      <th></th>\n",
       "      <th></th>\n",
       "      <th></th>\n",
       "      <th></th>\n",
       "      <th></th>\n",
       "      <th></th>\n",
       "      <th></th>\n",
       "      <th></th>\n",
       "      <th></th>\n",
       "      <th></th>\n",
       "      <th></th>\n",
       "    </tr>\n",
       "  </thead>\n",
       "  <tbody>\n",
       "    <tr>\n",
       "      <th>Afghanistan</th>\n",
       "      <td>29.0</td>\n",
       "      <td>30.0</td>\n",
       "      <td>32.0</td>\n",
       "      <td>34.0</td>\n",
       "      <td>36.0</td>\n",
       "      <td>38.0</td>\n",
       "      <td>40.0</td>\n",
       "      <td>41.0</td>\n",
       "      <td>42.0</td>\n",
       "      <td>42.0</td>\n",
       "      <td>42.0</td>\n",
       "      <td>44.0</td>\n",
       "    </tr>\n",
       "    <tr>\n",
       "      <th>Albania</th>\n",
       "      <td>55.0</td>\n",
       "      <td>59.0</td>\n",
       "      <td>65.0</td>\n",
       "      <td>66.0</td>\n",
       "      <td>68.0</td>\n",
       "      <td>69.0</td>\n",
       "      <td>70.0</td>\n",
       "      <td>72.0</td>\n",
       "      <td>72.0</td>\n",
       "      <td>73.0</td>\n",
       "      <td>76.0</td>\n",
       "      <td>76.0</td>\n",
       "    </tr>\n",
       "    <tr>\n",
       "      <th>Algeria</th>\n",
       "      <td>43.0</td>\n",
       "      <td>46.0</td>\n",
       "      <td>48.0</td>\n",
       "      <td>51.0</td>\n",
       "      <td>55.0</td>\n",
       "      <td>58.0</td>\n",
       "      <td>61.0</td>\n",
       "      <td>66.0</td>\n",
       "      <td>68.0</td>\n",
       "      <td>69.0</td>\n",
       "      <td>71.0</td>\n",
       "      <td>72.0</td>\n",
       "    </tr>\n",
       "    <tr>\n",
       "      <th>Angola</th>\n",
       "      <td>30.0</td>\n",
       "      <td>32.0</td>\n",
       "      <td>34.0</td>\n",
       "      <td>36.0</td>\n",
       "      <td>38.0</td>\n",
       "      <td>39.0</td>\n",
       "      <td>40.0</td>\n",
       "      <td>40.0</td>\n",
       "      <td>41.0</td>\n",
       "      <td>41.0</td>\n",
       "      <td>41.0</td>\n",
       "      <td>43.0</td>\n",
       "    </tr>\n",
       "    <tr>\n",
       "      <th>Argentina</th>\n",
       "      <td>62.0</td>\n",
       "      <td>64.0</td>\n",
       "      <td>65.0</td>\n",
       "      <td>66.0</td>\n",
       "      <td>67.0</td>\n",
       "      <td>68.0</td>\n",
       "      <td>70.0</td>\n",
       "      <td>71.0</td>\n",
       "      <td>72.0</td>\n",
       "      <td>73.0</td>\n",
       "      <td>74.0</td>\n",
       "      <td>75.0</td>\n",
       "    </tr>\n",
       "  </tbody>\n",
       "</table>\n",
       "</div>"
      ],
      "text/plain": [
       "            lifeExp                                                        \\\n",
       "year           1952  1957  1962  1967  1972  1977  1982  1987  1992  1997   \n",
       "country                                                                     \n",
       "Afghanistan    29.0  30.0  32.0  34.0  36.0  38.0  40.0  41.0  42.0  42.0   \n",
       "Albania        55.0  59.0  65.0  66.0  68.0  69.0  70.0  72.0  72.0  73.0   \n",
       "Algeria        43.0  46.0  48.0  51.0  55.0  58.0  61.0  66.0  68.0  69.0   \n",
       "Angola         30.0  32.0  34.0  36.0  38.0  39.0  40.0  40.0  41.0  41.0   \n",
       "Argentina      62.0  64.0  65.0  66.0  67.0  68.0  70.0  71.0  72.0  73.0   \n",
       "\n",
       "                         \n",
       "year         2002  2007  \n",
       "country                  \n",
       "Afghanistan  42.0  44.0  \n",
       "Albania      76.0  76.0  \n",
       "Algeria      71.0  72.0  \n",
       "Angola       41.0  43.0  \n",
       "Argentina    74.0  75.0  "
      ]
     },
     "execution_count": 18,
     "metadata": {},
     "output_type": "execute_result"
    }
   ],
   "source": [
    "lifeExp = df[['country', 'year', 'lifeExp']].set_index(['country', 'year']).unstack().round(0)\n",
    "lifeExp.head()"
   ]
  },
  {
   "cell_type": "code",
   "execution_count": 19,
   "metadata": {},
   "outputs": [
    {
     "data": {
      "text/html": [
       "<div>\n",
       "<style scoped>\n",
       "    .dataframe tbody tr th:only-of-type {\n",
       "        vertical-align: middle;\n",
       "    }\n",
       "\n",
       "    .dataframe tbody tr th {\n",
       "        vertical-align: top;\n",
       "    }\n",
       "\n",
       "    .dataframe thead tr th {\n",
       "        text-align: left;\n",
       "    }\n",
       "\n",
       "    .dataframe thead tr:last-of-type th {\n",
       "        text-align: right;\n",
       "    }\n",
       "</style>\n",
       "<table border=\"1\" class=\"dataframe\">\n",
       "  <thead>\n",
       "    <tr>\n",
       "      <th></th>\n",
       "      <th colspan=\"12\" halign=\"left\">gdpPercap</th>\n",
       "    </tr>\n",
       "    <tr>\n",
       "      <th>year</th>\n",
       "      <th>1952</th>\n",
       "      <th>1957</th>\n",
       "      <th>1962</th>\n",
       "      <th>1967</th>\n",
       "      <th>1972</th>\n",
       "      <th>1977</th>\n",
       "      <th>1982</th>\n",
       "      <th>1987</th>\n",
       "      <th>1992</th>\n",
       "      <th>1997</th>\n",
       "      <th>2002</th>\n",
       "      <th>2007</th>\n",
       "    </tr>\n",
       "    <tr>\n",
       "      <th>country</th>\n",
       "      <th></th>\n",
       "      <th></th>\n",
       "      <th></th>\n",
       "      <th></th>\n",
       "      <th></th>\n",
       "      <th></th>\n",
       "      <th></th>\n",
       "      <th></th>\n",
       "      <th></th>\n",
       "      <th></th>\n",
       "      <th></th>\n",
       "      <th></th>\n",
       "    </tr>\n",
       "  </thead>\n",
       "  <tbody>\n",
       "    <tr>\n",
       "      <th>Afghanistan</th>\n",
       "      <td>779.0</td>\n",
       "      <td>821.0</td>\n",
       "      <td>853.0</td>\n",
       "      <td>836.0</td>\n",
       "      <td>740.0</td>\n",
       "      <td>786.0</td>\n",
       "      <td>978.0</td>\n",
       "      <td>852.0</td>\n",
       "      <td>649.0</td>\n",
       "      <td>635.0</td>\n",
       "      <td>727.0</td>\n",
       "      <td>975.0</td>\n",
       "    </tr>\n",
       "    <tr>\n",
       "      <th>Albania</th>\n",
       "      <td>1601.0</td>\n",
       "      <td>1942.0</td>\n",
       "      <td>2313.0</td>\n",
       "      <td>2760.0</td>\n",
       "      <td>3313.0</td>\n",
       "      <td>3533.0</td>\n",
       "      <td>3631.0</td>\n",
       "      <td>3739.0</td>\n",
       "      <td>2497.0</td>\n",
       "      <td>3193.0</td>\n",
       "      <td>4604.0</td>\n",
       "      <td>5937.0</td>\n",
       "    </tr>\n",
       "    <tr>\n",
       "      <th>Algeria</th>\n",
       "      <td>2449.0</td>\n",
       "      <td>3014.0</td>\n",
       "      <td>2551.0</td>\n",
       "      <td>3247.0</td>\n",
       "      <td>4183.0</td>\n",
       "      <td>4910.0</td>\n",
       "      <td>5745.0</td>\n",
       "      <td>5681.0</td>\n",
       "      <td>5023.0</td>\n",
       "      <td>4797.0</td>\n",
       "      <td>5288.0</td>\n",
       "      <td>6223.0</td>\n",
       "    </tr>\n",
       "    <tr>\n",
       "      <th>Angola</th>\n",
       "      <td>3521.0</td>\n",
       "      <td>3828.0</td>\n",
       "      <td>4269.0</td>\n",
       "      <td>5523.0</td>\n",
       "      <td>5473.0</td>\n",
       "      <td>3009.0</td>\n",
       "      <td>2757.0</td>\n",
       "      <td>2430.0</td>\n",
       "      <td>2628.0</td>\n",
       "      <td>2277.0</td>\n",
       "      <td>2773.0</td>\n",
       "      <td>4797.0</td>\n",
       "    </tr>\n",
       "    <tr>\n",
       "      <th>Argentina</th>\n",
       "      <td>5911.0</td>\n",
       "      <td>6857.0</td>\n",
       "      <td>7133.0</td>\n",
       "      <td>8053.0</td>\n",
       "      <td>9443.0</td>\n",
       "      <td>10079.0</td>\n",
       "      <td>8998.0</td>\n",
       "      <td>9140.0</td>\n",
       "      <td>9308.0</td>\n",
       "      <td>10967.0</td>\n",
       "      <td>8798.0</td>\n",
       "      <td>12779.0</td>\n",
       "    </tr>\n",
       "  </tbody>\n",
       "</table>\n",
       "</div>"
      ],
      "text/plain": [
       "            gdpPercap                                                   \\\n",
       "year             1952    1957    1962    1967    1972     1977    1982   \n",
       "country                                                                  \n",
       "Afghanistan     779.0   821.0   853.0   836.0   740.0    786.0   978.0   \n",
       "Albania        1601.0  1942.0  2313.0  2760.0  3313.0   3533.0  3631.0   \n",
       "Algeria        2449.0  3014.0  2551.0  3247.0  4183.0   4910.0  5745.0   \n",
       "Angola         3521.0  3828.0  4269.0  5523.0  5473.0   3009.0  2757.0   \n",
       "Argentina      5911.0  6857.0  7133.0  8053.0  9443.0  10079.0  8998.0   \n",
       "\n",
       "                                                       \n",
       "year           1987    1992     1997    2002     2007  \n",
       "country                                                \n",
       "Afghanistan   852.0   649.0    635.0   727.0    975.0  \n",
       "Albania      3739.0  2497.0   3193.0  4604.0   5937.0  \n",
       "Algeria      5681.0  5023.0   4797.0  5288.0   6223.0  \n",
       "Angola       2430.0  2628.0   2277.0  2773.0   4797.0  \n",
       "Argentina    9140.0  9308.0  10967.0  8798.0  12779.0  "
      ]
     },
     "execution_count": 19,
     "metadata": {},
     "output_type": "execute_result"
    }
   ],
   "source": [
    "gdpPercap = df[['country', 'year', 'gdpPercap']].set_index(['country', 'year']).unstack().round(0)\n",
    "gdpPercap.head()"
   ]
  },
  {
   "attachments": {},
   "cell_type": "markdown",
   "metadata": {},
   "source": [
    "The two datasets above need to be concatenated to produce our input dataset "
   ]
  },
  {
   "cell_type": "code",
   "execution_count": 20,
   "metadata": {},
   "outputs": [
    {
     "data": {
      "text/html": [
       "<div>\n",
       "<style scoped>\n",
       "    .dataframe tbody tr th:only-of-type {\n",
       "        vertical-align: middle;\n",
       "    }\n",
       "\n",
       "    .dataframe tbody tr th {\n",
       "        vertical-align: top;\n",
       "    }\n",
       "\n",
       "    .dataframe thead tr th {\n",
       "        text-align: left;\n",
       "    }\n",
       "\n",
       "    .dataframe thead tr:last-of-type th {\n",
       "        text-align: right;\n",
       "    }\n",
       "</style>\n",
       "<table border=\"1\" class=\"dataframe\">\n",
       "  <thead>\n",
       "    <tr>\n",
       "      <th></th>\n",
       "      <th colspan=\"10\" halign=\"left\">lifeExp</th>\n",
       "      <th>...</th>\n",
       "      <th colspan=\"10\" halign=\"left\">gdpPercap</th>\n",
       "    </tr>\n",
       "    <tr>\n",
       "      <th>year</th>\n",
       "      <th>1952</th>\n",
       "      <th>1957</th>\n",
       "      <th>1962</th>\n",
       "      <th>1967</th>\n",
       "      <th>1972</th>\n",
       "      <th>1977</th>\n",
       "      <th>1982</th>\n",
       "      <th>1987</th>\n",
       "      <th>1992</th>\n",
       "      <th>1997</th>\n",
       "      <th>...</th>\n",
       "      <th>1962</th>\n",
       "      <th>1967</th>\n",
       "      <th>1972</th>\n",
       "      <th>1977</th>\n",
       "      <th>1982</th>\n",
       "      <th>1987</th>\n",
       "      <th>1992</th>\n",
       "      <th>1997</th>\n",
       "      <th>2002</th>\n",
       "      <th>2007</th>\n",
       "    </tr>\n",
       "    <tr>\n",
       "      <th>country</th>\n",
       "      <th></th>\n",
       "      <th></th>\n",
       "      <th></th>\n",
       "      <th></th>\n",
       "      <th></th>\n",
       "      <th></th>\n",
       "      <th></th>\n",
       "      <th></th>\n",
       "      <th></th>\n",
       "      <th></th>\n",
       "      <th></th>\n",
       "      <th></th>\n",
       "      <th></th>\n",
       "      <th></th>\n",
       "      <th></th>\n",
       "      <th></th>\n",
       "      <th></th>\n",
       "      <th></th>\n",
       "      <th></th>\n",
       "      <th></th>\n",
       "      <th></th>\n",
       "    </tr>\n",
       "  </thead>\n",
       "  <tbody>\n",
       "    <tr>\n",
       "      <th>Afghanistan</th>\n",
       "      <td>29.0</td>\n",
       "      <td>30.0</td>\n",
       "      <td>32.0</td>\n",
       "      <td>34.0</td>\n",
       "      <td>36.0</td>\n",
       "      <td>38.0</td>\n",
       "      <td>40.0</td>\n",
       "      <td>41.0</td>\n",
       "      <td>42.0</td>\n",
       "      <td>42.0</td>\n",
       "      <td>...</td>\n",
       "      <td>853.0</td>\n",
       "      <td>836.0</td>\n",
       "      <td>740.0</td>\n",
       "      <td>786.0</td>\n",
       "      <td>978.0</td>\n",
       "      <td>852.0</td>\n",
       "      <td>649.0</td>\n",
       "      <td>635.0</td>\n",
       "      <td>727.0</td>\n",
       "      <td>975.0</td>\n",
       "    </tr>\n",
       "    <tr>\n",
       "      <th>Albania</th>\n",
       "      <td>55.0</td>\n",
       "      <td>59.0</td>\n",
       "      <td>65.0</td>\n",
       "      <td>66.0</td>\n",
       "      <td>68.0</td>\n",
       "      <td>69.0</td>\n",
       "      <td>70.0</td>\n",
       "      <td>72.0</td>\n",
       "      <td>72.0</td>\n",
       "      <td>73.0</td>\n",
       "      <td>...</td>\n",
       "      <td>2313.0</td>\n",
       "      <td>2760.0</td>\n",
       "      <td>3313.0</td>\n",
       "      <td>3533.0</td>\n",
       "      <td>3631.0</td>\n",
       "      <td>3739.0</td>\n",
       "      <td>2497.0</td>\n",
       "      <td>3193.0</td>\n",
       "      <td>4604.0</td>\n",
       "      <td>5937.0</td>\n",
       "    </tr>\n",
       "    <tr>\n",
       "      <th>Algeria</th>\n",
       "      <td>43.0</td>\n",
       "      <td>46.0</td>\n",
       "      <td>48.0</td>\n",
       "      <td>51.0</td>\n",
       "      <td>55.0</td>\n",
       "      <td>58.0</td>\n",
       "      <td>61.0</td>\n",
       "      <td>66.0</td>\n",
       "      <td>68.0</td>\n",
       "      <td>69.0</td>\n",
       "      <td>...</td>\n",
       "      <td>2551.0</td>\n",
       "      <td>3247.0</td>\n",
       "      <td>4183.0</td>\n",
       "      <td>4910.0</td>\n",
       "      <td>5745.0</td>\n",
       "      <td>5681.0</td>\n",
       "      <td>5023.0</td>\n",
       "      <td>4797.0</td>\n",
       "      <td>5288.0</td>\n",
       "      <td>6223.0</td>\n",
       "    </tr>\n",
       "    <tr>\n",
       "      <th>Angola</th>\n",
       "      <td>30.0</td>\n",
       "      <td>32.0</td>\n",
       "      <td>34.0</td>\n",
       "      <td>36.0</td>\n",
       "      <td>38.0</td>\n",
       "      <td>39.0</td>\n",
       "      <td>40.0</td>\n",
       "      <td>40.0</td>\n",
       "      <td>41.0</td>\n",
       "      <td>41.0</td>\n",
       "      <td>...</td>\n",
       "      <td>4269.0</td>\n",
       "      <td>5523.0</td>\n",
       "      <td>5473.0</td>\n",
       "      <td>3009.0</td>\n",
       "      <td>2757.0</td>\n",
       "      <td>2430.0</td>\n",
       "      <td>2628.0</td>\n",
       "      <td>2277.0</td>\n",
       "      <td>2773.0</td>\n",
       "      <td>4797.0</td>\n",
       "    </tr>\n",
       "    <tr>\n",
       "      <th>Argentina</th>\n",
       "      <td>62.0</td>\n",
       "      <td>64.0</td>\n",
       "      <td>65.0</td>\n",
       "      <td>66.0</td>\n",
       "      <td>67.0</td>\n",
       "      <td>68.0</td>\n",
       "      <td>70.0</td>\n",
       "      <td>71.0</td>\n",
       "      <td>72.0</td>\n",
       "      <td>73.0</td>\n",
       "      <td>...</td>\n",
       "      <td>7133.0</td>\n",
       "      <td>8053.0</td>\n",
       "      <td>9443.0</td>\n",
       "      <td>10079.0</td>\n",
       "      <td>8998.0</td>\n",
       "      <td>9140.0</td>\n",
       "      <td>9308.0</td>\n",
       "      <td>10967.0</td>\n",
       "      <td>8798.0</td>\n",
       "      <td>12779.0</td>\n",
       "    </tr>\n",
       "  </tbody>\n",
       "</table>\n",
       "<p>5 rows × 24 columns</p>\n",
       "</div>"
      ],
      "text/plain": [
       "            lifeExp                                                        \\\n",
       "year           1952  1957  1962  1967  1972  1977  1982  1987  1992  1997   \n",
       "country                                                                     \n",
       "Afghanistan    29.0  30.0  32.0  34.0  36.0  38.0  40.0  41.0  42.0  42.0   \n",
       "Albania        55.0  59.0  65.0  66.0  68.0  69.0  70.0  72.0  72.0  73.0   \n",
       "Algeria        43.0  46.0  48.0  51.0  55.0  58.0  61.0  66.0  68.0  69.0   \n",
       "Angola         30.0  32.0  34.0  36.0  38.0  39.0  40.0  40.0  41.0  41.0   \n",
       "Argentina      62.0  64.0  65.0  66.0  67.0  68.0  70.0  71.0  72.0  73.0   \n",
       "\n",
       "             ... gdpPercap                                                   \\\n",
       "year         ...      1962    1967    1972     1977    1982    1987    1992   \n",
       "country      ...                                                              \n",
       "Afghanistan  ...     853.0   836.0   740.0    786.0   978.0   852.0   649.0   \n",
       "Albania      ...    2313.0  2760.0  3313.0   3533.0  3631.0  3739.0  2497.0   \n",
       "Algeria      ...    2551.0  3247.0  4183.0   4910.0  5745.0  5681.0  5023.0   \n",
       "Angola       ...    4269.0  5523.0  5473.0   3009.0  2757.0  2430.0  2628.0   \n",
       "Argentina    ...    7133.0  8053.0  9443.0  10079.0  8998.0  9140.0  9308.0   \n",
       "\n",
       "                                       \n",
       "year            1997    2002     2007  \n",
       "country                                \n",
       "Afghanistan    635.0   727.0    975.0  \n",
       "Albania       3193.0  4604.0   5937.0  \n",
       "Algeria       4797.0  5288.0   6223.0  \n",
       "Angola        2277.0  2773.0   4797.0  \n",
       "Argentina    10967.0  8798.0  12779.0  \n",
       "\n",
       "[5 rows x 24 columns]"
      ]
     },
     "execution_count": 20,
     "metadata": {},
     "output_type": "execute_result"
    }
   ],
   "source": [
    "df2 = pd.concat([lifeExp,gdpPercap], axis=1) \n",
    "df2.head()"
   ]
  },
  {
   "attachments": {},
   "cell_type": "markdown",
   "metadata": {},
   "source": [
    "As stated above, the new dataset has variables with different scales. It needs to be standardized or normalized. This can be easily done using the standard scaler object in scikit learn"
   ]
  },
  {
   "cell_type": "code",
   "execution_count": 21,
   "metadata": {},
   "outputs": [],
   "source": [
    "from sklearn.preprocessing import StandardScaler"
   ]
  },
  {
   "cell_type": "code",
   "execution_count": 68,
   "metadata": {},
   "outputs": [],
   "source": [
    "df2_scaled =  StandardScaler().fit(df2.values).transform(df2.values)"
   ]
  },
  {
   "cell_type": "code",
   "execution_count": 69,
   "metadata": {},
   "outputs": [
    {
     "data": {
      "text/plain": [
       "(141, 24)"
      ]
     },
     "execution_count": 69,
     "metadata": {},
     "output_type": "execute_result"
    }
   ],
   "source": [
    "df2_scaled.shape"
   ]
  },
  {
   "attachments": {},
   "cell_type": "markdown",
   "metadata": {},
   "source": [
    "df2_scaled is a numpy array. The number of rows is equal to the number of countries and the number of columns equal to the total number of variables. If we put the scaled values into a dataframe we see that that the standard scaling algorithm replaced each value with its z-score calculated column-wise. "
   ]
  },
  {
   "cell_type": "code",
   "execution_count": 70,
   "metadata": {},
   "outputs": [],
   "source": [
    "df2_scaled = pd.DataFrame(df2_scaled, columns=df2.columns, index=df2.index)"
   ]
  },
  {
   "cell_type": "code",
   "execution_count": 71,
   "metadata": {},
   "outputs": [
    {
     "data": {
      "text/html": [
       "<div>\n",
       "<style scoped>\n",
       "    .dataframe tbody tr th:only-of-type {\n",
       "        vertical-align: middle;\n",
       "    }\n",
       "\n",
       "    .dataframe tbody tr th {\n",
       "        vertical-align: top;\n",
       "    }\n",
       "\n",
       "    .dataframe thead tr th {\n",
       "        text-align: left;\n",
       "    }\n",
       "\n",
       "    .dataframe thead tr:last-of-type th {\n",
       "        text-align: right;\n",
       "    }\n",
       "</style>\n",
       "<table border=\"1\" class=\"dataframe\">\n",
       "  <thead>\n",
       "    <tr>\n",
       "      <th></th>\n",
       "      <th colspan=\"10\" halign=\"left\">lifeExp</th>\n",
       "      <th>...</th>\n",
       "      <th colspan=\"10\" halign=\"left\">gdpPercap</th>\n",
       "    </tr>\n",
       "    <tr>\n",
       "      <th>year</th>\n",
       "      <th>1952</th>\n",
       "      <th>1957</th>\n",
       "      <th>1962</th>\n",
       "      <th>1967</th>\n",
       "      <th>1972</th>\n",
       "      <th>1977</th>\n",
       "      <th>1982</th>\n",
       "      <th>1987</th>\n",
       "      <th>1992</th>\n",
       "      <th>1997</th>\n",
       "      <th>...</th>\n",
       "      <th>1962</th>\n",
       "      <th>1967</th>\n",
       "      <th>1972</th>\n",
       "      <th>1977</th>\n",
       "      <th>1982</th>\n",
       "      <th>1987</th>\n",
       "      <th>1992</th>\n",
       "      <th>1997</th>\n",
       "      <th>2002</th>\n",
       "      <th>2007</th>\n",
       "    </tr>\n",
       "    <tr>\n",
       "      <th>country</th>\n",
       "      <th></th>\n",
       "      <th></th>\n",
       "      <th></th>\n",
       "      <th></th>\n",
       "      <th></th>\n",
       "      <th></th>\n",
       "      <th></th>\n",
       "      <th></th>\n",
       "      <th></th>\n",
       "      <th></th>\n",
       "      <th></th>\n",
       "      <th></th>\n",
       "      <th></th>\n",
       "      <th></th>\n",
       "      <th></th>\n",
       "      <th></th>\n",
       "      <th></th>\n",
       "      <th></th>\n",
       "      <th></th>\n",
       "      <th></th>\n",
       "      <th></th>\n",
       "    </tr>\n",
       "  </thead>\n",
       "  <tbody>\n",
       "    <tr>\n",
       "      <th>Afghanistan</th>\n",
       "      <td>-1.631762</td>\n",
       "      <td>-1.755950</td>\n",
       "      <td>-1.778137</td>\n",
       "      <td>-1.841151</td>\n",
       "      <td>-1.907761</td>\n",
       "      <td>-1.922778</td>\n",
       "      <td>-2.004456</td>\n",
       "      <td>-2.108653</td>\n",
       "      <td>-1.975678</td>\n",
       "      <td>-1.983276</td>\n",
       "      <td>...</td>\n",
       "      <td>-0.799292</td>\n",
       "      <td>-0.823961</td>\n",
       "      <td>-0.865787</td>\n",
       "      <td>-0.865335</td>\n",
       "      <td>-0.853348</td>\n",
       "      <td>-0.851461</td>\n",
       "      <td>-0.837129</td>\n",
       "      <td>-0.838165</td>\n",
       "      <td>-0.823101</td>\n",
       "      <td>-0.836024</td>\n",
       "    </tr>\n",
       "    <tr>\n",
       "      <th>Albania</th>\n",
       "      <td>0.492542</td>\n",
       "      <td>0.621560</td>\n",
       "      <td>0.946154</td>\n",
       "      <td>0.887914</td>\n",
       "      <td>0.918181</td>\n",
       "      <td>0.853721</td>\n",
       "      <td>0.794768</td>\n",
       "      <td>0.841706</td>\n",
       "      <td>0.712362</td>\n",
       "      <td>0.699763</td>\n",
       "      <td>...</td>\n",
       "      <td>-0.437925</td>\n",
       "      <td>-0.438510</td>\n",
       "      <td>-0.445675</td>\n",
       "      <td>-0.479365</td>\n",
       "      <td>-0.498047</td>\n",
       "      <td>-0.495491</td>\n",
       "      <td>-0.625780</td>\n",
       "      <td>-0.577771</td>\n",
       "      <td>-0.469008</td>\n",
       "      <td>-0.439142</td>\n",
       "    </tr>\n",
       "    <tr>\n",
       "      <th>Algeria</th>\n",
       "      <td>-0.487906</td>\n",
       "      <td>-0.444220</td>\n",
       "      <td>-0.457269</td>\n",
       "      <td>-0.391335</td>\n",
       "      <td>-0.229858</td>\n",
       "      <td>-0.131488</td>\n",
       "      <td>-0.044999</td>\n",
       "      <td>0.270669</td>\n",
       "      <td>0.353957</td>\n",
       "      <td>0.353565</td>\n",
       "      <td>...</td>\n",
       "      <td>-0.379018</td>\n",
       "      <td>-0.340946</td>\n",
       "      <td>-0.303624</td>\n",
       "      <td>-0.285888</td>\n",
       "      <td>-0.214931</td>\n",
       "      <td>-0.256040</td>\n",
       "      <td>-0.336892</td>\n",
       "      <td>-0.414490</td>\n",
       "      <td>-0.406537</td>\n",
       "      <td>-0.416266</td>\n",
       "    </tr>\n",
       "    <tr>\n",
       "      <th>Angola</th>\n",
       "      <td>-1.550058</td>\n",
       "      <td>-1.591984</td>\n",
       "      <td>-1.613028</td>\n",
       "      <td>-1.670584</td>\n",
       "      <td>-1.731140</td>\n",
       "      <td>-1.833214</td>\n",
       "      <td>-2.004456</td>\n",
       "      <td>-2.203825</td>\n",
       "      <td>-2.065279</td>\n",
       "      <td>-2.069826</td>\n",
       "      <td>...</td>\n",
       "      <td>0.046207</td>\n",
       "      <td>0.115024</td>\n",
       "      <td>-0.092996</td>\n",
       "      <td>-0.552990</td>\n",
       "      <td>-0.615097</td>\n",
       "      <td>-0.656892</td>\n",
       "      <td>-0.610798</td>\n",
       "      <td>-0.671016</td>\n",
       "      <td>-0.636236</td>\n",
       "      <td>-0.530324</td>\n",
       "    </tr>\n",
       "    <tr>\n",
       "      <th>Argentina</th>\n",
       "      <td>1.064470</td>\n",
       "      <td>1.031475</td>\n",
       "      <td>0.946154</td>\n",
       "      <td>0.887914</td>\n",
       "      <td>0.829870</td>\n",
       "      <td>0.764157</td>\n",
       "      <td>0.794768</td>\n",
       "      <td>0.746533</td>\n",
       "      <td>0.712362</td>\n",
       "      <td>0.699763</td>\n",
       "      <td>...</td>\n",
       "      <td>0.755081</td>\n",
       "      <td>0.621879</td>\n",
       "      <td>0.555214</td>\n",
       "      <td>0.440388</td>\n",
       "      <td>0.220725</td>\n",
       "      <td>0.170458</td>\n",
       "      <td>0.153167</td>\n",
       "      <td>0.213591</td>\n",
       "      <td>-0.085961</td>\n",
       "      <td>0.108110</td>\n",
       "    </tr>\n",
       "  </tbody>\n",
       "</table>\n",
       "<p>5 rows × 24 columns</p>\n",
       "</div>"
      ],
      "text/plain": [
       "              lifeExp                                                    \\\n",
       "year             1952      1957      1962      1967      1972      1977   \n",
       "country                                                                   \n",
       "Afghanistan -1.631762 -1.755950 -1.778137 -1.841151 -1.907761 -1.922778   \n",
       "Albania      0.492542  0.621560  0.946154  0.887914  0.918181  0.853721   \n",
       "Algeria     -0.487906 -0.444220 -0.457269 -0.391335 -0.229858 -0.131488   \n",
       "Angola      -1.550058 -1.591984 -1.613028 -1.670584 -1.731140 -1.833214   \n",
       "Argentina    1.064470  1.031475  0.946154  0.887914  0.829870  0.764157   \n",
       "\n",
       "                                                     ... gdpPercap            \\\n",
       "year             1982      1987      1992      1997  ...      1962      1967   \n",
       "country                                              ...                       \n",
       "Afghanistan -2.004456 -2.108653 -1.975678 -1.983276  ... -0.799292 -0.823961   \n",
       "Albania      0.794768  0.841706  0.712362  0.699763  ... -0.437925 -0.438510   \n",
       "Algeria     -0.044999  0.270669  0.353957  0.353565  ... -0.379018 -0.340946   \n",
       "Angola      -2.004456 -2.203825 -2.065279 -2.069826  ...  0.046207  0.115024   \n",
       "Argentina    0.794768  0.746533  0.712362  0.699763  ...  0.755081  0.621879   \n",
       "\n",
       "                                                                         \\\n",
       "year             1972      1977      1982      1987      1992      1997   \n",
       "country                                                                   \n",
       "Afghanistan -0.865787 -0.865335 -0.853348 -0.851461 -0.837129 -0.838165   \n",
       "Albania     -0.445675 -0.479365 -0.498047 -0.495491 -0.625780 -0.577771   \n",
       "Algeria     -0.303624 -0.285888 -0.214931 -0.256040 -0.336892 -0.414490   \n",
       "Angola      -0.092996 -0.552990 -0.615097 -0.656892 -0.610798 -0.671016   \n",
       "Argentina    0.555214  0.440388  0.220725  0.170458  0.153167  0.213591   \n",
       "\n",
       "                                 \n",
       "year             2002      2007  \n",
       "country                          \n",
       "Afghanistan -0.823101 -0.836024  \n",
       "Albania     -0.469008 -0.439142  \n",
       "Algeria     -0.406537 -0.416266  \n",
       "Angola      -0.636236 -0.530324  \n",
       "Argentina   -0.085961  0.108110  \n",
       "\n",
       "[5 rows x 24 columns]"
      ]
     },
     "execution_count": 71,
     "metadata": {},
     "output_type": "execute_result"
    }
   ],
   "source": [
    "df2_scaled.head()"
   ]
  },
  {
   "attachments": {},
   "cell_type": "markdown",
   "metadata": {},
   "source": [
    "# Project the data using MDS"
   ]
  },
  {
   "cell_type": "code",
   "execution_count": 72,
   "metadata": {},
   "outputs": [],
   "source": [
    "from sklearn.manifold import MDS"
   ]
  },
  {
   "cell_type": "code",
   "execution_count": 27,
   "metadata": {},
   "outputs": [],
   "source": [
    "coords_MDS = MDS(n_components=2).fit_transform(df2_scaled.values)"
   ]
  },
  {
   "cell_type": "code",
   "execution_count": 28,
   "metadata": {},
   "outputs": [
    {
     "data": {
      "text/plain": [
       "array([[-7.00930751, -1.95498714],\n",
       "       [ 2.42547993, -2.11748601],\n",
       "       [-0.32929555, -0.93566415],\n",
       "       [-6.79007367,  0.00702174],\n",
       "       [ 2.72251048,  1.49789865]])"
      ]
     },
     "execution_count": 28,
     "metadata": {},
     "output_type": "execute_result"
    }
   ],
   "source": [
    "coords_MDS[0:5]"
   ]
  },
  {
   "cell_type": "code",
   "execution_count": 29,
   "metadata": {},
   "outputs": [
    {
     "data": {
      "text/plain": [
       "(141, 2)"
      ]
     },
     "execution_count": 29,
     "metadata": {},
     "output_type": "execute_result"
    }
   ],
   "source": [
    "coords_MDS.shape"
   ]
  },
  {
   "attachments": {},
   "cell_type": "markdown",
   "metadata": {},
   "source": [
    "The MDS algorithm produced x,y coordinates for each and every country. Each coordinate pair is the projection of the country to the plane. Let's create a dataset that contains the MDS projections. "
   ]
  },
  {
   "cell_type": "code",
   "execution_count": 73,
   "metadata": {},
   "outputs": [],
   "source": [
    "HDmap = pd.DataFrame(index=df2_scaled.index)\n",
    "\n",
    "HDmap['MDS_x'] = coords_MDS[:,0]\n",
    "HDmap['MDS_y'] = coords_MDS[:,1]"
   ]
  },
  {
   "cell_type": "code",
   "execution_count": 74,
   "metadata": {},
   "outputs": [
    {
     "data": {
      "text/html": [
       "<div>\n",
       "<style scoped>\n",
       "    .dataframe tbody tr th:only-of-type {\n",
       "        vertical-align: middle;\n",
       "    }\n",
       "\n",
       "    .dataframe tbody tr th {\n",
       "        vertical-align: top;\n",
       "    }\n",
       "\n",
       "    .dataframe thead th {\n",
       "        text-align: right;\n",
       "    }\n",
       "</style>\n",
       "<table border=\"1\" class=\"dataframe\">\n",
       "  <thead>\n",
       "    <tr style=\"text-align: right;\">\n",
       "      <th></th>\n",
       "      <th>MDS_x</th>\n",
       "      <th>MDS_y</th>\n",
       "    </tr>\n",
       "    <tr>\n",
       "      <th>country</th>\n",
       "      <th></th>\n",
       "      <th></th>\n",
       "    </tr>\n",
       "  </thead>\n",
       "  <tbody>\n",
       "    <tr>\n",
       "      <th>Afghanistan</th>\n",
       "      <td>-7.009308</td>\n",
       "      <td>-1.954987</td>\n",
       "    </tr>\n",
       "    <tr>\n",
       "      <th>Albania</th>\n",
       "      <td>2.425480</td>\n",
       "      <td>-2.117486</td>\n",
       "    </tr>\n",
       "    <tr>\n",
       "      <th>Algeria</th>\n",
       "      <td>-0.329296</td>\n",
       "      <td>-0.935664</td>\n",
       "    </tr>\n",
       "    <tr>\n",
       "      <th>Angola</th>\n",
       "      <td>-6.790074</td>\n",
       "      <td>0.007022</td>\n",
       "    </tr>\n",
       "    <tr>\n",
       "      <th>Argentina</th>\n",
       "      <td>2.722510</td>\n",
       "      <td>1.497899</td>\n",
       "    </tr>\n",
       "    <tr>\n",
       "      <th>...</th>\n",
       "      <td>...</td>\n",
       "      <td>...</td>\n",
       "    </tr>\n",
       "    <tr>\n",
       "      <th>Vietnam</th>\n",
       "      <td>-0.847594</td>\n",
       "      <td>-3.238943</td>\n",
       "    </tr>\n",
       "    <tr>\n",
       "      <th>West Bank and Gaza</th>\n",
       "      <td>0.075892</td>\n",
       "      <td>-1.505462</td>\n",
       "    </tr>\n",
       "    <tr>\n",
       "      <th>Yemen, Rep.</th>\n",
       "      <td>-3.689281</td>\n",
       "      <td>-3.259212</td>\n",
       "    </tr>\n",
       "    <tr>\n",
       "      <th>Zambia</th>\n",
       "      <td>-4.313068</td>\n",
       "      <td>-3.524176</td>\n",
       "    </tr>\n",
       "    <tr>\n",
       "      <th>Zimbabwe</th>\n",
       "      <td>-3.920884</td>\n",
       "      <td>0.362371</td>\n",
       "    </tr>\n",
       "  </tbody>\n",
       "</table>\n",
       "<p>141 rows × 2 columns</p>\n",
       "</div>"
      ],
      "text/plain": [
       "                       MDS_x     MDS_y\n",
       "country                               \n",
       "Afghanistan        -7.009308 -1.954987\n",
       "Albania             2.425480 -2.117486\n",
       "Algeria            -0.329296 -0.935664\n",
       "Angola             -6.790074  0.007022\n",
       "Argentina           2.722510  1.497899\n",
       "...                      ...       ...\n",
       "Vietnam            -0.847594 -3.238943\n",
       "West Bank and Gaza  0.075892 -1.505462\n",
       "Yemen, Rep.        -3.689281 -3.259212\n",
       "Zambia             -4.313068 -3.524176\n",
       "Zimbabwe           -3.920884  0.362371\n",
       "\n",
       "[141 rows x 2 columns]"
      ]
     },
     "execution_count": 74,
     "metadata": {},
     "output_type": "execute_result"
    }
   ],
   "source": [
    "HDmap"
   ]
  },
  {
   "attachments": {},
   "cell_type": "markdown",
   "metadata": {},
   "source": [
    "We will visualize this projection as a scatterplot. But it should be interpreted as a map. Before we do so we will add country information."
   ]
  },
  {
   "cell_type": "code",
   "execution_count": 32,
   "metadata": {},
   "outputs": [
    {
     "data": {
      "text/plain": [
       "(141, 2)"
      ]
     },
     "execution_count": 32,
     "metadata": {},
     "output_type": "execute_result"
    }
   ],
   "source": [
    "HDmap.shape"
   ]
  },
  {
   "cell_type": "code",
   "execution_count": 75,
   "metadata": {},
   "outputs": [
    {
     "data": {
      "text/html": [
       "<div>\n",
       "<style scoped>\n",
       "    .dataframe tbody tr th:only-of-type {\n",
       "        vertical-align: middle;\n",
       "    }\n",
       "\n",
       "    .dataframe tbody tr th {\n",
       "        vertical-align: top;\n",
       "    }\n",
       "\n",
       "    .dataframe thead th {\n",
       "        text-align: right;\n",
       "    }\n",
       "</style>\n",
       "<table border=\"1\" class=\"dataframe\">\n",
       "  <thead>\n",
       "    <tr style=\"text-align: right;\">\n",
       "      <th></th>\n",
       "      <th>country</th>\n",
       "      <th>MDS_x</th>\n",
       "      <th>MDS_y</th>\n",
       "      <th>iso_alpha</th>\n",
       "      <th>continent</th>\n",
       "      <th>subcontinent</th>\n",
       "    </tr>\n",
       "  </thead>\n",
       "  <tbody>\n",
       "    <tr>\n",
       "      <th>0</th>\n",
       "      <td>Afghanistan</td>\n",
       "      <td>-7.009308</td>\n",
       "      <td>-1.954987</td>\n",
       "      <td>AFG</td>\n",
       "      <td>Asia</td>\n",
       "      <td>Southern Asia</td>\n",
       "    </tr>\n",
       "    <tr>\n",
       "      <th>1</th>\n",
       "      <td>Albania</td>\n",
       "      <td>2.425480</td>\n",
       "      <td>-2.117486</td>\n",
       "      <td>ALB</td>\n",
       "      <td>Europe</td>\n",
       "      <td>Southern Europe</td>\n",
       "    </tr>\n",
       "    <tr>\n",
       "      <th>2</th>\n",
       "      <td>Algeria</td>\n",
       "      <td>-0.329296</td>\n",
       "      <td>-0.935664</td>\n",
       "      <td>DZA</td>\n",
       "      <td>Africa</td>\n",
       "      <td>Northern Africa</td>\n",
       "    </tr>\n",
       "    <tr>\n",
       "      <th>3</th>\n",
       "      <td>Angola</td>\n",
       "      <td>-6.790074</td>\n",
       "      <td>0.007022</td>\n",
       "      <td>AGO</td>\n",
       "      <td>Africa</td>\n",
       "      <td>Sub-Saharan Africa</td>\n",
       "    </tr>\n",
       "    <tr>\n",
       "      <th>4</th>\n",
       "      <td>Argentina</td>\n",
       "      <td>2.722510</td>\n",
       "      <td>1.497899</td>\n",
       "      <td>ARG</td>\n",
       "      <td>Americas</td>\n",
       "      <td>Latin America and the Caribbean</td>\n",
       "    </tr>\n",
       "  </tbody>\n",
       "</table>\n",
       "</div>"
      ],
      "text/plain": [
       "       country     MDS_x     MDS_y iso_alpha continent  \\\n",
       "0  Afghanistan -7.009308 -1.954987       AFG      Asia   \n",
       "1      Albania  2.425480 -2.117486       ALB    Europe   \n",
       "2      Algeria -0.329296 -0.935664       DZA    Africa   \n",
       "3       Angola -6.790074  0.007022       AGO    Africa   \n",
       "4    Argentina  2.722510  1.497899       ARG  Americas   \n",
       "\n",
       "                      subcontinent  \n",
       "0                    Southern Asia  \n",
       "1                  Southern Europe  \n",
       "2                  Northern Africa  \n",
       "3               Sub-Saharan Africa  \n",
       "4  Latin America and the Caribbean  "
      ]
     },
     "execution_count": 75,
     "metadata": {},
     "output_type": "execute_result"
    }
   ],
   "source": [
    "HDmap = HDmap.merge(continents, on=\"country\")\n",
    "HDmap.head()"
   ]
  },
  {
   "cell_type": "code",
   "execution_count": 76,
   "metadata": {},
   "outputs": [
    {
     "data": {
      "text/html": [
       "<div>\n",
       "<style scoped>\n",
       "    .dataframe tbody tr th:only-of-type {\n",
       "        vertical-align: middle;\n",
       "    }\n",
       "\n",
       "    .dataframe tbody tr th {\n",
       "        vertical-align: top;\n",
       "    }\n",
       "\n",
       "    .dataframe thead th {\n",
       "        text-align: right;\n",
       "    }\n",
       "</style>\n",
       "<table border=\"1\" class=\"dataframe\">\n",
       "  <thead>\n",
       "    <tr style=\"text-align: right;\">\n",
       "      <th></th>\n",
       "      <th>country</th>\n",
       "      <th>Images File Name</th>\n",
       "      <th>ImageURL</th>\n",
       "    </tr>\n",
       "  </thead>\n",
       "  <tbody>\n",
       "    <tr>\n",
       "      <th>0</th>\n",
       "      <td>Afghanistan</td>\n",
       "      <td>Flag_of_Afghanistan.svg</td>\n",
       "      <td>https://upload.wikimedia.org/wikipedia/commons...</td>\n",
       "    </tr>\n",
       "    <tr>\n",
       "      <th>1</th>\n",
       "      <td>Albania</td>\n",
       "      <td>Flag_of_Albania.svg</td>\n",
       "      <td>https://upload.wikimedia.org/wikipedia/commons...</td>\n",
       "    </tr>\n",
       "    <tr>\n",
       "      <th>2</th>\n",
       "      <td>Algeria</td>\n",
       "      <td>Flag_of_Algeria.svg</td>\n",
       "      <td>https://upload.wikimedia.org/wikipedia/commons...</td>\n",
       "    </tr>\n",
       "    <tr>\n",
       "      <th>3</th>\n",
       "      <td>Andorra</td>\n",
       "      <td>Flag_of_Andorra.svg</td>\n",
       "      <td>https://upload.wikimedia.org/wikipedia/commons...</td>\n",
       "    </tr>\n",
       "    <tr>\n",
       "      <th>4</th>\n",
       "      <td>Angola</td>\n",
       "      <td>Flag_of_Angola.svg</td>\n",
       "      <td>https://upload.wikimedia.org/wikipedia/commons...</td>\n",
       "    </tr>\n",
       "  </tbody>\n",
       "</table>\n",
       "</div>"
      ],
      "text/plain": [
       "       country         Images File Name  \\\n",
       "0  Afghanistan  Flag_of_Afghanistan.svg   \n",
       "1      Albania      Flag_of_Albania.svg   \n",
       "2      Algeria      Flag_of_Algeria.svg   \n",
       "3      Andorra      Flag_of_Andorra.svg   \n",
       "4       Angola       Flag_of_Angola.svg   \n",
       "\n",
       "                                            ImageURL  \n",
       "0  https://upload.wikimedia.org/wikipedia/commons...  \n",
       "1  https://upload.wikimedia.org/wikipedia/commons...  \n",
       "2  https://upload.wikimedia.org/wikipedia/commons...  \n",
       "3  https://upload.wikimedia.org/wikipedia/commons...  \n",
       "4  https://upload.wikimedia.org/wikipedia/commons...  "
      ]
     },
     "execution_count": 76,
     "metadata": {},
     "output_type": "execute_result"
    }
   ],
   "source": [
    "#Country flags obtained from wikipedia\n",
    "flags = pd.read_csv(\"../data/Country_Flags.csv\")\n",
    "flags.head()"
   ]
  },
  {
   "cell_type": "code",
   "execution_count": 77,
   "metadata": {},
   "outputs": [],
   "source": [
    "HDmap = HDmap.merge(flags, on=['country'])"
   ]
  },
  {
   "cell_type": "code",
   "execution_count": 78,
   "metadata": {},
   "outputs": [
    {
     "data": {
      "text/html": [
       "<div>\n",
       "<style scoped>\n",
       "    .dataframe tbody tr th:only-of-type {\n",
       "        vertical-align: middle;\n",
       "    }\n",
       "\n",
       "    .dataframe tbody tr th {\n",
       "        vertical-align: top;\n",
       "    }\n",
       "\n",
       "    .dataframe thead th {\n",
       "        text-align: right;\n",
       "    }\n",
       "</style>\n",
       "<table border=\"1\" class=\"dataframe\">\n",
       "  <thead>\n",
       "    <tr style=\"text-align: right;\">\n",
       "      <th></th>\n",
       "      <th>country</th>\n",
       "      <th>MDS_x</th>\n",
       "      <th>MDS_y</th>\n",
       "      <th>iso_alpha</th>\n",
       "      <th>continent</th>\n",
       "      <th>subcontinent</th>\n",
       "      <th>Images File Name</th>\n",
       "      <th>ImageURL</th>\n",
       "    </tr>\n",
       "  </thead>\n",
       "  <tbody>\n",
       "    <tr>\n",
       "      <th>0</th>\n",
       "      <td>Afghanistan</td>\n",
       "      <td>-7.009308</td>\n",
       "      <td>-1.954987</td>\n",
       "      <td>AFG</td>\n",
       "      <td>Asia</td>\n",
       "      <td>Southern Asia</td>\n",
       "      <td>Flag_of_Afghanistan.svg</td>\n",
       "      <td>https://upload.wikimedia.org/wikipedia/commons...</td>\n",
       "    </tr>\n",
       "    <tr>\n",
       "      <th>1</th>\n",
       "      <td>Albania</td>\n",
       "      <td>2.425480</td>\n",
       "      <td>-2.117486</td>\n",
       "      <td>ALB</td>\n",
       "      <td>Europe</td>\n",
       "      <td>Southern Europe</td>\n",
       "      <td>Flag_of_Albania.svg</td>\n",
       "      <td>https://upload.wikimedia.org/wikipedia/commons...</td>\n",
       "    </tr>\n",
       "    <tr>\n",
       "      <th>2</th>\n",
       "      <td>Algeria</td>\n",
       "      <td>-0.329296</td>\n",
       "      <td>-0.935664</td>\n",
       "      <td>DZA</td>\n",
       "      <td>Africa</td>\n",
       "      <td>Northern Africa</td>\n",
       "      <td>Flag_of_Algeria.svg</td>\n",
       "      <td>https://upload.wikimedia.org/wikipedia/commons...</td>\n",
       "    </tr>\n",
       "    <tr>\n",
       "      <th>3</th>\n",
       "      <td>Angola</td>\n",
       "      <td>-6.790074</td>\n",
       "      <td>0.007022</td>\n",
       "      <td>AGO</td>\n",
       "      <td>Africa</td>\n",
       "      <td>Sub-Saharan Africa</td>\n",
       "      <td>Flag_of_Angola.svg</td>\n",
       "      <td>https://upload.wikimedia.org/wikipedia/commons...</td>\n",
       "    </tr>\n",
       "    <tr>\n",
       "      <th>4</th>\n",
       "      <td>Argentina</td>\n",
       "      <td>2.722510</td>\n",
       "      <td>1.497899</td>\n",
       "      <td>ARG</td>\n",
       "      <td>Americas</td>\n",
       "      <td>Latin America and the Caribbean</td>\n",
       "      <td>Flag_of_Argentina.svg</td>\n",
       "      <td>https://upload.wikimedia.org/wikipedia/commons...</td>\n",
       "    </tr>\n",
       "  </tbody>\n",
       "</table>\n",
       "</div>"
      ],
      "text/plain": [
       "       country     MDS_x     MDS_y iso_alpha continent  \\\n",
       "0  Afghanistan -7.009308 -1.954987       AFG      Asia   \n",
       "1      Albania  2.425480 -2.117486       ALB    Europe   \n",
       "2      Algeria -0.329296 -0.935664       DZA    Africa   \n",
       "3       Angola -6.790074  0.007022       AGO    Africa   \n",
       "4    Argentina  2.722510  1.497899       ARG  Americas   \n",
       "\n",
       "                      subcontinent         Images File Name  \\\n",
       "0                    Southern Asia  Flag_of_Afghanistan.svg   \n",
       "1                  Southern Europe      Flag_of_Albania.svg   \n",
       "2                  Northern Africa      Flag_of_Algeria.svg   \n",
       "3               Sub-Saharan Africa       Flag_of_Angola.svg   \n",
       "4  Latin America and the Caribbean    Flag_of_Argentina.svg   \n",
       "\n",
       "                                            ImageURL  \n",
       "0  https://upload.wikimedia.org/wikipedia/commons...  \n",
       "1  https://upload.wikimedia.org/wikipedia/commons...  \n",
       "2  https://upload.wikimedia.org/wikipedia/commons...  \n",
       "3  https://upload.wikimedia.org/wikipedia/commons...  \n",
       "4  https://upload.wikimedia.org/wikipedia/commons...  "
      ]
     },
     "execution_count": 78,
     "metadata": {},
     "output_type": "execute_result"
    }
   ],
   "source": [
    "HDmap.head()"
   ]
  },
  {
   "cell_type": "code",
   "execution_count": 37,
   "metadata": {},
   "outputs": [
    {
     "data": {
      "application/vnd.plotly.v1+json": {
       "config": {
        "plotlyServerURL": "https://plot.ly"
       },
       "data": [
        {
         "hovertemplate": "<b>%{hovertext}</b><br><br>continent=Asia<br>MDS_x=%{x}<br>MDS_y=%{y}<extra></extra>",
         "hovertext": [
          "Afghanistan",
          "Bahrain",
          "Bangladesh",
          "Cambodia",
          "China",
          "India",
          "Indonesia",
          "Iran",
          "Iraq",
          "Israel",
          "Japan",
          "Jordan",
          "Lebanon",
          "Malaysia",
          "Mongolia",
          "Myanmar",
          "Nepal",
          "Oman",
          "Pakistan",
          "Philippines",
          "Saudi Arabia",
          "Singapore",
          "Sri Lanka",
          "Syria",
          "Thailand",
          "Turkey",
          "Vietnam"
         ],
         "legendgroup": "Asia",
         "marker": {
          "color": "#636efa",
          "symbol": "circle"
         },
         "mode": "markers",
         "name": "Asia",
         "orientation": "v",
         "showlegend": true,
         "type": "scatter",
         "x": [
          -7.009307512115284,
          2.4824642829205534,
          -3.198091505327466,
          -4.5566640438160055,
          0.4949606701793278,
          -2.1293259942598426,
          -1.6214112974499575,
          -0.3203134971841033,
          -1.1575414587122093,
          4.804229534335411,
          6.293316008443669,
          -0.11680725916553425,
          1.7319051664360492,
          1.3852759414253197,
          -1.5071024857164759,
          -2.243960964181915,
          -3.3355497064402653,
          -0.5750706966849312,
          -1.795164726431784,
          0.05274480349719285,
          0.05032097102302977,
          6.581504648782156,
          1.7704348068630031,
          0.28737246790007026,
          0.6251753902021343,
          -0.10923671656659754,
          -0.8475944362637671
         ],
         "xaxis": "x",
         "y": [
          -1.95498714188741,
          5.950397927526821,
          -2.8598597578726648,
          -1.1803062292635982,
          -3.1189395963793607,
          -2.7255792590996495,
          -2.888862840523383,
          0.5974193345494814,
          2.1125353750759652,
          2.568522867288002,
          3.046444380559016,
          -1.7034857791509541,
          0.6848600113122127,
          -1.302669088907968,
          -2.2226130769602745,
          -2.9200062293841365,
          -2.978205972210977,
          3.0146105036944997,
          -2.309355129724738,
          -2.1226345675011364,
          7.79071961676124,
          0.9396310898603212,
          -2.805495156800774,
          -1.817518183442127,
          -2.238877622351185,
          -1.144771822981639,
          -3.238942545544948
         ],
         "yaxis": "y"
        },
        {
         "hovertemplate": "<b>%{hovertext}</b><br><br>continent=Europe<br>MDS_x=%{x}<br>MDS_y=%{y}<extra></extra>",
         "hovertext": [
          "Albania",
          "Austria",
          "Belgium",
          "Bulgaria",
          "Croatia",
          "Czech Republic",
          "Denmark",
          "Finland",
          "France",
          "Germany",
          "Greece",
          "Hungary",
          "Iceland",
          "Ireland",
          "Italy",
          "Montenegro",
          "Netherlands",
          "Norway",
          "Poland",
          "Portugal",
          "Romania",
          "Serbia",
          "Slovenia",
          "Spain",
          "Sweden",
          "Switzerland",
          "United Kingdom"
         ],
         "legendgroup": "Europe",
         "marker": {
          "color": "#EF553B",
          "symbol": "circle"
         },
         "mode": "markers",
         "name": "Europe",
         "orientation": "v",
         "showlegend": true,
         "type": "scatter",
         "x": [
          2.4254799250146966,
          5.607935541377474,
          5.335909318973714,
          3.1655072902261323,
          3.257943638736599,
          3.7567011622720488,
          5.620052907413453,
          5.015129826039287,
          5.492446673527508,
          5.253944582103863,
          4.894575816559866,
          3.071316332695024,
          6.422300868141789,
          5.5759901201642625,
          5.221929902137317,
          3.2843697916674466,
          6.0915653369598814,
          7.306242449432889,
          3.278304244589735,
          3.80395343133623,
          2.6019179246142303,
          2.5514291792697286,
          4.121099683861861,
          5.152784707431765,
          5.937845759972204,
          6.02566570347348,
          5.015869255851361
         ],
         "xaxis": "x",
         "y": [
          -2.117486007536839,
          5.123944630663907,
          5.429257347021306,
          -0.5810993832651179,
          1.0080170449515575,
          3.6598925910407627,
          6.6072855023901464,
          4.107368065005124,
          4.840453254032043,
          5.934356395414636,
          2.3228016337847817,
          2.1045549946385766,
          5.259297607848522,
          2.220155316430921,
          3.309469737615429,
          -0.057635952660018655,
          6.3559547651471355,
          7.698427864832312,
          0.5644303516667165,
          1.161535470010497,
          0.31617909004987066,
          1.713810325513482,
          2.885641685555401,
          2.0714477546376817,
          5.666492952977737,
          10.43332258857743,
          5.854603459654153
         ],
         "yaxis": "y"
        },
        {
         "hovertemplate": "<b>%{hovertext}</b><br><br>continent=Africa<br>MDS_x=%{x}<br>MDS_y=%{y}<extra></extra>",
         "hovertext": [
          "Algeria",
          "Angola",
          "Benin",
          "Botswana",
          "Burkina Faso",
          "Burundi",
          "Cameroon",
          "Central African Republic",
          "Chad",
          "Comoros",
          "Djibouti",
          "Egypt",
          "Equatorial Guinea",
          "Eritrea",
          "Ethiopia",
          "Gabon",
          "Ghana",
          "Guinea",
          "Kenya",
          "Lesotho",
          "Liberia",
          "Libya",
          "Madagascar",
          "Malawi",
          "Mali",
          "Mauritania",
          "Mauritius",
          "Morocco",
          "Mozambique",
          "Namibia",
          "Niger",
          "Nigeria",
          "Rwanda",
          "Sao Tome and Principe",
          "Senegal",
          "Sierra Leone",
          "Somalia",
          "South Africa",
          "Sudan",
          "Tanzania",
          "Togo",
          "Tunisia",
          "Uganda",
          "Zambia",
          "Zimbabwe"
         ],
         "legendgroup": "Africa",
         "marker": {
          "color": "#00cc96",
          "symbol": "circle"
         },
         "mode": "markers",
         "name": "Africa",
         "orientation": "v",
         "showlegend": true,
         "type": "scatter",
         "x": [
          -0.3292955484586901,
          -6.790073674470503,
          -3.5981771776138,
          -0.7063424945942242,
          -4.761737457296788,
          -5.108620082839186,
          -3.8368103830464944,
          -5.316211555125028,
          -4.201278540853398,
          -2.490531137236306,
          -4.175941656422148,
          -1.2358450009472186,
          -5.504979982022302,
          -4.4787676350745125,
          -4.9331170011608485,
          -2.244094206390662,
          -2.621321949031781,
          -5.122389731295332,
          -2.437196554831248,
          -3.914120843524787,
          -5.777123760842946,
          -0.708228747705627,
          -3.8003135280138,
          -5.42064728085541,
          -5.212163837055461,
          -2.546612384337595,
          1.5386794165110027,
          -0.8492322119678616,
          -6.265517552272263,
          -2.1994790257405428,
          -4.912820348277977,
          -5.226008262589219,
          -6.063385465064879,
          -0.9562690168178971,
          -2.8833428749734438,
          -7.271698593638631,
          -6.017764713847375,
          -0.14514497808463703,
          -3.5586011249011738,
          -4.082207949826527,
          -2.796214158197013,
          0.18801125651734998,
          -4.241434978686226,
          -4.313067608155782,
          -3.920883788336592
         ],
         "xaxis": "x",
         "y": [
          -0.9356641541909765,
          0.0070217437228319,
          -2.163913851922952,
          -3.35136304638346,
          -2.3102705563567136,
          -2.0727567940974616,
          -1.5516054221538047,
          -1.6394963519701555,
          -1.876471940747318,
          -2.2405751612000193,
          -1.0830501807843769,
          -1.7635441829207303,
          -1.3368209957551447,
          -2.7347837251508422,
          -2.428571457079216,
          3.123665479926094,
          -2.1106769111150094,
          -2.8000876618928703,
          -2.444420021155941,
          -0.7617467121575993,
          -2.030382693772356,
          4.505711740323552,
          -2.2614024479493304,
          -2.1641638945731696,
          -2.6122698855911803,
          -2.2924087336206247,
          -1.4137960968754437,
          -1.9388017902228225,
          -2.155398727854822,
          -0.5102301745801167,
          -2.627778583955318,
          -1.7226195700441802,
          -3.7321751799908114,
          -2.3512789075292235,
          -2.3388364920203997,
          -1.7246740104829152,
          -1.7714503467799603,
          -2.5322496941840713,
          -1.936468443498805,
          -1.9620189757515778,
          -2.1008106595757883,
          -1.797258564938004,
          -1.9599854010131916,
          -3.524175626754272,
          0.36237081634650775
         ],
         "yaxis": "y"
        },
        {
         "hovertemplate": "<b>%{hovertext}</b><br><br>continent=Americas<br>MDS_x=%{x}<br>MDS_y=%{y}<extra></extra>",
         "hovertext": [
          "Argentina",
          "Bolivia",
          "Brazil",
          "Canada",
          "Chile",
          "Colombia",
          "Costa Rica",
          "Cuba",
          "Dominican Republic",
          "Ecuador",
          "El Salvador",
          "Guatemala",
          "Haiti",
          "Honduras",
          "Jamaica",
          "Mexico",
          "Nicaragua",
          "Panama",
          "Paraguay",
          "Peru",
          "Trinidad and Tobago",
          "United States",
          "Uruguay",
          "Venezuela"
         ],
         "legendgroup": "Americas",
         "marker": {
          "color": "#ab63fa",
          "symbol": "circle"
         },
         "mode": "markers",
         "name": "Americas",
         "orientation": "v",
         "showlegend": true,
         "type": "scatter",
         "x": [
          2.722510483544805,
          -2.2701758135478287,
          0.6679808669956457,
          5.739064694708949,
          2.338804936318072,
          1.1187229791788529,
          3.0714008913399735,
          3.61974234755489,
          0.35749947334629417,
          0.7761861636881466,
          -0.20122974653145279,
          -1.0300191972153314,
          -3.0972493218515704,
          -0.7456607472585917,
          2.7930025921888055,
          1.6448728798817638,
          -0.7271396633553389,
          2.3441249750517765,
          2.0259099664575126,
          -0.40789436364915316,
          2.2248754722950923,
          5.734454054466301,
          3.5632897005425086,
          1.885683382144674
         ],
         "xaxis": "x",
         "y": [
          1.4978986494279918,
          -1.453848205650452,
          -0.5378577588179604,
          7.13873902181532,
          -0.38185383884275403,
          -1.3465930969373936,
          -1.1610384764299662,
          -0.5437590124705617,
          -1.996434541169041,
          -0.261277203371441,
          -0.6617098142756634,
          -1.0412384181949246,
          -1.9228752518560845,
          -1.6042411721120498,
          -0.28673587079709184,
          0.33272558844338185,
          -0.8169802056239266,
          -0.7800890291313924,
          -2.1459848272634257,
          -0.02200225906258005,
          0.3611898384228007,
          9.062570193011137,
          -0.04840497147045458,
          2.820907821970896
         ],
         "yaxis": "y"
        },
        {
         "hovertemplate": "<b>%{hovertext}</b><br><br>continent=Oceania<br>MDS_x=%{x}<br>MDS_y=%{y}<extra></extra>",
         "hovertext": [
          "Australia",
          "New Zealand"
         ],
         "legendgroup": "Oceania",
         "marker": {
          "color": "#FFA15A",
          "symbol": "circle"
         },
         "mode": "markers",
         "name": "Oceania",
         "orientation": "v",
         "showlegend": true,
         "type": "scatter",
         "x": [
          5.426024054415476,
          4.328674510496795
         ],
         "xaxis": "x",
         "y": [
          5.917176873208162,
          5.9058093919171535
         ],
         "yaxis": "y"
        }
       ],
       "layout": {
        "height": 700,
        "images": [
         {
          "layer": "below",
          "opacity": 1,
          "sizex": 0.5,
          "sizey": 1,
          "source": "https://upload.wikimedia.org/wikipedia/commons/9/9a/Flag_of_Afghanistan.svg",
          "x": -7.009307512115284,
          "xref": "x",
          "y": -1.95498714188741,
          "yref": "y"
         },
         {
          "layer": "below",
          "opacity": 1,
          "sizex": 0.5,
          "sizey": 1,
          "source": "https://upload.wikimedia.org/wikipedia/commons/3/36/Flag_of_Albania.svg",
          "x": 2.4254799250146966,
          "xref": "x",
          "y": -2.117486007536839,
          "yref": "y"
         },
         {
          "layer": "below",
          "opacity": 1,
          "sizex": 0.5,
          "sizey": 1,
          "source": "https://upload.wikimedia.org/wikipedia/commons/7/77/Flag_of_Algeria.svg",
          "x": -0.3292955484586901,
          "xref": "x",
          "y": -0.9356641541909765,
          "yref": "y"
         },
         {
          "layer": "below",
          "opacity": 1,
          "sizex": 0.5,
          "sizey": 1,
          "source": "https://upload.wikimedia.org/wikipedia/commons/9/9d/Flag_of_Angola.svg",
          "x": -6.790073674470503,
          "xref": "x",
          "y": 0.0070217437228319,
          "yref": "y"
         },
         {
          "layer": "below",
          "opacity": 1,
          "sizex": 0.5,
          "sizey": 1,
          "source": "https://upload.wikimedia.org/wikipedia/commons/1/1a/Flag_of_Argentina.svg",
          "x": 2.722510483544805,
          "xref": "x",
          "y": 1.4978986494279918,
          "yref": "y"
         },
         {
          "layer": "below",
          "opacity": 1,
          "sizex": 0.5,
          "sizey": 1,
          "source": "https://upload.wikimedia.org/wikipedia/commons/8/88/Flag_of_Australia_%28converted%29.svg",
          "x": 5.426024054415476,
          "xref": "x",
          "y": 5.917176873208162,
          "yref": "y"
         },
         {
          "layer": "below",
          "opacity": 1,
          "sizex": 0.5,
          "sizey": 1,
          "source": "https://upload.wikimedia.org/wikipedia/commons/4/41/Flag_of_Austria.svg",
          "x": 5.607935541377474,
          "xref": "x",
          "y": 5.123944630663907,
          "yref": "y"
         },
         {
          "layer": "below",
          "opacity": 1,
          "sizex": 0.5,
          "sizey": 1,
          "source": "https://upload.wikimedia.org/wikipedia/commons/2/2c/Flag_of_Bahrain.svg",
          "x": 2.4824642829205534,
          "xref": "x",
          "y": 5.950397927526821,
          "yref": "y"
         },
         {
          "layer": "below",
          "opacity": 1,
          "sizex": 0.5,
          "sizey": 1,
          "source": "https://upload.wikimedia.org/wikipedia/commons/f/f9/Flag_of_Bangladesh.svg",
          "x": -3.198091505327466,
          "xref": "x",
          "y": -2.8598597578726648,
          "yref": "y"
         },
         {
          "layer": "below",
          "opacity": 1,
          "sizex": 0.5,
          "sizey": 1,
          "source": "https://upload.wikimedia.org/wikipedia/commons/9/92/Flag_of_Belgium_%28civil%29.svg",
          "x": 5.335909318973714,
          "xref": "x",
          "y": 5.429257347021306,
          "yref": "y"
         },
         {
          "layer": "below",
          "opacity": 1,
          "sizex": 0.5,
          "sizey": 1,
          "source": "https://upload.wikimedia.org/wikipedia/commons/0/0a/Flag_of_Benin.svg",
          "x": -3.5981771776138,
          "xref": "x",
          "y": -2.163913851922952,
          "yref": "y"
         },
         {
          "layer": "below",
          "opacity": 1,
          "sizex": 0.5,
          "sizey": 1,
          "source": "https://upload.wikimedia.org/wikipedia/commons/4/48/Flag_of_Bolivia.svg",
          "x": -2.2701758135478287,
          "xref": "x",
          "y": -1.453848205650452,
          "yref": "y"
         },
         {
          "layer": "below",
          "opacity": 1,
          "sizex": 0.5,
          "sizey": 1,
          "source": "https://upload.wikimedia.org/wikipedia/commons/f/fa/Flag_of_Botswana.svg",
          "x": -0.7063424945942242,
          "xref": "x",
          "y": -3.35136304638346,
          "yref": "y"
         },
         {
          "layer": "below",
          "opacity": 1,
          "sizex": 0.5,
          "sizey": 1,
          "source": "https://upload.wikimedia.org/wikipedia/en/0/05/Flag_of_Brazil.svg",
          "x": 0.6679808669956457,
          "xref": "x",
          "y": -0.5378577588179604,
          "yref": "y"
         },
         {
          "layer": "below",
          "opacity": 1,
          "sizex": 0.5,
          "sizey": 1,
          "source": "https://upload.wikimedia.org/wikipedia/commons/9/9a/Flag_of_Bulgaria.svg",
          "x": 3.1655072902261323,
          "xref": "x",
          "y": -0.5810993832651179,
          "yref": "y"
         },
         {
          "layer": "below",
          "opacity": 1,
          "sizex": 0.5,
          "sizey": 1,
          "source": "https://upload.wikimedia.org/wikipedia/commons/3/31/Flag_of_Burkina_Faso.svg",
          "x": -4.761737457296788,
          "xref": "x",
          "y": -2.3102705563567136,
          "yref": "y"
         },
         {
          "layer": "below",
          "opacity": 1,
          "sizex": 0.5,
          "sizey": 1,
          "source": "https://upload.wikimedia.org/wikipedia/commons/5/50/Flag_of_Burundi.svg",
          "x": -5.108620082839186,
          "xref": "x",
          "y": -2.0727567940974616,
          "yref": "y"
         },
         {
          "layer": "below",
          "opacity": 1,
          "sizex": 0.5,
          "sizey": 1,
          "source": "https://upload.wikimedia.org/wikipedia/commons/8/83/Flag_of_Cambodia.svg",
          "x": -4.5566640438160055,
          "xref": "x",
          "y": -1.1803062292635982,
          "yref": "y"
         },
         {
          "layer": "below",
          "opacity": 1,
          "sizex": 0.5,
          "sizey": 1,
          "source": "https://upload.wikimedia.org/wikipedia/commons/4/4f/Flag_of_Cameroon.svg",
          "x": -3.8368103830464944,
          "xref": "x",
          "y": -1.5516054221538047,
          "yref": "y"
         },
         {
          "layer": "below",
          "opacity": 1,
          "sizex": 0.5,
          "sizey": 1,
          "source": "https://upload.wikimedia.org/wikipedia/en/c/cf/Flag_of_Canada.svg",
          "x": 5.739064694708949,
          "xref": "x",
          "y": 7.13873902181532,
          "yref": "y"
         },
         {
          "layer": "below",
          "opacity": 1,
          "sizex": 0.5,
          "sizey": 1,
          "source": "https://upload.wikimedia.org/wikipedia/commons/6/6f/Flag_of_the_Central_African_Republic.svg",
          "x": -5.316211555125028,
          "xref": "x",
          "y": -1.6394963519701555,
          "yref": "y"
         },
         {
          "layer": "below",
          "opacity": 1,
          "sizex": 0.5,
          "sizey": 1,
          "source": "https://upload.wikimedia.org/wikipedia/commons/4/4b/Flag_of_Chad.svg",
          "x": -4.201278540853398,
          "xref": "x",
          "y": -1.876471940747318,
          "yref": "y"
         },
         {
          "layer": "below",
          "opacity": 1,
          "sizex": 0.5,
          "sizey": 1,
          "source": "https://upload.wikimedia.org/wikipedia/commons/7/78/Flag_of_Chile.svg",
          "x": 2.338804936318072,
          "xref": "x",
          "y": -0.38185383884275403,
          "yref": "y"
         },
         {
          "layer": "below",
          "opacity": 1,
          "sizex": 0.5,
          "sizey": 1,
          "source": "https://upload.wikimedia.org/wikipedia/commons/f/fa/Flag_of_the_People%27s_Republic_of_China.svg",
          "x": 0.4949606701793278,
          "xref": "x",
          "y": -3.1189395963793607,
          "yref": "y"
         },
         {
          "layer": "below",
          "opacity": 1,
          "sizex": 0.5,
          "sizey": 1,
          "source": "https://upload.wikimedia.org/wikipedia/commons/2/21/Flag_of_Colombia.svg",
          "x": 1.1187229791788529,
          "xref": "x",
          "y": -1.3465930969373936,
          "yref": "y"
         },
         {
          "layer": "below",
          "opacity": 1,
          "sizex": 0.5,
          "sizey": 1,
          "source": "https://upload.wikimedia.org/wikipedia/commons/9/94/Flag_of_the_Comoros.svg",
          "x": -2.490531137236306,
          "xref": "x",
          "y": -2.2405751612000193,
          "yref": "y"
         },
         {
          "layer": "below",
          "opacity": 1,
          "sizex": 0.5,
          "sizey": 1,
          "source": "https://upload.wikimedia.org/wikipedia/commons/f/f2/Flag_of_Costa_Rica.svg",
          "x": 3.0714008913399735,
          "xref": "x",
          "y": -1.1610384764299662,
          "yref": "y"
         },
         {
          "layer": "below",
          "opacity": 1,
          "sizex": 0.5,
          "sizey": 1,
          "source": "https://upload.wikimedia.org/wikipedia/commons/1/1b/Flag_of_Croatia.svg",
          "x": 3.257943638736599,
          "xref": "x",
          "y": 1.0080170449515575,
          "yref": "y"
         },
         {
          "layer": "below",
          "opacity": 1,
          "sizex": 0.5,
          "sizey": 1,
          "source": "https://upload.wikimedia.org/wikipedia/commons/b/bd/Flag_of_Cuba.svg",
          "x": 3.61974234755489,
          "xref": "x",
          "y": -0.5437590124705617,
          "yref": "y"
         },
         {
          "layer": "below",
          "opacity": 1,
          "sizex": 0.5,
          "sizey": 1,
          "source": "https://upload.wikimedia.org/wikipedia/commons/c/cb/Flag_of_the_Czech_Republic.svg",
          "x": 3.7567011622720488,
          "xref": "x",
          "y": 3.6598925910407627,
          "yref": "y"
         },
         {
          "layer": "below",
          "opacity": 1,
          "sizex": 0.5,
          "sizey": 1,
          "source": "https://upload.wikimedia.org/wikipedia/commons/9/9c/Flag_of_Denmark.svg",
          "x": 5.620052907413453,
          "xref": "x",
          "y": 6.6072855023901464,
          "yref": "y"
         },
         {
          "layer": "below",
          "opacity": 1,
          "sizex": 0.5,
          "sizey": 1,
          "source": "https://upload.wikimedia.org/wikipedia/commons/3/34/Flag_of_Djibouti.svg",
          "x": -4.175941656422148,
          "xref": "x",
          "y": -1.0830501807843769,
          "yref": "y"
         },
         {
          "layer": "below",
          "opacity": 1,
          "sizex": 0.5,
          "sizey": 1,
          "source": "https://upload.wikimedia.org/wikipedia/commons/9/9f/Flag_of_the_Dominican_Republic.svg",
          "x": 0.35749947334629417,
          "xref": "x",
          "y": -1.996434541169041,
          "yref": "y"
         },
         {
          "layer": "below",
          "opacity": 1,
          "sizex": 0.5,
          "sizey": 1,
          "source": "https://upload.wikimedia.org/wikipedia/commons/e/e8/Flag_of_Ecuador.svg",
          "x": 0.7761861636881466,
          "xref": "x",
          "y": -0.261277203371441,
          "yref": "y"
         },
         {
          "layer": "below",
          "opacity": 1,
          "sizex": 0.5,
          "sizey": 1,
          "source": "https://upload.wikimedia.org/wikipedia/commons/f/fe/Flag_of_Egypt.svg",
          "x": -1.2358450009472186,
          "xref": "x",
          "y": -1.7635441829207303,
          "yref": "y"
         },
         {
          "layer": "below",
          "opacity": 1,
          "sizex": 0.5,
          "sizey": 1,
          "source": "https://upload.wikimedia.org/wikipedia/commons/3/34/Flag_of_El_Salvador.svg",
          "x": -0.20122974653145279,
          "xref": "x",
          "y": -0.6617098142756634,
          "yref": "y"
         },
         {
          "layer": "below",
          "opacity": 1,
          "sizex": 0.5,
          "sizey": 1,
          "source": "https://upload.wikimedia.org/wikipedia/commons/3/31/Flag_of_Equatorial_Guinea.svg",
          "x": -5.504979982022302,
          "xref": "x",
          "y": -1.3368209957551447,
          "yref": "y"
         },
         {
          "layer": "below",
          "opacity": 1,
          "sizex": 0.5,
          "sizey": 1,
          "source": "https://upload.wikimedia.org/wikipedia/commons/2/29/Flag_of_Eritrea.svg",
          "x": -4.4787676350745125,
          "xref": "x",
          "y": -2.7347837251508422,
          "yref": "y"
         },
         {
          "layer": "below",
          "opacity": 1,
          "sizex": 0.5,
          "sizey": 1,
          "source": "https://upload.wikimedia.org/wikipedia/commons/7/71/Flag_of_Ethiopia.svg",
          "x": -4.9331170011608485,
          "xref": "x",
          "y": -2.428571457079216,
          "yref": "y"
         },
         {
          "layer": "below",
          "opacity": 1,
          "sizex": 0.5,
          "sizey": 1,
          "source": "https://upload.wikimedia.org/wikipedia/commons/b/bc/Flag_of_Finland.svg",
          "x": 5.015129826039287,
          "xref": "x",
          "y": 4.107368065005124,
          "yref": "y"
         },
         {
          "layer": "below",
          "opacity": 1,
          "sizex": 0.5,
          "sizey": 1,
          "source": "https://upload.wikimedia.org/wikipedia/en/c/c3/Flag_of_France.svg",
          "x": 5.492446673527508,
          "xref": "x",
          "y": 4.840453254032043,
          "yref": "y"
         },
         {
          "layer": "below",
          "opacity": 1,
          "sizex": 0.5,
          "sizey": 1,
          "source": "https://upload.wikimedia.org/wikipedia/commons/0/04/Flag_of_Gabon.svg",
          "x": -2.244094206390662,
          "xref": "x",
          "y": 3.123665479926094,
          "yref": "y"
         },
         {
          "layer": "below",
          "opacity": 1,
          "sizex": 0.5,
          "sizey": 1,
          "source": "https://upload.wikimedia.org/wikipedia/en/b/ba/Flag_of_Germany.svg",
          "x": 5.253944582103863,
          "xref": "x",
          "y": 5.934356395414636,
          "yref": "y"
         },
         {
          "layer": "below",
          "opacity": 1,
          "sizex": 0.5,
          "sizey": 1,
          "source": "https://upload.wikimedia.org/wikipedia/commons/1/19/Flag_of_Ghana.svg",
          "x": -2.621321949031781,
          "xref": "x",
          "y": -2.1106769111150094,
          "yref": "y"
         },
         {
          "layer": "below",
          "opacity": 1,
          "sizex": 0.5,
          "sizey": 1,
          "source": "https://upload.wikimedia.org/wikipedia/commons/5/5c/Flag_of_Greece.svg",
          "x": 4.894575816559866,
          "xref": "x",
          "y": 2.3228016337847817,
          "yref": "y"
         },
         {
          "layer": "below",
          "opacity": 1,
          "sizex": 0.5,
          "sizey": 1,
          "source": "https://upload.wikimedia.org/wikipedia/commons/e/ec/Flag_of_Guatemala.svg",
          "x": -1.0300191972153314,
          "xref": "x",
          "y": -1.0412384181949246,
          "yref": "y"
         },
         {
          "layer": "below",
          "opacity": 1,
          "sizex": 0.5,
          "sizey": 1,
          "source": "https://upload.wikimedia.org/wikipedia/commons/e/ed/Flag_of_Guinea.svg",
          "x": -5.122389731295332,
          "xref": "x",
          "y": -2.8000876618928703,
          "yref": "y"
         },
         {
          "layer": "below",
          "opacity": 1,
          "sizex": 0.5,
          "sizey": 1,
          "source": "https://upload.wikimedia.org/wikipedia/commons/5/56/Flag_of_Haiti.svg",
          "x": -3.0972493218515704,
          "xref": "x",
          "y": -1.9228752518560845,
          "yref": "y"
         },
         {
          "layer": "below",
          "opacity": 1,
          "sizex": 0.5,
          "sizey": 1,
          "source": "https://upload.wikimedia.org/wikipedia/commons/8/82/Flag_of_Honduras.svg",
          "x": -0.7456607472585917,
          "xref": "x",
          "y": -1.6042411721120498,
          "yref": "y"
         },
         {
          "layer": "below",
          "opacity": 1,
          "sizex": 0.5,
          "sizey": 1,
          "source": "https://upload.wikimedia.org/wikipedia/commons/c/c1/Flag_of_Hungary.svg",
          "x": 3.071316332695024,
          "xref": "x",
          "y": 2.1045549946385766,
          "yref": "y"
         },
         {
          "layer": "below",
          "opacity": 1,
          "sizex": 0.5,
          "sizey": 1,
          "source": "https://upload.wikimedia.org/wikipedia/commons/c/ce/Flag_of_Iceland.svg",
          "x": 6.422300868141789,
          "xref": "x",
          "y": 5.259297607848522,
          "yref": "y"
         },
         {
          "layer": "below",
          "opacity": 1,
          "sizex": 0.5,
          "sizey": 1,
          "source": "https://upload.wikimedia.org/wikipedia/en/4/41/Flag_of_India.svg",
          "x": -2.1293259942598426,
          "xref": "x",
          "y": -2.7255792590996495,
          "yref": "y"
         },
         {
          "layer": "below",
          "opacity": 1,
          "sizex": 0.5,
          "sizey": 1,
          "source": "https://upload.wikimedia.org/wikipedia/commons/9/9f/Flag_of_Indonesia.svg",
          "x": -1.6214112974499575,
          "xref": "x",
          "y": -2.888862840523383,
          "yref": "y"
         },
         {
          "layer": "below",
          "opacity": 1,
          "sizex": 0.5,
          "sizey": 1,
          "source": "https://upload.wikimedia.org/wikipedia/commons/c/ca/Flag_of_Iran.svg",
          "x": -0.3203134971841033,
          "xref": "x",
          "y": 0.5974193345494814,
          "yref": "y"
         },
         {
          "layer": "below",
          "opacity": 1,
          "sizex": 0.5,
          "sizey": 1,
          "source": "https://upload.wikimedia.org/wikipedia/commons/f/f6/Flag_of_Iraq.svg",
          "x": -1.1575414587122093,
          "xref": "x",
          "y": 2.1125353750759652,
          "yref": "y"
         },
         {
          "layer": "below",
          "opacity": 1,
          "sizex": 0.5,
          "sizey": 1,
          "source": "https://upload.wikimedia.org/wikipedia/commons/4/45/Flag_of_Ireland.svg",
          "x": 5.5759901201642625,
          "xref": "x",
          "y": 2.220155316430921,
          "yref": "y"
         },
         {
          "layer": "below",
          "opacity": 1,
          "sizex": 0.5,
          "sizey": 1,
          "source": "https://upload.wikimedia.org/wikipedia/commons/d/d4/Flag_of_Israel.svg",
          "x": 4.804229534335411,
          "xref": "x",
          "y": 2.568522867288002,
          "yref": "y"
         },
         {
          "layer": "below",
          "opacity": 1,
          "sizex": 0.5,
          "sizey": 1,
          "source": "https://upload.wikimedia.org/wikipedia/en/0/03/Flag_of_Italy.svg",
          "x": 5.221929902137317,
          "xref": "x",
          "y": 3.309469737615429,
          "yref": "y"
         },
         {
          "layer": "below",
          "opacity": 1,
          "sizex": 0.5,
          "sizey": 1,
          "source": "https://upload.wikimedia.org/wikipedia/commons/0/0a/Flag_of_Jamaica.svg",
          "x": 2.7930025921888055,
          "xref": "x",
          "y": -0.28673587079709184,
          "yref": "y"
         },
         {
          "layer": "below",
          "opacity": 1,
          "sizex": 0.5,
          "sizey": 1,
          "source": "https://upload.wikimedia.org/wikipedia/en/9/9e/Flag_of_Japan.svg",
          "x": 6.293316008443669,
          "xref": "x",
          "y": 3.046444380559016,
          "yref": "y"
         },
         {
          "layer": "below",
          "opacity": 1,
          "sizex": 0.5,
          "sizey": 1,
          "source": "https://upload.wikimedia.org/wikipedia/commons/c/c0/Flag_of_Jordan.svg",
          "x": -0.11680725916553425,
          "xref": "x",
          "y": -1.7034857791509541,
          "yref": "y"
         },
         {
          "layer": "below",
          "opacity": 1,
          "sizex": 0.5,
          "sizey": 1,
          "source": "https://upload.wikimedia.org/wikipedia/commons/4/49/Flag_of_Kenya.svg",
          "x": -2.437196554831248,
          "xref": "x",
          "y": -2.444420021155941,
          "yref": "y"
         },
         {
          "layer": "below",
          "opacity": 1,
          "sizex": 0.5,
          "sizey": 1,
          "source": "https://upload.wikimedia.org/wikipedia/commons/5/59/Flag_of_Lebanon.svg",
          "x": 1.7319051664360492,
          "xref": "x",
          "y": 0.6848600113122127,
          "yref": "y"
         },
         {
          "layer": "below",
          "opacity": 1,
          "sizex": 0.5,
          "sizey": 1,
          "source": "https://upload.wikimedia.org/wikipedia/commons/4/4a/Flag_of_Lesotho.svg",
          "x": -3.914120843524787,
          "xref": "x",
          "y": -0.7617467121575993,
          "yref": "y"
         },
         {
          "layer": "below",
          "opacity": 1,
          "sizex": 0.5,
          "sizey": 1,
          "source": "https://upload.wikimedia.org/wikipedia/commons/b/b8/Flag_of_Liberia.svg",
          "x": -5.777123760842946,
          "xref": "x",
          "y": -2.030382693772356,
          "yref": "y"
         },
         {
          "layer": "below",
          "opacity": 1,
          "sizex": 0.5,
          "sizey": 1,
          "source": "https://upload.wikimedia.org/wikipedia/commons/0/05/Flag_of_Libya.svg",
          "x": -0.708228747705627,
          "xref": "x",
          "y": 4.505711740323552,
          "yref": "y"
         },
         {
          "layer": "below",
          "opacity": 1,
          "sizex": 0.5,
          "sizey": 1,
          "source": "https://upload.wikimedia.org/wikipedia/commons/b/bc/Flag_of_Madagascar.svg",
          "x": -3.8003135280138,
          "xref": "x",
          "y": -2.2614024479493304,
          "yref": "y"
         },
         {
          "layer": "below",
          "opacity": 1,
          "sizex": 0.5,
          "sizey": 1,
          "source": "https://upload.wikimedia.org/wikipedia/commons/d/d1/Flag_of_Malawi.svg",
          "x": -5.42064728085541,
          "xref": "x",
          "y": -2.1641638945731696,
          "yref": "y"
         },
         {
          "layer": "below",
          "opacity": 1,
          "sizex": 0.5,
          "sizey": 1,
          "source": "https://upload.wikimedia.org/wikipedia/commons/6/66/Flag_of_Malaysia.svg",
          "x": 1.3852759414253197,
          "xref": "x",
          "y": -1.302669088907968,
          "yref": "y"
         },
         {
          "layer": "below",
          "opacity": 1,
          "sizex": 0.5,
          "sizey": 1,
          "source": "https://upload.wikimedia.org/wikipedia/commons/9/92/Flag_of_Mali.svg",
          "x": -5.212163837055461,
          "xref": "x",
          "y": -2.6122698855911803,
          "yref": "y"
         },
         {
          "layer": "below",
          "opacity": 1,
          "sizex": 0.5,
          "sizey": 1,
          "source": "https://upload.wikimedia.org/wikipedia/commons/4/43/Flag_of_Mauritania.svg",
          "x": -2.546612384337595,
          "xref": "x",
          "y": -2.2924087336206247,
          "yref": "y"
         },
         {
          "layer": "below",
          "opacity": 1,
          "sizex": 0.5,
          "sizey": 1,
          "source": "https://upload.wikimedia.org/wikipedia/commons/7/77/Flag_of_Mauritius.svg",
          "x": 1.5386794165110027,
          "xref": "x",
          "y": -1.4137960968754437,
          "yref": "y"
         },
         {
          "layer": "below",
          "opacity": 1,
          "sizex": 0.5,
          "sizey": 1,
          "source": "https://upload.wikimedia.org/wikipedia/commons/f/fc/Flag_of_Mexico.svg",
          "x": 1.6448728798817638,
          "xref": "x",
          "y": 0.33272558844338185,
          "yref": "y"
         },
         {
          "layer": "below",
          "opacity": 1,
          "sizex": 0.5,
          "sizey": 1,
          "source": "https://upload.wikimedia.org/wikipedia/commons/4/4c/Flag_of_Mongolia.svg",
          "x": -1.5071024857164759,
          "xref": "x",
          "y": -2.2226130769602745,
          "yref": "y"
         },
         {
          "layer": "below",
          "opacity": 1,
          "sizex": 0.5,
          "sizey": 1,
          "source": "https://upload.wikimedia.org/wikipedia/commons/6/64/Flag_of_Montenegro.svg",
          "x": 3.2843697916674466,
          "xref": "x",
          "y": -0.057635952660018655,
          "yref": "y"
         },
         {
          "layer": "below",
          "opacity": 1,
          "sizex": 0.5,
          "sizey": 1,
          "source": "https://upload.wikimedia.org/wikipedia/commons/2/2c/Flag_of_Morocco.svg",
          "x": -0.8492322119678616,
          "xref": "x",
          "y": -1.9388017902228225,
          "yref": "y"
         },
         {
          "layer": "below",
          "opacity": 1,
          "sizex": 0.5,
          "sizey": 1,
          "source": "https://upload.wikimedia.org/wikipedia/commons/d/d0/Flag_of_Mozambique.svg",
          "x": -6.265517552272263,
          "xref": "x",
          "y": -2.155398727854822,
          "yref": "y"
         },
         {
          "layer": "below",
          "opacity": 1,
          "sizex": 0.5,
          "sizey": 1,
          "source": "https://upload.wikimedia.org/wikipedia/commons/8/8c/Flag_of_Myanmar.svg",
          "x": -2.243960964181915,
          "xref": "x",
          "y": -2.9200062293841365,
          "yref": "y"
         },
         {
          "layer": "below",
          "opacity": 1,
          "sizex": 0.5,
          "sizey": 1,
          "source": "https://upload.wikimedia.org/wikipedia/commons/0/00/Flag_of_Namibia.svg",
          "x": -2.1994790257405428,
          "xref": "x",
          "y": -0.5102301745801167,
          "yref": "y"
         },
         {
          "layer": "below",
          "opacity": 1,
          "sizex": 0.5,
          "sizey": 1,
          "source": "https://upload.wikimedia.org/wikipedia/commons/9/9b/Flag_of_Nepal.svg",
          "x": -3.3355497064402653,
          "xref": "x",
          "y": -2.978205972210977,
          "yref": "y"
         },
         {
          "layer": "below",
          "opacity": 1,
          "sizex": 0.5,
          "sizey": 1,
          "source": "https://upload.wikimedia.org/wikipedia/commons/2/20/Flag_of_the_Netherlands.svg",
          "x": 6.0915653369598814,
          "xref": "x",
          "y": 6.3559547651471355,
          "yref": "y"
         },
         {
          "layer": "below",
          "opacity": 1,
          "sizex": 0.5,
          "sizey": 1,
          "source": "https://upload.wikimedia.org/wikipedia/commons/3/3e/Flag_of_New_Zealand.svg",
          "x": 4.328674510496795,
          "xref": "x",
          "y": 5.9058093919171535,
          "yref": "y"
         },
         {
          "layer": "below",
          "opacity": 1,
          "sizex": 0.5,
          "sizey": 1,
          "source": "https://upload.wikimedia.org/wikipedia/commons/1/19/Flag_of_Nicaragua.svg",
          "x": -0.7271396633553389,
          "xref": "x",
          "y": -0.8169802056239266,
          "yref": "y"
         },
         {
          "layer": "below",
          "opacity": 1,
          "sizex": 0.5,
          "sizey": 1,
          "source": "https://upload.wikimedia.org/wikipedia/commons/f/f4/Flag_of_Niger.svg",
          "x": -4.912820348277977,
          "xref": "x",
          "y": -2.627778583955318,
          "yref": "y"
         },
         {
          "layer": "below",
          "opacity": 1,
          "sizex": 0.5,
          "sizey": 1,
          "source": "https://upload.wikimedia.org/wikipedia/commons/7/79/Flag_of_Nigeria.svg",
          "x": -5.226008262589219,
          "xref": "x",
          "y": -1.7226195700441802,
          "yref": "y"
         },
         {
          "layer": "below",
          "opacity": 1,
          "sizex": 0.5,
          "sizey": 1,
          "source": "https://upload.wikimedia.org/wikipedia/commons/d/d9/Flag_of_Norway.svg",
          "x": 7.306242449432889,
          "xref": "x",
          "y": 7.698427864832312,
          "yref": "y"
         },
         {
          "layer": "below",
          "opacity": 1,
          "sizex": 0.5,
          "sizey": 1,
          "source": "https://upload.wikimedia.org/wikipedia/commons/d/dd/Flag_of_Oman.svg",
          "x": -0.5750706966849312,
          "xref": "x",
          "y": 3.0146105036944997,
          "yref": "y"
         },
         {
          "layer": "below",
          "opacity": 1,
          "sizex": 0.5,
          "sizey": 1,
          "source": "https://upload.wikimedia.org/wikipedia/commons/3/32/Flag_of_Pakistan.svg",
          "x": -1.795164726431784,
          "xref": "x",
          "y": -2.309355129724738,
          "yref": "y"
         },
         {
          "layer": "below",
          "opacity": 1,
          "sizex": 0.5,
          "sizey": 1,
          "source": "https://upload.wikimedia.org/wikipedia/commons/a/ab/Flag_of_Panama.svg",
          "x": 2.3441249750517765,
          "xref": "x",
          "y": -0.7800890291313924,
          "yref": "y"
         },
         {
          "layer": "below",
          "opacity": 1,
          "sizex": 0.5,
          "sizey": 1,
          "source": "https://upload.wikimedia.org/wikipedia/commons/2/27/Flag_of_Paraguay.svg",
          "x": 2.0259099664575126,
          "xref": "x",
          "y": -2.1459848272634257,
          "yref": "y"
         },
         {
          "layer": "below",
          "opacity": 1,
          "sizex": 0.5,
          "sizey": 1,
          "source": "https://upload.wikimedia.org/wikipedia/commons/c/cf/Flag_of_Peru.svg",
          "x": -0.40789436364915316,
          "xref": "x",
          "y": -0.02200225906258005,
          "yref": "y"
         },
         {
          "layer": "below",
          "opacity": 1,
          "sizex": 0.5,
          "sizey": 1,
          "source": "https://upload.wikimedia.org/wikipedia/commons/9/99/Flag_of_the_Philippines.svg",
          "x": 0.05274480349719285,
          "xref": "x",
          "y": -2.1226345675011364,
          "yref": "y"
         },
         {
          "layer": "below",
          "opacity": 1,
          "sizex": 0.5,
          "sizey": 1,
          "source": "https://upload.wikimedia.org/wikipedia/en/1/12/Flag_of_Poland.svg",
          "x": 3.278304244589735,
          "xref": "x",
          "y": 0.5644303516667165,
          "yref": "y"
         },
         {
          "layer": "below",
          "opacity": 1,
          "sizex": 0.5,
          "sizey": 1,
          "source": "https://upload.wikimedia.org/wikipedia/commons/5/5c/Flag_of_Portugal.svg",
          "x": 3.80395343133623,
          "xref": "x",
          "y": 1.161535470010497,
          "yref": "y"
         },
         {
          "layer": "below",
          "opacity": 1,
          "sizex": 0.5,
          "sizey": 1,
          "source": "https://upload.wikimedia.org/wikipedia/commons/7/73/Flag_of_Romania.svg",
          "x": 2.6019179246142303,
          "xref": "x",
          "y": 0.31617909004987066,
          "yref": "y"
         },
         {
          "layer": "below",
          "opacity": 1,
          "sizex": 0.5,
          "sizey": 1,
          "source": "https://upload.wikimedia.org/wikipedia/commons/1/17/Flag_of_Rwanda.svg",
          "x": -6.063385465064879,
          "xref": "x",
          "y": -3.7321751799908114,
          "yref": "y"
         },
         {
          "layer": "below",
          "opacity": 1,
          "sizex": 0.5,
          "sizey": 1,
          "source": "https://upload.wikimedia.org/wikipedia/commons/4/4f/Flag_of_Sao_Tome_and_Principe.svg",
          "x": -0.9562690168178971,
          "xref": "x",
          "y": -2.3512789075292235,
          "yref": "y"
         },
         {
          "layer": "below",
          "opacity": 1,
          "sizex": 0.5,
          "sizey": 1,
          "source": "https://upload.wikimedia.org/wikipedia/commons/0/0d/Flag_of_Saudi_Arabia.svg",
          "x": 0.05032097102302977,
          "xref": "x",
          "y": 7.79071961676124,
          "yref": "y"
         },
         {
          "layer": "below",
          "opacity": 1,
          "sizex": 0.5,
          "sizey": 1,
          "source": "https://upload.wikimedia.org/wikipedia/commons/f/fd/Flag_of_Senegal.svg",
          "x": -2.8833428749734438,
          "xref": "x",
          "y": -2.3388364920203997,
          "yref": "y"
         },
         {
          "layer": "below",
          "opacity": 1,
          "sizex": 0.5,
          "sizey": 1,
          "source": "https://upload.wikimedia.org/wikipedia/commons/f/ff/Flag_of_Serbia.svg",
          "x": 2.5514291792697286,
          "xref": "x",
          "y": 1.713810325513482,
          "yref": "y"
         },
         {
          "layer": "below",
          "opacity": 1,
          "sizex": 0.5,
          "sizey": 1,
          "source": "https://upload.wikimedia.org/wikipedia/commons/1/17/Flag_of_Sierra_Leone.svg",
          "x": -7.271698593638631,
          "xref": "x",
          "y": -1.7246740104829152,
          "yref": "y"
         },
         {
          "layer": "below",
          "opacity": 1,
          "sizex": 0.5,
          "sizey": 1,
          "source": "https://upload.wikimedia.org/wikipedia/commons/4/48/Flag_of_Singapore.svg",
          "x": 6.581504648782156,
          "xref": "x",
          "y": 0.9396310898603212,
          "yref": "y"
         },
         {
          "layer": "below",
          "opacity": 1,
          "sizex": 0.5,
          "sizey": 1,
          "source": "https://upload.wikimedia.org/wikipedia/commons/f/f0/Flag_of_Slovenia.svg",
          "x": 4.121099683861861,
          "xref": "x",
          "y": 2.885641685555401,
          "yref": "y"
         },
         {
          "layer": "below",
          "opacity": 1,
          "sizex": 0.5,
          "sizey": 1,
          "source": "https://upload.wikimedia.org/wikipedia/commons/a/a0/Flag_of_Somalia.svg",
          "x": -6.017764713847375,
          "xref": "x",
          "y": -1.7714503467799603,
          "yref": "y"
         },
         {
          "layer": "below",
          "opacity": 1,
          "sizex": 0.5,
          "sizey": 1,
          "source": "https://upload.wikimedia.org/wikipedia/commons/a/af/Flag_of_South_Africa.svg",
          "x": -0.14514497808463703,
          "xref": "x",
          "y": -2.5322496941840713,
          "yref": "y"
         },
         {
          "layer": "below",
          "opacity": 1,
          "sizex": 0.5,
          "sizey": 1,
          "source": "https://upload.wikimedia.org/wikipedia/en/9/9a/Flag_of_Spain.svg",
          "x": 5.152784707431765,
          "xref": "x",
          "y": 2.0714477546376817,
          "yref": "y"
         },
         {
          "layer": "below",
          "opacity": 1,
          "sizex": 0.5,
          "sizey": 1,
          "source": "https://upload.wikimedia.org/wikipedia/commons/1/11/Flag_of_Sri_Lanka.svg",
          "x": 1.7704348068630031,
          "xref": "x",
          "y": -2.805495156800774,
          "yref": "y"
         },
         {
          "layer": "below",
          "opacity": 1,
          "sizex": 0.5,
          "sizey": 1,
          "source": "https://upload.wikimedia.org/wikipedia/commons/0/01/Flag_of_Sudan.svg",
          "x": -3.5586011249011738,
          "xref": "x",
          "y": -1.936468443498805,
          "yref": "y"
         },
         {
          "layer": "below",
          "opacity": 1,
          "sizex": 0.5,
          "sizey": 1,
          "source": "https://upload.wikimedia.org/wikipedia/en/4/4c/Flag_of_Sweden.svg",
          "x": 5.937845759972204,
          "xref": "x",
          "y": 5.666492952977737,
          "yref": "y"
         },
         {
          "layer": "below",
          "opacity": 1,
          "sizex": 0.5,
          "sizey": 1,
          "source": "https://upload.wikimedia.org/wikipedia/commons/0/08/Flag_of_Switzerland_%28Pantone%29.svg",
          "x": 6.02566570347348,
          "xref": "x",
          "y": 10.43332258857743,
          "yref": "y"
         },
         {
          "layer": "below",
          "opacity": 1,
          "sizex": 0.5,
          "sizey": 1,
          "source": "https://upload.wikimedia.org/wikipedia/commons/5/53/Flag_of_Syria.svg",
          "x": 0.28737246790007026,
          "xref": "x",
          "y": -1.817518183442127,
          "yref": "y"
         },
         {
          "layer": "below",
          "opacity": 1,
          "sizex": 0.5,
          "sizey": 1,
          "source": "https://upload.wikimedia.org/wikipedia/commons/3/38/Flag_of_Tanzania.svg",
          "x": -4.082207949826527,
          "xref": "x",
          "y": -1.9620189757515778,
          "yref": "y"
         },
         {
          "layer": "below",
          "opacity": 1,
          "sizex": 0.5,
          "sizey": 1,
          "source": "https://upload.wikimedia.org/wikipedia/commons/a/a9/Flag_of_Thailand.svg",
          "x": 0.6251753902021343,
          "xref": "x",
          "y": -2.238877622351185,
          "yref": "y"
         },
         {
          "layer": "below",
          "opacity": 1,
          "sizex": 0.5,
          "sizey": 1,
          "source": "https://upload.wikimedia.org/wikipedia/commons/6/68/Flag_of_Togo.svg",
          "x": -2.796214158197013,
          "xref": "x",
          "y": -2.1008106595757883,
          "yref": "y"
         },
         {
          "layer": "below",
          "opacity": 1,
          "sizex": 0.5,
          "sizey": 1,
          "source": "https://upload.wikimedia.org/wikipedia/commons/6/64/Flag_of_Trinidad_and_Tobago.svg",
          "x": 2.2248754722950923,
          "xref": "x",
          "y": 0.3611898384228007,
          "yref": "y"
         },
         {
          "layer": "below",
          "opacity": 1,
          "sizex": 0.5,
          "sizey": 1,
          "source": "https://upload.wikimedia.org/wikipedia/commons/c/ce/Flag_of_Tunisia.svg",
          "x": 0.18801125651734998,
          "xref": "x",
          "y": -1.797258564938004,
          "yref": "y"
         },
         {
          "layer": "below",
          "opacity": 1,
          "sizex": 0.5,
          "sizey": 1,
          "source": "https://upload.wikimedia.org/wikipedia/commons/b/b4/Flag_of_Turkey.svg",
          "x": -0.10923671656659754,
          "xref": "x",
          "y": -1.144771822981639,
          "yref": "y"
         },
         {
          "layer": "below",
          "opacity": 1,
          "sizex": 0.5,
          "sizey": 1,
          "source": "https://upload.wikimedia.org/wikipedia/commons/4/4e/Flag_of_Uganda.svg",
          "x": -4.241434978686226,
          "xref": "x",
          "y": -1.9599854010131916,
          "yref": "y"
         },
         {
          "layer": "below",
          "opacity": 1,
          "sizex": 0.5,
          "sizey": 1,
          "source": "https://upload.wikimedia.org/wikipedia/en/a/ae/Flag_of_the_United_Kingdom.svg",
          "x": 5.015869255851361,
          "xref": "x",
          "y": 5.854603459654153,
          "yref": "y"
         },
         {
          "layer": "below",
          "opacity": 1,
          "sizex": 0.5,
          "sizey": 1,
          "source": "https://upload.wikimedia.org/wikipedia/en/a/a4/Flag_of_the_United_States.svg",
          "x": 5.734454054466301,
          "xref": "x",
          "y": 9.062570193011137,
          "yref": "y"
         },
         {
          "layer": "below",
          "opacity": 1,
          "sizex": 0.5,
          "sizey": 1,
          "source": "https://upload.wikimedia.org/wikipedia/commons/f/fe/Flag_of_Uruguay.svg",
          "x": 3.5632897005425086,
          "xref": "x",
          "y": -0.04840497147045458,
          "yref": "y"
         },
         {
          "layer": "below",
          "opacity": 1,
          "sizex": 0.5,
          "sizey": 1,
          "source": "https://upload.wikimedia.org/wikipedia/commons/0/06/Flag_of_Venezuela.svg",
          "x": 1.885683382144674,
          "xref": "x",
          "y": 2.820907821970896,
          "yref": "y"
         },
         {
          "layer": "below",
          "opacity": 1,
          "sizex": 0.5,
          "sizey": 1,
          "source": "https://upload.wikimedia.org/wikipedia/commons/2/21/Flag_of_Vietnam.svg",
          "x": -0.8475944362637671,
          "xref": "x",
          "y": -3.238942545544948,
          "yref": "y"
         },
         {
          "layer": "below",
          "opacity": 1,
          "sizex": 0.5,
          "sizey": 1,
          "source": "https://upload.wikimedia.org/wikipedia/commons/0/06/Flag_of_Zambia.svg",
          "x": -4.313067608155782,
          "xref": "x",
          "y": -3.524175626754272,
          "yref": "y"
         },
         {
          "layer": "below",
          "opacity": 1,
          "sizex": 0.5,
          "sizey": 1,
          "source": "https://upload.wikimedia.org/wikipedia/commons/6/6a/Flag_of_Zimbabwe.svg",
          "x": -3.920883788336592,
          "xref": "x",
          "y": 0.36237081634650775,
          "yref": "y"
         }
        ],
        "legend": {
         "title": {
          "text": "continent"
         },
         "tracegroupgap": 0
        },
        "margin": {
         "b": 20,
         "l": 20,
         "r": 20,
         "t": 40
        },
        "showlegend": false,
        "template": {
         "data": {
          "bar": [
           {
            "error_x": {
             "color": "#2a3f5f"
            },
            "error_y": {
             "color": "#2a3f5f"
            },
            "marker": {
             "line": {
              "color": "#E5ECF6",
              "width": 0.5
             },
             "pattern": {
              "fillmode": "overlay",
              "size": 10,
              "solidity": 0.2
             }
            },
            "type": "bar"
           }
          ],
          "barpolar": [
           {
            "marker": {
             "line": {
              "color": "#E5ECF6",
              "width": 0.5
             },
             "pattern": {
              "fillmode": "overlay",
              "size": 10,
              "solidity": 0.2
             }
            },
            "type": "barpolar"
           }
          ],
          "carpet": [
           {
            "aaxis": {
             "endlinecolor": "#2a3f5f",
             "gridcolor": "white",
             "linecolor": "white",
             "minorgridcolor": "white",
             "startlinecolor": "#2a3f5f"
            },
            "baxis": {
             "endlinecolor": "#2a3f5f",
             "gridcolor": "white",
             "linecolor": "white",
             "minorgridcolor": "white",
             "startlinecolor": "#2a3f5f"
            },
            "type": "carpet"
           }
          ],
          "choropleth": [
           {
            "colorbar": {
             "outlinewidth": 0,
             "ticks": ""
            },
            "type": "choropleth"
           }
          ],
          "contour": [
           {
            "colorbar": {
             "outlinewidth": 0,
             "ticks": ""
            },
            "colorscale": [
             [
              0,
              "#0d0887"
             ],
             [
              0.1111111111111111,
              "#46039f"
             ],
             [
              0.2222222222222222,
              "#7201a8"
             ],
             [
              0.3333333333333333,
              "#9c179e"
             ],
             [
              0.4444444444444444,
              "#bd3786"
             ],
             [
              0.5555555555555556,
              "#d8576b"
             ],
             [
              0.6666666666666666,
              "#ed7953"
             ],
             [
              0.7777777777777778,
              "#fb9f3a"
             ],
             [
              0.8888888888888888,
              "#fdca26"
             ],
             [
              1,
              "#f0f921"
             ]
            ],
            "type": "contour"
           }
          ],
          "contourcarpet": [
           {
            "colorbar": {
             "outlinewidth": 0,
             "ticks": ""
            },
            "type": "contourcarpet"
           }
          ],
          "heatmap": [
           {
            "colorbar": {
             "outlinewidth": 0,
             "ticks": ""
            },
            "colorscale": [
             [
              0,
              "#0d0887"
             ],
             [
              0.1111111111111111,
              "#46039f"
             ],
             [
              0.2222222222222222,
              "#7201a8"
             ],
             [
              0.3333333333333333,
              "#9c179e"
             ],
             [
              0.4444444444444444,
              "#bd3786"
             ],
             [
              0.5555555555555556,
              "#d8576b"
             ],
             [
              0.6666666666666666,
              "#ed7953"
             ],
             [
              0.7777777777777778,
              "#fb9f3a"
             ],
             [
              0.8888888888888888,
              "#fdca26"
             ],
             [
              1,
              "#f0f921"
             ]
            ],
            "type": "heatmap"
           }
          ],
          "heatmapgl": [
           {
            "colorbar": {
             "outlinewidth": 0,
             "ticks": ""
            },
            "colorscale": [
             [
              0,
              "#0d0887"
             ],
             [
              0.1111111111111111,
              "#46039f"
             ],
             [
              0.2222222222222222,
              "#7201a8"
             ],
             [
              0.3333333333333333,
              "#9c179e"
             ],
             [
              0.4444444444444444,
              "#bd3786"
             ],
             [
              0.5555555555555556,
              "#d8576b"
             ],
             [
              0.6666666666666666,
              "#ed7953"
             ],
             [
              0.7777777777777778,
              "#fb9f3a"
             ],
             [
              0.8888888888888888,
              "#fdca26"
             ],
             [
              1,
              "#f0f921"
             ]
            ],
            "type": "heatmapgl"
           }
          ],
          "histogram": [
           {
            "marker": {
             "pattern": {
              "fillmode": "overlay",
              "size": 10,
              "solidity": 0.2
             }
            },
            "type": "histogram"
           }
          ],
          "histogram2d": [
           {
            "colorbar": {
             "outlinewidth": 0,
             "ticks": ""
            },
            "colorscale": [
             [
              0,
              "#0d0887"
             ],
             [
              0.1111111111111111,
              "#46039f"
             ],
             [
              0.2222222222222222,
              "#7201a8"
             ],
             [
              0.3333333333333333,
              "#9c179e"
             ],
             [
              0.4444444444444444,
              "#bd3786"
             ],
             [
              0.5555555555555556,
              "#d8576b"
             ],
             [
              0.6666666666666666,
              "#ed7953"
             ],
             [
              0.7777777777777778,
              "#fb9f3a"
             ],
             [
              0.8888888888888888,
              "#fdca26"
             ],
             [
              1,
              "#f0f921"
             ]
            ],
            "type": "histogram2d"
           }
          ],
          "histogram2dcontour": [
           {
            "colorbar": {
             "outlinewidth": 0,
             "ticks": ""
            },
            "colorscale": [
             [
              0,
              "#0d0887"
             ],
             [
              0.1111111111111111,
              "#46039f"
             ],
             [
              0.2222222222222222,
              "#7201a8"
             ],
             [
              0.3333333333333333,
              "#9c179e"
             ],
             [
              0.4444444444444444,
              "#bd3786"
             ],
             [
              0.5555555555555556,
              "#d8576b"
             ],
             [
              0.6666666666666666,
              "#ed7953"
             ],
             [
              0.7777777777777778,
              "#fb9f3a"
             ],
             [
              0.8888888888888888,
              "#fdca26"
             ],
             [
              1,
              "#f0f921"
             ]
            ],
            "type": "histogram2dcontour"
           }
          ],
          "mesh3d": [
           {
            "colorbar": {
             "outlinewidth": 0,
             "ticks": ""
            },
            "type": "mesh3d"
           }
          ],
          "parcoords": [
           {
            "line": {
             "colorbar": {
              "outlinewidth": 0,
              "ticks": ""
             }
            },
            "type": "parcoords"
           }
          ],
          "pie": [
           {
            "automargin": true,
            "type": "pie"
           }
          ],
          "scatter": [
           {
            "fillpattern": {
             "fillmode": "overlay",
             "size": 10,
             "solidity": 0.2
            },
            "type": "scatter"
           }
          ],
          "scatter3d": [
           {
            "line": {
             "colorbar": {
              "outlinewidth": 0,
              "ticks": ""
             }
            },
            "marker": {
             "colorbar": {
              "outlinewidth": 0,
              "ticks": ""
             }
            },
            "type": "scatter3d"
           }
          ],
          "scattercarpet": [
           {
            "marker": {
             "colorbar": {
              "outlinewidth": 0,
              "ticks": ""
             }
            },
            "type": "scattercarpet"
           }
          ],
          "scattergeo": [
           {
            "marker": {
             "colorbar": {
              "outlinewidth": 0,
              "ticks": ""
             }
            },
            "type": "scattergeo"
           }
          ],
          "scattergl": [
           {
            "marker": {
             "colorbar": {
              "outlinewidth": 0,
              "ticks": ""
             }
            },
            "type": "scattergl"
           }
          ],
          "scattermapbox": [
           {
            "marker": {
             "colorbar": {
              "outlinewidth": 0,
              "ticks": ""
             }
            },
            "type": "scattermapbox"
           }
          ],
          "scatterpolar": [
           {
            "marker": {
             "colorbar": {
              "outlinewidth": 0,
              "ticks": ""
             }
            },
            "type": "scatterpolar"
           }
          ],
          "scatterpolargl": [
           {
            "marker": {
             "colorbar": {
              "outlinewidth": 0,
              "ticks": ""
             }
            },
            "type": "scatterpolargl"
           }
          ],
          "scatterternary": [
           {
            "marker": {
             "colorbar": {
              "outlinewidth": 0,
              "ticks": ""
             }
            },
            "type": "scatterternary"
           }
          ],
          "surface": [
           {
            "colorbar": {
             "outlinewidth": 0,
             "ticks": ""
            },
            "colorscale": [
             [
              0,
              "#0d0887"
             ],
             [
              0.1111111111111111,
              "#46039f"
             ],
             [
              0.2222222222222222,
              "#7201a8"
             ],
             [
              0.3333333333333333,
              "#9c179e"
             ],
             [
              0.4444444444444444,
              "#bd3786"
             ],
             [
              0.5555555555555556,
              "#d8576b"
             ],
             [
              0.6666666666666666,
              "#ed7953"
             ],
             [
              0.7777777777777778,
              "#fb9f3a"
             ],
             [
              0.8888888888888888,
              "#fdca26"
             ],
             [
              1,
              "#f0f921"
             ]
            ],
            "type": "surface"
           }
          ],
          "table": [
           {
            "cells": {
             "fill": {
              "color": "#EBF0F8"
             },
             "line": {
              "color": "white"
             }
            },
            "header": {
             "fill": {
              "color": "#C8D4E3"
             },
             "line": {
              "color": "white"
             }
            },
            "type": "table"
           }
          ]
         },
         "layout": {
          "annotationdefaults": {
           "arrowcolor": "#2a3f5f",
           "arrowhead": 0,
           "arrowwidth": 1
          },
          "autotypenumbers": "strict",
          "coloraxis": {
           "colorbar": {
            "outlinewidth": 0,
            "ticks": ""
           }
          },
          "colorscale": {
           "diverging": [
            [
             0,
             "#8e0152"
            ],
            [
             0.1,
             "#c51b7d"
            ],
            [
             0.2,
             "#de77ae"
            ],
            [
             0.3,
             "#f1b6da"
            ],
            [
             0.4,
             "#fde0ef"
            ],
            [
             0.5,
             "#f7f7f7"
            ],
            [
             0.6,
             "#e6f5d0"
            ],
            [
             0.7,
             "#b8e186"
            ],
            [
             0.8,
             "#7fbc41"
            ],
            [
             0.9,
             "#4d9221"
            ],
            [
             1,
             "#276419"
            ]
           ],
           "sequential": [
            [
             0,
             "#0d0887"
            ],
            [
             0.1111111111111111,
             "#46039f"
            ],
            [
             0.2222222222222222,
             "#7201a8"
            ],
            [
             0.3333333333333333,
             "#9c179e"
            ],
            [
             0.4444444444444444,
             "#bd3786"
            ],
            [
             0.5555555555555556,
             "#d8576b"
            ],
            [
             0.6666666666666666,
             "#ed7953"
            ],
            [
             0.7777777777777778,
             "#fb9f3a"
            ],
            [
             0.8888888888888888,
             "#fdca26"
            ],
            [
             1,
             "#f0f921"
            ]
           ],
           "sequentialminus": [
            [
             0,
             "#0d0887"
            ],
            [
             0.1111111111111111,
             "#46039f"
            ],
            [
             0.2222222222222222,
             "#7201a8"
            ],
            [
             0.3333333333333333,
             "#9c179e"
            ],
            [
             0.4444444444444444,
             "#bd3786"
            ],
            [
             0.5555555555555556,
             "#d8576b"
            ],
            [
             0.6666666666666666,
             "#ed7953"
            ],
            [
             0.7777777777777778,
             "#fb9f3a"
            ],
            [
             0.8888888888888888,
             "#fdca26"
            ],
            [
             1,
             "#f0f921"
            ]
           ]
          },
          "colorway": [
           "#636efa",
           "#EF553B",
           "#00cc96",
           "#ab63fa",
           "#FFA15A",
           "#19d3f3",
           "#FF6692",
           "#B6E880",
           "#FF97FF",
           "#FECB52"
          ],
          "font": {
           "color": "#2a3f5f"
          },
          "geo": {
           "bgcolor": "white",
           "lakecolor": "white",
           "landcolor": "#E5ECF6",
           "showlakes": true,
           "showland": true,
           "subunitcolor": "white"
          },
          "hoverlabel": {
           "align": "left"
          },
          "hovermode": "closest",
          "mapbox": {
           "style": "light"
          },
          "paper_bgcolor": "white",
          "plot_bgcolor": "#E5ECF6",
          "polar": {
           "angularaxis": {
            "gridcolor": "white",
            "linecolor": "white",
            "ticks": ""
           },
           "bgcolor": "#E5ECF6",
           "radialaxis": {
            "gridcolor": "white",
            "linecolor": "white",
            "ticks": ""
           }
          },
          "scene": {
           "xaxis": {
            "backgroundcolor": "#E5ECF6",
            "gridcolor": "white",
            "gridwidth": 2,
            "linecolor": "white",
            "showbackground": true,
            "ticks": "",
            "zerolinecolor": "white"
           },
           "yaxis": {
            "backgroundcolor": "#E5ECF6",
            "gridcolor": "white",
            "gridwidth": 2,
            "linecolor": "white",
            "showbackground": true,
            "ticks": "",
            "zerolinecolor": "white"
           },
           "zaxis": {
            "backgroundcolor": "#E5ECF6",
            "gridcolor": "white",
            "gridwidth": 2,
            "linecolor": "white",
            "showbackground": true,
            "ticks": "",
            "zerolinecolor": "white"
           }
          },
          "shapedefaults": {
           "line": {
            "color": "#2a3f5f"
           }
          },
          "ternary": {
           "aaxis": {
            "gridcolor": "white",
            "linecolor": "white",
            "ticks": ""
           },
           "baxis": {
            "gridcolor": "white",
            "linecolor": "white",
            "ticks": ""
           },
           "bgcolor": "#E5ECF6",
           "caxis": {
            "gridcolor": "white",
            "linecolor": "white",
            "ticks": ""
           }
          },
          "title": {
           "x": 0.05
          },
          "xaxis": {
           "automargin": true,
           "gridcolor": "white",
           "linecolor": "white",
           "ticks": "",
           "title": {
            "standoff": 15
           },
           "zerolinecolor": "white",
           "zerolinewidth": 2
          },
          "yaxis": {
           "automargin": true,
           "gridcolor": "white",
           "linecolor": "white",
           "ticks": "",
           "title": {
            "standoff": 15
           },
           "zerolinecolor": "white",
           "zerolinewidth": 2
          }
         }
        },
        "title": {
         "text": "MDS projection of the country trajectories"
        },
        "width": 1000,
        "xaxis": {
         "anchor": "y",
         "domain": [
          0,
          1
         ],
         "title": {
          "text": "MDS_x"
         },
         "visible": false
        },
        "yaxis": {
         "anchor": "x",
         "domain": [
          0,
          1
         ],
         "scaleanchor": "x",
         "scaleratio": 1,
         "title": {
          "text": "MDS_y"
         },
         "visible": false
        }
       }
      }
     },
     "metadata": {},
     "output_type": "display_data"
    }
   ],
   "source": [
    "fig = px.scatter(HDmap, x=\"MDS_x\", y=\"MDS_y\", hover_name=\"country\", \n",
    "                  color=\"continent\",\n",
    "                 width=1000, height=700, \n",
    "                 title=\"MDS projection of the country trajectories\")\n",
    "\n",
    "\n",
    "\n",
    "for x, y, img_url in zip(HDmap.MDS_x, HDmap.MDS_y, HDmap[\"ImageURL\"]): \n",
    "  fig.add_layout_image(\n",
    "          x=x,\n",
    "          sizex=0.5,\n",
    "          y=y,\n",
    "          sizey=1,\n",
    "          xref=\"x\",\n",
    "          yref=\"y\",\n",
    "          opacity=1.0,\n",
    "          layer=\"below\",\n",
    "          source=img_url\n",
    "  )\n",
    "\n",
    "fig.update_yaxes(\n",
    "    scaleanchor = \"x\",\n",
    "    scaleratio = 1,\n",
    "  )\n",
    "\n",
    "#legend\n",
    "fig.update_layout(showlegend=False, \n",
    "                 margin=dict(l=20, r=20, t=40, b=20),\n",
    "                 )\n",
    "\n",
    "fig.update_xaxes(visible=False)  \n",
    "fig.update_yaxes(visible=False)\n",
    "\n",
    "\n",
    "fig.show()"
   ]
  },
  {
   "attachments": {},
   "cell_type": "markdown",
   "metadata": {},
   "source": [
    "Countries that are close in the MDS projetion are have similar life expectancy and GDP per capita values over time "
   ]
  },
  {
   "cell_type": "code",
   "execution_count": 38,
   "metadata": {},
   "outputs": [
    {
     "data": {
      "application/vnd.plotly.v1+json": {
       "config": {
        "plotlyServerURL": "https://plot.ly"
       },
       "data": [
        {
         "hovertemplate": "country=Australia<br>gdpPercap=%{x}<br>lifeExp=%{y}<extra></extra>",
         "legendgroup": "Australia",
         "line": {
          "color": "#636efa",
          "dash": "solid"
         },
         "marker": {
          "symbol": "circle"
         },
         "mode": "lines",
         "name": "Australia",
         "orientation": "v",
         "showlegend": true,
         "textposition": "bottom right",
         "type": "scatter",
         "x": [
          10039.59564,
          10949.64959,
          12217.22686,
          14526.12465,
          16788.62948,
          18334.19751,
          19477.00928,
          21888.88903,
          23424.76683,
          26997.93657,
          30687.75473,
          34435.36744
         ],
         "xaxis": "x",
         "y": [
          69.12,
          70.33,
          70.93,
          71.1,
          71.93,
          73.49,
          74.74,
          76.32,
          77.56,
          78.83,
          80.37,
          81.235
         ],
         "yaxis": "y"
        },
        {
         "hovertemplate": "country=Brazil<br>gdpPercap=%{x}<br>lifeExp=%{y}<extra></extra>",
         "legendgroup": "Brazil",
         "line": {
          "color": "#EF553B",
          "dash": "solid"
         },
         "marker": {
          "symbol": "circle"
         },
         "mode": "lines",
         "name": "Brazil",
         "orientation": "v",
         "showlegend": true,
         "textposition": "bottom right",
         "type": "scatter",
         "x": [
          2108.944355,
          2487.365989,
          3336.585802,
          3429.864357,
          4985.711467,
          6660.118654,
          7030.835878,
          7807.095818,
          6950.283021,
          7957.980824,
          8131.212843,
          9065.800825
         ],
         "xaxis": "x",
         "y": [
          50.917,
          53.285,
          55.665,
          57.632,
          59.504,
          61.489,
          63.336,
          65.205,
          67.057,
          69.388,
          71.006,
          72.39
         ],
         "yaxis": "y"
        },
        {
         "hovertemplate": "country=Burkina Faso<br>gdpPercap=%{x}<br>lifeExp=%{y}<extra></extra>",
         "legendgroup": "Burkina Faso",
         "line": {
          "color": "#00cc96",
          "dash": "solid"
         },
         "marker": {
          "symbol": "circle"
         },
         "mode": "lines",
         "name": "Burkina Faso",
         "orientation": "v",
         "showlegend": true,
         "textposition": "bottom right",
         "type": "scatter",
         "x": [
          543.2552413,
          617.1834648,
          722.5120206,
          794.8265597,
          854.7359763,
          743.3870368,
          807.1985855,
          912.0631417,
          931.7527731,
          946.2949618,
          1037.645221,
          1217.032994
         ],
         "xaxis": "x",
         "y": [
          31.975,
          34.906,
          37.814,
          40.697,
          43.591,
          46.137,
          48.122,
          49.557,
          50.26,
          50.324,
          50.65,
          52.295
         ],
         "yaxis": "y"
        },
        {
         "hovertemplate": "country=Ecuador<br>gdpPercap=%{x}<br>lifeExp=%{y}<extra></extra>",
         "legendgroup": "Ecuador",
         "line": {
          "color": "#ab63fa",
          "dash": "solid"
         },
         "marker": {
          "symbol": "circle"
         },
         "mode": "lines",
         "name": "Ecuador",
         "orientation": "v",
         "showlegend": true,
         "textposition": "bottom right",
         "type": "scatter",
         "x": [
          3522.110717,
          3780.546651,
          4086.114078,
          4579.074215,
          5280.99471,
          6679.62326,
          7213.791267,
          6481.776993,
          7103.702595,
          7429.455877,
          5773.044512,
          6873.262326
         ],
         "xaxis": "x",
         "y": [
          48.357,
          51.356,
          54.64,
          56.678,
          58.796,
          61.31,
          64.342,
          67.231,
          69.613,
          72.312,
          74.173,
          74.994
         ],
         "yaxis": "y"
        },
        {
         "hovertemplate": "country=Ethiopia<br>gdpPercap=%{x}<br>lifeExp=%{y}<extra></extra>",
         "legendgroup": "Ethiopia",
         "line": {
          "color": "#FFA15A",
          "dash": "solid"
         },
         "marker": {
          "symbol": "circle"
         },
         "mode": "lines",
         "name": "Ethiopia",
         "orientation": "v",
         "showlegend": true,
         "textposition": "bottom right",
         "type": "scatter",
         "x": [
          362.1462796,
          378.9041632,
          419.4564161,
          516.1186438,
          566.2439442,
          556.8083834,
          577.8607471,
          573.7413142,
          421.3534653,
          515.8894013,
          530.0535319,
          690.8055759
         ],
         "xaxis": "x",
         "y": [
          34.078,
          36.667,
          40.059,
          42.115,
          43.515,
          44.51,
          44.916,
          46.684,
          48.091,
          49.402,
          50.725,
          52.947
         ],
         "yaxis": "y"
        },
        {
         "hovertemplate": "country=Greece<br>gdpPercap=%{x}<br>lifeExp=%{y}<extra></extra>",
         "legendgroup": "Greece",
         "line": {
          "color": "#19d3f3",
          "dash": "solid"
         },
         "marker": {
          "symbol": "circle"
         },
         "mode": "lines",
         "name": "Greece",
         "orientation": "v",
         "showlegend": true,
         "textposition": "bottom right",
         "type": "scatter",
         "x": [
          3530.690067,
          4916.299889,
          6017.190733,
          8513.097016,
          12724.82957,
          14195.52428,
          15268.42089,
          16120.52839,
          17541.49634,
          18747.69814,
          22514.2548,
          27538.41188
         ],
         "xaxis": "x",
         "y": [
          65.86,
          67.86,
          69.51,
          71,
          72.34,
          73.68,
          75.24,
          76.67,
          77.03,
          77.869,
          78.256,
          79.483
         ],
         "yaxis": "y"
        },
        {
         "hovertemplate": "country=Israel<br>gdpPercap=%{x}<br>lifeExp=%{y}<extra></extra>",
         "legendgroup": "Israel",
         "line": {
          "color": "#FF6692",
          "dash": "solid"
         },
         "marker": {
          "symbol": "circle"
         },
         "mode": "lines",
         "name": "Israel",
         "orientation": "v",
         "showlegend": true,
         "textposition": "bottom right",
         "type": "scatter",
         "x": [
          4086.522128,
          5385.278451,
          7105.630706,
          8393.741404,
          12786.93223,
          13306.61921,
          15367.0292,
          17122.47986,
          18051.52254,
          20896.60924,
          21905.59514,
          25523.2771
         ],
         "xaxis": "x",
         "y": [
          65.39,
          67.84,
          69.39,
          70.75,
          71.63,
          73.06,
          74.45,
          75.6,
          76.93,
          78.269,
          79.696,
          80.745
         ],
         "yaxis": "y"
        },
        {
         "hovertemplate": "country=United Kingdom<br>gdpPercap=%{x}<br>lifeExp=%{y}<extra></extra>",
         "legendgroup": "United Kingdom",
         "line": {
          "color": "#B6E880",
          "dash": "solid"
         },
         "marker": {
          "symbol": "circle"
         },
         "mode": "lines",
         "name": "United Kingdom",
         "orientation": "v",
         "showlegend": true,
         "textposition": "bottom right",
         "type": "scatter",
         "x": [
          9979.508487,
          11283.17795,
          12477.17707,
          14142.85089,
          15895.11641,
          17428.74846,
          18232.42452,
          21664.78767,
          22705.09254,
          26074.53136,
          29478.99919,
          33203.26128
         ],
         "xaxis": "x",
         "y": [
          69.18,
          70.42,
          70.76,
          71.36,
          72.01,
          72.76,
          74.04,
          75.007,
          76.42,
          77.218,
          78.471,
          79.425
         ],
         "yaxis": "y"
        }
       ],
       "layout": {
        "legend": {
         "title": {
          "text": "country"
         },
         "tracegroupgap": 0
        },
        "margin": {
         "t": 60
        },
        "template": {
         "data": {
          "bar": [
           {
            "error_x": {
             "color": "#2a3f5f"
            },
            "error_y": {
             "color": "#2a3f5f"
            },
            "marker": {
             "line": {
              "color": "#E5ECF6",
              "width": 0.5
             },
             "pattern": {
              "fillmode": "overlay",
              "size": 10,
              "solidity": 0.2
             }
            },
            "type": "bar"
           }
          ],
          "barpolar": [
           {
            "marker": {
             "line": {
              "color": "#E5ECF6",
              "width": 0.5
             },
             "pattern": {
              "fillmode": "overlay",
              "size": 10,
              "solidity": 0.2
             }
            },
            "type": "barpolar"
           }
          ],
          "carpet": [
           {
            "aaxis": {
             "endlinecolor": "#2a3f5f",
             "gridcolor": "white",
             "linecolor": "white",
             "minorgridcolor": "white",
             "startlinecolor": "#2a3f5f"
            },
            "baxis": {
             "endlinecolor": "#2a3f5f",
             "gridcolor": "white",
             "linecolor": "white",
             "minorgridcolor": "white",
             "startlinecolor": "#2a3f5f"
            },
            "type": "carpet"
           }
          ],
          "choropleth": [
           {
            "colorbar": {
             "outlinewidth": 0,
             "ticks": ""
            },
            "type": "choropleth"
           }
          ],
          "contour": [
           {
            "colorbar": {
             "outlinewidth": 0,
             "ticks": ""
            },
            "colorscale": [
             [
              0,
              "#0d0887"
             ],
             [
              0.1111111111111111,
              "#46039f"
             ],
             [
              0.2222222222222222,
              "#7201a8"
             ],
             [
              0.3333333333333333,
              "#9c179e"
             ],
             [
              0.4444444444444444,
              "#bd3786"
             ],
             [
              0.5555555555555556,
              "#d8576b"
             ],
             [
              0.6666666666666666,
              "#ed7953"
             ],
             [
              0.7777777777777778,
              "#fb9f3a"
             ],
             [
              0.8888888888888888,
              "#fdca26"
             ],
             [
              1,
              "#f0f921"
             ]
            ],
            "type": "contour"
           }
          ],
          "contourcarpet": [
           {
            "colorbar": {
             "outlinewidth": 0,
             "ticks": ""
            },
            "type": "contourcarpet"
           }
          ],
          "heatmap": [
           {
            "colorbar": {
             "outlinewidth": 0,
             "ticks": ""
            },
            "colorscale": [
             [
              0,
              "#0d0887"
             ],
             [
              0.1111111111111111,
              "#46039f"
             ],
             [
              0.2222222222222222,
              "#7201a8"
             ],
             [
              0.3333333333333333,
              "#9c179e"
             ],
             [
              0.4444444444444444,
              "#bd3786"
             ],
             [
              0.5555555555555556,
              "#d8576b"
             ],
             [
              0.6666666666666666,
              "#ed7953"
             ],
             [
              0.7777777777777778,
              "#fb9f3a"
             ],
             [
              0.8888888888888888,
              "#fdca26"
             ],
             [
              1,
              "#f0f921"
             ]
            ],
            "type": "heatmap"
           }
          ],
          "heatmapgl": [
           {
            "colorbar": {
             "outlinewidth": 0,
             "ticks": ""
            },
            "colorscale": [
             [
              0,
              "#0d0887"
             ],
             [
              0.1111111111111111,
              "#46039f"
             ],
             [
              0.2222222222222222,
              "#7201a8"
             ],
             [
              0.3333333333333333,
              "#9c179e"
             ],
             [
              0.4444444444444444,
              "#bd3786"
             ],
             [
              0.5555555555555556,
              "#d8576b"
             ],
             [
              0.6666666666666666,
              "#ed7953"
             ],
             [
              0.7777777777777778,
              "#fb9f3a"
             ],
             [
              0.8888888888888888,
              "#fdca26"
             ],
             [
              1,
              "#f0f921"
             ]
            ],
            "type": "heatmapgl"
           }
          ],
          "histogram": [
           {
            "marker": {
             "pattern": {
              "fillmode": "overlay",
              "size": 10,
              "solidity": 0.2
             }
            },
            "type": "histogram"
           }
          ],
          "histogram2d": [
           {
            "colorbar": {
             "outlinewidth": 0,
             "ticks": ""
            },
            "colorscale": [
             [
              0,
              "#0d0887"
             ],
             [
              0.1111111111111111,
              "#46039f"
             ],
             [
              0.2222222222222222,
              "#7201a8"
             ],
             [
              0.3333333333333333,
              "#9c179e"
             ],
             [
              0.4444444444444444,
              "#bd3786"
             ],
             [
              0.5555555555555556,
              "#d8576b"
             ],
             [
              0.6666666666666666,
              "#ed7953"
             ],
             [
              0.7777777777777778,
              "#fb9f3a"
             ],
             [
              0.8888888888888888,
              "#fdca26"
             ],
             [
              1,
              "#f0f921"
             ]
            ],
            "type": "histogram2d"
           }
          ],
          "histogram2dcontour": [
           {
            "colorbar": {
             "outlinewidth": 0,
             "ticks": ""
            },
            "colorscale": [
             [
              0,
              "#0d0887"
             ],
             [
              0.1111111111111111,
              "#46039f"
             ],
             [
              0.2222222222222222,
              "#7201a8"
             ],
             [
              0.3333333333333333,
              "#9c179e"
             ],
             [
              0.4444444444444444,
              "#bd3786"
             ],
             [
              0.5555555555555556,
              "#d8576b"
             ],
             [
              0.6666666666666666,
              "#ed7953"
             ],
             [
              0.7777777777777778,
              "#fb9f3a"
             ],
             [
              0.8888888888888888,
              "#fdca26"
             ],
             [
              1,
              "#f0f921"
             ]
            ],
            "type": "histogram2dcontour"
           }
          ],
          "mesh3d": [
           {
            "colorbar": {
             "outlinewidth": 0,
             "ticks": ""
            },
            "type": "mesh3d"
           }
          ],
          "parcoords": [
           {
            "line": {
             "colorbar": {
              "outlinewidth": 0,
              "ticks": ""
             }
            },
            "type": "parcoords"
           }
          ],
          "pie": [
           {
            "automargin": true,
            "type": "pie"
           }
          ],
          "scatter": [
           {
            "fillpattern": {
             "fillmode": "overlay",
             "size": 10,
             "solidity": 0.2
            },
            "type": "scatter"
           }
          ],
          "scatter3d": [
           {
            "line": {
             "colorbar": {
              "outlinewidth": 0,
              "ticks": ""
             }
            },
            "marker": {
             "colorbar": {
              "outlinewidth": 0,
              "ticks": ""
             }
            },
            "type": "scatter3d"
           }
          ],
          "scattercarpet": [
           {
            "marker": {
             "colorbar": {
              "outlinewidth": 0,
              "ticks": ""
             }
            },
            "type": "scattercarpet"
           }
          ],
          "scattergeo": [
           {
            "marker": {
             "colorbar": {
              "outlinewidth": 0,
              "ticks": ""
             }
            },
            "type": "scattergeo"
           }
          ],
          "scattergl": [
           {
            "marker": {
             "colorbar": {
              "outlinewidth": 0,
              "ticks": ""
             }
            },
            "type": "scattergl"
           }
          ],
          "scattermapbox": [
           {
            "marker": {
             "colorbar": {
              "outlinewidth": 0,
              "ticks": ""
             }
            },
            "type": "scattermapbox"
           }
          ],
          "scatterpolar": [
           {
            "marker": {
             "colorbar": {
              "outlinewidth": 0,
              "ticks": ""
             }
            },
            "type": "scatterpolar"
           }
          ],
          "scatterpolargl": [
           {
            "marker": {
             "colorbar": {
              "outlinewidth": 0,
              "ticks": ""
             }
            },
            "type": "scatterpolargl"
           }
          ],
          "scatterternary": [
           {
            "marker": {
             "colorbar": {
              "outlinewidth": 0,
              "ticks": ""
             }
            },
            "type": "scatterternary"
           }
          ],
          "surface": [
           {
            "colorbar": {
             "outlinewidth": 0,
             "ticks": ""
            },
            "colorscale": [
             [
              0,
              "#0d0887"
             ],
             [
              0.1111111111111111,
              "#46039f"
             ],
             [
              0.2222222222222222,
              "#7201a8"
             ],
             [
              0.3333333333333333,
              "#9c179e"
             ],
             [
              0.4444444444444444,
              "#bd3786"
             ],
             [
              0.5555555555555556,
              "#d8576b"
             ],
             [
              0.6666666666666666,
              "#ed7953"
             ],
             [
              0.7777777777777778,
              "#fb9f3a"
             ],
             [
              0.8888888888888888,
              "#fdca26"
             ],
             [
              1,
              "#f0f921"
             ]
            ],
            "type": "surface"
           }
          ],
          "table": [
           {
            "cells": {
             "fill": {
              "color": "#EBF0F8"
             },
             "line": {
              "color": "white"
             }
            },
            "header": {
             "fill": {
              "color": "#C8D4E3"
             },
             "line": {
              "color": "white"
             }
            },
            "type": "table"
           }
          ]
         },
         "layout": {
          "annotationdefaults": {
           "arrowcolor": "#2a3f5f",
           "arrowhead": 0,
           "arrowwidth": 1
          },
          "autotypenumbers": "strict",
          "coloraxis": {
           "colorbar": {
            "outlinewidth": 0,
            "ticks": ""
           }
          },
          "colorscale": {
           "diverging": [
            [
             0,
             "#8e0152"
            ],
            [
             0.1,
             "#c51b7d"
            ],
            [
             0.2,
             "#de77ae"
            ],
            [
             0.3,
             "#f1b6da"
            ],
            [
             0.4,
             "#fde0ef"
            ],
            [
             0.5,
             "#f7f7f7"
            ],
            [
             0.6,
             "#e6f5d0"
            ],
            [
             0.7,
             "#b8e186"
            ],
            [
             0.8,
             "#7fbc41"
            ],
            [
             0.9,
             "#4d9221"
            ],
            [
             1,
             "#276419"
            ]
           ],
           "sequential": [
            [
             0,
             "#0d0887"
            ],
            [
             0.1111111111111111,
             "#46039f"
            ],
            [
             0.2222222222222222,
             "#7201a8"
            ],
            [
             0.3333333333333333,
             "#9c179e"
            ],
            [
             0.4444444444444444,
             "#bd3786"
            ],
            [
             0.5555555555555556,
             "#d8576b"
            ],
            [
             0.6666666666666666,
             "#ed7953"
            ],
            [
             0.7777777777777778,
             "#fb9f3a"
            ],
            [
             0.8888888888888888,
             "#fdca26"
            ],
            [
             1,
             "#f0f921"
            ]
           ],
           "sequentialminus": [
            [
             0,
             "#0d0887"
            ],
            [
             0.1111111111111111,
             "#46039f"
            ],
            [
             0.2222222222222222,
             "#7201a8"
            ],
            [
             0.3333333333333333,
             "#9c179e"
            ],
            [
             0.4444444444444444,
             "#bd3786"
            ],
            [
             0.5555555555555556,
             "#d8576b"
            ],
            [
             0.6666666666666666,
             "#ed7953"
            ],
            [
             0.7777777777777778,
             "#fb9f3a"
            ],
            [
             0.8888888888888888,
             "#fdca26"
            ],
            [
             1,
             "#f0f921"
            ]
           ]
          },
          "colorway": [
           "#636efa",
           "#EF553B",
           "#00cc96",
           "#ab63fa",
           "#FFA15A",
           "#19d3f3",
           "#FF6692",
           "#B6E880",
           "#FF97FF",
           "#FECB52"
          ],
          "font": {
           "color": "#2a3f5f"
          },
          "geo": {
           "bgcolor": "white",
           "lakecolor": "white",
           "landcolor": "#E5ECF6",
           "showlakes": true,
           "showland": true,
           "subunitcolor": "white"
          },
          "hoverlabel": {
           "align": "left"
          },
          "hovermode": "closest",
          "mapbox": {
           "style": "light"
          },
          "paper_bgcolor": "white",
          "plot_bgcolor": "#E5ECF6",
          "polar": {
           "angularaxis": {
            "gridcolor": "white",
            "linecolor": "white",
            "ticks": ""
           },
           "bgcolor": "#E5ECF6",
           "radialaxis": {
            "gridcolor": "white",
            "linecolor": "white",
            "ticks": ""
           }
          },
          "scene": {
           "xaxis": {
            "backgroundcolor": "#E5ECF6",
            "gridcolor": "white",
            "gridwidth": 2,
            "linecolor": "white",
            "showbackground": true,
            "ticks": "",
            "zerolinecolor": "white"
           },
           "yaxis": {
            "backgroundcolor": "#E5ECF6",
            "gridcolor": "white",
            "gridwidth": 2,
            "linecolor": "white",
            "showbackground": true,
            "ticks": "",
            "zerolinecolor": "white"
           },
           "zaxis": {
            "backgroundcolor": "#E5ECF6",
            "gridcolor": "white",
            "gridwidth": 2,
            "linecolor": "white",
            "showbackground": true,
            "ticks": "",
            "zerolinecolor": "white"
           }
          },
          "shapedefaults": {
           "line": {
            "color": "#2a3f5f"
           }
          },
          "ternary": {
           "aaxis": {
            "gridcolor": "white",
            "linecolor": "white",
            "ticks": ""
           },
           "baxis": {
            "gridcolor": "white",
            "linecolor": "white",
            "ticks": ""
           },
           "bgcolor": "#E5ECF6",
           "caxis": {
            "gridcolor": "white",
            "linecolor": "white",
            "ticks": ""
           }
          },
          "title": {
           "x": 0.05
          },
          "xaxis": {
           "automargin": true,
           "gridcolor": "white",
           "linecolor": "white",
           "ticks": "",
           "title": {
            "standoff": 15
           },
           "zerolinecolor": "white",
           "zerolinewidth": 2
          },
          "yaxis": {
           "automargin": true,
           "gridcolor": "white",
           "linecolor": "white",
           "ticks": "",
           "title": {
            "standoff": 15
           },
           "zerolinecolor": "white",
           "zerolinewidth": 2
          }
         }
        },
        "title": {
         "text": "Trajectories of Similar Countries from the MDS map"
        },
        "xaxis": {
         "anchor": "y",
         "domain": [
          0,
          1
         ],
         "title": {
          "text": "gdpPercap"
         },
         "type": "log"
        },
        "yaxis": {
         "anchor": "x",
         "domain": [
          0,
          1
         ],
         "title": {
          "text": "lifeExp"
         }
        }
       }
      }
     },
     "metadata": {},
     "output_type": "display_data"
    }
   ],
   "source": [
    "tmp = df.query(\"country in ['Israel', 'Greece', 'Ethiopia', 'Burkina Faso', 'Ecuador', 'Brazil', 'Australia', 'United Kingdom']\")\n",
    "\n",
    "fig = px.line(tmp, x=\"gdpPercap\", y=\"lifeExp\", \n",
    "              color=\"country\", \n",
    "              log_x=True, \n",
    "              #text=\"year\",\n",
    "              )\n",
    "\n",
    "fig.update_traces(textposition=\"bottom right\")\n",
    "fig.update_layout(title_text=\"Trajectories of Similar Countries from the MDS map\")\n",
    "fig.show()"
   ]
  },
  {
   "attachments": {},
   "cell_type": "markdown",
   "metadata": {},
   "source": [
    "### Project the countries using TSNE"
   ]
  },
  {
   "attachments": {},
   "cell_type": "markdown",
   "metadata": {},
   "source": [
    "In this particular application TSNE is not as appropriate as MS. We don't have that many variables and the data are easy to visualize because the first two principal components represent about 90% of the total variability in the data. "
   ]
  },
  {
   "attachments": {},
   "cell_type": "markdown",
   "metadata": {},
   "source": [
    "# How are clusters shown on the HDmap? "
   ]
  },
  {
   "cell_type": "code",
   "execution_count": 39,
   "metadata": {},
   "outputs": [],
   "source": [
    "from sklearn.cluster import KMeans\n",
    "from sklearn.cluster import SpectralClustering"
   ]
  },
  {
   "attachments": {},
   "cell_type": "markdown",
   "metadata": {},
   "source": [
    "Here we will just try spectral or Kmeans clustering. The optimal number of clusters is something to investigate. Here we will just try a few values to investiagate how the clusters of countries are shown on the HD map. "
   ]
  },
  {
   "cell_type": "code",
   "execution_count": 40,
   "metadata": {},
   "outputs": [
    {
     "data": {
      "text/plain": [
       "array([5, 1, 1, 5, 2, 3, 3, 3, 0, 3, 0, 0, 1, 0, 1, 2, 5, 5, 0, 0, 3, 5,\n",
       "       5, 2, 1, 1, 0, 5, 0, 2, 0, 2, 2, 4, 3, 0, 1, 1, 0, 1, 5, 5, 5, 4,\n",
       "       3, 0, 5, 3, 0, 4, 1, 5, 5, 0, 1, 4, 2, 3, 0, 0, 1, 0, 4, 4, 4, 2,\n",
       "       4, 1, 0, 1, 1, 2, 0, 5, 0, 0, 5, 1, 5, 0, 1, 2, 0, 2, 1, 5, 0, 0,\n",
       "       0, 3, 3, 1, 5, 5, 3, 1, 0, 2, 1, 1, 1, 2, 4, 4, 1, 2, 5, 0, 3, 0,\n",
       "       2, 5, 4, 2, 4, 5, 0, 4, 1, 0, 0, 3, 3, 1, 4, 5, 1, 0, 2, 1, 1, 5,\n",
       "       3, 3, 2, 2, 0, 1, 0, 5, 0])"
      ]
     },
     "execution_count": 40,
     "metadata": {},
     "output_type": "execute_result"
    }
   ],
   "source": [
    "clustering = SpectralClustering(n_clusters=6,\n",
    "         assign_labels='discretize',\n",
    "         random_state=0).fit(df2_scaled.values)\n",
    "clustering.labels_\n",
    "\n"
   ]
  },
  {
   "attachments": {},
   "cell_type": "markdown",
   "metadata": {},
   "source": [
    "The algorithm attaches cluster lable to each country. We need to merge this information to the HDmap"
   ]
  },
  {
   "cell_type": "code",
   "execution_count": 41,
   "metadata": {},
   "outputs": [
    {
     "data": {
      "text/html": [
       "<div>\n",
       "<style scoped>\n",
       "    .dataframe tbody tr th:only-of-type {\n",
       "        vertical-align: middle;\n",
       "    }\n",
       "\n",
       "    .dataframe tbody tr th {\n",
       "        vertical-align: top;\n",
       "    }\n",
       "\n",
       "    .dataframe thead th {\n",
       "        text-align: right;\n",
       "    }\n",
       "</style>\n",
       "<table border=\"1\" class=\"dataframe\">\n",
       "  <thead>\n",
       "    <tr style=\"text-align: right;\">\n",
       "      <th></th>\n",
       "      <th>country</th>\n",
       "      <th>MDS_x</th>\n",
       "      <th>MDS_y</th>\n",
       "      <th>iso_alpha</th>\n",
       "      <th>continent</th>\n",
       "      <th>subcontinent</th>\n",
       "      <th>Images File Name</th>\n",
       "      <th>ImageURL</th>\n",
       "      <th>scluster6</th>\n",
       "    </tr>\n",
       "  </thead>\n",
       "  <tbody>\n",
       "    <tr>\n",
       "      <th>0</th>\n",
       "      <td>Afghanistan</td>\n",
       "      <td>-7.009308</td>\n",
       "      <td>-1.954987</td>\n",
       "      <td>AFG</td>\n",
       "      <td>Asia</td>\n",
       "      <td>Southern Asia</td>\n",
       "      <td>Flag_of_Afghanistan.svg</td>\n",
       "      <td>https://upload.wikimedia.org/wikipedia/commons...</td>\n",
       "      <td>5</td>\n",
       "    </tr>\n",
       "    <tr>\n",
       "      <th>1</th>\n",
       "      <td>Albania</td>\n",
       "      <td>2.425480</td>\n",
       "      <td>-2.117486</td>\n",
       "      <td>ALB</td>\n",
       "      <td>Europe</td>\n",
       "      <td>Southern Europe</td>\n",
       "      <td>Flag_of_Albania.svg</td>\n",
       "      <td>https://upload.wikimedia.org/wikipedia/commons...</td>\n",
       "      <td>1</td>\n",
       "    </tr>\n",
       "    <tr>\n",
       "      <th>2</th>\n",
       "      <td>Algeria</td>\n",
       "      <td>-0.329296</td>\n",
       "      <td>-0.935664</td>\n",
       "      <td>DZA</td>\n",
       "      <td>Africa</td>\n",
       "      <td>Northern Africa</td>\n",
       "      <td>Flag_of_Algeria.svg</td>\n",
       "      <td>https://upload.wikimedia.org/wikipedia/commons...</td>\n",
       "      <td>1</td>\n",
       "    </tr>\n",
       "    <tr>\n",
       "      <th>3</th>\n",
       "      <td>Angola</td>\n",
       "      <td>-6.790074</td>\n",
       "      <td>0.007022</td>\n",
       "      <td>AGO</td>\n",
       "      <td>Africa</td>\n",
       "      <td>Sub-Saharan Africa</td>\n",
       "      <td>Flag_of_Angola.svg</td>\n",
       "      <td>https://upload.wikimedia.org/wikipedia/commons...</td>\n",
       "      <td>5</td>\n",
       "    </tr>\n",
       "    <tr>\n",
       "      <th>4</th>\n",
       "      <td>Argentina</td>\n",
       "      <td>2.722510</td>\n",
       "      <td>1.497899</td>\n",
       "      <td>ARG</td>\n",
       "      <td>Americas</td>\n",
       "      <td>Latin America and the Caribbean</td>\n",
       "      <td>Flag_of_Argentina.svg</td>\n",
       "      <td>https://upload.wikimedia.org/wikipedia/commons...</td>\n",
       "      <td>2</td>\n",
       "    </tr>\n",
       "  </tbody>\n",
       "</table>\n",
       "</div>"
      ],
      "text/plain": [
       "       country     MDS_x     MDS_y iso_alpha continent  \\\n",
       "0  Afghanistan -7.009308 -1.954987       AFG      Asia   \n",
       "1      Albania  2.425480 -2.117486       ALB    Europe   \n",
       "2      Algeria -0.329296 -0.935664       DZA    Africa   \n",
       "3       Angola -6.790074  0.007022       AGO    Africa   \n",
       "4    Argentina  2.722510  1.497899       ARG  Americas   \n",
       "\n",
       "                      subcontinent         Images File Name  \\\n",
       "0                    Southern Asia  Flag_of_Afghanistan.svg   \n",
       "1                  Southern Europe      Flag_of_Albania.svg   \n",
       "2                  Northern Africa      Flag_of_Algeria.svg   \n",
       "3               Sub-Saharan Africa       Flag_of_Angola.svg   \n",
       "4  Latin America and the Caribbean    Flag_of_Argentina.svg   \n",
       "\n",
       "                                            ImageURL scluster6  \n",
       "0  https://upload.wikimedia.org/wikipedia/commons...         5  \n",
       "1  https://upload.wikimedia.org/wikipedia/commons...         1  \n",
       "2  https://upload.wikimedia.org/wikipedia/commons...         1  \n",
       "3  https://upload.wikimedia.org/wikipedia/commons...         5  \n",
       "4  https://upload.wikimedia.org/wikipedia/commons...         2  "
      ]
     },
     "execution_count": 41,
     "metadata": {},
     "output_type": "execute_result"
    }
   ],
   "source": [
    "HDmap = HDmap.merge(pd.DataFrame({\"country\":df2_scaled.index, \"scluster6\":clustering.labels_}), on=\"country\")\n",
    "HDmap['scluster6'] =  HDmap['scluster6'].astype('str')\n",
    "HDmap.head()"
   ]
  },
  {
   "cell_type": "code",
   "execution_count": 42,
   "metadata": {},
   "outputs": [
    {
     "data": {
      "text/plain": [
       "array([2, 3, 0, 2, 3, 1, 1, 1, 4, 1, 4, 4, 3, 4, 0, 3, 2, 2, 4, 4, 1, 2,\n",
       "       4, 3, 0, 0, 4, 2, 4, 3, 4, 3, 3, 5, 1, 4, 0, 0, 0, 0, 2, 2, 2, 5,\n",
       "       1, 0, 2, 1, 4, 5, 0, 2, 2, 4, 0, 5, 3, 1, 4, 4, 0, 0, 5, 5, 5, 3,\n",
       "       5, 0, 4, 0, 0, 3, 4, 2, 0, 4, 2, 0, 2, 4, 0, 3, 4, 3, 0, 2, 4, 4,\n",
       "       4, 1, 1, 0, 2, 2, 1, 0, 4, 3, 3, 0, 0, 3, 3, 3, 3, 3, 2, 0, 1, 4,\n",
       "       3, 2, 5, 3, 5, 2, 0, 5, 0, 4, 4, 1, 1, 0, 3, 4, 0, 4, 3, 0, 0, 4,\n",
       "       1, 1, 3, 3, 0, 0, 4, 2, 4], dtype=int32)"
      ]
     },
     "execution_count": 42,
     "metadata": {},
     "output_type": "execute_result"
    }
   ],
   "source": [
    "#trying kmeans with six clusters is easy\n",
    "kmeans = KMeans(n_clusters = 6, random_state = 0)\n",
    "km2 = kmeans.fit(df2_scaled)\n",
    "km2.labels_"
   ]
  },
  {
   "cell_type": "code",
   "execution_count": 43,
   "metadata": {},
   "outputs": [],
   "source": [
    "HDmap = HDmap.merge(pd.DataFrame({\"country\":df2_scaled.index, \"kmeans6\": km2.labels_}), on=\"country\")\n",
    "HDmap['scluster6'] =  HDmap['scluster6'].astype('str')"
   ]
  },
  {
   "attachments": {},
   "cell_type": "markdown",
   "metadata": {},
   "source": [
    "Differences in the clustering methods can be seen by using a crosstab. The clusters are not identical but there are only small differences in the arrangement of clusters. "
   ]
  },
  {
   "cell_type": "code",
   "execution_count": 44,
   "metadata": {},
   "outputs": [
    {
     "data": {
      "text/html": [
       "<div>\n",
       "<style scoped>\n",
       "    .dataframe tbody tr th:only-of-type {\n",
       "        vertical-align: middle;\n",
       "    }\n",
       "\n",
       "    .dataframe tbody tr th {\n",
       "        vertical-align: top;\n",
       "    }\n",
       "\n",
       "    .dataframe thead th {\n",
       "        text-align: right;\n",
       "    }\n",
       "</style>\n",
       "<table border=\"1\" class=\"dataframe\">\n",
       "  <thead>\n",
       "    <tr style=\"text-align: right;\">\n",
       "      <th>kmeans6</th>\n",
       "      <th>0</th>\n",
       "      <th>1</th>\n",
       "      <th>2</th>\n",
       "      <th>3</th>\n",
       "      <th>4</th>\n",
       "      <th>5</th>\n",
       "    </tr>\n",
       "    <tr>\n",
       "      <th>scluster6</th>\n",
       "      <th></th>\n",
       "      <th></th>\n",
       "      <th></th>\n",
       "      <th></th>\n",
       "      <th></th>\n",
       "      <th></th>\n",
       "    </tr>\n",
       "  </thead>\n",
       "  <tbody>\n",
       "    <tr>\n",
       "      <th>0</th>\n",
       "      <td>7</td>\n",
       "      <td>0</td>\n",
       "      <td>0</td>\n",
       "      <td>0</td>\n",
       "      <td>25</td>\n",
       "      <td>0</td>\n",
       "    </tr>\n",
       "    <tr>\n",
       "      <th>1</th>\n",
       "      <td>23</td>\n",
       "      <td>0</td>\n",
       "      <td>0</td>\n",
       "      <td>2</td>\n",
       "      <td>0</td>\n",
       "      <td>0</td>\n",
       "    </tr>\n",
       "    <tr>\n",
       "      <th>2</th>\n",
       "      <td>0</td>\n",
       "      <td>0</td>\n",
       "      <td>0</td>\n",
       "      <td>18</td>\n",
       "      <td>0</td>\n",
       "      <td>0</td>\n",
       "    </tr>\n",
       "    <tr>\n",
       "      <th>3</th>\n",
       "      <td>0</td>\n",
       "      <td>17</td>\n",
       "      <td>0</td>\n",
       "      <td>0</td>\n",
       "      <td>0</td>\n",
       "      <td>0</td>\n",
       "    </tr>\n",
       "    <tr>\n",
       "      <th>4</th>\n",
       "      <td>0</td>\n",
       "      <td>0</td>\n",
       "      <td>0</td>\n",
       "      <td>1</td>\n",
       "      <td>0</td>\n",
       "      <td>10</td>\n",
       "    </tr>\n",
       "    <tr>\n",
       "      <th>5</th>\n",
       "      <td>0</td>\n",
       "      <td>0</td>\n",
       "      <td>19</td>\n",
       "      <td>0</td>\n",
       "      <td>3</td>\n",
       "      <td>0</td>\n",
       "    </tr>\n",
       "  </tbody>\n",
       "</table>\n",
       "</div>"
      ],
      "text/plain": [
       "kmeans6     0   1   2   3   4   5\n",
       "scluster6                        \n",
       "0           7   0   0   0  25   0\n",
       "1          23   0   0   2   0   0\n",
       "2           0   0   0  18   0   0\n",
       "3           0  17   0   0   0   0\n",
       "4           0   0   0   1   0  10\n",
       "5           0   0  19   0   3   0"
      ]
     },
     "execution_count": 44,
     "metadata": {},
     "output_type": "execute_result"
    }
   ],
   "source": [
    "pd.crosstab(HDmap.scluster6, HDmap.kmeans6)"
   ]
  },
  {
   "cell_type": "code",
   "execution_count": 45,
   "metadata": {},
   "outputs": [
    {
     "data": {
      "text/html": [
       "<div>\n",
       "<style scoped>\n",
       "    .dataframe tbody tr th:only-of-type {\n",
       "        vertical-align: middle;\n",
       "    }\n",
       "\n",
       "    .dataframe tbody tr th {\n",
       "        vertical-align: top;\n",
       "    }\n",
       "\n",
       "    .dataframe thead th {\n",
       "        text-align: right;\n",
       "    }\n",
       "</style>\n",
       "<table border=\"1\" class=\"dataframe\">\n",
       "  <thead>\n",
       "    <tr style=\"text-align: right;\">\n",
       "      <th></th>\n",
       "      <th>country</th>\n",
       "      <th>MDS_x</th>\n",
       "      <th>MDS_y</th>\n",
       "      <th>iso_alpha</th>\n",
       "      <th>continent</th>\n",
       "      <th>subcontinent</th>\n",
       "      <th>Images File Name</th>\n",
       "      <th>ImageURL</th>\n",
       "      <th>scluster6</th>\n",
       "      <th>kmeans6</th>\n",
       "    </tr>\n",
       "  </thead>\n",
       "  <tbody>\n",
       "    <tr>\n",
       "      <th>0</th>\n",
       "      <td>Afghanistan</td>\n",
       "      <td>-7.009308</td>\n",
       "      <td>-1.954987</td>\n",
       "      <td>AFG</td>\n",
       "      <td>Asia</td>\n",
       "      <td>Southern Asia</td>\n",
       "      <td>Flag_of_Afghanistan.svg</td>\n",
       "      <td>https://upload.wikimedia.org/wikipedia/commons...</td>\n",
       "      <td>5</td>\n",
       "      <td>2</td>\n",
       "    </tr>\n",
       "    <tr>\n",
       "      <th>1</th>\n",
       "      <td>Albania</td>\n",
       "      <td>2.425480</td>\n",
       "      <td>-2.117486</td>\n",
       "      <td>ALB</td>\n",
       "      <td>Europe</td>\n",
       "      <td>Southern Europe</td>\n",
       "      <td>Flag_of_Albania.svg</td>\n",
       "      <td>https://upload.wikimedia.org/wikipedia/commons...</td>\n",
       "      <td>1</td>\n",
       "      <td>3</td>\n",
       "    </tr>\n",
       "    <tr>\n",
       "      <th>2</th>\n",
       "      <td>Algeria</td>\n",
       "      <td>-0.329296</td>\n",
       "      <td>-0.935664</td>\n",
       "      <td>DZA</td>\n",
       "      <td>Africa</td>\n",
       "      <td>Northern Africa</td>\n",
       "      <td>Flag_of_Algeria.svg</td>\n",
       "      <td>https://upload.wikimedia.org/wikipedia/commons...</td>\n",
       "      <td>1</td>\n",
       "      <td>0</td>\n",
       "    </tr>\n",
       "    <tr>\n",
       "      <th>3</th>\n",
       "      <td>Angola</td>\n",
       "      <td>-6.790074</td>\n",
       "      <td>0.007022</td>\n",
       "      <td>AGO</td>\n",
       "      <td>Africa</td>\n",
       "      <td>Sub-Saharan Africa</td>\n",
       "      <td>Flag_of_Angola.svg</td>\n",
       "      <td>https://upload.wikimedia.org/wikipedia/commons...</td>\n",
       "      <td>5</td>\n",
       "      <td>2</td>\n",
       "    </tr>\n",
       "    <tr>\n",
       "      <th>4</th>\n",
       "      <td>Argentina</td>\n",
       "      <td>2.722510</td>\n",
       "      <td>1.497899</td>\n",
       "      <td>ARG</td>\n",
       "      <td>Americas</td>\n",
       "      <td>Latin America and the Caribbean</td>\n",
       "      <td>Flag_of_Argentina.svg</td>\n",
       "      <td>https://upload.wikimedia.org/wikipedia/commons...</td>\n",
       "      <td>2</td>\n",
       "      <td>3</td>\n",
       "    </tr>\n",
       "  </tbody>\n",
       "</table>\n",
       "</div>"
      ],
      "text/plain": [
       "       country     MDS_x     MDS_y iso_alpha continent  \\\n",
       "0  Afghanistan -7.009308 -1.954987       AFG      Asia   \n",
       "1      Albania  2.425480 -2.117486       ALB    Europe   \n",
       "2      Algeria -0.329296 -0.935664       DZA    Africa   \n",
       "3       Angola -6.790074  0.007022       AGO    Africa   \n",
       "4    Argentina  2.722510  1.497899       ARG  Americas   \n",
       "\n",
       "                      subcontinent         Images File Name  \\\n",
       "0                    Southern Asia  Flag_of_Afghanistan.svg   \n",
       "1                  Southern Europe      Flag_of_Albania.svg   \n",
       "2                  Northern Africa      Flag_of_Algeria.svg   \n",
       "3               Sub-Saharan Africa       Flag_of_Angola.svg   \n",
       "4  Latin America and the Caribbean    Flag_of_Argentina.svg   \n",
       "\n",
       "                                            ImageURL scluster6  kmeans6  \n",
       "0  https://upload.wikimedia.org/wikipedia/commons...         5        2  \n",
       "1  https://upload.wikimedia.org/wikipedia/commons...         1        3  \n",
       "2  https://upload.wikimedia.org/wikipedia/commons...         1        0  \n",
       "3  https://upload.wikimedia.org/wikipedia/commons...         5        2  \n",
       "4  https://upload.wikimedia.org/wikipedia/commons...         2        3  "
      ]
     },
     "execution_count": 45,
     "metadata": {},
     "output_type": "execute_result"
    }
   ],
   "source": [
    "HDmap.head()"
   ]
  },
  {
   "cell_type": "code",
   "execution_count": 46,
   "metadata": {},
   "outputs": [
    {
     "data": {
      "application/vnd.plotly.v1+json": {
       "config": {
        "plotlyServerURL": "https://plot.ly"
       },
       "data": [
        {
         "mode": "text",
         "text": [
          "BGD",
          "BEN",
          "BOL",
          "BWA",
          "KHM",
          "CMR",
          "COM",
          "DJI",
          "EGY",
          "GAB",
          "GHA",
          "HTI",
          "IND",
          "IDN",
          "IRQ",
          "KEN",
          "LSO",
          "LBY",
          "MDG",
          "MRT",
          "MNG",
          "MMR",
          "NAM",
          "NPL",
          "PAK",
          "STP",
          "SEN",
          "ZAF",
          "SDN",
          "TGO",
          "VNM",
          "ZWE"
         ],
         "textfont": {
          "color": "#1b9e77",
          "family": "sans serif",
          "size": 12
         },
         "type": "scatter",
         "x": [
          -3.198091505327466,
          -3.5981771776138,
          -2.2701758135478287,
          -0.7063424945942242,
          -4.5566640438160055,
          -3.8368103830464944,
          -2.490531137236306,
          -4.175941656422148,
          -1.2358450009472186,
          -2.244094206390662,
          -2.621321949031781,
          -3.0972493218515704,
          -2.1293259942598426,
          -1.6214112974499575,
          -1.1575414587122093,
          -2.437196554831248,
          -3.914120843524787,
          -0.708228747705627,
          -3.8003135280138,
          -2.546612384337595,
          -1.5071024857164759,
          -2.243960964181915,
          -2.1994790257405428,
          -3.3355497064402653,
          -1.795164726431784,
          -0.9562690168178971,
          -2.8833428749734438,
          -0.14514497808463703,
          -3.5586011249011738,
          -2.796214158197013,
          -0.8475944362637671,
          -3.920883788336592
         ],
         "y": [
          -2.8598597578726648,
          -2.163913851922952,
          -1.453848205650452,
          -3.35136304638346,
          -1.1803062292635982,
          -1.5516054221538047,
          -2.2405751612000193,
          -1.0830501807843769,
          -1.7635441829207303,
          3.123665479926094,
          -2.1106769111150094,
          -1.9228752518560845,
          -2.7255792590996495,
          -2.888862840523383,
          2.1125353750759652,
          -2.444420021155941,
          -0.7617467121575993,
          4.505711740323552,
          -2.2614024479493304,
          -2.2924087336206247,
          -2.2226130769602745,
          -2.9200062293841365,
          -0.5102301745801167,
          -2.978205972210977,
          -2.309355129724738,
          -2.3512789075292235,
          -2.3388364920203997,
          -2.5322496941840713,
          -1.936468443498805,
          -2.1008106595757883,
          -3.238942545544948,
          0.36237081634650775
         ]
        },
        {
         "mode": "text",
         "text": [
          "ALB",
          "DZA",
          "BRA",
          "CHN",
          "COL",
          "DOM",
          "ECU",
          "SLV",
          "GTM",
          "HND",
          "IRN",
          "JOR",
          "MYS",
          "MUS",
          "MAR",
          "NIC",
          "OMN",
          "PRY",
          "PER",
          "PHL",
          "LKA",
          "SYR",
          "THA",
          "TUN",
          "TUR"
         ],
         "textfont": {
          "color": "#d95f02",
          "family": "sans serif",
          "size": 12
         },
         "type": "scatter",
         "x": [
          2.4254799250146966,
          -0.3292955484586901,
          0.6679808669956457,
          0.4949606701793278,
          1.1187229791788529,
          0.35749947334629417,
          0.7761861636881466,
          -0.20122974653145279,
          -1.0300191972153314,
          -0.7456607472585917,
          -0.3203134971841033,
          -0.11680725916553425,
          1.3852759414253197,
          1.5386794165110027,
          -0.8492322119678616,
          -0.7271396633553389,
          -0.5750706966849312,
          2.0259099664575126,
          -0.40789436364915316,
          0.05274480349719285,
          1.7704348068630031,
          0.28737246790007026,
          0.6251753902021343,
          0.18801125651734998,
          -0.10923671656659754
         ],
         "y": [
          -2.117486007536839,
          -0.9356641541909765,
          -0.5378577588179604,
          -3.1189395963793607,
          -1.3465930969373936,
          -1.996434541169041,
          -0.261277203371441,
          -0.6617098142756634,
          -1.0412384181949246,
          -1.6042411721120498,
          0.5974193345494814,
          -1.7034857791509541,
          -1.302669088907968,
          -1.4137960968754437,
          -1.9388017902228225,
          -0.8169802056239266,
          3.0146105036944997,
          -2.1459848272634257,
          -0.02200225906258005,
          -2.1226345675011364,
          -2.805495156800774,
          -1.817518183442127,
          -2.238877622351185,
          -1.797258564938004,
          -1.144771822981639
         ]
        },
        {
         "mode": "text",
         "text": [
          "ARG",
          "BGR",
          "CHL",
          "CRI",
          "HRV",
          "CUB",
          "HUN",
          "JAM",
          "LBN",
          "MEX",
          "MNE",
          "PAN",
          "POL",
          "ROU",
          "SRB",
          "TTO",
          "URY",
          "VEN"
         ],
         "textfont": {
          "color": "#7570b3",
          "family": "sans serif",
          "size": 12
         },
         "type": "scatter",
         "x": [
          2.722510483544805,
          3.1655072902261323,
          2.338804936318072,
          3.0714008913399735,
          3.257943638736599,
          3.61974234755489,
          3.071316332695024,
          2.7930025921888055,
          1.7319051664360492,
          1.6448728798817638,
          3.2843697916674466,
          2.3441249750517765,
          3.278304244589735,
          2.6019179246142303,
          2.5514291792697286,
          2.2248754722950923,
          3.5632897005425086,
          1.885683382144674
         ],
         "y": [
          1.4978986494279918,
          -0.5810993832651179,
          -0.38185383884275403,
          -1.1610384764299662,
          1.0080170449515575,
          -0.5437590124705617,
          2.1045549946385766,
          -0.28673587079709184,
          0.6848600113122127,
          0.33272558844338185,
          -0.057635952660018655,
          -0.7800890291313924,
          0.5644303516667165,
          0.31617909004987066,
          1.713810325513482,
          0.3611898384228007,
          -0.04840497147045458,
          2.820907821970896
         ]
        },
        {
         "mode": "text",
         "text": [
          "AUS",
          "AUT",
          "BHR",
          "BEL",
          "CAN",
          "DNK",
          "FRA",
          "DEU",
          "ISL",
          "NLD",
          "NZL",
          "NOR",
          "SAU",
          "SWE",
          "CHE",
          "GBR",
          "USA"
         ],
         "textfont": {
          "color": "#e7298a",
          "family": "sans serif",
          "size": 12
         },
         "type": "scatter",
         "x": [
          5.426024054415476,
          5.607935541377474,
          2.4824642829205534,
          5.335909318973714,
          5.739064694708949,
          5.620052907413453,
          5.492446673527508,
          5.253944582103863,
          6.422300868141789,
          6.0915653369598814,
          4.328674510496795,
          7.306242449432889,
          0.05032097102302977,
          5.937845759972204,
          6.02566570347348,
          5.015869255851361,
          5.734454054466301
         ],
         "y": [
          5.917176873208162,
          5.123944630663907,
          5.950397927526821,
          5.429257347021306,
          7.13873902181532,
          6.6072855023901464,
          4.840453254032043,
          5.934356395414636,
          5.259297607848522,
          6.3559547651471355,
          5.9058093919171535,
          7.698427864832312,
          7.79071961676124,
          5.666492952977737,
          10.43332258857743,
          5.854603459654153,
          9.062570193011137
         ]
        },
        {
         "mode": "text",
         "text": [
          "CZE",
          "FIN",
          "GRC",
          "IRL",
          "ISR",
          "ITA",
          "JPN",
          "PRT",
          "SGP",
          "SVN",
          "ESP"
         ],
         "textfont": {
          "color": "#66a61e",
          "family": "sans serif",
          "size": 12
         },
         "type": "scatter",
         "x": [
          3.7567011622720488,
          5.015129826039287,
          4.894575816559866,
          5.5759901201642625,
          4.804229534335411,
          5.221929902137317,
          6.293316008443669,
          3.80395343133623,
          6.581504648782156,
          4.121099683861861,
          5.152784707431765
         ],
         "y": [
          3.6598925910407627,
          4.107368065005124,
          2.3228016337847817,
          2.220155316430921,
          2.568522867288002,
          3.309469737615429,
          3.046444380559016,
          1.161535470010497,
          0.9396310898603212,
          2.885641685555401,
          2.0714477546376817
         ]
        },
        {
         "mode": "text",
         "text": [
          "AFG",
          "AGO",
          "BFA",
          "BDI",
          "CAF",
          "TCD",
          "GNQ",
          "ERI",
          "ETH",
          "GIN",
          "LBR",
          "MWI",
          "MLI",
          "MOZ",
          "NER",
          "NGA",
          "RWA",
          "SLE",
          "SOM",
          "TZA",
          "UGA",
          "ZMB"
         ],
         "textfont": {
          "color": "#e6ab02",
          "family": "sans serif",
          "size": 12
         },
         "type": "scatter",
         "x": [
          -7.009307512115284,
          -6.790073674470503,
          -4.761737457296788,
          -5.108620082839186,
          -5.316211555125028,
          -4.201278540853398,
          -5.504979982022302,
          -4.4787676350745125,
          -4.9331170011608485,
          -5.122389731295332,
          -5.777123760842946,
          -5.42064728085541,
          -5.212163837055461,
          -6.265517552272263,
          -4.912820348277977,
          -5.226008262589219,
          -6.063385465064879,
          -7.271698593638631,
          -6.017764713847375,
          -4.082207949826527,
          -4.241434978686226,
          -4.313067608155782
         ],
         "y": [
          -1.95498714188741,
          0.0070217437228319,
          -2.3102705563567136,
          -2.0727567940974616,
          -1.6394963519701555,
          -1.876471940747318,
          -1.3368209957551447,
          -2.7347837251508422,
          -2.428571457079216,
          -2.8000876618928703,
          -2.030382693772356,
          -2.1641638945731696,
          -2.6122698855911803,
          -2.155398727854822,
          -2.627778583955318,
          -1.7226195700441802,
          -3.7321751799908114,
          -1.7246740104829152,
          -1.7714503467799603,
          -1.9620189757515778,
          -1.9599854010131916,
          -3.524175626754272
         ]
        }
       ],
       "layout": {
        "height": 600,
        "margin": {
         "b": 20,
         "l": 20,
         "r": 20,
         "t": 40
        },
        "showlegend": false,
        "template": {
         "data": {
          "bar": [
           {
            "error_x": {
             "color": "#2a3f5f"
            },
            "error_y": {
             "color": "#2a3f5f"
            },
            "marker": {
             "line": {
              "color": "#E5ECF6",
              "width": 0.5
             },
             "pattern": {
              "fillmode": "overlay",
              "size": 10,
              "solidity": 0.2
             }
            },
            "type": "bar"
           }
          ],
          "barpolar": [
           {
            "marker": {
             "line": {
              "color": "#E5ECF6",
              "width": 0.5
             },
             "pattern": {
              "fillmode": "overlay",
              "size": 10,
              "solidity": 0.2
             }
            },
            "type": "barpolar"
           }
          ],
          "carpet": [
           {
            "aaxis": {
             "endlinecolor": "#2a3f5f",
             "gridcolor": "white",
             "linecolor": "white",
             "minorgridcolor": "white",
             "startlinecolor": "#2a3f5f"
            },
            "baxis": {
             "endlinecolor": "#2a3f5f",
             "gridcolor": "white",
             "linecolor": "white",
             "minorgridcolor": "white",
             "startlinecolor": "#2a3f5f"
            },
            "type": "carpet"
           }
          ],
          "choropleth": [
           {
            "colorbar": {
             "outlinewidth": 0,
             "ticks": ""
            },
            "type": "choropleth"
           }
          ],
          "contour": [
           {
            "colorbar": {
             "outlinewidth": 0,
             "ticks": ""
            },
            "colorscale": [
             [
              0,
              "#0d0887"
             ],
             [
              0.1111111111111111,
              "#46039f"
             ],
             [
              0.2222222222222222,
              "#7201a8"
             ],
             [
              0.3333333333333333,
              "#9c179e"
             ],
             [
              0.4444444444444444,
              "#bd3786"
             ],
             [
              0.5555555555555556,
              "#d8576b"
             ],
             [
              0.6666666666666666,
              "#ed7953"
             ],
             [
              0.7777777777777778,
              "#fb9f3a"
             ],
             [
              0.8888888888888888,
              "#fdca26"
             ],
             [
              1,
              "#f0f921"
             ]
            ],
            "type": "contour"
           }
          ],
          "contourcarpet": [
           {
            "colorbar": {
             "outlinewidth": 0,
             "ticks": ""
            },
            "type": "contourcarpet"
           }
          ],
          "heatmap": [
           {
            "colorbar": {
             "outlinewidth": 0,
             "ticks": ""
            },
            "colorscale": [
             [
              0,
              "#0d0887"
             ],
             [
              0.1111111111111111,
              "#46039f"
             ],
             [
              0.2222222222222222,
              "#7201a8"
             ],
             [
              0.3333333333333333,
              "#9c179e"
             ],
             [
              0.4444444444444444,
              "#bd3786"
             ],
             [
              0.5555555555555556,
              "#d8576b"
             ],
             [
              0.6666666666666666,
              "#ed7953"
             ],
             [
              0.7777777777777778,
              "#fb9f3a"
             ],
             [
              0.8888888888888888,
              "#fdca26"
             ],
             [
              1,
              "#f0f921"
             ]
            ],
            "type": "heatmap"
           }
          ],
          "heatmapgl": [
           {
            "colorbar": {
             "outlinewidth": 0,
             "ticks": ""
            },
            "colorscale": [
             [
              0,
              "#0d0887"
             ],
             [
              0.1111111111111111,
              "#46039f"
             ],
             [
              0.2222222222222222,
              "#7201a8"
             ],
             [
              0.3333333333333333,
              "#9c179e"
             ],
             [
              0.4444444444444444,
              "#bd3786"
             ],
             [
              0.5555555555555556,
              "#d8576b"
             ],
             [
              0.6666666666666666,
              "#ed7953"
             ],
             [
              0.7777777777777778,
              "#fb9f3a"
             ],
             [
              0.8888888888888888,
              "#fdca26"
             ],
             [
              1,
              "#f0f921"
             ]
            ],
            "type": "heatmapgl"
           }
          ],
          "histogram": [
           {
            "marker": {
             "pattern": {
              "fillmode": "overlay",
              "size": 10,
              "solidity": 0.2
             }
            },
            "type": "histogram"
           }
          ],
          "histogram2d": [
           {
            "colorbar": {
             "outlinewidth": 0,
             "ticks": ""
            },
            "colorscale": [
             [
              0,
              "#0d0887"
             ],
             [
              0.1111111111111111,
              "#46039f"
             ],
             [
              0.2222222222222222,
              "#7201a8"
             ],
             [
              0.3333333333333333,
              "#9c179e"
             ],
             [
              0.4444444444444444,
              "#bd3786"
             ],
             [
              0.5555555555555556,
              "#d8576b"
             ],
             [
              0.6666666666666666,
              "#ed7953"
             ],
             [
              0.7777777777777778,
              "#fb9f3a"
             ],
             [
              0.8888888888888888,
              "#fdca26"
             ],
             [
              1,
              "#f0f921"
             ]
            ],
            "type": "histogram2d"
           }
          ],
          "histogram2dcontour": [
           {
            "colorbar": {
             "outlinewidth": 0,
             "ticks": ""
            },
            "colorscale": [
             [
              0,
              "#0d0887"
             ],
             [
              0.1111111111111111,
              "#46039f"
             ],
             [
              0.2222222222222222,
              "#7201a8"
             ],
             [
              0.3333333333333333,
              "#9c179e"
             ],
             [
              0.4444444444444444,
              "#bd3786"
             ],
             [
              0.5555555555555556,
              "#d8576b"
             ],
             [
              0.6666666666666666,
              "#ed7953"
             ],
             [
              0.7777777777777778,
              "#fb9f3a"
             ],
             [
              0.8888888888888888,
              "#fdca26"
             ],
             [
              1,
              "#f0f921"
             ]
            ],
            "type": "histogram2dcontour"
           }
          ],
          "mesh3d": [
           {
            "colorbar": {
             "outlinewidth": 0,
             "ticks": ""
            },
            "type": "mesh3d"
           }
          ],
          "parcoords": [
           {
            "line": {
             "colorbar": {
              "outlinewidth": 0,
              "ticks": ""
             }
            },
            "type": "parcoords"
           }
          ],
          "pie": [
           {
            "automargin": true,
            "type": "pie"
           }
          ],
          "scatter": [
           {
            "fillpattern": {
             "fillmode": "overlay",
             "size": 10,
             "solidity": 0.2
            },
            "type": "scatter"
           }
          ],
          "scatter3d": [
           {
            "line": {
             "colorbar": {
              "outlinewidth": 0,
              "ticks": ""
             }
            },
            "marker": {
             "colorbar": {
              "outlinewidth": 0,
              "ticks": ""
             }
            },
            "type": "scatter3d"
           }
          ],
          "scattercarpet": [
           {
            "marker": {
             "colorbar": {
              "outlinewidth": 0,
              "ticks": ""
             }
            },
            "type": "scattercarpet"
           }
          ],
          "scattergeo": [
           {
            "marker": {
             "colorbar": {
              "outlinewidth": 0,
              "ticks": ""
             }
            },
            "type": "scattergeo"
           }
          ],
          "scattergl": [
           {
            "marker": {
             "colorbar": {
              "outlinewidth": 0,
              "ticks": ""
             }
            },
            "type": "scattergl"
           }
          ],
          "scattermapbox": [
           {
            "marker": {
             "colorbar": {
              "outlinewidth": 0,
              "ticks": ""
             }
            },
            "type": "scattermapbox"
           }
          ],
          "scatterpolar": [
           {
            "marker": {
             "colorbar": {
              "outlinewidth": 0,
              "ticks": ""
             }
            },
            "type": "scatterpolar"
           }
          ],
          "scatterpolargl": [
           {
            "marker": {
             "colorbar": {
              "outlinewidth": 0,
              "ticks": ""
             }
            },
            "type": "scatterpolargl"
           }
          ],
          "scatterternary": [
           {
            "marker": {
             "colorbar": {
              "outlinewidth": 0,
              "ticks": ""
             }
            },
            "type": "scatterternary"
           }
          ],
          "surface": [
           {
            "colorbar": {
             "outlinewidth": 0,
             "ticks": ""
            },
            "colorscale": [
             [
              0,
              "#0d0887"
             ],
             [
              0.1111111111111111,
              "#46039f"
             ],
             [
              0.2222222222222222,
              "#7201a8"
             ],
             [
              0.3333333333333333,
              "#9c179e"
             ],
             [
              0.4444444444444444,
              "#bd3786"
             ],
             [
              0.5555555555555556,
              "#d8576b"
             ],
             [
              0.6666666666666666,
              "#ed7953"
             ],
             [
              0.7777777777777778,
              "#fb9f3a"
             ],
             [
              0.8888888888888888,
              "#fdca26"
             ],
             [
              1,
              "#f0f921"
             ]
            ],
            "type": "surface"
           }
          ],
          "table": [
           {
            "cells": {
             "fill": {
              "color": "#EBF0F8"
             },
             "line": {
              "color": "white"
             }
            },
            "header": {
             "fill": {
              "color": "#C8D4E3"
             },
             "line": {
              "color": "white"
             }
            },
            "type": "table"
           }
          ]
         },
         "layout": {
          "annotationdefaults": {
           "arrowcolor": "#2a3f5f",
           "arrowhead": 0,
           "arrowwidth": 1
          },
          "autotypenumbers": "strict",
          "coloraxis": {
           "colorbar": {
            "outlinewidth": 0,
            "ticks": ""
           }
          },
          "colorscale": {
           "diverging": [
            [
             0,
             "#8e0152"
            ],
            [
             0.1,
             "#c51b7d"
            ],
            [
             0.2,
             "#de77ae"
            ],
            [
             0.3,
             "#f1b6da"
            ],
            [
             0.4,
             "#fde0ef"
            ],
            [
             0.5,
             "#f7f7f7"
            ],
            [
             0.6,
             "#e6f5d0"
            ],
            [
             0.7,
             "#b8e186"
            ],
            [
             0.8,
             "#7fbc41"
            ],
            [
             0.9,
             "#4d9221"
            ],
            [
             1,
             "#276419"
            ]
           ],
           "sequential": [
            [
             0,
             "#0d0887"
            ],
            [
             0.1111111111111111,
             "#46039f"
            ],
            [
             0.2222222222222222,
             "#7201a8"
            ],
            [
             0.3333333333333333,
             "#9c179e"
            ],
            [
             0.4444444444444444,
             "#bd3786"
            ],
            [
             0.5555555555555556,
             "#d8576b"
            ],
            [
             0.6666666666666666,
             "#ed7953"
            ],
            [
             0.7777777777777778,
             "#fb9f3a"
            ],
            [
             0.8888888888888888,
             "#fdca26"
            ],
            [
             1,
             "#f0f921"
            ]
           ],
           "sequentialminus": [
            [
             0,
             "#0d0887"
            ],
            [
             0.1111111111111111,
             "#46039f"
            ],
            [
             0.2222222222222222,
             "#7201a8"
            ],
            [
             0.3333333333333333,
             "#9c179e"
            ],
            [
             0.4444444444444444,
             "#bd3786"
            ],
            [
             0.5555555555555556,
             "#d8576b"
            ],
            [
             0.6666666666666666,
             "#ed7953"
            ],
            [
             0.7777777777777778,
             "#fb9f3a"
            ],
            [
             0.8888888888888888,
             "#fdca26"
            ],
            [
             1,
             "#f0f921"
            ]
           ]
          },
          "colorway": [
           "#636efa",
           "#EF553B",
           "#00cc96",
           "#ab63fa",
           "#FFA15A",
           "#19d3f3",
           "#FF6692",
           "#B6E880",
           "#FF97FF",
           "#FECB52"
          ],
          "font": {
           "color": "#2a3f5f"
          },
          "geo": {
           "bgcolor": "white",
           "lakecolor": "white",
           "landcolor": "#E5ECF6",
           "showlakes": true,
           "showland": true,
           "subunitcolor": "white"
          },
          "hoverlabel": {
           "align": "left"
          },
          "hovermode": "closest",
          "mapbox": {
           "style": "light"
          },
          "paper_bgcolor": "white",
          "plot_bgcolor": "#E5ECF6",
          "polar": {
           "angularaxis": {
            "gridcolor": "white",
            "linecolor": "white",
            "ticks": ""
           },
           "bgcolor": "#E5ECF6",
           "radialaxis": {
            "gridcolor": "white",
            "linecolor": "white",
            "ticks": ""
           }
          },
          "scene": {
           "xaxis": {
            "backgroundcolor": "#E5ECF6",
            "gridcolor": "white",
            "gridwidth": 2,
            "linecolor": "white",
            "showbackground": true,
            "ticks": "",
            "zerolinecolor": "white"
           },
           "yaxis": {
            "backgroundcolor": "#E5ECF6",
            "gridcolor": "white",
            "gridwidth": 2,
            "linecolor": "white",
            "showbackground": true,
            "ticks": "",
            "zerolinecolor": "white"
           },
           "zaxis": {
            "backgroundcolor": "#E5ECF6",
            "gridcolor": "white",
            "gridwidth": 2,
            "linecolor": "white",
            "showbackground": true,
            "ticks": "",
            "zerolinecolor": "white"
           }
          },
          "shapedefaults": {
           "line": {
            "color": "#2a3f5f"
           }
          },
          "ternary": {
           "aaxis": {
            "gridcolor": "white",
            "linecolor": "white",
            "ticks": ""
           },
           "baxis": {
            "gridcolor": "white",
            "linecolor": "white",
            "ticks": ""
           },
           "bgcolor": "#E5ECF6",
           "caxis": {
            "gridcolor": "white",
            "linecolor": "white",
            "ticks": ""
           }
          },
          "title": {
           "x": 0.05
          },
          "xaxis": {
           "automargin": true,
           "gridcolor": "white",
           "linecolor": "white",
           "ticks": "",
           "title": {
            "standoff": 15
           },
           "zerolinecolor": "white",
           "zerolinewidth": 2
          },
          "yaxis": {
           "automargin": true,
           "gridcolor": "white",
           "linecolor": "white",
           "ticks": "",
           "title": {
            "standoff": 15
           },
           "zerolinecolor": "white",
           "zerolinewidth": 2
          }
         }
        },
        "title": {
         "text": "Countries on the MDS map color-coded by spectral cluster membership"
        },
        "width": 1000,
        "xaxis": {
         "visible": false
        },
        "yaxis": {
         "scaleanchor": "x",
         "scaleratio": 1,
         "visible": false
        }
       }
      }
     },
     "metadata": {},
     "output_type": "display_data"
    }
   ],
   "source": [
    "\n",
    "#colors from colorbrewer \n",
    "#https://colorbrewer2.org/#type=qualitative&scheme=Dark2&n=6\n",
    "cluster_colors = ['#1b9e77','#d95f02','#7570b3','#e7298a','#66a61e','#e6ab02']\n",
    "\n",
    "fig = go.Figure() \n",
    "\n",
    "for cluster_id, cluster in HDmap.groupby(\"scluster6\"): \n",
    "\n",
    "\n",
    "    fig.add_trace(go.Scatter(x=cluster.MDS_x,\n",
    "                             y=cluster.MDS_y,\n",
    "                             mode='text',\n",
    "                            textfont=dict(\n",
    "                                family=\"sans serif\",\n",
    "                                size=12,\n",
    "                                color=cluster_colors[int(cluster_id)]\n",
    "                                ), \n",
    "\n",
    "                             text=cluster.iso_alpha))\n",
    "\n",
    "fig.update_yaxes(\n",
    "    scaleanchor = \"x\",\n",
    "    scaleratio = 1,\n",
    "  )\n",
    "\n",
    "fig.update_xaxes(visible=False)  \n",
    "fig.update_yaxes(visible=False)\n",
    "fig.update_layout(showlegend=False, \n",
    "                 margin=dict(l=20, r=20, t=40, b=20),\n",
    "                 )\n",
    "\n",
    "#plotly setting figure size \n",
    "# https://plotly.com/python/setting-graph-size/\n",
    "fig.update_layout(height=600, width=1000, title_text=\"Countries on the MDS map color-coded by spectral cluster membership\")\n",
    "\n",
    "fig.show()"
   ]
  },
  {
   "cell_type": "code",
   "execution_count": 47,
   "metadata": {},
   "outputs": [
    {
     "data": {
      "application/vnd.plotly.v1+json": {
       "config": {
        "plotlyServerURL": "https://plot.ly"
       },
       "data": [
        {
         "mode": "text",
         "text": [
          "DZA",
          "BRA",
          "CHN",
          "COL",
          "DOM",
          "ECU",
          "EGY",
          "SLV",
          "GAB",
          "GTM",
          "HND",
          "IRN",
          "IRQ",
          "JOR",
          "LBY",
          "MYS",
          "MUS",
          "MAR",
          "NIC",
          "OMN",
          "PER",
          "PHL",
          "STP",
          "ZAF",
          "LKA",
          "SYR",
          "THA",
          "TUN",
          "TUR",
          "VNM"
         ],
         "textfont": {
          "color": "#1b9e77",
          "family": "sans serif",
          "size": 12
         },
         "type": "scatter",
         "x": [
          -0.3292955484586901,
          0.6679808669956457,
          0.4949606701793278,
          1.1187229791788529,
          0.35749947334629417,
          0.7761861636881466,
          -1.2358450009472186,
          -0.20122974653145279,
          -2.244094206390662,
          -1.0300191972153314,
          -0.7456607472585917,
          -0.3203134971841033,
          -1.1575414587122093,
          -0.11680725916553425,
          -0.708228747705627,
          1.3852759414253197,
          1.5386794165110027,
          -0.8492322119678616,
          -0.7271396633553389,
          -0.5750706966849312,
          -0.40789436364915316,
          0.05274480349719285,
          -0.9562690168178971,
          -0.14514497808463703,
          1.7704348068630031,
          0.28737246790007026,
          0.6251753902021343,
          0.18801125651734998,
          -0.10923671656659754,
          -0.8475944362637671
         ],
         "y": [
          -0.9356641541909765,
          -0.5378577588179604,
          -3.1189395963793607,
          -1.3465930969373936,
          -1.996434541169041,
          -0.261277203371441,
          -1.7635441829207303,
          -0.6617098142756634,
          3.123665479926094,
          -1.0412384181949246,
          -1.6042411721120498,
          0.5974193345494814,
          2.1125353750759652,
          -1.7034857791509541,
          4.505711740323552,
          -1.302669088907968,
          -1.4137960968754437,
          -1.9388017902228225,
          -0.8169802056239266,
          3.0146105036944997,
          -0.02200225906258005,
          -2.1226345675011364,
          -2.3512789075292235,
          -2.5322496941840713,
          -2.805495156800774,
          -1.817518183442127,
          -2.238877622351185,
          -1.797258564938004,
          -1.144771822981639,
          -3.238942545544948
         ]
        },
        {
         "mode": "text",
         "text": [
          "AUS",
          "AUT",
          "BHR",
          "BEL",
          "CAN",
          "DNK",
          "FRA",
          "DEU",
          "ISL",
          "NLD",
          "NZL",
          "NOR",
          "SAU",
          "SWE",
          "CHE",
          "GBR",
          "USA"
         ],
         "textfont": {
          "color": "#d95f02",
          "family": "sans serif",
          "size": 12
         },
         "type": "scatter",
         "x": [
          5.426024054415476,
          5.607935541377474,
          2.4824642829205534,
          5.335909318973714,
          5.739064694708949,
          5.620052907413453,
          5.492446673527508,
          5.253944582103863,
          6.422300868141789,
          6.0915653369598814,
          4.328674510496795,
          7.306242449432889,
          0.05032097102302977,
          5.937845759972204,
          6.02566570347348,
          5.015869255851361,
          5.734454054466301
         ],
         "y": [
          5.917176873208162,
          5.123944630663907,
          5.950397927526821,
          5.429257347021306,
          7.13873902181532,
          6.6072855023901464,
          4.840453254032043,
          5.934356395414636,
          5.259297607848522,
          6.3559547651471355,
          5.9058093919171535,
          7.698427864832312,
          7.79071961676124,
          5.666492952977737,
          10.43332258857743,
          5.854603459654153,
          9.062570193011137
         ]
        },
        {
         "mode": "text",
         "text": [
          "AFG",
          "AGO",
          "BFA",
          "BDI",
          "CAF",
          "GNQ",
          "ERI",
          "ETH",
          "GIN",
          "LBR",
          "MWI",
          "MLI",
          "MOZ",
          "NER",
          "NGA",
          "RWA",
          "SLE",
          "SOM",
          "ZMB"
         ],
         "textfont": {
          "color": "#7570b3",
          "family": "sans serif",
          "size": 12
         },
         "type": "scatter",
         "x": [
          -7.009307512115284,
          -6.790073674470503,
          -4.761737457296788,
          -5.108620082839186,
          -5.316211555125028,
          -5.504979982022302,
          -4.4787676350745125,
          -4.9331170011608485,
          -5.122389731295332,
          -5.777123760842946,
          -5.42064728085541,
          -5.212163837055461,
          -6.265517552272263,
          -4.912820348277977,
          -5.226008262589219,
          -6.063385465064879,
          -7.271698593638631,
          -6.017764713847375,
          -4.313067608155782
         ],
         "y": [
          -1.95498714188741,
          0.0070217437228319,
          -2.3102705563567136,
          -2.0727567940974616,
          -1.6394963519701555,
          -1.3368209957551447,
          -2.7347837251508422,
          -2.428571457079216,
          -2.8000876618928703,
          -2.030382693772356,
          -2.1641638945731696,
          -2.6122698855911803,
          -2.155398727854822,
          -2.627778583955318,
          -1.7226195700441802,
          -3.7321751799908114,
          -1.7246740104829152,
          -1.7714503467799603,
          -3.524175626754272
         ]
        },
        {
         "mode": "text",
         "text": [
          "ALB",
          "ARG",
          "BGR",
          "CHL",
          "CRI",
          "HRV",
          "CUB",
          "HUN",
          "JAM",
          "LBN",
          "MEX",
          "MNE",
          "PAN",
          "PRY",
          "POL",
          "PRT",
          "ROU",
          "SRB",
          "TTO",
          "URY",
          "VEN"
         ],
         "textfont": {
          "color": "#e7298a",
          "family": "sans serif",
          "size": 12
         },
         "type": "scatter",
         "x": [
          2.4254799250146966,
          2.722510483544805,
          3.1655072902261323,
          2.338804936318072,
          3.0714008913399735,
          3.257943638736599,
          3.61974234755489,
          3.071316332695024,
          2.7930025921888055,
          1.7319051664360492,
          1.6448728798817638,
          3.2843697916674466,
          2.3441249750517765,
          2.0259099664575126,
          3.278304244589735,
          3.80395343133623,
          2.6019179246142303,
          2.5514291792697286,
          2.2248754722950923,
          3.5632897005425086,
          1.885683382144674
         ],
         "y": [
          -2.117486007536839,
          1.4978986494279918,
          -0.5810993832651179,
          -0.38185383884275403,
          -1.1610384764299662,
          1.0080170449515575,
          -0.5437590124705617,
          2.1045549946385766,
          -0.28673587079709184,
          0.6848600113122127,
          0.33272558844338185,
          -0.057635952660018655,
          -0.7800890291313924,
          -2.1459848272634257,
          0.5644303516667165,
          1.161535470010497,
          0.31617909004987066,
          1.713810325513482,
          0.3611898384228007,
          -0.04840497147045458,
          2.820907821970896
         ]
        },
        {
         "mode": "text",
         "text": [
          "BGD",
          "BEN",
          "BOL",
          "BWA",
          "KHM",
          "CMR",
          "TCD",
          "COM",
          "DJI",
          "GHA",
          "HTI",
          "IND",
          "IDN",
          "KEN",
          "LSO",
          "MDG",
          "MRT",
          "MNG",
          "MMR",
          "NAM",
          "NPL",
          "PAK",
          "SEN",
          "SDN",
          "TZA",
          "TGO",
          "UGA",
          "ZWE"
         ],
         "textfont": {
          "color": "#66a61e",
          "family": "sans serif",
          "size": 12
         },
         "type": "scatter",
         "x": [
          -3.198091505327466,
          -3.5981771776138,
          -2.2701758135478287,
          -0.7063424945942242,
          -4.5566640438160055,
          -3.8368103830464944,
          -4.201278540853398,
          -2.490531137236306,
          -4.175941656422148,
          -2.621321949031781,
          -3.0972493218515704,
          -2.1293259942598426,
          -1.6214112974499575,
          -2.437196554831248,
          -3.914120843524787,
          -3.8003135280138,
          -2.546612384337595,
          -1.5071024857164759,
          -2.243960964181915,
          -2.1994790257405428,
          -3.3355497064402653,
          -1.795164726431784,
          -2.8833428749734438,
          -3.5586011249011738,
          -4.082207949826527,
          -2.796214158197013,
          -4.241434978686226,
          -3.920883788336592
         ],
         "y": [
          -2.8598597578726648,
          -2.163913851922952,
          -1.453848205650452,
          -3.35136304638346,
          -1.1803062292635982,
          -1.5516054221538047,
          -1.876471940747318,
          -2.2405751612000193,
          -1.0830501807843769,
          -2.1106769111150094,
          -1.9228752518560845,
          -2.7255792590996495,
          -2.888862840523383,
          -2.444420021155941,
          -0.7617467121575993,
          -2.2614024479493304,
          -2.2924087336206247,
          -2.2226130769602745,
          -2.9200062293841365,
          -0.5102301745801167,
          -2.978205972210977,
          -2.309355129724738,
          -2.3388364920203997,
          -1.936468443498805,
          -1.9620189757515778,
          -2.1008106595757883,
          -1.9599854010131916,
          0.36237081634650775
         ]
        },
        {
         "mode": "text",
         "text": [
          "CZE",
          "FIN",
          "GRC",
          "IRL",
          "ISR",
          "ITA",
          "JPN",
          "SGP",
          "SVN",
          "ESP"
         ],
         "textfont": {
          "color": "#e6ab02",
          "family": "sans serif",
          "size": 12
         },
         "type": "scatter",
         "x": [
          3.7567011622720488,
          5.015129826039287,
          4.894575816559866,
          5.5759901201642625,
          4.804229534335411,
          5.221929902137317,
          6.293316008443669,
          6.581504648782156,
          4.121099683861861,
          5.152784707431765
         ],
         "y": [
          3.6598925910407627,
          4.107368065005124,
          2.3228016337847817,
          2.220155316430921,
          2.568522867288002,
          3.309469737615429,
          3.046444380559016,
          0.9396310898603212,
          2.885641685555401,
          2.0714477546376817
         ]
        }
       ],
       "layout": {
        "height": 600,
        "margin": {
         "b": 20,
         "l": 20,
         "r": 20,
         "t": 40
        },
        "showlegend": false,
        "template": {
         "data": {
          "bar": [
           {
            "error_x": {
             "color": "#2a3f5f"
            },
            "error_y": {
             "color": "#2a3f5f"
            },
            "marker": {
             "line": {
              "color": "#E5ECF6",
              "width": 0.5
             },
             "pattern": {
              "fillmode": "overlay",
              "size": 10,
              "solidity": 0.2
             }
            },
            "type": "bar"
           }
          ],
          "barpolar": [
           {
            "marker": {
             "line": {
              "color": "#E5ECF6",
              "width": 0.5
             },
             "pattern": {
              "fillmode": "overlay",
              "size": 10,
              "solidity": 0.2
             }
            },
            "type": "barpolar"
           }
          ],
          "carpet": [
           {
            "aaxis": {
             "endlinecolor": "#2a3f5f",
             "gridcolor": "white",
             "linecolor": "white",
             "minorgridcolor": "white",
             "startlinecolor": "#2a3f5f"
            },
            "baxis": {
             "endlinecolor": "#2a3f5f",
             "gridcolor": "white",
             "linecolor": "white",
             "minorgridcolor": "white",
             "startlinecolor": "#2a3f5f"
            },
            "type": "carpet"
           }
          ],
          "choropleth": [
           {
            "colorbar": {
             "outlinewidth": 0,
             "ticks": ""
            },
            "type": "choropleth"
           }
          ],
          "contour": [
           {
            "colorbar": {
             "outlinewidth": 0,
             "ticks": ""
            },
            "colorscale": [
             [
              0,
              "#0d0887"
             ],
             [
              0.1111111111111111,
              "#46039f"
             ],
             [
              0.2222222222222222,
              "#7201a8"
             ],
             [
              0.3333333333333333,
              "#9c179e"
             ],
             [
              0.4444444444444444,
              "#bd3786"
             ],
             [
              0.5555555555555556,
              "#d8576b"
             ],
             [
              0.6666666666666666,
              "#ed7953"
             ],
             [
              0.7777777777777778,
              "#fb9f3a"
             ],
             [
              0.8888888888888888,
              "#fdca26"
             ],
             [
              1,
              "#f0f921"
             ]
            ],
            "type": "contour"
           }
          ],
          "contourcarpet": [
           {
            "colorbar": {
             "outlinewidth": 0,
             "ticks": ""
            },
            "type": "contourcarpet"
           }
          ],
          "heatmap": [
           {
            "colorbar": {
             "outlinewidth": 0,
             "ticks": ""
            },
            "colorscale": [
             [
              0,
              "#0d0887"
             ],
             [
              0.1111111111111111,
              "#46039f"
             ],
             [
              0.2222222222222222,
              "#7201a8"
             ],
             [
              0.3333333333333333,
              "#9c179e"
             ],
             [
              0.4444444444444444,
              "#bd3786"
             ],
             [
              0.5555555555555556,
              "#d8576b"
             ],
             [
              0.6666666666666666,
              "#ed7953"
             ],
             [
              0.7777777777777778,
              "#fb9f3a"
             ],
             [
              0.8888888888888888,
              "#fdca26"
             ],
             [
              1,
              "#f0f921"
             ]
            ],
            "type": "heatmap"
           }
          ],
          "heatmapgl": [
           {
            "colorbar": {
             "outlinewidth": 0,
             "ticks": ""
            },
            "colorscale": [
             [
              0,
              "#0d0887"
             ],
             [
              0.1111111111111111,
              "#46039f"
             ],
             [
              0.2222222222222222,
              "#7201a8"
             ],
             [
              0.3333333333333333,
              "#9c179e"
             ],
             [
              0.4444444444444444,
              "#bd3786"
             ],
             [
              0.5555555555555556,
              "#d8576b"
             ],
             [
              0.6666666666666666,
              "#ed7953"
             ],
             [
              0.7777777777777778,
              "#fb9f3a"
             ],
             [
              0.8888888888888888,
              "#fdca26"
             ],
             [
              1,
              "#f0f921"
             ]
            ],
            "type": "heatmapgl"
           }
          ],
          "histogram": [
           {
            "marker": {
             "pattern": {
              "fillmode": "overlay",
              "size": 10,
              "solidity": 0.2
             }
            },
            "type": "histogram"
           }
          ],
          "histogram2d": [
           {
            "colorbar": {
             "outlinewidth": 0,
             "ticks": ""
            },
            "colorscale": [
             [
              0,
              "#0d0887"
             ],
             [
              0.1111111111111111,
              "#46039f"
             ],
             [
              0.2222222222222222,
              "#7201a8"
             ],
             [
              0.3333333333333333,
              "#9c179e"
             ],
             [
              0.4444444444444444,
              "#bd3786"
             ],
             [
              0.5555555555555556,
              "#d8576b"
             ],
             [
              0.6666666666666666,
              "#ed7953"
             ],
             [
              0.7777777777777778,
              "#fb9f3a"
             ],
             [
              0.8888888888888888,
              "#fdca26"
             ],
             [
              1,
              "#f0f921"
             ]
            ],
            "type": "histogram2d"
           }
          ],
          "histogram2dcontour": [
           {
            "colorbar": {
             "outlinewidth": 0,
             "ticks": ""
            },
            "colorscale": [
             [
              0,
              "#0d0887"
             ],
             [
              0.1111111111111111,
              "#46039f"
             ],
             [
              0.2222222222222222,
              "#7201a8"
             ],
             [
              0.3333333333333333,
              "#9c179e"
             ],
             [
              0.4444444444444444,
              "#bd3786"
             ],
             [
              0.5555555555555556,
              "#d8576b"
             ],
             [
              0.6666666666666666,
              "#ed7953"
             ],
             [
              0.7777777777777778,
              "#fb9f3a"
             ],
             [
              0.8888888888888888,
              "#fdca26"
             ],
             [
              1,
              "#f0f921"
             ]
            ],
            "type": "histogram2dcontour"
           }
          ],
          "mesh3d": [
           {
            "colorbar": {
             "outlinewidth": 0,
             "ticks": ""
            },
            "type": "mesh3d"
           }
          ],
          "parcoords": [
           {
            "line": {
             "colorbar": {
              "outlinewidth": 0,
              "ticks": ""
             }
            },
            "type": "parcoords"
           }
          ],
          "pie": [
           {
            "automargin": true,
            "type": "pie"
           }
          ],
          "scatter": [
           {
            "fillpattern": {
             "fillmode": "overlay",
             "size": 10,
             "solidity": 0.2
            },
            "type": "scatter"
           }
          ],
          "scatter3d": [
           {
            "line": {
             "colorbar": {
              "outlinewidth": 0,
              "ticks": ""
             }
            },
            "marker": {
             "colorbar": {
              "outlinewidth": 0,
              "ticks": ""
             }
            },
            "type": "scatter3d"
           }
          ],
          "scattercarpet": [
           {
            "marker": {
             "colorbar": {
              "outlinewidth": 0,
              "ticks": ""
             }
            },
            "type": "scattercarpet"
           }
          ],
          "scattergeo": [
           {
            "marker": {
             "colorbar": {
              "outlinewidth": 0,
              "ticks": ""
             }
            },
            "type": "scattergeo"
           }
          ],
          "scattergl": [
           {
            "marker": {
             "colorbar": {
              "outlinewidth": 0,
              "ticks": ""
             }
            },
            "type": "scattergl"
           }
          ],
          "scattermapbox": [
           {
            "marker": {
             "colorbar": {
              "outlinewidth": 0,
              "ticks": ""
             }
            },
            "type": "scattermapbox"
           }
          ],
          "scatterpolar": [
           {
            "marker": {
             "colorbar": {
              "outlinewidth": 0,
              "ticks": ""
             }
            },
            "type": "scatterpolar"
           }
          ],
          "scatterpolargl": [
           {
            "marker": {
             "colorbar": {
              "outlinewidth": 0,
              "ticks": ""
             }
            },
            "type": "scatterpolargl"
           }
          ],
          "scatterternary": [
           {
            "marker": {
             "colorbar": {
              "outlinewidth": 0,
              "ticks": ""
             }
            },
            "type": "scatterternary"
           }
          ],
          "surface": [
           {
            "colorbar": {
             "outlinewidth": 0,
             "ticks": ""
            },
            "colorscale": [
             [
              0,
              "#0d0887"
             ],
             [
              0.1111111111111111,
              "#46039f"
             ],
             [
              0.2222222222222222,
              "#7201a8"
             ],
             [
              0.3333333333333333,
              "#9c179e"
             ],
             [
              0.4444444444444444,
              "#bd3786"
             ],
             [
              0.5555555555555556,
              "#d8576b"
             ],
             [
              0.6666666666666666,
              "#ed7953"
             ],
             [
              0.7777777777777778,
              "#fb9f3a"
             ],
             [
              0.8888888888888888,
              "#fdca26"
             ],
             [
              1,
              "#f0f921"
             ]
            ],
            "type": "surface"
           }
          ],
          "table": [
           {
            "cells": {
             "fill": {
              "color": "#EBF0F8"
             },
             "line": {
              "color": "white"
             }
            },
            "header": {
             "fill": {
              "color": "#C8D4E3"
             },
             "line": {
              "color": "white"
             }
            },
            "type": "table"
           }
          ]
         },
         "layout": {
          "annotationdefaults": {
           "arrowcolor": "#2a3f5f",
           "arrowhead": 0,
           "arrowwidth": 1
          },
          "autotypenumbers": "strict",
          "coloraxis": {
           "colorbar": {
            "outlinewidth": 0,
            "ticks": ""
           }
          },
          "colorscale": {
           "diverging": [
            [
             0,
             "#8e0152"
            ],
            [
             0.1,
             "#c51b7d"
            ],
            [
             0.2,
             "#de77ae"
            ],
            [
             0.3,
             "#f1b6da"
            ],
            [
             0.4,
             "#fde0ef"
            ],
            [
             0.5,
             "#f7f7f7"
            ],
            [
             0.6,
             "#e6f5d0"
            ],
            [
             0.7,
             "#b8e186"
            ],
            [
             0.8,
             "#7fbc41"
            ],
            [
             0.9,
             "#4d9221"
            ],
            [
             1,
             "#276419"
            ]
           ],
           "sequential": [
            [
             0,
             "#0d0887"
            ],
            [
             0.1111111111111111,
             "#46039f"
            ],
            [
             0.2222222222222222,
             "#7201a8"
            ],
            [
             0.3333333333333333,
             "#9c179e"
            ],
            [
             0.4444444444444444,
             "#bd3786"
            ],
            [
             0.5555555555555556,
             "#d8576b"
            ],
            [
             0.6666666666666666,
             "#ed7953"
            ],
            [
             0.7777777777777778,
             "#fb9f3a"
            ],
            [
             0.8888888888888888,
             "#fdca26"
            ],
            [
             1,
             "#f0f921"
            ]
           ],
           "sequentialminus": [
            [
             0,
             "#0d0887"
            ],
            [
             0.1111111111111111,
             "#46039f"
            ],
            [
             0.2222222222222222,
             "#7201a8"
            ],
            [
             0.3333333333333333,
             "#9c179e"
            ],
            [
             0.4444444444444444,
             "#bd3786"
            ],
            [
             0.5555555555555556,
             "#d8576b"
            ],
            [
             0.6666666666666666,
             "#ed7953"
            ],
            [
             0.7777777777777778,
             "#fb9f3a"
            ],
            [
             0.8888888888888888,
             "#fdca26"
            ],
            [
             1,
             "#f0f921"
            ]
           ]
          },
          "colorway": [
           "#636efa",
           "#EF553B",
           "#00cc96",
           "#ab63fa",
           "#FFA15A",
           "#19d3f3",
           "#FF6692",
           "#B6E880",
           "#FF97FF",
           "#FECB52"
          ],
          "font": {
           "color": "#2a3f5f"
          },
          "geo": {
           "bgcolor": "white",
           "lakecolor": "white",
           "landcolor": "#E5ECF6",
           "showlakes": true,
           "showland": true,
           "subunitcolor": "white"
          },
          "hoverlabel": {
           "align": "left"
          },
          "hovermode": "closest",
          "mapbox": {
           "style": "light"
          },
          "paper_bgcolor": "white",
          "plot_bgcolor": "#E5ECF6",
          "polar": {
           "angularaxis": {
            "gridcolor": "white",
            "linecolor": "white",
            "ticks": ""
           },
           "bgcolor": "#E5ECF6",
           "radialaxis": {
            "gridcolor": "white",
            "linecolor": "white",
            "ticks": ""
           }
          },
          "scene": {
           "xaxis": {
            "backgroundcolor": "#E5ECF6",
            "gridcolor": "white",
            "gridwidth": 2,
            "linecolor": "white",
            "showbackground": true,
            "ticks": "",
            "zerolinecolor": "white"
           },
           "yaxis": {
            "backgroundcolor": "#E5ECF6",
            "gridcolor": "white",
            "gridwidth": 2,
            "linecolor": "white",
            "showbackground": true,
            "ticks": "",
            "zerolinecolor": "white"
           },
           "zaxis": {
            "backgroundcolor": "#E5ECF6",
            "gridcolor": "white",
            "gridwidth": 2,
            "linecolor": "white",
            "showbackground": true,
            "ticks": "",
            "zerolinecolor": "white"
           }
          },
          "shapedefaults": {
           "line": {
            "color": "#2a3f5f"
           }
          },
          "ternary": {
           "aaxis": {
            "gridcolor": "white",
            "linecolor": "white",
            "ticks": ""
           },
           "baxis": {
            "gridcolor": "white",
            "linecolor": "white",
            "ticks": ""
           },
           "bgcolor": "#E5ECF6",
           "caxis": {
            "gridcolor": "white",
            "linecolor": "white",
            "ticks": ""
           }
          },
          "title": {
           "x": 0.05
          },
          "xaxis": {
           "automargin": true,
           "gridcolor": "white",
           "linecolor": "white",
           "ticks": "",
           "title": {
            "standoff": 15
           },
           "zerolinecolor": "white",
           "zerolinewidth": 2
          },
          "yaxis": {
           "automargin": true,
           "gridcolor": "white",
           "linecolor": "white",
           "ticks": "",
           "title": {
            "standoff": 15
           },
           "zerolinecolor": "white",
           "zerolinewidth": 2
          }
         }
        },
        "title": {
         "text": "Countries on the MDS map color-coded by Kmeans cluster membership"
        },
        "width": 1000,
        "xaxis": {
         "visible": false
        },
        "yaxis": {
         "scaleanchor": "x",
         "scaleratio": 1,
         "visible": false
        }
       }
      }
     },
     "metadata": {},
     "output_type": "display_data"
    }
   ],
   "source": [
    "#colors from colorbrewer \n",
    "#https://colorbrewer2.org/#type=qualitative&scheme=Dark2&n=6\n",
    "cluster_colors = ['#1b9e77','#d95f02','#7570b3','#e7298a','#66a61e','#e6ab02']\n",
    "\n",
    "fig = go.Figure() \n",
    "\n",
    "for cluster_id, cluster in HDmap.groupby(\"kmeans6\"): \n",
    "\n",
    "\n",
    "    fig.add_trace(go.Scatter(x=cluster.MDS_x,\n",
    "                             y=cluster.MDS_y,\n",
    "                             mode='text',\n",
    "                            textfont=dict(\n",
    "                                family=\"sans serif\",\n",
    "                                size=12,\n",
    "                                color=cluster_colors[int(cluster_id)]\n",
    "                                ), \n",
    "\n",
    "                             text=cluster.iso_alpha))\n",
    "\n",
    "fig.update_yaxes(\n",
    "    scaleanchor = \"x\",\n",
    "    scaleratio = 1,\n",
    "  )\n",
    "\n",
    "fig.update_xaxes(visible=False)  \n",
    "fig.update_yaxes(visible=False)\n",
    "fig.update_layout(showlegend=False, \n",
    "                 margin=dict(l=20, r=20, t=40, b=20),\n",
    "                 )\n",
    "\n",
    "#plotly setting figure size \n",
    "# https://plotly.com/python/setting-graph-size/\n",
    "fig.update_layout(height=600, width=1000, title_text=\"Countries on the MDS map color-coded by Kmeans cluster membership\")\n",
    "\n",
    "fig.show()"
   ]
  },
  {
   "attachments": {},
   "cell_type": "markdown",
   "metadata": {},
   "source": [
    "Let's show some countries from each cluster"
   ]
  },
  {
   "cell_type": "code",
   "execution_count": 48,
   "metadata": {},
   "outputs": [
    {
     "data": {
      "application/vnd.plotly.v1+json": {
       "config": {
        "plotlyServerURL": "https://plot.ly"
       },
       "data": [
        {
         "hovertemplate": "country=Canada<br>gdpPercap=%{x}<br>lifeExp=%{y}<extra></extra>",
         "legendgroup": "Canada",
         "line": {
          "color": "#636efa",
          "dash": "solid"
         },
         "marker": {
          "symbol": "circle"
         },
         "mode": "lines",
         "name": "Canada",
         "orientation": "v",
         "showlegend": true,
         "textposition": "bottom right",
         "type": "scatter",
         "x": [
          11367.16112,
          12489.95006,
          13462.48555,
          16076.58803,
          18970.57086,
          22090.88306,
          22898.79214,
          26626.51503,
          26342.88426,
          28954.92589,
          33328.96507,
          36319.23501
         ],
         "xaxis": "x",
         "y": [
          68.75,
          69.96,
          71.3,
          72.13,
          72.88,
          74.21,
          75.76,
          76.86,
          77.95,
          78.61,
          79.77,
          80.653
         ],
         "yaxis": "y"
        },
        {
         "hovertemplate": "country=Ethiopia<br>gdpPercap=%{x}<br>lifeExp=%{y}<extra></extra>",
         "legendgroup": "Ethiopia",
         "line": {
          "color": "#EF553B",
          "dash": "solid"
         },
         "marker": {
          "symbol": "circle"
         },
         "mode": "lines",
         "name": "Ethiopia",
         "orientation": "v",
         "showlegend": true,
         "textposition": "bottom right",
         "type": "scatter",
         "x": [
          362.1462796,
          378.9041632,
          419.4564161,
          516.1186438,
          566.2439442,
          556.8083834,
          577.8607471,
          573.7413142,
          421.3534653,
          515.8894013,
          530.0535319,
          690.8055759
         ],
         "xaxis": "x",
         "y": [
          34.078,
          36.667,
          40.059,
          42.115,
          43.515,
          44.51,
          44.916,
          46.684,
          48.091,
          49.402,
          50.725,
          52.947
         ],
         "yaxis": "y"
        },
        {
         "hovertemplate": "country=Jamaica<br>gdpPercap=%{x}<br>lifeExp=%{y}<extra></extra>",
         "legendgroup": "Jamaica",
         "line": {
          "color": "#00cc96",
          "dash": "solid"
         },
         "marker": {
          "symbol": "circle"
         },
         "mode": "lines",
         "name": "Jamaica",
         "orientation": "v",
         "showlegend": true,
         "textposition": "bottom right",
         "type": "scatter",
         "x": [
          2898.530881,
          4756.525781,
          5246.107524,
          6124.703451,
          7433.889293,
          6650.195573,
          6068.05135,
          6351.237495,
          7404.923685,
          7121.924704,
          6994.774861,
          7320.880262
         ],
         "xaxis": "x",
         "y": [
          58.53,
          62.61,
          65.61,
          67.51,
          69,
          70.11,
          71.21,
          71.77,
          71.766,
          72.262,
          72.047,
          72.567
         ],
         "yaxis": "y"
        },
        {
         "hovertemplate": "country=Senegal<br>gdpPercap=%{x}<br>lifeExp=%{y}<extra></extra>",
         "legendgroup": "Senegal",
         "line": {
          "color": "#ab63fa",
          "dash": "solid"
         },
         "marker": {
          "symbol": "circle"
         },
         "mode": "lines",
         "name": "Senegal",
         "orientation": "v",
         "showlegend": true,
         "textposition": "bottom right",
         "type": "scatter",
         "x": [
          1450.356983,
          1567.653006,
          1654.988723,
          1612.404632,
          1597.712056,
          1561.769116,
          1518.479984,
          1441.72072,
          1367.899369,
          1392.368347,
          1519.635262,
          1712.472136
         ],
         "xaxis": "x",
         "y": [
          37.278,
          39.329,
          41.454,
          43.563,
          45.815,
          48.879,
          52.379,
          55.769,
          58.196,
          60.187,
          61.6,
          63.062
         ],
         "yaxis": "y"
        },
        {
         "hovertemplate": "country=Spain<br>gdpPercap=%{x}<br>lifeExp=%{y}<extra></extra>",
         "legendgroup": "Spain",
         "line": {
          "color": "#FFA15A",
          "dash": "solid"
         },
         "marker": {
          "symbol": "circle"
         },
         "mode": "lines",
         "name": "Spain",
         "orientation": "v",
         "showlegend": true,
         "textposition": "bottom right",
         "type": "scatter",
         "x": [
          3834.034742,
          4564.80241,
          5693.843879,
          7993.512294,
          10638.75131,
          13236.92117,
          13926.16997,
          15764.98313,
          18603.06452,
          20445.29896,
          24835.47166,
          28821.0637
         ],
         "xaxis": "x",
         "y": [
          64.94,
          66.66,
          69.69,
          71.44,
          73.06,
          74.39,
          76.3,
          76.9,
          77.57,
          78.77,
          79.78,
          80.941
         ],
         "yaxis": "y"
        },
        {
         "hovertemplate": "country=Thailand<br>gdpPercap=%{x}<br>lifeExp=%{y}<extra></extra>",
         "legendgroup": "Thailand",
         "line": {
          "color": "#19d3f3",
          "dash": "solid"
         },
         "marker": {
          "symbol": "circle"
         },
         "mode": "lines",
         "name": "Thailand",
         "orientation": "v",
         "showlegend": true,
         "textposition": "bottom right",
         "type": "scatter",
         "x": [
          757.7974177,
          793.5774148,
          1002.199172,
          1295.46066,
          1524.358936,
          1961.224635,
          2393.219781,
          2982.653773,
          4616.896545,
          5852.625497,
          5913.187529,
          7458.396327
         ],
         "xaxis": "x",
         "y": [
          50.848,
          53.63,
          56.061,
          58.285,
          60.405,
          62.494,
          64.597,
          66.084,
          67.298,
          67.521,
          68.564,
          70.616
         ],
         "yaxis": "y"
        }
       ],
       "layout": {
        "height": 600,
        "legend": {
         "title": {
          "text": "country"
         },
         "tracegroupgap": 0
        },
        "margin": {
         "t": 60
        },
        "template": {
         "data": {
          "bar": [
           {
            "error_x": {
             "color": "#2a3f5f"
            },
            "error_y": {
             "color": "#2a3f5f"
            },
            "marker": {
             "line": {
              "color": "#E5ECF6",
              "width": 0.5
             },
             "pattern": {
              "fillmode": "overlay",
              "size": 10,
              "solidity": 0.2
             }
            },
            "type": "bar"
           }
          ],
          "barpolar": [
           {
            "marker": {
             "line": {
              "color": "#E5ECF6",
              "width": 0.5
             },
             "pattern": {
              "fillmode": "overlay",
              "size": 10,
              "solidity": 0.2
             }
            },
            "type": "barpolar"
           }
          ],
          "carpet": [
           {
            "aaxis": {
             "endlinecolor": "#2a3f5f",
             "gridcolor": "white",
             "linecolor": "white",
             "minorgridcolor": "white",
             "startlinecolor": "#2a3f5f"
            },
            "baxis": {
             "endlinecolor": "#2a3f5f",
             "gridcolor": "white",
             "linecolor": "white",
             "minorgridcolor": "white",
             "startlinecolor": "#2a3f5f"
            },
            "type": "carpet"
           }
          ],
          "choropleth": [
           {
            "colorbar": {
             "outlinewidth": 0,
             "ticks": ""
            },
            "type": "choropleth"
           }
          ],
          "contour": [
           {
            "colorbar": {
             "outlinewidth": 0,
             "ticks": ""
            },
            "colorscale": [
             [
              0,
              "#0d0887"
             ],
             [
              0.1111111111111111,
              "#46039f"
             ],
             [
              0.2222222222222222,
              "#7201a8"
             ],
             [
              0.3333333333333333,
              "#9c179e"
             ],
             [
              0.4444444444444444,
              "#bd3786"
             ],
             [
              0.5555555555555556,
              "#d8576b"
             ],
             [
              0.6666666666666666,
              "#ed7953"
             ],
             [
              0.7777777777777778,
              "#fb9f3a"
             ],
             [
              0.8888888888888888,
              "#fdca26"
             ],
             [
              1,
              "#f0f921"
             ]
            ],
            "type": "contour"
           }
          ],
          "contourcarpet": [
           {
            "colorbar": {
             "outlinewidth": 0,
             "ticks": ""
            },
            "type": "contourcarpet"
           }
          ],
          "heatmap": [
           {
            "colorbar": {
             "outlinewidth": 0,
             "ticks": ""
            },
            "colorscale": [
             [
              0,
              "#0d0887"
             ],
             [
              0.1111111111111111,
              "#46039f"
             ],
             [
              0.2222222222222222,
              "#7201a8"
             ],
             [
              0.3333333333333333,
              "#9c179e"
             ],
             [
              0.4444444444444444,
              "#bd3786"
             ],
             [
              0.5555555555555556,
              "#d8576b"
             ],
             [
              0.6666666666666666,
              "#ed7953"
             ],
             [
              0.7777777777777778,
              "#fb9f3a"
             ],
             [
              0.8888888888888888,
              "#fdca26"
             ],
             [
              1,
              "#f0f921"
             ]
            ],
            "type": "heatmap"
           }
          ],
          "heatmapgl": [
           {
            "colorbar": {
             "outlinewidth": 0,
             "ticks": ""
            },
            "colorscale": [
             [
              0,
              "#0d0887"
             ],
             [
              0.1111111111111111,
              "#46039f"
             ],
             [
              0.2222222222222222,
              "#7201a8"
             ],
             [
              0.3333333333333333,
              "#9c179e"
             ],
             [
              0.4444444444444444,
              "#bd3786"
             ],
             [
              0.5555555555555556,
              "#d8576b"
             ],
             [
              0.6666666666666666,
              "#ed7953"
             ],
             [
              0.7777777777777778,
              "#fb9f3a"
             ],
             [
              0.8888888888888888,
              "#fdca26"
             ],
             [
              1,
              "#f0f921"
             ]
            ],
            "type": "heatmapgl"
           }
          ],
          "histogram": [
           {
            "marker": {
             "pattern": {
              "fillmode": "overlay",
              "size": 10,
              "solidity": 0.2
             }
            },
            "type": "histogram"
           }
          ],
          "histogram2d": [
           {
            "colorbar": {
             "outlinewidth": 0,
             "ticks": ""
            },
            "colorscale": [
             [
              0,
              "#0d0887"
             ],
             [
              0.1111111111111111,
              "#46039f"
             ],
             [
              0.2222222222222222,
              "#7201a8"
             ],
             [
              0.3333333333333333,
              "#9c179e"
             ],
             [
              0.4444444444444444,
              "#bd3786"
             ],
             [
              0.5555555555555556,
              "#d8576b"
             ],
             [
              0.6666666666666666,
              "#ed7953"
             ],
             [
              0.7777777777777778,
              "#fb9f3a"
             ],
             [
              0.8888888888888888,
              "#fdca26"
             ],
             [
              1,
              "#f0f921"
             ]
            ],
            "type": "histogram2d"
           }
          ],
          "histogram2dcontour": [
           {
            "colorbar": {
             "outlinewidth": 0,
             "ticks": ""
            },
            "colorscale": [
             [
              0,
              "#0d0887"
             ],
             [
              0.1111111111111111,
              "#46039f"
             ],
             [
              0.2222222222222222,
              "#7201a8"
             ],
             [
              0.3333333333333333,
              "#9c179e"
             ],
             [
              0.4444444444444444,
              "#bd3786"
             ],
             [
              0.5555555555555556,
              "#d8576b"
             ],
             [
              0.6666666666666666,
              "#ed7953"
             ],
             [
              0.7777777777777778,
              "#fb9f3a"
             ],
             [
              0.8888888888888888,
              "#fdca26"
             ],
             [
              1,
              "#f0f921"
             ]
            ],
            "type": "histogram2dcontour"
           }
          ],
          "mesh3d": [
           {
            "colorbar": {
             "outlinewidth": 0,
             "ticks": ""
            },
            "type": "mesh3d"
           }
          ],
          "parcoords": [
           {
            "line": {
             "colorbar": {
              "outlinewidth": 0,
              "ticks": ""
             }
            },
            "type": "parcoords"
           }
          ],
          "pie": [
           {
            "automargin": true,
            "type": "pie"
           }
          ],
          "scatter": [
           {
            "fillpattern": {
             "fillmode": "overlay",
             "size": 10,
             "solidity": 0.2
            },
            "type": "scatter"
           }
          ],
          "scatter3d": [
           {
            "line": {
             "colorbar": {
              "outlinewidth": 0,
              "ticks": ""
             }
            },
            "marker": {
             "colorbar": {
              "outlinewidth": 0,
              "ticks": ""
             }
            },
            "type": "scatter3d"
           }
          ],
          "scattercarpet": [
           {
            "marker": {
             "colorbar": {
              "outlinewidth": 0,
              "ticks": ""
             }
            },
            "type": "scattercarpet"
           }
          ],
          "scattergeo": [
           {
            "marker": {
             "colorbar": {
              "outlinewidth": 0,
              "ticks": ""
             }
            },
            "type": "scattergeo"
           }
          ],
          "scattergl": [
           {
            "marker": {
             "colorbar": {
              "outlinewidth": 0,
              "ticks": ""
             }
            },
            "type": "scattergl"
           }
          ],
          "scattermapbox": [
           {
            "marker": {
             "colorbar": {
              "outlinewidth": 0,
              "ticks": ""
             }
            },
            "type": "scattermapbox"
           }
          ],
          "scatterpolar": [
           {
            "marker": {
             "colorbar": {
              "outlinewidth": 0,
              "ticks": ""
             }
            },
            "type": "scatterpolar"
           }
          ],
          "scatterpolargl": [
           {
            "marker": {
             "colorbar": {
              "outlinewidth": 0,
              "ticks": ""
             }
            },
            "type": "scatterpolargl"
           }
          ],
          "scatterternary": [
           {
            "marker": {
             "colorbar": {
              "outlinewidth": 0,
              "ticks": ""
             }
            },
            "type": "scatterternary"
           }
          ],
          "surface": [
           {
            "colorbar": {
             "outlinewidth": 0,
             "ticks": ""
            },
            "colorscale": [
             [
              0,
              "#0d0887"
             ],
             [
              0.1111111111111111,
              "#46039f"
             ],
             [
              0.2222222222222222,
              "#7201a8"
             ],
             [
              0.3333333333333333,
              "#9c179e"
             ],
             [
              0.4444444444444444,
              "#bd3786"
             ],
             [
              0.5555555555555556,
              "#d8576b"
             ],
             [
              0.6666666666666666,
              "#ed7953"
             ],
             [
              0.7777777777777778,
              "#fb9f3a"
             ],
             [
              0.8888888888888888,
              "#fdca26"
             ],
             [
              1,
              "#f0f921"
             ]
            ],
            "type": "surface"
           }
          ],
          "table": [
           {
            "cells": {
             "fill": {
              "color": "#EBF0F8"
             },
             "line": {
              "color": "white"
             }
            },
            "header": {
             "fill": {
              "color": "#C8D4E3"
             },
             "line": {
              "color": "white"
             }
            },
            "type": "table"
           }
          ]
         },
         "layout": {
          "annotationdefaults": {
           "arrowcolor": "#2a3f5f",
           "arrowhead": 0,
           "arrowwidth": 1
          },
          "autotypenumbers": "strict",
          "coloraxis": {
           "colorbar": {
            "outlinewidth": 0,
            "ticks": ""
           }
          },
          "colorscale": {
           "diverging": [
            [
             0,
             "#8e0152"
            ],
            [
             0.1,
             "#c51b7d"
            ],
            [
             0.2,
             "#de77ae"
            ],
            [
             0.3,
             "#f1b6da"
            ],
            [
             0.4,
             "#fde0ef"
            ],
            [
             0.5,
             "#f7f7f7"
            ],
            [
             0.6,
             "#e6f5d0"
            ],
            [
             0.7,
             "#b8e186"
            ],
            [
             0.8,
             "#7fbc41"
            ],
            [
             0.9,
             "#4d9221"
            ],
            [
             1,
             "#276419"
            ]
           ],
           "sequential": [
            [
             0,
             "#0d0887"
            ],
            [
             0.1111111111111111,
             "#46039f"
            ],
            [
             0.2222222222222222,
             "#7201a8"
            ],
            [
             0.3333333333333333,
             "#9c179e"
            ],
            [
             0.4444444444444444,
             "#bd3786"
            ],
            [
             0.5555555555555556,
             "#d8576b"
            ],
            [
             0.6666666666666666,
             "#ed7953"
            ],
            [
             0.7777777777777778,
             "#fb9f3a"
            ],
            [
             0.8888888888888888,
             "#fdca26"
            ],
            [
             1,
             "#f0f921"
            ]
           ],
           "sequentialminus": [
            [
             0,
             "#0d0887"
            ],
            [
             0.1111111111111111,
             "#46039f"
            ],
            [
             0.2222222222222222,
             "#7201a8"
            ],
            [
             0.3333333333333333,
             "#9c179e"
            ],
            [
             0.4444444444444444,
             "#bd3786"
            ],
            [
             0.5555555555555556,
             "#d8576b"
            ],
            [
             0.6666666666666666,
             "#ed7953"
            ],
            [
             0.7777777777777778,
             "#fb9f3a"
            ],
            [
             0.8888888888888888,
             "#fdca26"
            ],
            [
             1,
             "#f0f921"
            ]
           ]
          },
          "colorway": [
           "#636efa",
           "#EF553B",
           "#00cc96",
           "#ab63fa",
           "#FFA15A",
           "#19d3f3",
           "#FF6692",
           "#B6E880",
           "#FF97FF",
           "#FECB52"
          ],
          "font": {
           "color": "#2a3f5f"
          },
          "geo": {
           "bgcolor": "white",
           "lakecolor": "white",
           "landcolor": "#E5ECF6",
           "showlakes": true,
           "showland": true,
           "subunitcolor": "white"
          },
          "hoverlabel": {
           "align": "left"
          },
          "hovermode": "closest",
          "mapbox": {
           "style": "light"
          },
          "paper_bgcolor": "white",
          "plot_bgcolor": "#E5ECF6",
          "polar": {
           "angularaxis": {
            "gridcolor": "white",
            "linecolor": "white",
            "ticks": ""
           },
           "bgcolor": "#E5ECF6",
           "radialaxis": {
            "gridcolor": "white",
            "linecolor": "white",
            "ticks": ""
           }
          },
          "scene": {
           "xaxis": {
            "backgroundcolor": "#E5ECF6",
            "gridcolor": "white",
            "gridwidth": 2,
            "linecolor": "white",
            "showbackground": true,
            "ticks": "",
            "zerolinecolor": "white"
           },
           "yaxis": {
            "backgroundcolor": "#E5ECF6",
            "gridcolor": "white",
            "gridwidth": 2,
            "linecolor": "white",
            "showbackground": true,
            "ticks": "",
            "zerolinecolor": "white"
           },
           "zaxis": {
            "backgroundcolor": "#E5ECF6",
            "gridcolor": "white",
            "gridwidth": 2,
            "linecolor": "white",
            "showbackground": true,
            "ticks": "",
            "zerolinecolor": "white"
           }
          },
          "shapedefaults": {
           "line": {
            "color": "#2a3f5f"
           }
          },
          "ternary": {
           "aaxis": {
            "gridcolor": "white",
            "linecolor": "white",
            "ticks": ""
           },
           "baxis": {
            "gridcolor": "white",
            "linecolor": "white",
            "ticks": ""
           },
           "bgcolor": "#E5ECF6",
           "caxis": {
            "gridcolor": "white",
            "linecolor": "white",
            "ticks": ""
           }
          },
          "title": {
           "x": 0.05
          },
          "xaxis": {
           "automargin": true,
           "gridcolor": "white",
           "linecolor": "white",
           "ticks": "",
           "title": {
            "standoff": 15
           },
           "zerolinecolor": "white",
           "zerolinewidth": 2
          },
          "yaxis": {
           "automargin": true,
           "gridcolor": "white",
           "linecolor": "white",
           "ticks": "",
           "title": {
            "standoff": 15
           },
           "zerolinecolor": "white",
           "zerolinewidth": 2
          }
         }
        },
        "title": {
         "text": "Representative countries from each cluster"
        },
        "width": 1000,
        "xaxis": {
         "anchor": "y",
         "domain": [
          0,
          1
         ],
         "title": {
          "text": "gdpPercap"
         },
         "type": "log"
        },
        "yaxis": {
         "anchor": "x",
         "domain": [
          0,
          1
         ],
         "title": {
          "text": "lifeExp"
         }
        }
       }
      }
     },
     "metadata": {},
     "output_type": "display_data"
    }
   ],
   "source": [
    "tmp = df.query(\"iso_alpha in ['ETH', 'SEN', 'THA', 'JAM',  'ESP', 'CAN']\")\n",
    "\n",
    "fig = px.line(tmp, x=\"gdpPercap\", y=\"lifeExp\", color=\"country\",  log_x=True, width=800, height=400)\n",
    "\n",
    "fig.update_traces(textposition=\"bottom right\")\n",
    "\n",
    "fig.update_layout(height=600, width=1000, title_text=\"Representative countries from each cluster\")\n",
    "\n",
    "fig.show()"
   ]
  },
  {
   "attachments": {},
   "cell_type": "markdown",
   "metadata": {},
   "source": [
    "### Calculate Cluster Centroids "
   ]
  },
  {
   "attachments": {},
   "cell_type": "markdown",
   "metadata": {},
   "source": [
    "We need to add cluster information to calculate the average GDP per capita and life expectancy "
   ]
  },
  {
   "cell_type": "code",
   "execution_count": 49,
   "metadata": {},
   "outputs": [
    {
     "data": {
      "text/html": [
       "<div>\n",
       "<style scoped>\n",
       "    .dataframe tbody tr th:only-of-type {\n",
       "        vertical-align: middle;\n",
       "    }\n",
       "\n",
       "    .dataframe tbody tr th {\n",
       "        vertical-align: top;\n",
       "    }\n",
       "\n",
       "    .dataframe thead th {\n",
       "        text-align: right;\n",
       "    }\n",
       "</style>\n",
       "<table border=\"1\" class=\"dataframe\">\n",
       "  <thead>\n",
       "    <tr style=\"text-align: right;\">\n",
       "      <th></th>\n",
       "      <th>country</th>\n",
       "      <th>continent</th>\n",
       "      <th>year</th>\n",
       "      <th>lifeExp</th>\n",
       "      <th>pop</th>\n",
       "      <th>gdpPercap</th>\n",
       "      <th>iso_alpha</th>\n",
       "      <th>iso_num</th>\n",
       "      <th>subcontinent</th>\n",
       "    </tr>\n",
       "  </thead>\n",
       "  <tbody>\n",
       "    <tr>\n",
       "      <th>0</th>\n",
       "      <td>Afghanistan</td>\n",
       "      <td>Asia</td>\n",
       "      <td>1952</td>\n",
       "      <td>28.801</td>\n",
       "      <td>8425333</td>\n",
       "      <td>779.445314</td>\n",
       "      <td>AFG</td>\n",
       "      <td>4</td>\n",
       "      <td>Southern Asia</td>\n",
       "    </tr>\n",
       "    <tr>\n",
       "      <th>1</th>\n",
       "      <td>Afghanistan</td>\n",
       "      <td>Asia</td>\n",
       "      <td>1957</td>\n",
       "      <td>30.332</td>\n",
       "      <td>9240934</td>\n",
       "      <td>820.853030</td>\n",
       "      <td>AFG</td>\n",
       "      <td>4</td>\n",
       "      <td>Southern Asia</td>\n",
       "    </tr>\n",
       "    <tr>\n",
       "      <th>2</th>\n",
       "      <td>Afghanistan</td>\n",
       "      <td>Asia</td>\n",
       "      <td>1962</td>\n",
       "      <td>31.997</td>\n",
       "      <td>10267083</td>\n",
       "      <td>853.100710</td>\n",
       "      <td>AFG</td>\n",
       "      <td>4</td>\n",
       "      <td>Southern Asia</td>\n",
       "    </tr>\n",
       "    <tr>\n",
       "      <th>3</th>\n",
       "      <td>Afghanistan</td>\n",
       "      <td>Asia</td>\n",
       "      <td>1967</td>\n",
       "      <td>34.020</td>\n",
       "      <td>11537966</td>\n",
       "      <td>836.197138</td>\n",
       "      <td>AFG</td>\n",
       "      <td>4</td>\n",
       "      <td>Southern Asia</td>\n",
       "    </tr>\n",
       "    <tr>\n",
       "      <th>4</th>\n",
       "      <td>Afghanistan</td>\n",
       "      <td>Asia</td>\n",
       "      <td>1972</td>\n",
       "      <td>36.088</td>\n",
       "      <td>13079460</td>\n",
       "      <td>739.981106</td>\n",
       "      <td>AFG</td>\n",
       "      <td>4</td>\n",
       "      <td>Southern Asia</td>\n",
       "    </tr>\n",
       "  </tbody>\n",
       "</table>\n",
       "</div>"
      ],
      "text/plain": [
       "       country continent  year  lifeExp       pop   gdpPercap iso_alpha  \\\n",
       "0  Afghanistan      Asia  1952   28.801   8425333  779.445314       AFG   \n",
       "1  Afghanistan      Asia  1957   30.332   9240934  820.853030       AFG   \n",
       "2  Afghanistan      Asia  1962   31.997  10267083  853.100710       AFG   \n",
       "3  Afghanistan      Asia  1967   34.020  11537966  836.197138       AFG   \n",
       "4  Afghanistan      Asia  1972   36.088  13079460  739.981106       AFG   \n",
       "\n",
       "   iso_num   subcontinent  \n",
       "0        4  Southern Asia  \n",
       "1        4  Southern Asia  \n",
       "2        4  Southern Asia  \n",
       "3        4  Southern Asia  \n",
       "4        4  Southern Asia  "
      ]
     },
     "execution_count": 49,
     "metadata": {},
     "output_type": "execute_result"
    }
   ],
   "source": [
    "df.head()"
   ]
  },
  {
   "cell_type": "code",
   "execution_count": 50,
   "metadata": {},
   "outputs": [
    {
     "data": {
      "text/plain": [
       "Index(['country', 'MDS_x', 'MDS_y', 'iso_alpha', 'continent', 'subcontinent',\n",
       "       'Images File Name', 'ImageURL', 'scluster6', 'kmeans6'],\n",
       "      dtype='object')"
      ]
     },
     "execution_count": 50,
     "metadata": {},
     "output_type": "execute_result"
    }
   ],
   "source": [
    "HDmap.columns"
   ]
  },
  {
   "cell_type": "code",
   "execution_count": 51,
   "metadata": {},
   "outputs": [],
   "source": [
    "df3 = df.merge(HDmap[['country', 'scluster6', 'kmeans6']], on=\"country\")"
   ]
  },
  {
   "cell_type": "code",
   "execution_count": 52,
   "metadata": {},
   "outputs": [
    {
     "data": {
      "text/html": [
       "<div>\n",
       "<style scoped>\n",
       "    .dataframe tbody tr th:only-of-type {\n",
       "        vertical-align: middle;\n",
       "    }\n",
       "\n",
       "    .dataframe tbody tr th {\n",
       "        vertical-align: top;\n",
       "    }\n",
       "\n",
       "    .dataframe thead th {\n",
       "        text-align: right;\n",
       "    }\n",
       "</style>\n",
       "<table border=\"1\" class=\"dataframe\">\n",
       "  <thead>\n",
       "    <tr style=\"text-align: right;\">\n",
       "      <th></th>\n",
       "      <th>country</th>\n",
       "      <th>continent</th>\n",
       "      <th>year</th>\n",
       "      <th>lifeExp</th>\n",
       "      <th>pop</th>\n",
       "      <th>gdpPercap</th>\n",
       "      <th>iso_alpha</th>\n",
       "      <th>iso_num</th>\n",
       "      <th>subcontinent</th>\n",
       "      <th>scluster6</th>\n",
       "      <th>kmeans6</th>\n",
       "    </tr>\n",
       "  </thead>\n",
       "  <tbody>\n",
       "    <tr>\n",
       "      <th>0</th>\n",
       "      <td>Afghanistan</td>\n",
       "      <td>Asia</td>\n",
       "      <td>1952</td>\n",
       "      <td>28.801</td>\n",
       "      <td>8425333</td>\n",
       "      <td>779.445314</td>\n",
       "      <td>AFG</td>\n",
       "      <td>4</td>\n",
       "      <td>Southern Asia</td>\n",
       "      <td>5</td>\n",
       "      <td>2</td>\n",
       "    </tr>\n",
       "    <tr>\n",
       "      <th>1</th>\n",
       "      <td>Afghanistan</td>\n",
       "      <td>Asia</td>\n",
       "      <td>1957</td>\n",
       "      <td>30.332</td>\n",
       "      <td>9240934</td>\n",
       "      <td>820.853030</td>\n",
       "      <td>AFG</td>\n",
       "      <td>4</td>\n",
       "      <td>Southern Asia</td>\n",
       "      <td>5</td>\n",
       "      <td>2</td>\n",
       "    </tr>\n",
       "    <tr>\n",
       "      <th>2</th>\n",
       "      <td>Afghanistan</td>\n",
       "      <td>Asia</td>\n",
       "      <td>1962</td>\n",
       "      <td>31.997</td>\n",
       "      <td>10267083</td>\n",
       "      <td>853.100710</td>\n",
       "      <td>AFG</td>\n",
       "      <td>4</td>\n",
       "      <td>Southern Asia</td>\n",
       "      <td>5</td>\n",
       "      <td>2</td>\n",
       "    </tr>\n",
       "    <tr>\n",
       "      <th>3</th>\n",
       "      <td>Afghanistan</td>\n",
       "      <td>Asia</td>\n",
       "      <td>1967</td>\n",
       "      <td>34.020</td>\n",
       "      <td>11537966</td>\n",
       "      <td>836.197138</td>\n",
       "      <td>AFG</td>\n",
       "      <td>4</td>\n",
       "      <td>Southern Asia</td>\n",
       "      <td>5</td>\n",
       "      <td>2</td>\n",
       "    </tr>\n",
       "    <tr>\n",
       "      <th>4</th>\n",
       "      <td>Afghanistan</td>\n",
       "      <td>Asia</td>\n",
       "      <td>1972</td>\n",
       "      <td>36.088</td>\n",
       "      <td>13079460</td>\n",
       "      <td>739.981106</td>\n",
       "      <td>AFG</td>\n",
       "      <td>4</td>\n",
       "      <td>Southern Asia</td>\n",
       "      <td>5</td>\n",
       "      <td>2</td>\n",
       "    </tr>\n",
       "  </tbody>\n",
       "</table>\n",
       "</div>"
      ],
      "text/plain": [
       "       country continent  year  lifeExp       pop   gdpPercap iso_alpha  \\\n",
       "0  Afghanistan      Asia  1952   28.801   8425333  779.445314       AFG   \n",
       "1  Afghanistan      Asia  1957   30.332   9240934  820.853030       AFG   \n",
       "2  Afghanistan      Asia  1962   31.997  10267083  853.100710       AFG   \n",
       "3  Afghanistan      Asia  1967   34.020  11537966  836.197138       AFG   \n",
       "4  Afghanistan      Asia  1972   36.088  13079460  739.981106       AFG   \n",
       "\n",
       "   iso_num   subcontinent scluster6  kmeans6  \n",
       "0        4  Southern Asia         5        2  \n",
       "1        4  Southern Asia         5        2  \n",
       "2        4  Southern Asia         5        2  \n",
       "3        4  Southern Asia         5        2  \n",
       "4        4  Southern Asia         5        2  "
      ]
     },
     "execution_count": 52,
     "metadata": {},
     "output_type": "execute_result"
    }
   ],
   "source": [
    "df3.head()"
   ]
  },
  {
   "attachments": {},
   "cell_type": "markdown",
   "metadata": {},
   "source": [
    "Calculate the average life expectancy and GDP per capita per year"
   ]
  },
  {
   "cell_type": "code",
   "execution_count": 53,
   "metadata": {},
   "outputs": [],
   "source": [
    "cluster_centroids = df3[['year', 'scluster6', 'lifeExp',\n",
    "                         'gdpPercap']].groupby(['scluster6', 'year']).mean().reset_index()"
   ]
  },
  {
   "cell_type": "code",
   "execution_count": 54,
   "metadata": {},
   "outputs": [
    {
     "data": {
      "text/html": [
       "<div>\n",
       "<style scoped>\n",
       "    .dataframe tbody tr th:only-of-type {\n",
       "        vertical-align: middle;\n",
       "    }\n",
       "\n",
       "    .dataframe tbody tr th {\n",
       "        vertical-align: top;\n",
       "    }\n",
       "\n",
       "    .dataframe thead th {\n",
       "        text-align: right;\n",
       "    }\n",
       "</style>\n",
       "<table border=\"1\" class=\"dataframe\">\n",
       "  <thead>\n",
       "    <tr style=\"text-align: right;\">\n",
       "      <th></th>\n",
       "      <th>scluster6</th>\n",
       "      <th>year</th>\n",
       "      <th>lifeExp</th>\n",
       "      <th>gdpPercap</th>\n",
       "    </tr>\n",
       "  </thead>\n",
       "  <tbody>\n",
       "    <tr>\n",
       "      <th>0</th>\n",
       "      <td>0</td>\n",
       "      <td>1952</td>\n",
       "      <td>40.502594</td>\n",
       "      <td>1422.501842</td>\n",
       "    </tr>\n",
       "    <tr>\n",
       "      <th>1</th>\n",
       "      <td>0</td>\n",
       "      <td>1957</td>\n",
       "      <td>42.894125</td>\n",
       "      <td>1611.693209</td>\n",
       "    </tr>\n",
       "    <tr>\n",
       "      <th>2</th>\n",
       "      <td>0</td>\n",
       "      <td>1962</td>\n",
       "      <td>45.228812</td>\n",
       "      <td>1935.797979</td>\n",
       "    </tr>\n",
       "    <tr>\n",
       "      <th>3</th>\n",
       "      <td>0</td>\n",
       "      <td>1967</td>\n",
       "      <td>47.632219</td>\n",
       "      <td>2515.243130</td>\n",
       "    </tr>\n",
       "    <tr>\n",
       "      <th>4</th>\n",
       "      <td>0</td>\n",
       "      <td>1972</td>\n",
       "      <td>49.779000</td>\n",
       "      <td>2855.862159</td>\n",
       "    </tr>\n",
       "  </tbody>\n",
       "</table>\n",
       "</div>"
      ],
      "text/plain": [
       "  scluster6  year    lifeExp    gdpPercap\n",
       "0         0  1952  40.502594  1422.501842\n",
       "1         0  1957  42.894125  1611.693209\n",
       "2         0  1962  45.228812  1935.797979\n",
       "3         0  1967  47.632219  2515.243130\n",
       "4         0  1972  49.779000  2855.862159"
      ]
     },
     "execution_count": 54,
     "metadata": {},
     "output_type": "execute_result"
    }
   ],
   "source": [
    "cluster_centroids.head()"
   ]
  },
  {
   "cell_type": "code",
   "execution_count": 55,
   "metadata": {},
   "outputs": [
    {
     "data": {
      "application/vnd.plotly.v1+json": {
       "config": {
        "plotlyServerURL": "https://plot.ly"
       },
       "data": [
        {
         "hovertemplate": "scluster6=0<br>gdpPercap=%{x}<br>lifeExp=%{y}<extra></extra>",
         "legendgroup": "0",
         "line": {
          "color": "#636efa",
          "dash": "solid"
         },
         "marker": {
          "symbol": "circle"
         },
         "mode": "lines",
         "name": "0",
         "orientation": "v",
         "showlegend": true,
         "textposition": "bottom right",
         "type": "scatter",
         "x": [
          1422.501841925,
          1611.69320946875,
          1935.7979789,
          2515.24313030625,
          2855.862158621875,
          3454.10770193125,
          3218.15072525625,
          2862.81432505625,
          2607.3318315625,
          2729.30265985625,
          2870.478687865625,
          3352.9132408781247
         ],
         "xaxis": "x",
         "y": [
          40.50259375,
          42.894125,
          45.2288125,
          47.63221875,
          49.778999999999996,
          52.124875,
          55.2874375,
          57.61228125,
          59.13134375,
          59.2773125,
          58.657,
          60.281875
         ],
         "yaxis": "y"
        },
        {
         "hovertemplate": "scluster6=1<br>gdpPercap=%{x}<br>lifeExp=%{y}<extra></extra>",
         "legendgroup": "1",
         "line": {
          "color": "#EF553B",
          "dash": "solid"
         },
         "marker": {
          "symbol": "circle"
         },
         "mode": "lines",
         "name": "1",
         "orientation": "v",
         "showlegend": true,
         "textposition": "bottom right",
         "type": "scatter",
         "x": [
          2008.4436756280002,
          2229.073810108,
          2479.241567172,
          2902.0373182559997,
          3653.020128684,
          4401.114345316,
          4491.57028026,
          4747.0988593600005,
          4898.69386616,
          5577.3878524,
          5838.437841319999,
          6996.36961796
         ],
         "xaxis": "x",
         "y": [
          46.97608,
          50.231838399999994,
          52.7262944,
          55.737764799999994,
          58.5303952,
          60.9157344,
          63.366279999999996,
          65.88212,
          67.959,
          69.75,
          71.29188,
          72.57952
         ],
         "yaxis": "y"
        },
        {
         "hovertemplate": "scluster6=2<br>gdpPercap=%{x}<br>lifeExp=%{y}<extra></extra>",
         "legendgroup": "2",
         "line": {
          "color": "#00cc96",
          "dash": "solid"
         },
         "marker": {
          "symbol": "circle"
         },
         "mode": "lines",
         "name": "2",
         "orientation": "v",
         "showlegend": true,
         "textposition": "bottom right",
         "type": "scatter",
         "x": [
          4023.1503475,
          4943.111869166667,
          5371.788187111111,
          6373.223198777778,
          7529.524925499999,
          8614.519007166666,
          9035.957072777777,
          8969.797363500002,
          7846.573896722223,
          8532.521843,
          9093.906977388888,
          11816.469521444444
         ],
         "xaxis": "x",
         "y": [
          58.82855555555555,
          62.047666666666665,
          64.45533333333333,
          66.20561111111111,
          67.89038888888889,
          69.38816666666668,
          70.4506111111111,
          71.31288888888889,
          71.95505555555556,
          72.96988888888889,
          73.8895,
          74.76916666666666
         ],
         "yaxis": "y"
        },
        {
         "hovertemplate": "scluster6=3<br>gdpPercap=%{x}<br>lifeExp=%{y}<extra></extra>",
         "legendgroup": "3",
         "line": {
          "color": "#ab63fa",
          "dash": "solid"
         },
         "marker": {
          "symbol": "circle"
         },
         "mode": "lines",
         "name": "3",
         "orientation": "v",
         "showlegend": true,
         "textposition": "bottom right",
         "type": "scatter",
         "x": [
          9421.953680999999,
          11183.182713941176,
          12942.678988235293,
          15493.143089411764,
          18677.695755294117,
          21163.36969764706,
          22516.336345294116,
          24283.138244705882,
          25800.186834705884,
          28050.376012352943,
          30919.239399411763,
          34410.90552647059
         ],
         "xaxis": "x",
         "y": [
          66.762,
          68.03941176470589,
          69.13511764705882,
          70.09670588235294,
          71.01211764705882,
          72.58135294117648,
          73.95082352941176,
          75.02347058823528,
          76.28111764705882,
          77.33329411764706,
          78.40776470588236,
          79.41976470588236
         ],
         "yaxis": "y"
        },
        {
         "hovertemplate": "scluster6=4<br>gdpPercap=%{x}<br>lifeExp=%{y}<extra></extra>",
         "legendgroup": "4",
         "line": {
          "color": "#FFA15A",
          "dash": "solid"
         },
         "marker": {
          "symbol": "circle"
         },
         "mode": "lines",
         "name": "4",
         "orientation": "v",
         "showlegend": true,
         "textposition": "bottom right",
         "type": "scatter",
         "x": [
          4337.186083909091,
          5392.1383003636365,
          6871.108907272727,
          8681.056061272728,
          11836.378678636363,
          13620.145124545455,
          15618.331147272727,
          17499.533157272726,
          19157.22725181818,
          22381.567533636364,
          25669.081316363638,
          30204.183154545455
         ],
         "xaxis": "x",
         "y": [
          64.66145454545455,
          66.69354545454546,
          68.62163636363636,
          70.06327272727273,
          71.24372727272727,
          72.49318181818181,
          73.8439090909091,
          74.99090909090908,
          76.01681818181818,
          77.26709090909091,
          78.57772727272727,
          79.54527272727273
         ],
         "yaxis": "y"
        },
        {
         "hovertemplate": "scluster6=5<br>gdpPercap=%{x}<br>lifeExp=%{y}<extra></extra>",
         "legendgroup": "5",
         "line": {
          "color": "#19d3f3",
          "dash": "solid"
         },
         "marker": {
          "symbol": "circle"
         },
         "mode": "lines",
         "name": "5",
         "orientation": "v",
         "showlegend": true,
         "textposition": "bottom right",
         "type": "scatter",
         "x": [
          810.087570309091,
          882.6145657727272,
          960.9954595409091,
          1065.207511140909,
          1108.4780189863636,
          1017.3094168909091,
          954.7609559318182,
          893.1203431181817,
          888.247869631818,
          941.9199664818182,
          1231.2433689045454,
          1637.2062465181816
         ],
         "xaxis": "x",
         "y": [
          35.52222727272727,
          37.282636363636364,
          39.07813636363637,
          40.78927272727273,
          42.521499999999996,
          44.04177272727273,
          45.18568181818182,
          46.405772727272726,
          45.33418181818182,
          46.19527272727273,
          47.12236363636364,
          49.093954545454544
         ],
         "yaxis": "y"
        }
       ],
       "layout": {
        "height": 800,
        "legend": {
         "title": {
          "text": "scluster6"
         },
         "tracegroupgap": 0
        },
        "template": {
         "data": {
          "bar": [
           {
            "error_x": {
             "color": "#2a3f5f"
            },
            "error_y": {
             "color": "#2a3f5f"
            },
            "marker": {
             "line": {
              "color": "#E5ECF6",
              "width": 0.5
             },
             "pattern": {
              "fillmode": "overlay",
              "size": 10,
              "solidity": 0.2
             }
            },
            "type": "bar"
           }
          ],
          "barpolar": [
           {
            "marker": {
             "line": {
              "color": "#E5ECF6",
              "width": 0.5
             },
             "pattern": {
              "fillmode": "overlay",
              "size": 10,
              "solidity": 0.2
             }
            },
            "type": "barpolar"
           }
          ],
          "carpet": [
           {
            "aaxis": {
             "endlinecolor": "#2a3f5f",
             "gridcolor": "white",
             "linecolor": "white",
             "minorgridcolor": "white",
             "startlinecolor": "#2a3f5f"
            },
            "baxis": {
             "endlinecolor": "#2a3f5f",
             "gridcolor": "white",
             "linecolor": "white",
             "minorgridcolor": "white",
             "startlinecolor": "#2a3f5f"
            },
            "type": "carpet"
           }
          ],
          "choropleth": [
           {
            "colorbar": {
             "outlinewidth": 0,
             "ticks": ""
            },
            "type": "choropleth"
           }
          ],
          "contour": [
           {
            "colorbar": {
             "outlinewidth": 0,
             "ticks": ""
            },
            "colorscale": [
             [
              0,
              "#0d0887"
             ],
             [
              0.1111111111111111,
              "#46039f"
             ],
             [
              0.2222222222222222,
              "#7201a8"
             ],
             [
              0.3333333333333333,
              "#9c179e"
             ],
             [
              0.4444444444444444,
              "#bd3786"
             ],
             [
              0.5555555555555556,
              "#d8576b"
             ],
             [
              0.6666666666666666,
              "#ed7953"
             ],
             [
              0.7777777777777778,
              "#fb9f3a"
             ],
             [
              0.8888888888888888,
              "#fdca26"
             ],
             [
              1,
              "#f0f921"
             ]
            ],
            "type": "contour"
           }
          ],
          "contourcarpet": [
           {
            "colorbar": {
             "outlinewidth": 0,
             "ticks": ""
            },
            "type": "contourcarpet"
           }
          ],
          "heatmap": [
           {
            "colorbar": {
             "outlinewidth": 0,
             "ticks": ""
            },
            "colorscale": [
             [
              0,
              "#0d0887"
             ],
             [
              0.1111111111111111,
              "#46039f"
             ],
             [
              0.2222222222222222,
              "#7201a8"
             ],
             [
              0.3333333333333333,
              "#9c179e"
             ],
             [
              0.4444444444444444,
              "#bd3786"
             ],
             [
              0.5555555555555556,
              "#d8576b"
             ],
             [
              0.6666666666666666,
              "#ed7953"
             ],
             [
              0.7777777777777778,
              "#fb9f3a"
             ],
             [
              0.8888888888888888,
              "#fdca26"
             ],
             [
              1,
              "#f0f921"
             ]
            ],
            "type": "heatmap"
           }
          ],
          "heatmapgl": [
           {
            "colorbar": {
             "outlinewidth": 0,
             "ticks": ""
            },
            "colorscale": [
             [
              0,
              "#0d0887"
             ],
             [
              0.1111111111111111,
              "#46039f"
             ],
             [
              0.2222222222222222,
              "#7201a8"
             ],
             [
              0.3333333333333333,
              "#9c179e"
             ],
             [
              0.4444444444444444,
              "#bd3786"
             ],
             [
              0.5555555555555556,
              "#d8576b"
             ],
             [
              0.6666666666666666,
              "#ed7953"
             ],
             [
              0.7777777777777778,
              "#fb9f3a"
             ],
             [
              0.8888888888888888,
              "#fdca26"
             ],
             [
              1,
              "#f0f921"
             ]
            ],
            "type": "heatmapgl"
           }
          ],
          "histogram": [
           {
            "marker": {
             "pattern": {
              "fillmode": "overlay",
              "size": 10,
              "solidity": 0.2
             }
            },
            "type": "histogram"
           }
          ],
          "histogram2d": [
           {
            "colorbar": {
             "outlinewidth": 0,
             "ticks": ""
            },
            "colorscale": [
             [
              0,
              "#0d0887"
             ],
             [
              0.1111111111111111,
              "#46039f"
             ],
             [
              0.2222222222222222,
              "#7201a8"
             ],
             [
              0.3333333333333333,
              "#9c179e"
             ],
             [
              0.4444444444444444,
              "#bd3786"
             ],
             [
              0.5555555555555556,
              "#d8576b"
             ],
             [
              0.6666666666666666,
              "#ed7953"
             ],
             [
              0.7777777777777778,
              "#fb9f3a"
             ],
             [
              0.8888888888888888,
              "#fdca26"
             ],
             [
              1,
              "#f0f921"
             ]
            ],
            "type": "histogram2d"
           }
          ],
          "histogram2dcontour": [
           {
            "colorbar": {
             "outlinewidth": 0,
             "ticks": ""
            },
            "colorscale": [
             [
              0,
              "#0d0887"
             ],
             [
              0.1111111111111111,
              "#46039f"
             ],
             [
              0.2222222222222222,
              "#7201a8"
             ],
             [
              0.3333333333333333,
              "#9c179e"
             ],
             [
              0.4444444444444444,
              "#bd3786"
             ],
             [
              0.5555555555555556,
              "#d8576b"
             ],
             [
              0.6666666666666666,
              "#ed7953"
             ],
             [
              0.7777777777777778,
              "#fb9f3a"
             ],
             [
              0.8888888888888888,
              "#fdca26"
             ],
             [
              1,
              "#f0f921"
             ]
            ],
            "type": "histogram2dcontour"
           }
          ],
          "mesh3d": [
           {
            "colorbar": {
             "outlinewidth": 0,
             "ticks": ""
            },
            "type": "mesh3d"
           }
          ],
          "parcoords": [
           {
            "line": {
             "colorbar": {
              "outlinewidth": 0,
              "ticks": ""
             }
            },
            "type": "parcoords"
           }
          ],
          "pie": [
           {
            "automargin": true,
            "type": "pie"
           }
          ],
          "scatter": [
           {
            "fillpattern": {
             "fillmode": "overlay",
             "size": 10,
             "solidity": 0.2
            },
            "type": "scatter"
           }
          ],
          "scatter3d": [
           {
            "line": {
             "colorbar": {
              "outlinewidth": 0,
              "ticks": ""
             }
            },
            "marker": {
             "colorbar": {
              "outlinewidth": 0,
              "ticks": ""
             }
            },
            "type": "scatter3d"
           }
          ],
          "scattercarpet": [
           {
            "marker": {
             "colorbar": {
              "outlinewidth": 0,
              "ticks": ""
             }
            },
            "type": "scattercarpet"
           }
          ],
          "scattergeo": [
           {
            "marker": {
             "colorbar": {
              "outlinewidth": 0,
              "ticks": ""
             }
            },
            "type": "scattergeo"
           }
          ],
          "scattergl": [
           {
            "marker": {
             "colorbar": {
              "outlinewidth": 0,
              "ticks": ""
             }
            },
            "type": "scattergl"
           }
          ],
          "scattermapbox": [
           {
            "marker": {
             "colorbar": {
              "outlinewidth": 0,
              "ticks": ""
             }
            },
            "type": "scattermapbox"
           }
          ],
          "scatterpolar": [
           {
            "marker": {
             "colorbar": {
              "outlinewidth": 0,
              "ticks": ""
             }
            },
            "type": "scatterpolar"
           }
          ],
          "scatterpolargl": [
           {
            "marker": {
             "colorbar": {
              "outlinewidth": 0,
              "ticks": ""
             }
            },
            "type": "scatterpolargl"
           }
          ],
          "scatterternary": [
           {
            "marker": {
             "colorbar": {
              "outlinewidth": 0,
              "ticks": ""
             }
            },
            "type": "scatterternary"
           }
          ],
          "surface": [
           {
            "colorbar": {
             "outlinewidth": 0,
             "ticks": ""
            },
            "colorscale": [
             [
              0,
              "#0d0887"
             ],
             [
              0.1111111111111111,
              "#46039f"
             ],
             [
              0.2222222222222222,
              "#7201a8"
             ],
             [
              0.3333333333333333,
              "#9c179e"
             ],
             [
              0.4444444444444444,
              "#bd3786"
             ],
             [
              0.5555555555555556,
              "#d8576b"
             ],
             [
              0.6666666666666666,
              "#ed7953"
             ],
             [
              0.7777777777777778,
              "#fb9f3a"
             ],
             [
              0.8888888888888888,
              "#fdca26"
             ],
             [
              1,
              "#f0f921"
             ]
            ],
            "type": "surface"
           }
          ],
          "table": [
           {
            "cells": {
             "fill": {
              "color": "#EBF0F8"
             },
             "line": {
              "color": "white"
             }
            },
            "header": {
             "fill": {
              "color": "#C8D4E3"
             },
             "line": {
              "color": "white"
             }
            },
            "type": "table"
           }
          ]
         },
         "layout": {
          "annotationdefaults": {
           "arrowcolor": "#2a3f5f",
           "arrowhead": 0,
           "arrowwidth": 1
          },
          "autotypenumbers": "strict",
          "coloraxis": {
           "colorbar": {
            "outlinewidth": 0,
            "ticks": ""
           }
          },
          "colorscale": {
           "diverging": [
            [
             0,
             "#8e0152"
            ],
            [
             0.1,
             "#c51b7d"
            ],
            [
             0.2,
             "#de77ae"
            ],
            [
             0.3,
             "#f1b6da"
            ],
            [
             0.4,
             "#fde0ef"
            ],
            [
             0.5,
             "#f7f7f7"
            ],
            [
             0.6,
             "#e6f5d0"
            ],
            [
             0.7,
             "#b8e186"
            ],
            [
             0.8,
             "#7fbc41"
            ],
            [
             0.9,
             "#4d9221"
            ],
            [
             1,
             "#276419"
            ]
           ],
           "sequential": [
            [
             0,
             "#0d0887"
            ],
            [
             0.1111111111111111,
             "#46039f"
            ],
            [
             0.2222222222222222,
             "#7201a8"
            ],
            [
             0.3333333333333333,
             "#9c179e"
            ],
            [
             0.4444444444444444,
             "#bd3786"
            ],
            [
             0.5555555555555556,
             "#d8576b"
            ],
            [
             0.6666666666666666,
             "#ed7953"
            ],
            [
             0.7777777777777778,
             "#fb9f3a"
            ],
            [
             0.8888888888888888,
             "#fdca26"
            ],
            [
             1,
             "#f0f921"
            ]
           ],
           "sequentialminus": [
            [
             0,
             "#0d0887"
            ],
            [
             0.1111111111111111,
             "#46039f"
            ],
            [
             0.2222222222222222,
             "#7201a8"
            ],
            [
             0.3333333333333333,
             "#9c179e"
            ],
            [
             0.4444444444444444,
             "#bd3786"
            ],
            [
             0.5555555555555556,
             "#d8576b"
            ],
            [
             0.6666666666666666,
             "#ed7953"
            ],
            [
             0.7777777777777778,
             "#fb9f3a"
            ],
            [
             0.8888888888888888,
             "#fdca26"
            ],
            [
             1,
             "#f0f921"
            ]
           ]
          },
          "colorway": [
           "#636efa",
           "#EF553B",
           "#00cc96",
           "#ab63fa",
           "#FFA15A",
           "#19d3f3",
           "#FF6692",
           "#B6E880",
           "#FF97FF",
           "#FECB52"
          ],
          "font": {
           "color": "#2a3f5f"
          },
          "geo": {
           "bgcolor": "white",
           "lakecolor": "white",
           "landcolor": "#E5ECF6",
           "showlakes": true,
           "showland": true,
           "subunitcolor": "white"
          },
          "hoverlabel": {
           "align": "left"
          },
          "hovermode": "closest",
          "mapbox": {
           "style": "light"
          },
          "paper_bgcolor": "white",
          "plot_bgcolor": "#E5ECF6",
          "polar": {
           "angularaxis": {
            "gridcolor": "white",
            "linecolor": "white",
            "ticks": ""
           },
           "bgcolor": "#E5ECF6",
           "radialaxis": {
            "gridcolor": "white",
            "linecolor": "white",
            "ticks": ""
           }
          },
          "scene": {
           "xaxis": {
            "backgroundcolor": "#E5ECF6",
            "gridcolor": "white",
            "gridwidth": 2,
            "linecolor": "white",
            "showbackground": true,
            "ticks": "",
            "zerolinecolor": "white"
           },
           "yaxis": {
            "backgroundcolor": "#E5ECF6",
            "gridcolor": "white",
            "gridwidth": 2,
            "linecolor": "white",
            "showbackground": true,
            "ticks": "",
            "zerolinecolor": "white"
           },
           "zaxis": {
            "backgroundcolor": "#E5ECF6",
            "gridcolor": "white",
            "gridwidth": 2,
            "linecolor": "white",
            "showbackground": true,
            "ticks": "",
            "zerolinecolor": "white"
           }
          },
          "shapedefaults": {
           "line": {
            "color": "#2a3f5f"
           }
          },
          "ternary": {
           "aaxis": {
            "gridcolor": "white",
            "linecolor": "white",
            "ticks": ""
           },
           "baxis": {
            "gridcolor": "white",
            "linecolor": "white",
            "ticks": ""
           },
           "bgcolor": "#E5ECF6",
           "caxis": {
            "gridcolor": "white",
            "linecolor": "white",
            "ticks": ""
           }
          },
          "title": {
           "x": 0.05
          },
          "xaxis": {
           "automargin": true,
           "gridcolor": "white",
           "linecolor": "white",
           "ticks": "",
           "title": {
            "standoff": 15
           },
           "zerolinecolor": "white",
           "zerolinewidth": 2
          },
          "yaxis": {
           "automargin": true,
           "gridcolor": "white",
           "linecolor": "white",
           "ticks": "",
           "title": {
            "standoff": 15
           },
           "zerolinecolor": "white",
           "zerolinewidth": 2
          }
         }
        },
        "title": {
         "text": "Cluster Centroid Trajectories. Each line represents the average gpb per capita and life by year"
        },
        "width": 1000,
        "xaxis": {
         "anchor": "y",
         "domain": [
          0,
          1
         ],
         "title": {
          "text": "gdpPercap"
         },
         "type": "log"
        },
        "yaxis": {
         "anchor": "x",
         "domain": [
          0,
          1
         ],
         "title": {
          "text": "lifeExp"
         }
        }
       }
      }
     },
     "metadata": {},
     "output_type": "display_data"
    }
   ],
   "source": [
    "\n",
    "fig = px.line(cluster_centroids, x=\"gdpPercap\", y=\"lifeExp\", color=\"scluster6\",  log_x=True, \n",
    "             title=\"Cluster Centroid Trajectories. Each line represents the average gpb per capita and life by year\",\n",
    "             width=1000, height=800)\n",
    "\n",
    "fig.update_traces(textposition=\"bottom right\")\n",
    "\n",
    "fig.show()"
   ]
  },
  {
   "cell_type": "code",
   "execution_count": null,
   "metadata": {},
   "outputs": [],
   "source": []
  }
 ],
 "metadata": {
  "kernelspec": {
   "display_name": "Python 3.9.13 ('pydata2022')",
   "language": "python",
   "name": "python3"
  },
  "language_info": {
   "codemirror_mode": {
    "name": "ipython",
    "version": 3
   },
   "file_extension": ".py",
   "mimetype": "text/x-python",
   "name": "python",
   "nbconvert_exporter": "python",
   "pygments_lexer": "ipython3",
   "version": "3.10.9"
  },
  "vscode": {
   "interpreter": {
    "hash": "3a54627159bcb7057256df6659274719a0729110bc0c6d32ac47f50e231c8307"
   }
  }
 },
 "nbformat": 4,
 "nbformat_minor": 4
}
